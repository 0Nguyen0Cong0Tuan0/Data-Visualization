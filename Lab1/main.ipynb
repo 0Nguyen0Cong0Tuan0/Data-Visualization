{
 "cells": [
  {
   "cell_type": "markdown",
   "metadata": {},
   "source": [
    "# **Lab 01: Thu thập dữ liệu và trực quan hóa dữ liệu**"
   ]
  },
  {
   "cell_type": "markdown",
   "metadata": {},
   "source": [
    "### **Danh sách các thành viên**\n",
    "\n",
    "<center>\n",
    "\n",
    "|         Họ tên         |   MSSV   |\n",
    "| :--------------------- | :------: |\n",
    "| Trần Nguyễn Nhật Cường | 22127048 |\n",
    "|    Nguyễn Công Tuấn    | 22127436 |\n",
    "|     Trần Đăng Tuấn     | 22127438 |\n",
    "\n",
    "</center>"
   ]
  },
  {
   "cell_type": "markdown",
   "metadata": {},
   "source": [
    "## **Cài đặt và sử dụng các thư viện cần thiết**"
   ]
  },
  {
   "cell_type": "code",
   "execution_count": 45,
   "metadata": {},
   "outputs": [
    {
     "name": "stdout",
     "output_type": "stream",
     "text": [
      "Requirement already satisfied: matplotlib in /home/aiaivn/Documents/Data-Visualization/venv/lib/python3.12/site-packages (3.10.1)\n",
      "Requirement already satisfied: pandas in /home/aiaivn/Documents/Data-Visualization/venv/lib/python3.12/site-packages (2.2.3)\n",
      "Requirement already satisfied: seaborn in /home/aiaivn/Documents/Data-Visualization/venv/lib/python3.12/site-packages (0.13.2)\n",
      "Requirement already satisfied: spotipy in /home/aiaivn/Documents/Data-Visualization/venv/lib/python3.12/site-packages (2.25.1)\n",
      "Requirement already satisfied: scikit-learn in /home/aiaivn/Documents/Data-Visualization/venv/lib/python3.12/site-packages (1.6.1)\n",
      "Requirement already satisfied: contourpy>=1.0.1 in /home/aiaivn/Documents/Data-Visualization/venv/lib/python3.12/site-packages (from matplotlib) (1.3.1)\n",
      "Requirement already satisfied: cycler>=0.10 in /home/aiaivn/Documents/Data-Visualization/venv/lib/python3.12/site-packages (from matplotlib) (0.12.1)\n",
      "Requirement already satisfied: fonttools>=4.22.0 in /home/aiaivn/Documents/Data-Visualization/venv/lib/python3.12/site-packages (from matplotlib) (4.56.0)\n",
      "Requirement already satisfied: kiwisolver>=1.3.1 in /home/aiaivn/Documents/Data-Visualization/venv/lib/python3.12/site-packages (from matplotlib) (1.4.8)\n",
      "Requirement already satisfied: numpy>=1.23 in /home/aiaivn/Documents/Data-Visualization/venv/lib/python3.12/site-packages (from matplotlib) (2.2.3)\n",
      "Requirement already satisfied: packaging>=20.0 in /home/aiaivn/Documents/Data-Visualization/venv/lib/python3.12/site-packages (from matplotlib) (24.2)\n",
      "Requirement already satisfied: pillow>=8 in /home/aiaivn/Documents/Data-Visualization/venv/lib/python3.12/site-packages (from matplotlib) (11.1.0)\n",
      "Requirement already satisfied: pyparsing>=2.3.1 in /home/aiaivn/Documents/Data-Visualization/venv/lib/python3.12/site-packages (from matplotlib) (3.2.1)\n",
      "Requirement already satisfied: python-dateutil>=2.7 in /home/aiaivn/Documents/Data-Visualization/venv/lib/python3.12/site-packages (from matplotlib) (2.9.0.post0)\n",
      "Requirement already satisfied: pytz>=2020.1 in /home/aiaivn/Documents/Data-Visualization/venv/lib/python3.12/site-packages (from pandas) (2025.1)\n",
      "Requirement already satisfied: tzdata>=2022.7 in /home/aiaivn/Documents/Data-Visualization/venv/lib/python3.12/site-packages (from pandas) (2025.1)\n",
      "Requirement already satisfied: redis>=3.5.3 in /home/aiaivn/Documents/Data-Visualization/venv/lib/python3.12/site-packages (from spotipy) (5.2.1)\n",
      "Requirement already satisfied: requests>=2.25.0 in /home/aiaivn/Documents/Data-Visualization/venv/lib/python3.12/site-packages (from spotipy) (2.32.3)\n",
      "Requirement already satisfied: urllib3>=1.26.0 in /home/aiaivn/Documents/Data-Visualization/venv/lib/python3.12/site-packages (from spotipy) (2.3.0)\n",
      "Requirement already satisfied: scipy>=1.6.0 in /home/aiaivn/Documents/Data-Visualization/venv/lib/python3.12/site-packages (from scikit-learn) (1.15.2)\n",
      "Requirement already satisfied: joblib>=1.2.0 in /home/aiaivn/Documents/Data-Visualization/venv/lib/python3.12/site-packages (from scikit-learn) (1.4.2)\n",
      "Requirement already satisfied: threadpoolctl>=3.1.0 in /home/aiaivn/Documents/Data-Visualization/venv/lib/python3.12/site-packages (from scikit-learn) (3.5.0)\n",
      "Requirement already satisfied: six>=1.5 in /home/aiaivn/Documents/Data-Visualization/venv/lib/python3.12/site-packages (from python-dateutil>=2.7->matplotlib) (1.17.0)\n",
      "Requirement already satisfied: charset-normalizer<4,>=2 in /home/aiaivn/Documents/Data-Visualization/venv/lib/python3.12/site-packages (from requests>=2.25.0->spotipy) (3.4.1)\n",
      "Requirement already satisfied: idna<4,>=2.5 in /home/aiaivn/Documents/Data-Visualization/venv/lib/python3.12/site-packages (from requests>=2.25.0->spotipy) (3.10)\n",
      "Requirement already satisfied: certifi>=2017.4.17 in /home/aiaivn/Documents/Data-Visualization/venv/lib/python3.12/site-packages (from requests>=2.25.0->spotipy) (2025.1.31)\n"
     ]
    }
   ],
   "source": [
    "! pip install matplotlib pandas seaborn spotipy scikit-learn"
   ]
  },
  {
   "cell_type": "code",
   "execution_count": 1,
   "metadata": {},
   "outputs": [],
   "source": [
    "import csv\n",
    "\n",
    "import matplotlib.pyplot as plt\n",
    "import pandas as pd\n",
    "import seaborn as sns\n",
    "import spotipy\n",
    "from sklearn.cluster import KMeans\n",
    "from sklearn.metrics import silhouette_score\n",
    "from sklearn.preprocessing import StandardScaler\n",
    "from spotipy.oauth2 import SpotifyClientCredentials\n",
    "\n",
    "pd.options.display.float_format = '{:.2f}'.format"
   ]
  },
  {
   "cell_type": "markdown",
   "metadata": {},
   "source": [
    "**`csv`** được dùng để xử lý tệp CSV (Comma-Separated Values) và đọc/ghi dữ liệu từ tệp CSV\n",
    "\n",
    "**`matplotlib`** được dùng để vẽ biểu đồ trong Python. Có thể dùng để vẽ các loại biểu đồ như\n",
    "histogram, biểu đồ tán xạ (scatter plot), biểu đồ đường (line chart) và biểu đồ cột (bar chart),...\n",
    "\n",
    "**`pandas`** được dùng để xử lý và phân tích dữ liệu dạng bảng và cung cấp cấu trúc dữ liệu như\n",
    "DataFrame và Series để dễ thao tác\n",
    "\n",
    "**`seaborn`** dùng để vẽ biểu đồ dựa trên thư viện matplotlib nhưng biểu đồ sẽ trông đẹp hơn\n",
    "và cũng hỗ trợ các loại biểu đồ thống kê như violin plot, box plot, heatmap\n",
    "\n",
    "**`spotify`** dùng để truy xuất dữ liệu từ Spotify API nhằm lấy thông tin bài hát, nghệ sĩ,\n",
    "album,... từ Spotify\n",
    "\n",
    "**`sklearn.cluster.KMeans`** là thuật toán phân cụm K-Means giúp nhóm các nghệ sĩ dựa trên số lượng người theo dõi và độ phổ biến\n",
    "\n",
    "**`sklearn.preprocessing.StandardScaler`** dùng để chuẩn hóa dữ liệu, giúp các đặc trưng có cùng thang đo, tránh ảnh hưởng của giá trị lớn nhỏ khác nhau\n",
    "\n",
    "**`sklearn.metrics.silhouette_score`** dùng để đánh giá chất lượng phân cụm bằng Silhouette Score, giúp chọn số cụm tối ưu."
   ]
  },
  {
   "cell_type": "markdown",
   "metadata": {},
   "source": [
    "## **Thu thập dữ liệu**\n",
    "\n",
    "**Nền tảng thu thập** - *Spotify*\n",
    "\n",
    "**Phương pháp thư thập** - Gọi *APIs* được *Spotify* hỗ trợ\n",
    "\n",
    "**Cách lưu trữ dữ liệu sau khi thu thập** - Lưu thành file **`vietnamese_songs.csv`** chứa thông tin các bài hát và **`artists_info.csv`** chứa thông tin các nghệ sĩ"
   ]
  },
  {
   "cell_type": "code",
   "execution_count": 2,
   "metadata": {},
   "outputs": [],
   "source": [
    "sp = spotipy.Spotify(\n",
    "    auth_manager=SpotifyClientCredentials(\n",
    "        client_id='94c74e8009df461c8bd0139cd77c1912',\n",
    "        client_secret='54007dd00c454cfd903e9e1e3f4ce8ed'\n",
    "    )\n",
    ")"
   ]
  },
  {
   "cell_type": "code",
   "execution_count": 3,
   "metadata": {},
   "outputs": [],
   "source": [
    "# vietnamese_playlists_id = [\n",
    "#     '6XFOsAdp88ptBCdqUMAfmP',  # Nhạc Việt Hay Nhất Trên Spotify - VPOP 2021 On Spotify - Vpop Top Hits - Top 100 Việt Nam \n",
    "#     '0aiBKNSqiPnhtcw1QlXK5s',  # Nhạc Việt Top Hits - VPOP 2025\n",
    "#     '3e7JoMenHvTB4sVE8fnn9O',  # nhạc chill Việt\n",
    "#     '7tPGaU74ZtxIO9hsXVc9zj',  # Chill Vietnamese playlist\n",
    "#     '2KfRwgF2GzDXHAPW1cCT7X',  # VPOP 2021-2022-2023\n",
    "#     '02zSPmcae3ct4moT8om7kK',  # VPOP 2016-2017-2018\n",
    "#     '4pkof2WT0Spca1pX3j2dh4',  # Vietnamese (V-Pop) 2025\n",
    "#     '4ybaEp8KXd6YpHFy1npofA',  # VPop 2010-2016\n",
    "#     '2U30HdoDyEZKr06144F4Jw',  # Vpop 2016-2019\n",
    "#     '0ZOm8M5G8L7GHkTiU7DcMC',  # Vpop 2015s\n",
    "#     '5f8z9oeanvcYu9ByRtoi9H',  # Vpop - Old but Gold\n",
    "#     '6luqC1Np20Z0Ps576JFNj8',  # Nhạc Việt 2000s-2010s\n",
    "#     '26OywSeeLgG0oJZlpq01nz',  # Vpop Làn sóng xanh for 8x 9x\n",
    "#     '6DciQq1Mx1RKhlxNuKTn8q',  # Top Vpop VietNam\n",
    "#     '56p6Zs4yC2ZVsHB6Dd9msj',  # Vpop 2020\n",
    "#     '7p4UoGDCIhfTKavwQKTE2H',  # Vpop 2000-2011\n",
    "#     '0mrqaVOe6KYEEcaSYhVK4a',  # VPOP TOP HITS Nhạc Việt Hay & Mới Nhất 2023 - Top 100+ Bài Hát Yêu Thích Được Nghe Nhiều Nhất\n",
    "#     '2QL9xisvT5VOda2nGoH6QY',  # VPOP 2016 2017 2018\n",
    "#     '44oq55UFBOGqzbwAUzrGvM',  # VPOP Tiktok\n",
    "#     '5qZ3WQIZBbaogqsLh6i5lF',  # VPOP playlist\n",
    "#     '4LzZcuYBacrMSX81LLvs9A',  # Top 50 VPOP nhiều lượt nghe nhất trên Spotify\n",
    "#     '2yWOVvbnR2yPnVHwUnJjKW',  # VPOP 2013\n",
    "#     '14Qvvt5OQng5ScEov3FpGW',  # VPOP 2014\n",
    "#     '0d2Vu9QxnkmbNsBiecjGA1',  # VPOP 2015\n",
    "#     '3ECBachqjVyTjkygCvBMN7',  # VPOP 2016\n",
    "#     '2QOxomAadLMZ1Pr498bCP1',  # VPOP 2017\n",
    "#     '2bFktF75SaQMWfJOjotEMP',  # VPOP 2018\n",
    "#     '7LmFDhL7FmkHt1pSgcWqNy',  # VPOP 2019\n",
    "#     '0ywpVJwBWNsmrG4nfGXOhs',  # VPOP 2020\n",
    "#     '1cvnE797cGbHDeoz4uCaPd',  # VPOP 2021\n",
    "#     '74nhehkDb5m0iaWYMUzrDQ',  # VPOP 2022\n",
    "#     '5r0mdLamHzeoCRh5g93WL5',  # Playlist suy dễ ngủ\n",
    "#     '5xfZuakPjpZpy2qw5bJb3w',  # Một lít cho người lụy tình\n",
    "#     '5ttuZoKUA8dgz9MyFeNjxZ',  # Playlist Nhạc Indie Việt Nam\n",
    "#     '7Ib0lAD83EY4UasjiBqQf5',  # Playlist nhạc việt để chill\n",
    "#     '42L92ofycEfBmvA1SZO2C3',  # Nhạc Việt (8x-9x)\n",
    "#     '5h45fHO4GoxW96Z1uG663h',  # Nhạc Việt xưa\n",
    "#     '0ydtbJkoAgFL6MHZwovl28',  # Nhạc hoa lời việt 7x-8x-9x bât hủ\n",
    "#     '4etsQHVmmSFTvR7LxYV9ch',  # Vọng cổ - Cải lương   \n",
    "#     '1Tiblgs4lWkxYqTrDEZcII',  # Cải lưong Việt Nam    \n",
    "#     '3i38ZH5FIzalHEkYcxtuwt',  # Cải lương xưa \n",
    "#     '4NePg2F6ZolnLQL3tNHQ1N',  # Top 100 nhạc Cách mạng\n",
    "#     '4xGIvoVNyLfQEBNUqVLbEr',  # 100 ca khúc nhạc vàng trữ tình hay nhất\n",
    "#     '1v1Ev6Fm2RK7jvUPpChAwj',  # Nhạc xưa bất hủ - nhạc bolera hay nhất\n",
    "#     '0Gi20HOQSsgzbmTL9zthTI',  # Nhạc trữ tình Bolero\n",
    "#     '1I4ecxMj4322qEIXuLnFp7',  # Mỹ Tâm Bolero\n",
    "# ]\n",
    "\n",
    "\n",
    "# def get_vietnamese_songs_and_artists():\n",
    "#     '''\n",
    "#     Extract all Vietnamese songs and artist details from Spotify playlists.\n",
    "#     '''\n",
    "#     vietnam_songs = []\n",
    "#     artist_ids = set()\n",
    "\n",
    "#     for playlist_id in vietnamese_playlists_id:\n",
    "#         offset = 0\n",
    "#         limit = 100  # Max limit per API request\n",
    "\n",
    "#         while True:\n",
    "#             results = sp.playlist_items(playlist_id, market='VN', limit=limit, offset=offset)\n",
    "\n",
    "#             if not results or 'items' not in results or not results['items']:\n",
    "#                 break  # Stop if no more tracks\n",
    "\n",
    "#             for item in results['items']:\n",
    "#                 track = item.get('track')\n",
    "#                 if not track:\n",
    "#                     continue\n",
    "                \n",
    "#                 album = track.get('album', {})\n",
    "#                 artists = track.get('artists', [])\n",
    "#                 artist_names = ', '.join([artist['name'] for artist in artists]) if artists else 'null'\n",
    "\n",
    "#                 for artist in artists:\n",
    "#                     artist_id = artist.get('id')\n",
    "#                     if artist_id:  # Ensure artist ID is not None\n",
    "#                         artist_ids.add(artist_id)\n",
    "\n",
    "#                 vietnam_songs.append({\n",
    "#                     'name': track.get('name', 'null'),\n",
    "#                     'release_date': album.get('release_date', 'null'),\n",
    "#                     'album_type': album.get('album_type', 'null'),\n",
    "#                     'album_name': album.get('name', 'null'),\n",
    "#                     'artists': artist_names,\n",
    "#                     'duration_ms': track.get('duration_ms', 'null'),\n",
    "#                     'popularity': track.get('popularity', 'null'),\n",
    "#                     'spotify_url': track.get('external_urls', {}).get('spotify', 'null'),\n",
    "#                 })\n",
    "            \n",
    "#             offset += limit  # Get next batch of songs\n",
    "\n",
    "#     return vietnam_songs, list(artist_ids)\n",
    "\n",
    "# def get_artist_details(artist_ids):\n",
    "#     '''\n",
    "#     Retrieve artist details using Spotify API.\n",
    "#     '''\n",
    "#     artist_info = []\n",
    "\n",
    "#     for artist_id in artist_ids:\n",
    "#         if artist_id is None:  # Skip None values\n",
    "#             continue\n",
    "\n",
    "#         try:\n",
    "#             artist = sp.artist(artist_id)\n",
    "#             artist_info.append({\n",
    "#                 'name': artist.get('name', 'null'),\n",
    "#                 'followers': artist.get('followers', {}).get('total', 'null'),\n",
    "#                 'popularity': artist.get('popularity', 'null'),\n",
    "#                 'spotify_url': artist.get('external_urls', {}).get('spotify', 'null'),\n",
    "#             })\n",
    "#         except Exception as e:\n",
    "#             print(f\"Error fetching artist {artist_id}: {e}\")\n",
    "\n",
    "#     return artist_info\n",
    "\n",
    "# def save_to_csv(data, filename, fieldnames):\n",
    "#     '''\n",
    "#     Save extracted data into a CSV file.\n",
    "#     '''\n",
    "#     with open(filename, mode='w', newline='', encoding='utf-8') as file:\n",
    "#         writer = csv.DictWriter(file, fieldnames=fieldnames)\n",
    "#         writer.writeheader()\n",
    "#         for row in data:\n",
    "#             writer.writerow(row)\n",
    "\n",
    "# def is_artist_in_csv(artist_name, df):\n",
    "#     return artist_name in df['name'].values\n",
    "\n",
    "# def fetch_artist_data(artist_name):\n",
    "#     '''\n",
    "#     Search for an artist on Spotify and return details.\n",
    "#     '''\n",
    "#     results = sp.search(q=f\"artist:{artist_name}\", type=\"artist\", limit=1)\n",
    "#     if results and results['artists']['items']:\n",
    "#         artist = results['artists']['items'][0]\n",
    "#         return {\n",
    "#             \"name\": artist['name'],\n",
    "#             \"followers\": artist['followers']['total'],\n",
    "#             \"popularity\": artist['popularity'],\n",
    "#             \"spotify_url\": artist['external_urls']['spotify']\n",
    "#         }\n",
    "#     return None\n",
    "\n",
    "# # Fetch Vietnamese songs & artist IDs\n",
    "# vietnam_songs, artist_ids = get_vietnamese_songs_and_artists()\n",
    "\n",
    "# # Save songs to CSV\n",
    "# save_to_csv(vietnam_songs, 'vietnamese_songs.csv', [\n",
    "#     'name', 'release_date', 'album_type', 'album_name', 'artists', 'duration_ms', 'popularity', 'spotify_url'\n",
    "# ])\n",
    "\n",
    "# # Fetch artist details\n",
    "# artist_info = get_artist_details(artist_ids)\n",
    "# save_to_csv(artist_info, 'artists_info.csv', ['name', 'followers', 'popularity', 'spotify_url'])\n",
    "\n",
    "# # Load artist data from CSV\n",
    "# artists = pd.read_csv(filepath_or_buffer='./artists_info.csv')\n",
    "\n",
    "# # Filter artists with multiple names (comma-separated)\n",
    "# multi_artists = artists[artists['name'].str.contains(',', regex=False)]\n",
    "\n",
    "# new_artists = []\n",
    "# rows_to_remove = []\n",
    "\n",
    "# # Split multi-artist names & fetch missing data\n",
    "# for index, row in multi_artists.iterrows():\n",
    "#     artist_names = row['name'].split(\", \")  \n",
    "\n",
    "#     for artist in artist_names:\n",
    "#         if not is_artist_in_csv(artist, artists):\n",
    "#             artist_data = fetch_artist_data(artist)\n",
    "#             if artist_data:\n",
    "#                 new_artists.append(artist_data)\n",
    "\n",
    "#     rows_to_remove.append(index)\n",
    "\n",
    "# # Remove old multi-artist rows & add new individual ones\n",
    "# artists.drop(rows_to_remove, inplace=True)\n",
    "\n",
    "# if new_artists:\n",
    "#     new_artists_df = pd.DataFrame(new_artists)\n",
    "#     artists = pd.concat([artists, new_artists_df], ignore_index=True)\n",
    "\n",
    "# # Save final cleaned artist data\n",
    "# artists.to_csv('artists_info.csv', index=False)"
   ]
  },
  {
   "cell_type": "markdown",
   "metadata": {},
   "source": [
    "## **Đọc bộ dữ liệu**"
   ]
  },
  {
   "cell_type": "code",
   "execution_count": 4,
   "metadata": {},
   "outputs": [
    {
     "data": {
      "text/html": [
       "<div>\n",
       "<style scoped>\n",
       "    .dataframe tbody tr th:only-of-type {\n",
       "        vertical-align: middle;\n",
       "    }\n",
       "\n",
       "    .dataframe tbody tr th {\n",
       "        vertical-align: top;\n",
       "    }\n",
       "\n",
       "    .dataframe thead th {\n",
       "        text-align: right;\n",
       "    }\n",
       "</style>\n",
       "<table border=\"1\" class=\"dataframe\">\n",
       "  <thead>\n",
       "    <tr style=\"text-align: right;\">\n",
       "      <th></th>\n",
       "      <th>name</th>\n",
       "      <th>release_date</th>\n",
       "      <th>album_type</th>\n",
       "      <th>album_name</th>\n",
       "      <th>artists</th>\n",
       "      <th>duration_ms</th>\n",
       "      <th>popularity</th>\n",
       "      <th>spotify_url</th>\n",
       "    </tr>\n",
       "  </thead>\n",
       "  <tbody>\n",
       "    <tr>\n",
       "      <th>0</th>\n",
       "      <td>Chúng Ta Của Hiện Tại</td>\n",
       "      <td>2020-12-20</td>\n",
       "      <td>single</td>\n",
       "      <td>Chúng Ta Của Hiện Tại</td>\n",
       "      <td>Sơn Tùng M-TP</td>\n",
       "      <td>301538</td>\n",
       "      <td>0.00</td>\n",
       "      <td>https://open.spotify.com/track/17iGUekw5nFt5mI...</td>\n",
       "    </tr>\n",
       "    <tr>\n",
       "      <th>1</th>\n",
       "      <td>Đi Về Nhà</td>\n",
       "      <td>2020-12-20</td>\n",
       "      <td>single</td>\n",
       "      <td>Đi Về Nhà</td>\n",
       "      <td>Đen, JustaTee</td>\n",
       "      <td>200000</td>\n",
       "      <td>57.00</td>\n",
       "      <td>https://open.spotify.com/track/7LVrrX8pkzI9fMF...</td>\n",
       "    </tr>\n",
       "    <tr>\n",
       "      <th>2</th>\n",
       "      <td>Sinh Ra Đã Là Thứ Đối Lập Nhau</td>\n",
       "      <td>2018-03-01</td>\n",
       "      <td>single</td>\n",
       "      <td>Sinh Ra Đã Là Thứ Đối Lập Nhau</td>\n",
       "      <td>Emcee L (Da LAB)</td>\n",
       "      <td>234168</td>\n",
       "      <td>0.00</td>\n",
       "      <td>https://open.spotify.com/track/6IAqflHsPVm4EpY...</td>\n",
       "    </tr>\n",
       "    <tr>\n",
       "      <th>3</th>\n",
       "      <td>Bước Qua Mùa Cô Đơn</td>\n",
       "      <td>2020-12-10</td>\n",
       "      <td>single</td>\n",
       "      <td>Bước Qua Mùa Cô Đơn</td>\n",
       "      <td>Vũ.</td>\n",
       "      <td>278823</td>\n",
       "      <td>42.00</td>\n",
       "      <td>https://open.spotify.com/track/7wkX67ruxr3x2GF...</td>\n",
       "    </tr>\n",
       "    <tr>\n",
       "      <th>4</th>\n",
       "      <td>Nàng Thơ</td>\n",
       "      <td>2018-03-01</td>\n",
       "      <td>single</td>\n",
       "      <td>Nàng Thơ</td>\n",
       "      <td>Hoàng Dũng</td>\n",
       "      <td>254476</td>\n",
       "      <td>0.00</td>\n",
       "      <td>https://open.spotify.com/track/2LykruN1mQlg9nu...</td>\n",
       "    </tr>\n",
       "  </tbody>\n",
       "</table>\n",
       "</div>"
      ],
      "text/plain": [
       "                             name release_date album_type  \\\n",
       "0           Chúng Ta Của Hiện Tại   2020-12-20     single   \n",
       "1                       Đi Về Nhà   2020-12-20     single   \n",
       "2  Sinh Ra Đã Là Thứ Đối Lập Nhau   2018-03-01     single   \n",
       "3             Bước Qua Mùa Cô Đơn   2020-12-10     single   \n",
       "4                        Nàng Thơ   2018-03-01     single   \n",
       "\n",
       "                       album_name           artists  duration_ms  popularity  \\\n",
       "0           Chúng Ta Của Hiện Tại     Sơn Tùng M-TP       301538        0.00   \n",
       "1                       Đi Về Nhà     Đen, JustaTee       200000       57.00   \n",
       "2  Sinh Ra Đã Là Thứ Đối Lập Nhau  Emcee L (Da LAB)       234168        0.00   \n",
       "3             Bước Qua Mùa Cô Đơn               Vũ.       278823       42.00   \n",
       "4                        Nàng Thơ        Hoàng Dũng       254476        0.00   \n",
       "\n",
       "                                         spotify_url  \n",
       "0  https://open.spotify.com/track/17iGUekw5nFt5mI...  \n",
       "1  https://open.spotify.com/track/7LVrrX8pkzI9fMF...  \n",
       "2  https://open.spotify.com/track/6IAqflHsPVm4EpY...  \n",
       "3  https://open.spotify.com/track/7wkX67ruxr3x2GF...  \n",
       "4  https://open.spotify.com/track/2LykruN1mQlg9nu...  "
      ]
     },
     "execution_count": 4,
     "metadata": {},
     "output_type": "execute_result"
    }
   ],
   "source": [
    "tracks = pd.read_csv(filepath_or_buffer='./vietnamese_songs.csv')\n",
    "tracks.head()"
   ]
  },
  {
   "cell_type": "code",
   "execution_count": 5,
   "metadata": {},
   "outputs": [
    {
     "data": {
      "text/html": [
       "<div>\n",
       "<style scoped>\n",
       "    .dataframe tbody tr th:only-of-type {\n",
       "        vertical-align: middle;\n",
       "    }\n",
       "\n",
       "    .dataframe tbody tr th {\n",
       "        vertical-align: top;\n",
       "    }\n",
       "\n",
       "    .dataframe thead th {\n",
       "        text-align: right;\n",
       "    }\n",
       "</style>\n",
       "<table border=\"1\" class=\"dataframe\">\n",
       "  <thead>\n",
       "    <tr style=\"text-align: right;\">\n",
       "      <th></th>\n",
       "      <th>name</th>\n",
       "      <th>followers</th>\n",
       "      <th>popularity</th>\n",
       "      <th>spotify_url</th>\n",
       "    </tr>\n",
       "  </thead>\n",
       "  <tbody>\n",
       "    <tr>\n",
       "      <th>0</th>\n",
       "      <td>Phi Thoàn</td>\n",
       "      <td>0</td>\n",
       "      <td>0</td>\n",
       "      <td>https://open.spotify.com/artist/2aTU3x15AENbho...</td>\n",
       "    </tr>\n",
       "    <tr>\n",
       "      <th>1</th>\n",
       "      <td>D Blue</td>\n",
       "      <td>50154</td>\n",
       "      <td>43</td>\n",
       "      <td>https://open.spotify.com/artist/7JRDlOAUMJuLKm...</td>\n",
       "    </tr>\n",
       "    <tr>\n",
       "      <th>2</th>\n",
       "      <td>Tridang</td>\n",
       "      <td>2</td>\n",
       "      <td>0</td>\n",
       "      <td>https://open.spotify.com/artist/7ooiucbWXydMWY...</td>\n",
       "    </tr>\n",
       "    <tr>\n",
       "      <th>3</th>\n",
       "      <td>Redshine</td>\n",
       "      <td>128</td>\n",
       "      <td>4</td>\n",
       "      <td>https://open.spotify.com/artist/6V2hxt1eky76f5...</td>\n",
       "    </tr>\n",
       "    <tr>\n",
       "      <th>4</th>\n",
       "      <td>Uyên Trang</td>\n",
       "      <td>19887</td>\n",
       "      <td>13</td>\n",
       "      <td>https://open.spotify.com/artist/5ZTYPfGq5HTtBj...</td>\n",
       "    </tr>\n",
       "  </tbody>\n",
       "</table>\n",
       "</div>"
      ],
      "text/plain": [
       "         name  followers  popularity  \\\n",
       "0   Phi Thoàn          0           0   \n",
       "1      D Blue      50154          43   \n",
       "2     Tridang          2           0   \n",
       "3    Redshine        128           4   \n",
       "4  Uyên Trang      19887          13   \n",
       "\n",
       "                                         spotify_url  \n",
       "0  https://open.spotify.com/artist/2aTU3x15AENbho...  \n",
       "1  https://open.spotify.com/artist/7JRDlOAUMJuLKm...  \n",
       "2  https://open.spotify.com/artist/7ooiucbWXydMWY...  \n",
       "3  https://open.spotify.com/artist/6V2hxt1eky76f5...  \n",
       "4  https://open.spotify.com/artist/5ZTYPfGq5HTtBj...  "
      ]
     },
     "execution_count": 5,
     "metadata": {},
     "output_type": "execute_result"
    }
   ],
   "source": [
    "artists = pd.read_csv(filepath_or_buffer='./artists_info.csv')\n",
    "artists.head()"
   ]
  },
  {
   "cell_type": "markdown",
   "metadata": {},
   "source": [
    "## **Khám phá dữ liệu**"
   ]
  },
  {
   "cell_type": "markdown",
   "metadata": {},
   "source": [
    "Bảng bên dưới mô tả chi tiết ý nghĩa của các thuộc tính trong bộ dữ liệu **`vietnamese_songs.csv`**\n",
    "\n",
    "<center>\n",
    "\n",
    "| **Tên thuộc tính** | **Ý nghĩa** |\n",
    "| -----              | -----       |\n",
    "| **name** | Tên bài hát |\n",
    "| **release_date** | Ngày bài hát được ra mắt/phát hành |\n",
    "| **album_type** | Loại album mà bài hát thuộc về (ví dụ: album, single, compilation) |\n",
    "| **album_name** | Tên của album mà bài hát thuộc về |\n",
    "| **artists** | Tên của các nghệ sĩ trình diễn bài hát. Nếu có nhiều nghệ sĩ, tên các nghệ sĩ sẽ được phân tách bằng dấu phẩy (\",\") |\n",
    "| **duration_ms** | Độ dài của bài hát tính theo đơn vị milli giây |\n",
    "| **popularity** | Độ phổ biến của bài hát trên nền tảng Spotify, được tính từ 0 đến 100 (100 là phổ biến nhất) |\n",
    "| **sportify_url** | Liên kết URL dẫn đến bài hát trên nền tảng Spotify |\n",
    "\n",
    "\n",
    "</center>\n",
    "\n",
    "Bảng bên dưới mô tả chi tiết ý nghĩa của các thuộc tính trong bộ dữ liệu **`artists_info.csv`**\n",
    "\n",
    "<center>\n",
    "\n",
    "| **Tên thuộc tính** | **Ý nghĩa** |\n",
    "| -----              | -----       |\n",
    "| **name** | Tên của nghệ sĩ |\n",
    "| **followers** | Số lượng người theo dõi nghệ sĩ trên Spotify |\n",
    "| **popularity** | Mức độ phổ biến của nghệ sĩ trên Spotify, dao động từ 0 đến 100 (với 100 là phổ biến nhất) |\n",
    "| **spotify_url** | Liên kết trực tiếp đến trang Spotify của nghệ sĩ |\n",
    "\n",
    "</center>"
   ]
  },
  {
   "cell_type": "markdown",
   "metadata": {},
   "source": [
    "## **Tiền xử lý dữ liệu**"
   ]
  },
  {
   "cell_type": "markdown",
   "metadata": {},
   "source": [
    "### **Tổng quan về dữ liệu (trước khi xử lý)**"
   ]
  },
  {
   "cell_type": "code",
   "execution_count": 6,
   "metadata": {},
   "outputs": [
    {
     "name": "stdout",
     "output_type": "stream",
     "text": [
      "<class 'pandas.core.frame.DataFrame'>\n",
      "RangeIndex: 5995 entries, 0 to 5994\n",
      "Data columns (total 8 columns):\n",
      " #   Column        Non-Null Count  Dtype  \n",
      "---  ------        --------------  -----  \n",
      " 0   name          5992 non-null   object \n",
      " 1   release_date  5993 non-null   object \n",
      " 2   album_type    5993 non-null   object \n",
      " 3   album_name    5990 non-null   object \n",
      " 4   artists       5990 non-null   object \n",
      " 5   duration_ms   5995 non-null   int64  \n",
      " 6   popularity    5994 non-null   float64\n",
      " 7   spotify_url   5994 non-null   object \n",
      "dtypes: float64(1), int64(1), object(6)\n",
      "memory usage: 374.8+ KB\n"
     ]
    }
   ],
   "source": [
    "tracks.info()"
   ]
  },
  {
   "cell_type": "markdown",
   "metadata": {},
   "source": [
    "**Nhận xét về dữ liệu vietnamese_songs**\n",
    "- Dữ liệu có *5995* dòng và *8* thuộc tính (cột)\n",
    "- Có một số thuộc tính (cột) bị thiếu giá trị bao gồm **`name`**, **`release_date`**, **`album_type`**, **`album_name`**, **`artists`**, **`popularity`** và **`spotify_url`**\n",
    "- **`release_date`** cần chuyển sang kiểu dữ liệu **`datatime`**"
   ]
  },
  {
   "cell_type": "code",
   "execution_count": 7,
   "metadata": {},
   "outputs": [
    {
     "name": "stdout",
     "output_type": "stream",
     "text": [
      "<class 'pandas.core.frame.DataFrame'>\n",
      "RangeIndex: 1472 entries, 0 to 1471\n",
      "Data columns (total 4 columns):\n",
      " #   Column       Non-Null Count  Dtype \n",
      "---  ------       --------------  ----- \n",
      " 0   name         1472 non-null   object\n",
      " 1   followers    1472 non-null   int64 \n",
      " 2   popularity   1472 non-null   int64 \n",
      " 3   spotify_url  1472 non-null   object\n",
      "dtypes: int64(2), object(2)\n",
      "memory usage: 46.1+ KB\n"
     ]
    }
   ],
   "source": [
    "artists.info()"
   ]
  },
  {
   "cell_type": "markdown",
   "metadata": {},
   "source": [
    "**Nhận xét về dữ liệu artists_info**\n",
    "- Dữ liệu có *1472* dòng và *4* thuộc tính (cột)\n",
    "- Không có thuộc tính (cột) nào bị thiếu giá trị"
   ]
  },
  {
   "cell_type": "markdown",
   "metadata": {},
   "source": [
    "### **Thống kê mô tả dữ liệu**"
   ]
  },
  {
   "cell_type": "code",
   "execution_count": 8,
   "metadata": {},
   "outputs": [
    {
     "data": {
      "text/html": [
       "<div>\n",
       "<style scoped>\n",
       "    .dataframe tbody tr th:only-of-type {\n",
       "        vertical-align: middle;\n",
       "    }\n",
       "\n",
       "    .dataframe tbody tr th {\n",
       "        vertical-align: top;\n",
       "    }\n",
       "\n",
       "    .dataframe thead th {\n",
       "        text-align: right;\n",
       "    }\n",
       "</style>\n",
       "<table border=\"1\" class=\"dataframe\">\n",
       "  <thead>\n",
       "    <tr style=\"text-align: right;\">\n",
       "      <th></th>\n",
       "      <th>duration_ms</th>\n",
       "      <th>popularity</th>\n",
       "    </tr>\n",
       "  </thead>\n",
       "  <tbody>\n",
       "    <tr>\n",
       "      <th>count</th>\n",
       "      <td>5995.00</td>\n",
       "      <td>5994.00</td>\n",
       "    </tr>\n",
       "    <tr>\n",
       "      <th>mean</th>\n",
       "      <td>287436.00</td>\n",
       "      <td>19.47</td>\n",
       "    </tr>\n",
       "    <tr>\n",
       "      <th>std</th>\n",
       "      <td>179887.36</td>\n",
       "      <td>20.67</td>\n",
       "    </tr>\n",
       "    <tr>\n",
       "      <th>min</th>\n",
       "      <td>0.00</td>\n",
       "      <td>0.00</td>\n",
       "    </tr>\n",
       "    <tr>\n",
       "      <th>25%</th>\n",
       "      <td>215172.00</td>\n",
       "      <td>0.00</td>\n",
       "    </tr>\n",
       "    <tr>\n",
       "      <th>50%</th>\n",
       "      <td>255278.00</td>\n",
       "      <td>12.00</td>\n",
       "    </tr>\n",
       "    <tr>\n",
       "      <th>75%</th>\n",
       "      <td>296245.50</td>\n",
       "      <td>39.00</td>\n",
       "    </tr>\n",
       "    <tr>\n",
       "      <th>max</th>\n",
       "      <td>2922361.00</td>\n",
       "      <td>73.00</td>\n",
       "    </tr>\n",
       "  </tbody>\n",
       "</table>\n",
       "</div>"
      ],
      "text/plain": [
       "       duration_ms  popularity\n",
       "count      5995.00     5994.00\n",
       "mean     287436.00       19.47\n",
       "std      179887.36       20.67\n",
       "min           0.00        0.00\n",
       "25%      215172.00        0.00\n",
       "50%      255278.00       12.00\n",
       "75%      296245.50       39.00\n",
       "max     2922361.00       73.00"
      ]
     },
     "execution_count": 8,
     "metadata": {},
     "output_type": "execute_result"
    }
   ],
   "source": [
    "tracks.describe()"
   ]
  },
  {
   "cell_type": "markdown",
   "metadata": {},
   "source": [
    "**Nhận xét chung về `duration_ms` trong bộ dữ liệu **`vietnamese_songs.csv`****\n",
    "\n",
    "- Thời lượng trung bình của một bài hát là **287.436 ms** (**4,79 phút**)\n",
    "- Bài hát ngắn nhất có thời lượng **0 ms**, có thể là dữ liệu bị thiếu hoặc lỗi\n",
    "- Bài hát dài nhất có thời lượng **2.922.361 ms** (**48,7 phút**), cao hơn đáng kể so với trung bình\n",
    "- Các phần trăm vị **(25%, 50%, 75%)** cho thấy **hầu hết các bài hát có thời lượng từ 3,6 phút đến 4,9 phút**\n",
    "\n",
    "**Nhận xét chung về `popularity` trong bộ dữ liệu **`vietnamese_songs.csv`****\n",
    "- Điểm phổ biến trung bình là **19,47** nhưng có độ lệch chuẩn là 20,67. Điều này cho thấy điểm phổ biến có sự phân tán lớn\n",
    "- Giá trị lớn nhất là **73** cho thấy ngay cả bài hát phổ biến nhất cũng không đạt mức tối đa (100)"
   ]
  },
  {
   "cell_type": "code",
   "execution_count": 9,
   "metadata": {},
   "outputs": [
    {
     "data": {
      "text/html": [
       "<div>\n",
       "<style scoped>\n",
       "    .dataframe tbody tr th:only-of-type {\n",
       "        vertical-align: middle;\n",
       "    }\n",
       "\n",
       "    .dataframe tbody tr th {\n",
       "        vertical-align: top;\n",
       "    }\n",
       "\n",
       "    .dataframe thead th {\n",
       "        text-align: right;\n",
       "    }\n",
       "</style>\n",
       "<table border=\"1\" class=\"dataframe\">\n",
       "  <thead>\n",
       "    <tr style=\"text-align: right;\">\n",
       "      <th></th>\n",
       "      <th>followers</th>\n",
       "      <th>popularity</th>\n",
       "    </tr>\n",
       "  </thead>\n",
       "  <tbody>\n",
       "    <tr>\n",
       "      <th>count</th>\n",
       "      <td>1472.00</td>\n",
       "      <td>1472.00</td>\n",
       "    </tr>\n",
       "    <tr>\n",
       "      <th>mean</th>\n",
       "      <td>142134.29</td>\n",
       "      <td>25.11</td>\n",
       "    </tr>\n",
       "    <tr>\n",
       "      <th>std</th>\n",
       "      <td>1135387.08</td>\n",
       "      <td>18.21</td>\n",
       "    </tr>\n",
       "    <tr>\n",
       "      <th>min</th>\n",
       "      <td>0.00</td>\n",
       "      <td>0.00</td>\n",
       "    </tr>\n",
       "    <tr>\n",
       "      <th>25%</th>\n",
       "      <td>161.50</td>\n",
       "      <td>7.00</td>\n",
       "    </tr>\n",
       "    <tr>\n",
       "      <th>50%</th>\n",
       "      <td>2856.50</td>\n",
       "      <td>27.00</td>\n",
       "    </tr>\n",
       "    <tr>\n",
       "      <th>75%</th>\n",
       "      <td>30458.75</td>\n",
       "      <td>39.00</td>\n",
       "    </tr>\n",
       "    <tr>\n",
       "      <th>max</th>\n",
       "      <td>25164423.00</td>\n",
       "      <td>84.00</td>\n",
       "    </tr>\n",
       "  </tbody>\n",
       "</table>\n",
       "</div>"
      ],
      "text/plain": [
       "        followers  popularity\n",
       "count     1472.00     1472.00\n",
       "mean    142134.29       25.11\n",
       "std    1135387.08       18.21\n",
       "min          0.00        0.00\n",
       "25%        161.50        7.00\n",
       "50%       2856.50       27.00\n",
       "75%      30458.75       39.00\n",
       "max   25164423.00       84.00"
      ]
     },
     "execution_count": 9,
     "metadata": {},
     "output_type": "execute_result"
    }
   ],
   "source": [
    "artists.describe()"
   ]
  },
  {
   "cell_type": "markdown",
   "metadata": {},
   "source": [
    "**Nhận xét chung về `followers` trong bộ dữ liệu **`artists_info.csv`****\n",
    "- Số lượng người theo dõi trung bình là **142.134,29** nhưng độ lệch chuẩn rất lớn (**1.135.387,08**) cho thấy có sự chênh lệch đáng kể giữa các nghệ sĩ\n",
    "- Phân vị **25%** là **161,5**, trong khi phân vị **75%** là **30.458,75**. Điều này cho thấy đa số nghệ sĩ có số lượng người theo dõi tương đối thấp, trong khi một số ít nghệ sĩ có lượng theo dõi rất cao\n",
    "\n",
    "**Nhận xét chung về `popularity` trong bộ dữ liệu **`artists_info.csv`****\n",
    "- Điểm phổ biến trung bình là **25,11** với độ lệch chuẩn **18,21**. Điều này cho thấy sự phân bố khá rộng về mức độ phổ biến\n",
    "- Điểm phổ biến cao nhất là **84** cho thấy một số nghệ sĩ có mức độ phổ biến cao nhưng vẫn không đạt điểm tối đa (100)"
   ]
  },
  {
   "cell_type": "markdown",
   "metadata": {},
   "source": [
    "### **Thay đổi kiểu dữ liệu**"
   ]
  },
  {
   "cell_type": "markdown",
   "metadata": {},
   "source": [
    "**Mục đích**: Chuẩn hóa định dạng ngày tháng trong cột **`release_date`**\n",
    "\n",
    "**Cách thực hiện**:\n",
    "1. Xác định các giá trị không hợp lệ (bắt đầu bằng 0, bị thiếu hoặc dữ liệu chỉ có\n",
    "năm)\n",
    "2. Viết một hàm xử lý và áp dụng để điền thêm **-01-01** cho các giá trị chỉ có\n",
    "năm và loại bỏ dữ liệu lỗi\n",
    "3. Chuyển đổi cột **`release_date`** sang định dạng **`datetime`**"
   ]
  },
  {
   "cell_type": "code",
   "execution_count": 10,
   "metadata": {},
   "outputs": [
    {
     "data": {
      "text/html": [
       "<div>\n",
       "<style scoped>\n",
       "    .dataframe tbody tr th:only-of-type {\n",
       "        vertical-align: middle;\n",
       "    }\n",
       "\n",
       "    .dataframe tbody tr th {\n",
       "        vertical-align: top;\n",
       "    }\n",
       "\n",
       "    .dataframe thead th {\n",
       "        text-align: right;\n",
       "    }\n",
       "</style>\n",
       "<table border=\"1\" class=\"dataframe\">\n",
       "  <thead>\n",
       "    <tr style=\"text-align: right;\">\n",
       "      <th></th>\n",
       "      <th>name</th>\n",
       "      <th>release_date</th>\n",
       "      <th>album_type</th>\n",
       "      <th>album_name</th>\n",
       "      <th>artists</th>\n",
       "      <th>duration_ms</th>\n",
       "      <th>popularity</th>\n",
       "      <th>spotify_url</th>\n",
       "    </tr>\n",
       "  </thead>\n",
       "  <tbody>\n",
       "    <tr>\n",
       "      <th>1051</th>\n",
       "      <td>Năm Ấy</td>\n",
       "      <td>0000</td>\n",
       "      <td>single</td>\n",
       "      <td>Năm Ấy</td>\n",
       "      <td>Đức Phúc</td>\n",
       "      <td>260351</td>\n",
       "      <td>37.00</td>\n",
       "      <td>https://open.spotify.com/track/7BSyMiUKDSXdnZ9...</td>\n",
       "    </tr>\n",
       "    <tr>\n",
       "      <th>1782</th>\n",
       "      <td>Năm Ấy</td>\n",
       "      <td>0000</td>\n",
       "      <td>single</td>\n",
       "      <td>Năm Ấy</td>\n",
       "      <td>Đức Phúc</td>\n",
       "      <td>260351</td>\n",
       "      <td>37.00</td>\n",
       "      <td>https://open.spotify.com/track/7BSyMiUKDSXdnZ9...</td>\n",
       "    </tr>\n",
       "    <tr>\n",
       "      <th>2239</th>\n",
       "      <td>Vì Sao Cuối Trời</td>\n",
       "      <td>0000</td>\n",
       "      <td>album</td>\n",
       "      <td>Những Bài Hát Hay Nhất Của Minh Vương M4U (ori...</td>\n",
       "      <td>Minh Vương M4U</td>\n",
       "      <td>251951</td>\n",
       "      <td>0.00</td>\n",
       "      <td>https://open.spotify.com/track/5CeVzm3UPr3rgVs...</td>\n",
       "    </tr>\n",
       "    <tr>\n",
       "      <th>2408</th>\n",
       "      <td>Anh Phải Làm Sao</td>\n",
       "      <td>0000</td>\n",
       "      <td>album</td>\n",
       "      <td>Anh Phải Làm Sao</td>\n",
       "      <td>Đan Trường</td>\n",
       "      <td>276532</td>\n",
       "      <td>0.00</td>\n",
       "      <td>https://open.spotify.com/track/1eGjdNUedFs5pbC...</td>\n",
       "    </tr>\n",
       "    <tr>\n",
       "      <th>2409</th>\n",
       "      <td>Kiếp Ve Sầu</td>\n",
       "      <td>0000</td>\n",
       "      <td>album</td>\n",
       "      <td>Album Nhạc Tuyển Vol1</td>\n",
       "      <td>Đan Trường</td>\n",
       "      <td>243853</td>\n",
       "      <td>0.00</td>\n",
       "      <td>https://open.spotify.com/track/5CNHksxHh3SQWDp...</td>\n",
       "    </tr>\n",
       "  </tbody>\n",
       "</table>\n",
       "</div>"
      ],
      "text/plain": [
       "                  name release_date album_type  \\\n",
       "1051            Năm Ấy         0000     single   \n",
       "1782            Năm Ấy         0000     single   \n",
       "2239  Vì Sao Cuối Trời         0000      album   \n",
       "2408  Anh Phải Làm Sao         0000      album   \n",
       "2409       Kiếp Ve Sầu         0000      album   \n",
       "\n",
       "                                             album_name         artists  \\\n",
       "1051                                             Năm Ấy        Đức Phúc   \n",
       "1782                                             Năm Ấy        Đức Phúc   \n",
       "2239  Những Bài Hát Hay Nhất Của Minh Vương M4U (ori...  Minh Vương M4U   \n",
       "2408                                   Anh Phải Làm Sao      Đan Trường   \n",
       "2409                              Album Nhạc Tuyển Vol1      Đan Trường   \n",
       "\n",
       "      duration_ms  popularity  \\\n",
       "1051       260351       37.00   \n",
       "1782       260351       37.00   \n",
       "2239       251951        0.00   \n",
       "2408       276532        0.00   \n",
       "2409       243853        0.00   \n",
       "\n",
       "                                            spotify_url  \n",
       "1051  https://open.spotify.com/track/7BSyMiUKDSXdnZ9...  \n",
       "1782  https://open.spotify.com/track/7BSyMiUKDSXdnZ9...  \n",
       "2239  https://open.spotify.com/track/5CeVzm3UPr3rgVs...  \n",
       "2408  https://open.spotify.com/track/1eGjdNUedFs5pbC...  \n",
       "2409  https://open.spotify.com/track/5CNHksxHh3SQWDp...  "
      ]
     },
     "execution_count": 10,
     "metadata": {},
     "output_type": "execute_result"
    }
   ],
   "source": [
    "tracks[(tracks['release_date'].str.len() < 10) & (tracks['release_date'].str.startswith('0'))].head()"
   ]
  },
  {
   "cell_type": "code",
   "execution_count": 11,
   "metadata": {},
   "outputs": [
    {
     "data": {
      "text/html": [
       "<div>\n",
       "<style scoped>\n",
       "    .dataframe tbody tr th:only-of-type {\n",
       "        vertical-align: middle;\n",
       "    }\n",
       "\n",
       "    .dataframe tbody tr th {\n",
       "        vertical-align: top;\n",
       "    }\n",
       "\n",
       "    .dataframe thead th {\n",
       "        text-align: right;\n",
       "    }\n",
       "</style>\n",
       "<table border=\"1\" class=\"dataframe\">\n",
       "  <thead>\n",
       "    <tr style=\"text-align: right;\">\n",
       "      <th></th>\n",
       "      <th>name</th>\n",
       "      <th>release_date</th>\n",
       "      <th>album_type</th>\n",
       "      <th>album_name</th>\n",
       "      <th>artists</th>\n",
       "      <th>duration_ms</th>\n",
       "      <th>popularity</th>\n",
       "      <th>spotify_url</th>\n",
       "    </tr>\n",
       "  </thead>\n",
       "  <tbody>\n",
       "    <tr>\n",
       "      <th>2379</th>\n",
       "      <td>Hương Ngọc Lan</td>\n",
       "      <td>1998</td>\n",
       "      <td>album</td>\n",
       "      <td>Tóc Ngắn</td>\n",
       "      <td>Mỹ Linh</td>\n",
       "      <td>358333</td>\n",
       "      <td>20.00</td>\n",
       "      <td>https://open.spotify.com/track/7843ngQIIA5NLCx...</td>\n",
       "    </tr>\n",
       "    <tr>\n",
       "      <th>2380</th>\n",
       "      <td>Tóc Ngắn</td>\n",
       "      <td>1998</td>\n",
       "      <td>album</td>\n",
       "      <td>Tóc Ngắn</td>\n",
       "      <td>Mỹ Linh</td>\n",
       "      <td>276573</td>\n",
       "      <td>13.00</td>\n",
       "      <td>https://open.spotify.com/track/2NcpzPfzey5QFYx...</td>\n",
       "    </tr>\n",
       "    <tr>\n",
       "      <th>2381</th>\n",
       "      <td>Hoa Cỏ Mùa Xuân</td>\n",
       "      <td>1998</td>\n",
       "      <td>album</td>\n",
       "      <td>Tóc Ngắn</td>\n",
       "      <td>Mỹ Linh</td>\n",
       "      <td>223346</td>\n",
       "      <td>13.00</td>\n",
       "      <td>https://open.spotify.com/track/2AjVCrZoxoijNi4...</td>\n",
       "    </tr>\n",
       "    <tr>\n",
       "      <th>2856</th>\n",
       "      <td>Dĩ Vãng Nhạt Nhòa</td>\n",
       "      <td>1994</td>\n",
       "      <td>album</td>\n",
       "      <td>Mong Mo</td>\n",
       "      <td>Lưu Bích, Tô Chấn Phong</td>\n",
       "      <td>237626</td>\n",
       "      <td>0.00</td>\n",
       "      <td>https://open.spotify.com/track/0tQX75vF3SMNgys...</td>\n",
       "    </tr>\n",
       "    <tr>\n",
       "      <th>4697</th>\n",
       "      <td>Long Me</td>\n",
       "      <td>1998</td>\n",
       "      <td>album</td>\n",
       "      <td>Cai Luong Tan Co Lan &amp; Diep</td>\n",
       "      <td>Hương Lan</td>\n",
       "      <td>568928</td>\n",
       "      <td>5.00</td>\n",
       "      <td>https://open.spotify.com/track/0jbj0deUG9gOHdz...</td>\n",
       "    </tr>\n",
       "  </tbody>\n",
       "</table>\n",
       "</div>"
      ],
      "text/plain": [
       "                   name release_date album_type                   album_name  \\\n",
       "2379     Hương Ngọc Lan         1998      album                     Tóc Ngắn   \n",
       "2380           Tóc Ngắn         1998      album                     Tóc Ngắn   \n",
       "2381    Hoa Cỏ Mùa Xuân         1998      album                     Tóc Ngắn   \n",
       "2856  Dĩ Vãng Nhạt Nhòa         1994      album                      Mong Mo   \n",
       "4697            Long Me         1998      album  Cai Luong Tan Co Lan & Diep   \n",
       "\n",
       "                      artists  duration_ms  popularity  \\\n",
       "2379                  Mỹ Linh       358333       20.00   \n",
       "2380                  Mỹ Linh       276573       13.00   \n",
       "2381                  Mỹ Linh       223346       13.00   \n",
       "2856  Lưu Bích, Tô Chấn Phong       237626        0.00   \n",
       "4697                Hương Lan       568928        5.00   \n",
       "\n",
       "                                            spotify_url  \n",
       "2379  https://open.spotify.com/track/7843ngQIIA5NLCx...  \n",
       "2380  https://open.spotify.com/track/2NcpzPfzey5QFYx...  \n",
       "2381  https://open.spotify.com/track/2AjVCrZoxoijNi4...  \n",
       "2856  https://open.spotify.com/track/0tQX75vF3SMNgys...  \n",
       "4697  https://open.spotify.com/track/0jbj0deUG9gOHdz...  "
      ]
     },
     "execution_count": 11,
     "metadata": {},
     "output_type": "execute_result"
    }
   ],
   "source": [
    "tracks[(tracks['release_date'].str.len() < 10) & (tracks['release_date'].str.startswith('1'))].head()"
   ]
  },
  {
   "cell_type": "code",
   "execution_count": 12,
   "metadata": {},
   "outputs": [
    {
     "data": {
      "text/html": [
       "<div>\n",
       "<style scoped>\n",
       "    .dataframe tbody tr th:only-of-type {\n",
       "        vertical-align: middle;\n",
       "    }\n",
       "\n",
       "    .dataframe tbody tr th {\n",
       "        vertical-align: top;\n",
       "    }\n",
       "\n",
       "    .dataframe thead th {\n",
       "        text-align: right;\n",
       "    }\n",
       "</style>\n",
       "<table border=\"1\" class=\"dataframe\">\n",
       "  <thead>\n",
       "    <tr style=\"text-align: right;\">\n",
       "      <th></th>\n",
       "      <th>name</th>\n",
       "      <th>release_date</th>\n",
       "      <th>album_type</th>\n",
       "      <th>album_name</th>\n",
       "      <th>artists</th>\n",
       "      <th>duration_ms</th>\n",
       "      <th>popularity</th>\n",
       "      <th>spotify_url</th>\n",
       "    </tr>\n",
       "  </thead>\n",
       "  <tbody>\n",
       "    <tr>\n",
       "      <th>135</th>\n",
       "      <td>Thái Bình Mồ Hôi Rơi</td>\n",
       "      <td>2013</td>\n",
       "      <td>album</td>\n",
       "      <td>m-tp M-TP</td>\n",
       "      <td>Sơn Tùng M-TP</td>\n",
       "      <td>318093</td>\n",
       "      <td>0.00</td>\n",
       "      <td>https://open.spotify.com/track/77WB1SRD0tGgkKQ...</td>\n",
       "    </tr>\n",
       "    <tr>\n",
       "      <th>136</th>\n",
       "      <td>Ấn Nút Nhớ... Thả Giấc Mơ</td>\n",
       "      <td>2013</td>\n",
       "      <td>album</td>\n",
       "      <td>m-tp M-TP</td>\n",
       "      <td>Sơn Tùng M-TP</td>\n",
       "      <td>244539</td>\n",
       "      <td>0.00</td>\n",
       "      <td>https://open.spotify.com/track/0zNyJEcrEbYvwA0...</td>\n",
       "    </tr>\n",
       "    <tr>\n",
       "      <th>137</th>\n",
       "      <td>Tiến Lên Việt Nam Ơi</td>\n",
       "      <td>2013</td>\n",
       "      <td>album</td>\n",
       "      <td>m-tp M-TP</td>\n",
       "      <td>Sơn Tùng M-TP</td>\n",
       "      <td>218627</td>\n",
       "      <td>0.00</td>\n",
       "      <td>https://open.spotify.com/track/7i5YAG2YaXwKSuj...</td>\n",
       "    </tr>\n",
       "    <tr>\n",
       "      <th>138</th>\n",
       "      <td>Remember Me - SlimV remix</td>\n",
       "      <td>2013</td>\n",
       "      <td>album</td>\n",
       "      <td>m-tp M-TP</td>\n",
       "      <td>Sơn Tùng M-TP, Slim-V</td>\n",
       "      <td>203493</td>\n",
       "      <td>0.00</td>\n",
       "      <td>https://open.spotify.com/track/3Gunzjkn4oou0dZ...</td>\n",
       "    </tr>\n",
       "    <tr>\n",
       "      <th>139</th>\n",
       "      <td>Như Ngày Hôm Qua</td>\n",
       "      <td>2013</td>\n",
       "      <td>album</td>\n",
       "      <td>m-tp M-TP</td>\n",
       "      <td>Sơn Tùng M-TP</td>\n",
       "      <td>222981</td>\n",
       "      <td>0.00</td>\n",
       "      <td>https://open.spotify.com/track/6BToHhGtbW8eMQF...</td>\n",
       "    </tr>\n",
       "  </tbody>\n",
       "</table>\n",
       "</div>"
      ],
      "text/plain": [
       "                          name release_date album_type album_name  \\\n",
       "135       Thái Bình Mồ Hôi Rơi         2013      album  m-tp M-TP   \n",
       "136  Ấn Nút Nhớ... Thả Giấc Mơ         2013      album  m-tp M-TP   \n",
       "137       Tiến Lên Việt Nam Ơi         2013      album  m-tp M-TP   \n",
       "138  Remember Me - SlimV remix         2013      album  m-tp M-TP   \n",
       "139           Như Ngày Hôm Qua         2013      album  m-tp M-TP   \n",
       "\n",
       "                   artists  duration_ms  popularity  \\\n",
       "135          Sơn Tùng M-TP       318093        0.00   \n",
       "136          Sơn Tùng M-TP       244539        0.00   \n",
       "137          Sơn Tùng M-TP       218627        0.00   \n",
       "138  Sơn Tùng M-TP, Slim-V       203493        0.00   \n",
       "139          Sơn Tùng M-TP       222981        0.00   \n",
       "\n",
       "                                           spotify_url  \n",
       "135  https://open.spotify.com/track/77WB1SRD0tGgkKQ...  \n",
       "136  https://open.spotify.com/track/0zNyJEcrEbYvwA0...  \n",
       "137  https://open.spotify.com/track/7i5YAG2YaXwKSuj...  \n",
       "138  https://open.spotify.com/track/3Gunzjkn4oou0dZ...  \n",
       "139  https://open.spotify.com/track/6BToHhGtbW8eMQF...  "
      ]
     },
     "execution_count": 12,
     "metadata": {},
     "output_type": "execute_result"
    }
   ],
   "source": [
    "tracks[(tracks['release_date'].str.len() < 10) & (tracks['release_date'].str.startswith('2'))].head()"
   ]
  },
  {
   "cell_type": "code",
   "execution_count": 13,
   "metadata": {},
   "outputs": [
    {
     "data": {
      "text/html": [
       "<div>\n",
       "<style scoped>\n",
       "    .dataframe tbody tr th:only-of-type {\n",
       "        vertical-align: middle;\n",
       "    }\n",
       "\n",
       "    .dataframe tbody tr th {\n",
       "        vertical-align: top;\n",
       "    }\n",
       "\n",
       "    .dataframe thead th {\n",
       "        text-align: right;\n",
       "    }\n",
       "</style>\n",
       "<table border=\"1\" class=\"dataframe\">\n",
       "  <thead>\n",
       "    <tr style=\"text-align: right;\">\n",
       "      <th></th>\n",
       "      <th>name</th>\n",
       "      <th>release_date</th>\n",
       "      <th>album_type</th>\n",
       "      <th>album_name</th>\n",
       "      <th>artists</th>\n",
       "      <th>duration_ms</th>\n",
       "      <th>popularity</th>\n",
       "      <th>spotify_url</th>\n",
       "    </tr>\n",
       "  </thead>\n",
       "  <tbody>\n",
       "    <tr>\n",
       "      <th>618</th>\n",
       "      <td>Và Rồi Em Block….</td>\n",
       "      <td>NaN</td>\n",
       "      <td>NaN</td>\n",
       "      <td>NaN</td>\n",
       "      <td>NaN</td>\n",
       "      <td>186528</td>\n",
       "      <td>NaN</td>\n",
       "      <td>https://open.spotify.com/episode/7pHlGWTt9ZQoK...</td>\n",
       "    </tr>\n",
       "    <tr>\n",
       "      <th>4528</th>\n",
       "      <td>Please Tell Me Why  Bảo Thy X Vương Khang  LYR...</td>\n",
       "      <td>NaN</td>\n",
       "      <td>NaN</td>\n",
       "      <td>NaN</td>\n",
       "      <td>NaN</td>\n",
       "      <td>266000</td>\n",
       "      <td>0.00</td>\n",
       "      <td>NaN</td>\n",
       "    </tr>\n",
       "  </tbody>\n",
       "</table>\n",
       "</div>"
      ],
      "text/plain": [
       "                                                   name release_date  \\\n",
       "618                                   Và Rồi Em Block….          NaN   \n",
       "4528  Please Tell Me Why  Bảo Thy X Vương Khang  LYR...          NaN   \n",
       "\n",
       "     album_type album_name artists  duration_ms  popularity  \\\n",
       "618         NaN        NaN     NaN       186528         NaN   \n",
       "4528        NaN        NaN     NaN       266000        0.00   \n",
       "\n",
       "                                            spotify_url  \n",
       "618   https://open.spotify.com/episode/7pHlGWTt9ZQoK...  \n",
       "4528                                                NaN  "
      ]
     },
     "execution_count": 13,
     "metadata": {},
     "output_type": "execute_result"
    }
   ],
   "source": [
    "tracks[tracks['release_date'].isna()].head()"
   ]
  },
  {
   "cell_type": "code",
   "execution_count": 14,
   "metadata": {},
   "outputs": [
    {
     "data": {
      "text/plain": [
       "0   2020-12-20\n",
       "1   2020-12-20\n",
       "2   2018-03-01\n",
       "3   2020-12-10\n",
       "4   2018-03-01\n",
       "Name: release_date, dtype: datetime64[ns]"
      ]
     },
     "execution_count": 14,
     "metadata": {},
     "output_type": "execute_result"
    }
   ],
   "source": [
    "def fix_release_date(date: str) -> str:\n",
    "    if not date or date.startswith('0'):\n",
    "        return None\n",
    "    if len(date) == 4:\n",
    "        return date + '-01-01'\n",
    "    return date\n",
    "\n",
    "tracks['release_date'] = tracks['release_date'].astype(dtype=str).apply(func=fix_release_date)\n",
    "tracks['release_date'] = pd.to_datetime(arg=tracks['release_date'], format='%Y-%m-%d')\n",
    "tracks['release_date'].head()"
   ]
  },
  {
   "cell_type": "code",
   "execution_count": 15,
   "metadata": {},
   "outputs": [
    {
     "data": {
      "text/plain": [
       "name                    object\n",
       "release_date    datetime64[ns]\n",
       "album_type              object\n",
       "album_name              object\n",
       "artists                 object\n",
       "duration_ms              int64\n",
       "popularity             float64\n",
       "spotify_url             object\n",
       "dtype: object"
      ]
     },
     "execution_count": 15,
     "metadata": {},
     "output_type": "execute_result"
    }
   ],
   "source": [
    "tracks.dtypes"
   ]
  },
  {
   "cell_type": "markdown",
   "metadata": {},
   "source": [
    "### **Xử lý các bài hát bị trùng lặp**"
   ]
  },
  {
   "cell_type": "markdown",
   "metadata": {},
   "source": [
    "**Mục đích**:  Xử lý các bài hát trùng lặp trong tập dữ liệu dựa trên tên bài hát và nghệ sĩ\n",
    "\n",
    "**Cách thực hiện**:\n",
    "\n",
    "1. Tìm hiểu đếm xem số lượng bài hát trùng lặp\n",
    "2. Dữ liệu được sắp xếp theo release_date và các bài hát trùng lặp dựa trên **`name`**, **`artists`**, **`album_type`** và giữ lại phiên bản phát hành mới nhất"
   ]
  },
  {
   "cell_type": "code",
   "execution_count": 16,
   "metadata": {},
   "outputs": [
    {
     "name": "stdout",
     "output_type": "stream",
     "text": [
      "Số lượng bài hát bị trùng lặp (dựa vào tên bài hát và tên nghệ sĩ): 2326\n"
     ]
    }
   ],
   "source": [
    "print(f'Số lượng bài hát bị trùng lặp (dựa vào tên bài hát và tên nghệ sĩ): {tracks.duplicated(subset=['name', 'artists']).sum()}')"
   ]
  },
  {
   "cell_type": "code",
   "execution_count": 17,
   "metadata": {},
   "outputs": [
    {
     "data": {
      "text/html": [
       "<div>\n",
       "<style scoped>\n",
       "    .dataframe tbody tr th:only-of-type {\n",
       "        vertical-align: middle;\n",
       "    }\n",
       "\n",
       "    .dataframe tbody tr th {\n",
       "        vertical-align: top;\n",
       "    }\n",
       "\n",
       "    .dataframe thead th {\n",
       "        text-align: right;\n",
       "    }\n",
       "</style>\n",
       "<table border=\"1\" class=\"dataframe\">\n",
       "  <thead>\n",
       "    <tr style=\"text-align: right;\">\n",
       "      <th></th>\n",
       "      <th>name</th>\n",
       "      <th>release_date</th>\n",
       "      <th>album_type</th>\n",
       "      <th>album_name</th>\n",
       "      <th>artists</th>\n",
       "      <th>duration_ms</th>\n",
       "      <th>popularity</th>\n",
       "      <th>spotify_url</th>\n",
       "    </tr>\n",
       "  </thead>\n",
       "  <tbody>\n",
       "    <tr>\n",
       "      <th>4</th>\n",
       "      <td>Nàng Thơ</td>\n",
       "      <td>2018-03-01</td>\n",
       "      <td>single</td>\n",
       "      <td>Nàng Thơ</td>\n",
       "      <td>Hoàng Dũng</td>\n",
       "      <td>254476</td>\n",
       "      <td>0.00</td>\n",
       "      <td>https://open.spotify.com/track/2LykruN1mQlg9nu...</td>\n",
       "    </tr>\n",
       "    <tr>\n",
       "      <th>255</th>\n",
       "      <td>Nàng Thơ</td>\n",
       "      <td>2018-03-01</td>\n",
       "      <td>album</td>\n",
       "      <td>25</td>\n",
       "      <td>Hoàng Dũng</td>\n",
       "      <td>254476</td>\n",
       "      <td>0.00</td>\n",
       "      <td>https://open.spotify.com/track/6rVaOdWvFaNyVVX...</td>\n",
       "    </tr>\n",
       "    <tr>\n",
       "      <th>1581</th>\n",
       "      <td>Nàng Thơ</td>\n",
       "      <td>2018-03-01</td>\n",
       "      <td>single</td>\n",
       "      <td>Nàng Thơ</td>\n",
       "      <td>Hoàng Dũng</td>\n",
       "      <td>254476</td>\n",
       "      <td>0.00</td>\n",
       "      <td>https://open.spotify.com/track/2LykruN1mQlg9nu...</td>\n",
       "    </tr>\n",
       "    <tr>\n",
       "      <th>1861</th>\n",
       "      <td>Nàng Thơ</td>\n",
       "      <td>2020-03-08</td>\n",
       "      <td>single</td>\n",
       "      <td>Nàng Thơ</td>\n",
       "      <td>Hoàng Dũng</td>\n",
       "      <td>254476</td>\n",
       "      <td>39.00</td>\n",
       "      <td>https://open.spotify.com/track/1s7d2cdaZuktw5Y...</td>\n",
       "    </tr>\n",
       "    <tr>\n",
       "      <th>3504</th>\n",
       "      <td>Nàng Thơ</td>\n",
       "      <td>2018-03-01</td>\n",
       "      <td>single</td>\n",
       "      <td>Nàng Thơ</td>\n",
       "      <td>Hoàng Dũng</td>\n",
       "      <td>254476</td>\n",
       "      <td>0.00</td>\n",
       "      <td>https://open.spotify.com/track/2LykruN1mQlg9nu...</td>\n",
       "    </tr>\n",
       "    <tr>\n",
       "      <th>3688</th>\n",
       "      <td>Nàng Thơ</td>\n",
       "      <td>2020-12-16</td>\n",
       "      <td>album</td>\n",
       "      <td>25</td>\n",
       "      <td>Hoàng Dũng</td>\n",
       "      <td>254476</td>\n",
       "      <td>49.00</td>\n",
       "      <td>https://open.spotify.com/track/1w3eUC89GPspKpi...</td>\n",
       "    </tr>\n",
       "    <tr>\n",
       "      <th>3907</th>\n",
       "      <td>Nàng Thơ</td>\n",
       "      <td>2020-03-08</td>\n",
       "      <td>single</td>\n",
       "      <td>Nàng Thơ</td>\n",
       "      <td>Hoàng Dũng</td>\n",
       "      <td>254476</td>\n",
       "      <td>39.00</td>\n",
       "      <td>https://open.spotify.com/track/1s7d2cdaZuktw5Y...</td>\n",
       "    </tr>\n",
       "    <tr>\n",
       "      <th>4080</th>\n",
       "      <td>Nàng Thơ</td>\n",
       "      <td>2020-12-16</td>\n",
       "      <td>album</td>\n",
       "      <td>25</td>\n",
       "      <td>Hoàng Dũng</td>\n",
       "      <td>254476</td>\n",
       "      <td>49.00</td>\n",
       "      <td>https://open.spotify.com/track/1w3eUC89GPspKpi...</td>\n",
       "    </tr>\n",
       "    <tr>\n",
       "      <th>4186</th>\n",
       "      <td>Nàng Thơ</td>\n",
       "      <td>2020-12-16</td>\n",
       "      <td>album</td>\n",
       "      <td>25</td>\n",
       "      <td>Hoàng Dũng</td>\n",
       "      <td>254476</td>\n",
       "      <td>49.00</td>\n",
       "      <td>https://open.spotify.com/track/1w3eUC89GPspKpi...</td>\n",
       "    </tr>\n",
       "    <tr>\n",
       "      <th>4246</th>\n",
       "      <td>Nàng Thơ</td>\n",
       "      <td>2020-12-16</td>\n",
       "      <td>album</td>\n",
       "      <td>25</td>\n",
       "      <td>Hoàng Dũng</td>\n",
       "      <td>254476</td>\n",
       "      <td>49.00</td>\n",
       "      <td>https://open.spotify.com/track/1w3eUC89GPspKpi...</td>\n",
       "    </tr>\n",
       "    <tr>\n",
       "      <th>4348</th>\n",
       "      <td>Nàng Thơ</td>\n",
       "      <td>2020-12-16</td>\n",
       "      <td>album</td>\n",
       "      <td>25</td>\n",
       "      <td>Hoàng Dũng</td>\n",
       "      <td>254476</td>\n",
       "      <td>49.00</td>\n",
       "      <td>https://open.spotify.com/track/1w3eUC89GPspKpi...</td>\n",
       "    </tr>\n",
       "    <tr>\n",
       "      <th>4401</th>\n",
       "      <td>Nàng Thơ</td>\n",
       "      <td>2020-12-16</td>\n",
       "      <td>album</td>\n",
       "      <td>25</td>\n",
       "      <td>Hoàng Dũng</td>\n",
       "      <td>254476</td>\n",
       "      <td>49.00</td>\n",
       "      <td>https://open.spotify.com/track/1w3eUC89GPspKpi...</td>\n",
       "    </tr>\n",
       "  </tbody>\n",
       "</table>\n",
       "</div>"
      ],
      "text/plain": [
       "          name release_date album_type album_name     artists  duration_ms  \\\n",
       "4     Nàng Thơ   2018-03-01     single   Nàng Thơ  Hoàng Dũng       254476   \n",
       "255   Nàng Thơ   2018-03-01      album         25  Hoàng Dũng       254476   \n",
       "1581  Nàng Thơ   2018-03-01     single   Nàng Thơ  Hoàng Dũng       254476   \n",
       "1861  Nàng Thơ   2020-03-08     single   Nàng Thơ  Hoàng Dũng       254476   \n",
       "3504  Nàng Thơ   2018-03-01     single   Nàng Thơ  Hoàng Dũng       254476   \n",
       "3688  Nàng Thơ   2020-12-16      album         25  Hoàng Dũng       254476   \n",
       "3907  Nàng Thơ   2020-03-08     single   Nàng Thơ  Hoàng Dũng       254476   \n",
       "4080  Nàng Thơ   2020-12-16      album         25  Hoàng Dũng       254476   \n",
       "4186  Nàng Thơ   2020-12-16      album         25  Hoàng Dũng       254476   \n",
       "4246  Nàng Thơ   2020-12-16      album         25  Hoàng Dũng       254476   \n",
       "4348  Nàng Thơ   2020-12-16      album         25  Hoàng Dũng       254476   \n",
       "4401  Nàng Thơ   2020-12-16      album         25  Hoàng Dũng       254476   \n",
       "\n",
       "      popularity                                        spotify_url  \n",
       "4           0.00  https://open.spotify.com/track/2LykruN1mQlg9nu...  \n",
       "255         0.00  https://open.spotify.com/track/6rVaOdWvFaNyVVX...  \n",
       "1581        0.00  https://open.spotify.com/track/2LykruN1mQlg9nu...  \n",
       "1861       39.00  https://open.spotify.com/track/1s7d2cdaZuktw5Y...  \n",
       "3504        0.00  https://open.spotify.com/track/2LykruN1mQlg9nu...  \n",
       "3688       49.00  https://open.spotify.com/track/1w3eUC89GPspKpi...  \n",
       "3907       39.00  https://open.spotify.com/track/1s7d2cdaZuktw5Y...  \n",
       "4080       49.00  https://open.spotify.com/track/1w3eUC89GPspKpi...  \n",
       "4186       49.00  https://open.spotify.com/track/1w3eUC89GPspKpi...  \n",
       "4246       49.00  https://open.spotify.com/track/1w3eUC89GPspKpi...  \n",
       "4348       49.00  https://open.spotify.com/track/1w3eUC89GPspKpi...  \n",
       "4401       49.00  https://open.spotify.com/track/1w3eUC89GPspKpi...  "
      ]
     },
     "execution_count": 17,
     "metadata": {},
     "output_type": "execute_result"
    }
   ],
   "source": [
    "tracks[tracks['name'] == 'Nàng Thơ']"
   ]
  },
  {
   "cell_type": "code",
   "execution_count": 18,
   "metadata": {},
   "outputs": [],
   "source": [
    "tracks.sort_values(by='release_date', inplace=True)\n",
    "tracks.drop_duplicates(subset=['name', 'artists', 'album_type'], keep='last', inplace=True, ignore_index=True)"
   ]
  },
  {
   "cell_type": "code",
   "execution_count": 19,
   "metadata": {},
   "outputs": [
    {
     "data": {
      "text/html": [
       "<div>\n",
       "<style scoped>\n",
       "    .dataframe tbody tr th:only-of-type {\n",
       "        vertical-align: middle;\n",
       "    }\n",
       "\n",
       "    .dataframe tbody tr th {\n",
       "        vertical-align: top;\n",
       "    }\n",
       "\n",
       "    .dataframe thead th {\n",
       "        text-align: right;\n",
       "    }\n",
       "</style>\n",
       "<table border=\"1\" class=\"dataframe\">\n",
       "  <thead>\n",
       "    <tr style=\"text-align: right;\">\n",
       "      <th></th>\n",
       "      <th>name</th>\n",
       "      <th>release_date</th>\n",
       "      <th>album_type</th>\n",
       "      <th>album_name</th>\n",
       "      <th>artists</th>\n",
       "      <th>duration_ms</th>\n",
       "      <th>popularity</th>\n",
       "      <th>spotify_url</th>\n",
       "    </tr>\n",
       "  </thead>\n",
       "  <tbody>\n",
       "    <tr>\n",
       "      <th>2206</th>\n",
       "      <td>Nàng Thơ</td>\n",
       "      <td>2020-03-08</td>\n",
       "      <td>single</td>\n",
       "      <td>Nàng Thơ</td>\n",
       "      <td>Hoàng Dũng</td>\n",
       "      <td>254476</td>\n",
       "      <td>39.00</td>\n",
       "      <td>https://open.spotify.com/track/1s7d2cdaZuktw5Y...</td>\n",
       "    </tr>\n",
       "    <tr>\n",
       "      <th>2408</th>\n",
       "      <td>Nàng Thơ</td>\n",
       "      <td>2020-12-16</td>\n",
       "      <td>album</td>\n",
       "      <td>25</td>\n",
       "      <td>Hoàng Dũng</td>\n",
       "      <td>254476</td>\n",
       "      <td>49.00</td>\n",
       "      <td>https://open.spotify.com/track/1w3eUC89GPspKpi...</td>\n",
       "    </tr>\n",
       "  </tbody>\n",
       "</table>\n",
       "</div>"
      ],
      "text/plain": [
       "          name release_date album_type album_name     artists  duration_ms  \\\n",
       "2206  Nàng Thơ   2020-03-08     single   Nàng Thơ  Hoàng Dũng       254476   \n",
       "2408  Nàng Thơ   2020-12-16      album         25  Hoàng Dũng       254476   \n",
       "\n",
       "      popularity                                        spotify_url  \n",
       "2206       39.00  https://open.spotify.com/track/1s7d2cdaZuktw5Y...  \n",
       "2408       49.00  https://open.spotify.com/track/1w3eUC89GPspKpi...  "
      ]
     },
     "execution_count": 19,
     "metadata": {},
     "output_type": "execute_result"
    }
   ],
   "source": [
    "tracks[tracks['name'] == 'Nàng Thơ']"
   ]
  },
  {
   "cell_type": "markdown",
   "metadata": {},
   "source": [
    "### **Xử lý các dữ liệu dòng bị thiếu dữ liệu**"
   ]
  },
  {
   "cell_type": "markdown",
   "metadata": {},
   "source": [
    "**Mục đích**: Xử lý các dòng bị thiếu dữ liệu trong tập dữ liệu\n",
    "\n",
    "**Các thực hiện**:\n",
    "\n",
    "1. **Đếm** số lượng giá trị bị thiếu (**NaN**) trong từng cột\n",
    "2. **Kiểm tra** số dòng bị ảnh hưởng để  lựa chọn hướng xử lý các giá trị bị thiếu\n",
    "3. **Kiểm tra** lại các dòng chứa **NaN** được loại bỏ hoàn toàn và dữ liệu để đảm bảo không còn giá trị thiếu"
   ]
  },
  {
   "cell_type": "code",
   "execution_count": 20,
   "metadata": {},
   "outputs": [
    {
     "data": {
      "text/plain": [
       "name             2\n",
       "release_date    30\n",
       "album_type       2\n",
       "album_name       4\n",
       "artists          4\n",
       "duration_ms      0\n",
       "popularity       1\n",
       "spotify_url      1\n",
       "dtype: int64"
      ]
     },
     "execution_count": 20,
     "metadata": {},
     "output_type": "execute_result"
    }
   ],
   "source": [
    "tracks.isna().sum()"
   ]
  },
  {
   "cell_type": "code",
   "execution_count": 21,
   "metadata": {},
   "outputs": [
    {
     "data": {
      "text/plain": [
       "30"
      ]
     },
     "execution_count": 21,
     "metadata": {},
     "output_type": "execute_result"
    }
   ],
   "source": [
    "tracks.shape[0] - tracks.dropna().shape[0]"
   ]
  },
  {
   "cell_type": "markdown",
   "metadata": {},
   "source": [
    "Vì các dữ liệu bị thiếu ở các cột khác đều năm trên những dòng bị thiếu dữ liệu ở **release_date**, nhóm quyết định loại bỏ tất cả các dòng bị thiếu dữ liệu."
   ]
  },
  {
   "cell_type": "code",
   "execution_count": 22,
   "metadata": {},
   "outputs": [],
   "source": [
    "tracks.dropna(inplace=True, ignore_index=True)"
   ]
  },
  {
   "cell_type": "code",
   "execution_count": 23,
   "metadata": {},
   "outputs": [
    {
     "data": {
      "text/plain": [
       "name            0\n",
       "release_date    0\n",
       "album_type      0\n",
       "album_name      0\n",
       "artists         0\n",
       "duration_ms     0\n",
       "popularity      0\n",
       "spotify_url     0\n",
       "dtype: int64"
      ]
     },
     "execution_count": 23,
     "metadata": {},
     "output_type": "execute_result"
    }
   ],
   "source": [
    "tracks.isna().sum()"
   ]
  },
  {
   "cell_type": "markdown",
   "metadata": {},
   "source": [
    "### **Xử lý các dữ liệu bài hát bất hợp lý**"
   ]
  },
  {
   "cell_type": "markdown",
   "metadata": {},
   "source": [
    "**Mục đích**: Lọc và xử lý các bài hát có năm phát hành trước 2000\n",
    "\n",
    "**Cách thực hiện**:\n",
    "1. Kiểm tra một số bài hát có **`release_date`** trước năm **2000**\n",
    "2. Các bài hát có năm phát hành **1900** (có thể là lỗi dữ liệu) được **loại bỏ hoàn\n",
    "toàn**\n",
    "3. Tập dữ liệu được **cập nhật** và **kiểm tra lại kích thước** sau khi xóa các dòng không hợp lệ"
   ]
  },
  {
   "cell_type": "code",
   "execution_count": 24,
   "metadata": {},
   "outputs": [
    {
     "data": {
      "text/html": [
       "<div>\n",
       "<style scoped>\n",
       "    .dataframe tbody tr th:only-of-type {\n",
       "        vertical-align: middle;\n",
       "    }\n",
       "\n",
       "    .dataframe tbody tr th {\n",
       "        vertical-align: top;\n",
       "    }\n",
       "\n",
       "    .dataframe thead th {\n",
       "        text-align: right;\n",
       "    }\n",
       "</style>\n",
       "<table border=\"1\" class=\"dataframe\">\n",
       "  <thead>\n",
       "    <tr style=\"text-align: right;\">\n",
       "      <th></th>\n",
       "      <th>name</th>\n",
       "      <th>release_date</th>\n",
       "      <th>album_type</th>\n",
       "      <th>album_name</th>\n",
       "      <th>artists</th>\n",
       "      <th>duration_ms</th>\n",
       "      <th>popularity</th>\n",
       "      <th>spotify_url</th>\n",
       "    </tr>\n",
       "  </thead>\n",
       "  <tbody>\n",
       "    <tr>\n",
       "      <th>0</th>\n",
       "      <td>Rằm Tháng 7 (feat. R.Tee)</td>\n",
       "      <td>1900-01-01</td>\n",
       "      <td>album</td>\n",
       "      <td>Rap Việt, Vòng 1</td>\n",
       "      <td>RAP VIỆT, Rtee</td>\n",
       "      <td>204521</td>\n",
       "      <td>14.00</td>\n",
       "      <td>https://open.spotify.com/track/5AMPKrIvt28vObl...</td>\n",
       "    </tr>\n",
       "    <tr>\n",
       "      <th>1</th>\n",
       "      <td>Võ Đại Lang Bán Phở</td>\n",
       "      <td>1965-01-01</td>\n",
       "      <td>compilation</td>\n",
       "      <td>Cổ Nhạc Continental 2 - Võ Đại Lang Bán Phở</td>\n",
       "      <td>Hoàng Giang, Kim Quang, Hề Minh, Hoàng Mai, Vă...</td>\n",
       "      <td>821545</td>\n",
       "      <td>0.00</td>\n",
       "      <td>https://open.spotify.com/track/2GwoVKOXGfr4W6Z...</td>\n",
       "    </tr>\n",
       "    <tr>\n",
       "      <th>2</th>\n",
       "      <td>Đắc Kỷ Ho Gà</td>\n",
       "      <td>1965-01-01</td>\n",
       "      <td>compilation</td>\n",
       "      <td>Cổ Nhạc Continental Số 4 - Đắc Kỷ Ho Gà</td>\n",
       "      <td>Ba Vân, Ngọc Nuôi, Tùng Lâm, Tuý Phượng, Văn S...</td>\n",
       "      <td>806080</td>\n",
       "      <td>0.00</td>\n",
       "      <td>https://open.spotify.com/track/7DpFR2UJskYjySh...</td>\n",
       "    </tr>\n",
       "    <tr>\n",
       "      <th>3</th>\n",
       "      <td>Ngày Ấy Quen Nhau</td>\n",
       "      <td>1966-01-01</td>\n",
       "      <td>single</td>\n",
       "      <td>Cổ Nhạc Continental Số 37 - Ánh Sáng Đô Thành</td>\n",
       "      <td>Thanh Nga, Thành Được</td>\n",
       "      <td>478973</td>\n",
       "      <td>0.00</td>\n",
       "      <td>https://open.spotify.com/track/2Y7YWIWBMU09ecV...</td>\n",
       "    </tr>\n",
       "    <tr>\n",
       "      <th>4</th>\n",
       "      <td>Độc Tấu Lục Huyền Cầm</td>\n",
       "      <td>1966-01-01</td>\n",
       "      <td>single</td>\n",
       "      <td>Cổ Nhạc Continental Số 30 - Độc Tấu Thanh Kim</td>\n",
       "      <td>Văn Vĩ</td>\n",
       "      <td>454766</td>\n",
       "      <td>0.00</td>\n",
       "      <td>https://open.spotify.com/track/4MkNq7OlJDYT0rf...</td>\n",
       "    </tr>\n",
       "  </tbody>\n",
       "</table>\n",
       "</div>"
      ],
      "text/plain": [
       "                        name release_date   album_type  \\\n",
       "0  Rằm Tháng 7 (feat. R.Tee)   1900-01-01        album   \n",
       "1        Võ Đại Lang Bán Phở   1965-01-01  compilation   \n",
       "2               Đắc Kỷ Ho Gà   1965-01-01  compilation   \n",
       "3          Ngày Ấy Quen Nhau   1966-01-01       single   \n",
       "4      Độc Tấu Lục Huyền Cầm   1966-01-01       single   \n",
       "\n",
       "                                      album_name  \\\n",
       "0                               Rap Việt, Vòng 1   \n",
       "1    Cổ Nhạc Continental 2 - Võ Đại Lang Bán Phở   \n",
       "2        Cổ Nhạc Continental Số 4 - Đắc Kỷ Ho Gà   \n",
       "3  Cổ Nhạc Continental Số 37 - Ánh Sáng Đô Thành   \n",
       "4  Cổ Nhạc Continental Số 30 - Độc Tấu Thanh Kim   \n",
       "\n",
       "                                             artists  duration_ms  popularity  \\\n",
       "0                                     RAP VIỆT, Rtee       204521       14.00   \n",
       "1  Hoàng Giang, Kim Quang, Hề Minh, Hoàng Mai, Vă...       821545        0.00   \n",
       "2  Ba Vân, Ngọc Nuôi, Tùng Lâm, Tuý Phượng, Văn S...       806080        0.00   \n",
       "3                              Thanh Nga, Thành Được       478973        0.00   \n",
       "4                                             Văn Vĩ       454766        0.00   \n",
       "\n",
       "                                         spotify_url  \n",
       "0  https://open.spotify.com/track/5AMPKrIvt28vObl...  \n",
       "1  https://open.spotify.com/track/2GwoVKOXGfr4W6Z...  \n",
       "2  https://open.spotify.com/track/7DpFR2UJskYjySh...  \n",
       "3  https://open.spotify.com/track/2Y7YWIWBMU09ecV...  \n",
       "4  https://open.spotify.com/track/4MkNq7OlJDYT0rf...  "
      ]
     },
     "execution_count": 24,
     "metadata": {},
     "output_type": "execute_result"
    }
   ],
   "source": [
    "tracks[tracks['release_date'].dt.year < 2000].head()"
   ]
  },
  {
   "cell_type": "markdown",
   "metadata": {},
   "source": [
    "Bài hát ***Rằm Tháng 7*** ra đời năm **1900** là bất hợp lý vì chương trình Rap Việt lần đầu được công chiếu vào ngày **01/08/2020**."
   ]
  },
  {
   "cell_type": "code",
   "execution_count": 25,
   "metadata": {},
   "outputs": [],
   "source": [
    "tracks = tracks.drop(index=tracks[tracks['release_date'].dt.year == 1900].index).reset_index(drop=True)"
   ]
  },
  {
   "cell_type": "code",
   "execution_count": 26,
   "metadata": {},
   "outputs": [
    {
     "data": {
      "text/plain": [
       "(3721, 8)"
      ]
     },
     "execution_count": 26,
     "metadata": {},
     "output_type": "execute_result"
    }
   ],
   "source": [
    "tracks.shape"
   ]
  },
  {
   "cell_type": "markdown",
   "metadata": {},
   "source": [
    "### **Tổng quan về dữ liệu (sau khi xử lý)**"
   ]
  },
  {
   "cell_type": "code",
   "execution_count": 27,
   "metadata": {},
   "outputs": [
    {
     "name": "stdout",
     "output_type": "stream",
     "text": [
      "<class 'pandas.core.frame.DataFrame'>\n",
      "RangeIndex: 3721 entries, 0 to 3720\n",
      "Data columns (total 8 columns):\n",
      " #   Column        Non-Null Count  Dtype         \n",
      "---  ------        --------------  -----         \n",
      " 0   name          3721 non-null   object        \n",
      " 1   release_date  3721 non-null   datetime64[ns]\n",
      " 2   album_type    3721 non-null   object        \n",
      " 3   album_name    3721 non-null   object        \n",
      " 4   artists       3721 non-null   object        \n",
      " 5   duration_ms   3721 non-null   int64         \n",
      " 6   popularity    3721 non-null   float64       \n",
      " 7   spotify_url   3721 non-null   object        \n",
      "dtypes: datetime64[ns](1), float64(1), int64(1), object(5)\n",
      "memory usage: 232.7+ KB\n"
     ]
    }
   ],
   "source": [
    "tracks.info()"
   ]
  },
  {
   "cell_type": "markdown",
   "metadata": {},
   "source": [
    "**Nhận xét về dữ liệu vietnamese_songs sau khi xử lý**\n",
    "- Dữ liệu còn *3721* dòng và *8* thuộc tính (cột)\n",
    "- Không có thuộc tính (cột) nào bị thiếu giá trị\n",
    "- **`release_date`** đã được chuyển sang kiểu dữ liệu **`datatime`**"
   ]
  },
  {
   "cell_type": "code",
   "execution_count": 28,
   "metadata": {},
   "outputs": [
    {
     "name": "stdout",
     "output_type": "stream",
     "text": [
      "<class 'pandas.core.frame.DataFrame'>\n",
      "RangeIndex: 1472 entries, 0 to 1471\n",
      "Data columns (total 4 columns):\n",
      " #   Column       Non-Null Count  Dtype \n",
      "---  ------       --------------  ----- \n",
      " 0   name         1472 non-null   object\n",
      " 1   followers    1472 non-null   int64 \n",
      " 2   popularity   1472 non-null   int64 \n",
      " 3   spotify_url  1472 non-null   object\n",
      "dtypes: int64(2), object(2)\n",
      "memory usage: 46.1+ KB\n"
     ]
    }
   ],
   "source": [
    "artists.info()"
   ]
  },
  {
   "cell_type": "markdown",
   "metadata": {},
   "source": [
    "**Nhận xét về dữ liệu artists_info sau khi xử lý**\n",
    "- Dữ liệu có *1472* dòng và *4* thuộc tính (cột)\n",
    "- Không có cột nào bị thiếu giá trị"
   ]
  },
  {
   "cell_type": "markdown",
   "metadata": {},
   "source": [
    "## **Các câu hỏi**"
   ]
  },
  {
   "cell_type": "markdown",
   "metadata": {},
   "source": [
    "#### **Câu 1**: Tần suất phát hành nhạc tại thị trường âm nhạc Việt Nam trong 25 năm trở lại đây (từ 2000 đến 2024)?\n",
    "\n",
    "**Các bước thực hiện**:\n",
    "1. Lọc dữ liệu các bài hát phát hành từ năm 2000 đến 2024\n",
    "2. Vẽ biểu đồ đường thể hiện xu hướng phát hành nhạc theo thời gian\n",
    "3. Tùy chỉnh trục, nhãn và tiêu đề cho biểu đồ\n",
    "4. Lưu biểu đồ dưới định dạng SVG và hiển thị kết quả\n",
    "5. Viết nhận xé"
   ]
  },
  {
   "cell_type": "code",
   "execution_count": 29,
   "metadata": {},
   "outputs": [
    {
     "data": {
      "text/plain": [
       "release_date\n",
       "2000    31\n",
       "2001    76\n",
       "2002    39\n",
       "2003    74\n",
       "2004    23\n",
       "Name: count, dtype: int64"
      ]
     },
     "execution_count": 29,
     "metadata": {},
     "output_type": "execute_result"
    }
   ],
   "source": [
    "tracks_2000_2024 = tracks[tracks['release_date'].dt.year.between(2000, 2024)]['release_date'].dt.year.value_counts().sort_index()\n",
    "tracks_2000_2024.head()"
   ]
  },
  {
   "cell_type": "code",
   "execution_count": 30,
   "metadata": {},
   "outputs": [
    {
     "data": {
      "image/png": "[encoded data removed]",
      "text/plain": [
       "<Figure size 1800x600 with 1 Axes>"
      ]
     },
     "metadata": {},
     "output_type": "display_data"
    }
   ],
   "source": [
    "plt.figure(figsize=(18, 6))\n",
    "\n",
    "sns.lineplot(x=tracks_2000_2024.index, y=tracks_2000_2024.values, marker='o', color='b', linewidth=2)\n",
    "\n",
    "plt.xlabel(xlabel='Năm phát hành', fontsize=12)\n",
    "plt.ylabel(ylabel='Số lượng bài hát', fontsize=12)\n",
    "plt.title(label='Tần suất phát hành nhạc tại thị trường âm nhạc Việt Nam trong giai đoạn 2000 - 2024', fontsize=14)\n",
    "\n",
    "plt.xticks(ticks=range(2000, 2025, 1))\n",
    "plt.yticks(ticks=range(0, 501, 50))\n",
    "\n",
    "plt.grid(axis='y')\n",
    "\n",
    "plt.savefig(\"vietnam_music_release_trend.svg\", format=\"svg\", dpi=300)\n",
    "plt.show()"
   ]
  },
  {
   "cell_type": "markdown",
   "metadata": {},
   "source": [
    "**Nhận xét về tần suất phát hành nhạc tại thị trường âm nhạc Việt Nam trong 25 năm trở lại đây (2000 - 2024)**\n",
    "\n",
    "- Trong giai đoạn **2000 - 2014** thì số lượng bài hát phát hành hàng năm **khá thấp** và **không có sự tăng trưởng rõ ràng**\n",
    "- Trong giai đoạn **2015 - 2018** cho thấy xu hướng phát hành nhạc **tăng đột biến**, đặc biệt là **năm 2018** với số lượng bài hát đạt mức **cao nhất** (**450 bài**)\n",
    "- **Sau năm 2018**, số lượng bài hát **giảm mạnh vào năm 2019** nhưng từ năm **2020** **trở đi**, số lượng phát hành dần **tăng trở lại** và **duy trì ổn định** ở mức cao hơn so với trước 2015\n",
    "- Xu hướng phát hành nhạc tại Việt Nam đang có dấu hiệu **phục hồi sau giai đoạn biến động mạnh từ 2018 - 2019**"
   ]
  },
  {
   "cell_type": "markdown",
   "metadata": {},
   "source": [
    "#### **Câu 2:** Phân bố thời lượng các bài hát trên Spotify tại thị trường âm nhạc Việt Nam như thế nào?\n",
    "\n",
    "**Các bước thực hiện**:\n",
    "1. Chuyển đổi dữ liệu thời lượng bài hát\n",
    "2. Vẽ biểu đồ histogram thể hiện phân bố thời lượng bài hát\n",
    "3. Tùy chỉnh trục, nhãn và tiêu đề cho biểu đồ\n",
    "4. Hiển thị biểu đồ kết quả\n",
    "5. Viết nhận xét"
   ]
  },
  {
   "cell_type": "code",
   "execution_count": 31,
   "metadata": {},
   "outputs": [],
   "source": [
    "tracks['duration_min'] = tracks['duration_ms'] / 60000  "
   ]
  },
  {
   "cell_type": "code",
   "execution_count": 32,
   "metadata": {},
   "outputs": [
    {
     "data": {
      "image/png": "[encoded data removed]",
      "text/plain": [
       "<Figure size 1000x600 with 1 Axes>"
      ]
     },
     "metadata": {},
     "output_type": "display_data"
    }
   ],
   "source": [
    "plt.figure(figsize=(10, 6))\n",
    "sns.histplot(tracks['duration_min'], bins=50, kde=True)\n",
    "\n",
    "plt.title(\"Phân bố thời lượng bài hát trên Spotify tại Việt Nam\", fontsize=14)\n",
    "plt.xlabel(\"Thời lượng bài hát (phút)\", fontsize=12)\n",
    "plt.ylabel(\"Số lượng bài hát\", fontsize=12)\n",
    "\n",
    "plt.savefig(\"song-time-distribution.svg\", format=\"svg\", dpi=300)\n",
    "plt.show()"
   ]
  },
  {
   "cell_type": "markdown",
   "metadata": {},
   "source": [
    "**Nhận xét về phân bố thời lượng bài hát trên Spotify tại Việt Nam**\n",
    "\n",
    "- **Thời lượng trung bình** của bài hát trên Spotify tại Việt Nam thường dao động trong khoảng **3 - 4 phút** và các bài hát có **thời lượng trên 10 phút** là **vô cùng ít**\n",
    "\n",
    "- **Phân phối lệch phải** cho thấy phần lớn bài hát có **độ dài ngắn**, chỉ một số ít bài hát có độ dài vượt trội và xu hướng này phù hợp với xu hướng nghe nhạc trực tuyến, khi người dùng **có xu hướng ưa chuộng các bài hát có độ dài tiêu chuẩn** (3 - 4 phút) thay vì các bài hát quá dài"
   ]
  },
  {
   "cell_type": "markdown",
   "metadata": {},
   "source": [
    "#### **Câu 3:**  Những nghệ sĩ nào phát hành nhiều bài hát nhất trên Spotify tại thị trường âm nhạc Việt Nam trong năm 2024?\n",
    "\n",
    "**Các bước thực hiện**:\n",
    "1. Lọc dữ liệu bài hát phát hành trong năm 2024\n",
    "2. Tách danh sách nghệ sĩ và đếm số bài hát của từng nghệ sĩ\n",
    "3. Vẽ biểu đồ barplot thể hiện nghệ sĩ có nhiều bài hát nhất\n",
    "4. Tùy chỉnh trục, nhãn và tiêu đề cho biểu đồ\n",
    "5. Lưu và hiển thị biểu đồ\n",
    "6. Viết nhận xét"
   ]
  },
  {
   "cell_type": "code",
   "execution_count": 33,
   "metadata": {},
   "outputs": [
    {
     "data": {
      "text/html": [
       "<div>\n",
       "<style scoped>\n",
       "    .dataframe tbody tr th:only-of-type {\n",
       "        vertical-align: middle;\n",
       "    }\n",
       "\n",
       "    .dataframe tbody tr th {\n",
       "        vertical-align: top;\n",
       "    }\n",
       "\n",
       "    .dataframe thead th {\n",
       "        text-align: right;\n",
       "    }\n",
       "</style>\n",
       "<table border=\"1\" class=\"dataframe\">\n",
       "  <thead>\n",
       "    <tr style=\"text-align: right;\">\n",
       "      <th></th>\n",
       "      <th>artists</th>\n",
       "      <th>count</th>\n",
       "    </tr>\n",
       "  </thead>\n",
       "  <tbody>\n",
       "    <tr>\n",
       "      <th>0</th>\n",
       "      <td>Hoa Tau</td>\n",
       "      <td>74</td>\n",
       "    </tr>\n",
       "    <tr>\n",
       "      <th>1</th>\n",
       "      <td>Bảo Quốc</td>\n",
       "      <td>22</td>\n",
       "    </tr>\n",
       "    <tr>\n",
       "      <th>2</th>\n",
       "      <td>Trọng Hữu</td>\n",
       "      <td>22</td>\n",
       "    </tr>\n",
       "    <tr>\n",
       "      <th>3</th>\n",
       "      <td>Phượng Liên</td>\n",
       "      <td>19</td>\n",
       "    </tr>\n",
       "    <tr>\n",
       "      <th>4</th>\n",
       "      <td>Thanh Nga</td>\n",
       "      <td>19</td>\n",
       "    </tr>\n",
       "    <tr>\n",
       "      <th>...</th>\n",
       "      <td>...</td>\n",
       "      <td>...</td>\n",
       "    </tr>\n",
       "    <tr>\n",
       "      <th>291</th>\n",
       "      <td>Thanh Nhàn</td>\n",
       "      <td>1</td>\n",
       "    </tr>\n",
       "    <tr>\n",
       "      <th>292</th>\n",
       "      <td>Trang Kim Anh</td>\n",
       "      <td>1</td>\n",
       "    </tr>\n",
       "    <tr>\n",
       "      <th>293</th>\n",
       "      <td>Tài Lương</td>\n",
       "      <td>1</td>\n",
       "    </tr>\n",
       "    <tr>\n",
       "      <th>294</th>\n",
       "      <td>TDK</td>\n",
       "      <td>1</td>\n",
       "    </tr>\n",
       "    <tr>\n",
       "      <th>295</th>\n",
       "      <td>TGSN</td>\n",
       "      <td>1</td>\n",
       "    </tr>\n",
       "  </tbody>\n",
       "</table>\n",
       "<p>296 rows × 2 columns</p>\n",
       "</div>"
      ],
      "text/plain": [
       "           artists  count\n",
       "0          Hoa Tau     74\n",
       "1         Bảo Quốc     22\n",
       "2        Trọng Hữu     22\n",
       "3      Phượng Liên     19\n",
       "4        Thanh Nga     19\n",
       "..             ...    ...\n",
       "291     Thanh Nhàn      1\n",
       "292  Trang Kim Anh      1\n",
       "293      Tài Lương      1\n",
       "294            TDK      1\n",
       "295           TGSN      1\n",
       "\n",
       "[296 rows x 2 columns]"
      ]
     },
     "execution_count": 33,
     "metadata": {},
     "output_type": "execute_result"
    }
   ],
   "source": [
    "tracks_2024 = tracks[tracks['release_date'].dt.year == 2024]\n",
    "tracks_by_artist_2024 = tracks_2024['artists'].str.split(pat=', ').explode().str.strip().value_counts().reset_index()\n",
    "tracks_by_artist_2024"
   ]
  },
  {
   "cell_type": "code",
   "execution_count": 34,
   "metadata": {},
   "outputs": [
    {
     "data": {
      "image/png": "[encoded data removed]",
      "text/plain": [
       "<Figure size 1500x350 with 1 Axes>"
      ]
     },
     "metadata": {},
     "output_type": "display_data"
    }
   ],
   "source": [
    "plt.figure(figsize=(15, 3.5))\n",
    "\n",
    "sns.barplot(data=tracks_by_artist_2024.head(n=10), x='count', y='artists', hue='artists', orient='h',\n",
    "            palette=['#e36f09' if count > 60 else '#191d9c' for count in tracks_by_artist_2024['count'].head(n=10)])\n",
    "\n",
    "plt.xlabel(xlabel='Số lượng bài hát', fontsize=12)\n",
    "plt.ylabel(ylabel='Nghệ sĩ', fontsize=12)\n",
    "plt.title(label='10 nghệ sĩ phát hành nhiều bài hát nhất trên Spotify tại thị trường âm nhạc Việt Nam trong năm 2024', fontsize=14)\n",
    "\n",
    "plt.savefig(\"top_artists.svg\", format=\"svg\", dpi=300)\n",
    "plt.show()"
   ]
  },
  {
   "cell_type": "markdown",
   "metadata": {},
   "source": [
    "**Nhận xét về 10 nghệ sĩ phát hành nhiều bài hát nhất trên Spotify tại thị trường âm nhạc Việt Nam trong năm 2024**\n",
    "\n",
    "- **Hoa Tau** có số lượng bài hát phát hành **cao nhất**, vượt xa các nghệ sĩ còn lại với **hơn 75 bài hát** và **khoảng cách** giữa **Hoa Tau** và **nghệ sĩ đứng thứ hai** (Bảo Quốc & Trọng Hữu) là **rất lớn**\n",
    "- Từ vị trí thứ 2 đến thứ 10, **số lượng bài hát** dao động trong khoảng **15 - 25 bài** hát và **cũng khá đồng đều**"
   ]
  },
  {
   "cell_type": "markdown",
   "metadata": {},
   "source": [
    "#### **Câu 4:** Tỉ lệ các loại album trên Spotify tại thị trường âm nhạc Việt Nam như thế nào?\n",
    "\n",
    "**Các bước thực hiện**:\n",
    "1. Đếm số lượng từng loại album\n",
    "2. Vẽ biểu đồ tròn (pie chart) thể hiện tỉ lệ từng loại album\n",
    "3. Tùy chỉnh tiêu đề và bố cục biểu đồ\n",
    "4. Lưu và hiển thị biểu đồ\n",
    "5. Viết nhận xét"
   ]
  },
  {
   "cell_type": "code",
   "execution_count": 35,
   "metadata": {},
   "outputs": [
    {
     "data": {
      "image/png": "[encoded data removed]",
      "text/plain": [
       "<Figure size 800x600 with 1 Axes>"
      ]
     },
     "metadata": {},
     "output_type": "display_data"
    }
   ],
   "source": [
    "tracks['album_type'].value_counts().plot.pie(\n",
    "    labels=['Đĩa đơn', 'Album', 'Tuyển tập/Liên khúc'],\n",
    "    autopct='%1.1f%%',\n",
    "    startangle=90,\n",
    "    figsize=(8, 6),\n",
    "    explode=(0.1, 0, 0),\n",
    "    colors=['#e82413', '#3bc423', '#232fcf'],\n",
    "    textprops={'fontsize': 12, 'fontweight': 'bold'},\n",
    ")\n",
    "\n",
    "plt.title(label='Tỉ lệ các loại album trên Spotify tại thị trường âm nhạc Việt Nam', fontsize=14)\n",
    "plt.ylabel(ylabel='')\n",
    "\n",
    "plt.tight_layout()\n",
    "plt.savefig(\"album_type_percentage.svg\", format=\"svg\", dpi=300)\n",
    "plt.show()"
   ]
  },
  {
   "cell_type": "markdown",
   "metadata": {},
   "source": [
    "**Nhận xét về tỉ lệ các loại album trên Spotify tại thị trường âm nhạc Việt Nam**\n",
    "\n",
    "- **Đĩa đơn** chiếm **phần lớn 44.1%** cho thấy **xu hướng phát hành nhạc** hiện đại **tập trung vào từng bài hát riêng lẻ** thay vì album hoàn chỉnh\n",
    "- **Tuyển tập/Liên khúc** chiếm **18.4%** cho thấy tính **ít phổ biến hơn**, có thể do đặc thù của loại album này chủ yếu được phát hành theo *sự kiện* hoặc bởi *các hãng thu âm lớn*"
   ]
  },
  {
   "cell_type": "markdown",
   "metadata": {},
   "source": [
    "#### **Câu 5:** Phân bố số lượng người theo dõi và độ phổ biến của các nghệ sĩ trên Spotify tại thị trường âm nhạc Việt Nam như thế nào?\n",
    "\n",
    "**Các bước thực hiện**:\n",
    "1. Sử dụng dữ liệu followers và popularity từ bảng artists\n",
    "2. Vẽ biểu đồ scatter plot\n",
    "3. Tùy chỉnh biểu đồ\n",
    "4. Tinh chỉnh bố cục và lưu biểu đồ\n",
    "5. Viết nhận xét"
   ]
  },
  {
   "cell_type": "code",
   "execution_count": 36,
   "metadata": {},
   "outputs": [
    {
     "data": {
      "image/png": "[encoded data removed]",
      "text/plain": [
       "<Figure size 1500x600 with 1 Axes>"
      ]
     },
     "metadata": {},
     "output_type": "display_data"
    }
   ],
   "source": [
    "plt.figure(figsize=(15, 6))\n",
    "\n",
    "sns.scatterplot(data=artists, x='followers', y='popularity')\n",
    "\n",
    "plt.xlabel(xlabel='Số lượng người theo dõi (triệu người)', fontsize=12)\n",
    "plt.ylabel(ylabel='Độ phổ biến', fontsize=12)\n",
    "plt.title(label='Phân bố số lượng người theo dõi và độ phổ biến của các nghệ sĩ trên Spotify tại thị trường âm nhạc Việt Nam hiện nay', fontsize=14)\n",
    "\n",
    "plt.xticks(ticks=range(0, 25000001, 5000000), labels=[f'{i}' for i in range(0, 26, 5)])\n",
    "plt.yticks(ticks=range(0, 101, 20))\n",
    "plt.ylim(bottom=-5, top=105)\n",
    "\n",
    "plt.tight_layout()\n",
    "plt.savefig(\"followers_popularity_distribution.svg\", format=\"svg\", dpi=300)\n",
    "plt.show()"
   ]
  },
  {
   "cell_type": "markdown",
   "metadata": {},
   "source": [
    "**Nhận xét về phân bố số lượng người theo dõi và độ phổ biến của các nghệ sĩ trên Spotify tại thị trường âm nhạc Việt Nam hiện nay**\n",
    "\n",
    "- **Phần lớn nghệ sĩ** có số lượng người theo dõi **khá thấp** (**dưới 1 triệu**) nhưng vẫn có **độ phổ biến trung bình đến cao** bên cạnh đó là một số **ít nghệ sĩ** có lượng theo dõi **rất cao** (**>10 triệu**) và **độ phổ biến cũng cao**\n",
    "- Có một số điểm dữ liệu **nằm rải rác**, thể hiện **các nghệ sĩ có lượng người theo dõi cao** nhưng **độ phổ biến không quá nổi bật**, hoặc ngược lại\n",
    "- Vì thế, nhìn chung, **độ phổ biến** không chỉ phụ thuộc vào **số người theo dõi** mà còn bị **ảnh hưởng bởi các yếu tố khác** như *tần suất ra nhạc*, *mức độ viral của bài hát*,..."
   ]
  },
  {
   "cell_type": "markdown",
   "metadata": {},
   "source": [
    "#### **Câu 6:** Gom nhóm nghệ sĩ và đưa gợi ý về chiến lược phát triển cho từng nhóm\n",
    "\n",
    "**Các bước thực hiện**:\n",
    "1. Chuẩn bị dữ liệu bằng việc chọn các thuộc tính followers (số lượng người theo dõi) và\n",
    "popularity (độ phổ biến) để phân cụm\n",
    "2. Chuẩn hóa dữ liệu\n",
    "3. Xác định số cụm tối ưu\n",
    "4.  Áp dụng thuật toán K-Means với k = ?\n",
    "5. Minh họa phân cụm bằng biểu đồ violin plot\n",
    "6. Đề xuất chiến lược phát triển cho từng nhóm"
   ]
  },
  {
   "cell_type": "code",
   "execution_count": 37,
   "metadata": {},
   "outputs": [
    {
     "data": {
      "text/html": [
       "<div>\n",
       "<style scoped>\n",
       "    .dataframe tbody tr th:only-of-type {\n",
       "        vertical-align: middle;\n",
       "    }\n",
       "\n",
       "    .dataframe tbody tr th {\n",
       "        vertical-align: top;\n",
       "    }\n",
       "\n",
       "    .dataframe thead th {\n",
       "        text-align: right;\n",
       "    }\n",
       "</style>\n",
       "<table border=\"1\" class=\"dataframe\">\n",
       "  <thead>\n",
       "    <tr style=\"text-align: right;\">\n",
       "      <th></th>\n",
       "      <th>followers</th>\n",
       "      <th>popularity</th>\n",
       "    </tr>\n",
       "  </thead>\n",
       "  <tbody>\n",
       "    <tr>\n",
       "      <th>0</th>\n",
       "      <td>0</td>\n",
       "      <td>0</td>\n",
       "    </tr>\n",
       "    <tr>\n",
       "      <th>1</th>\n",
       "      <td>50154</td>\n",
       "      <td>43</td>\n",
       "    </tr>\n",
       "    <tr>\n",
       "      <th>2</th>\n",
       "      <td>2</td>\n",
       "      <td>0</td>\n",
       "    </tr>\n",
       "    <tr>\n",
       "      <th>3</th>\n",
       "      <td>128</td>\n",
       "      <td>4</td>\n",
       "    </tr>\n",
       "    <tr>\n",
       "      <th>4</th>\n",
       "      <td>19887</td>\n",
       "      <td>13</td>\n",
       "    </tr>\n",
       "    <tr>\n",
       "      <th>...</th>\n",
       "      <td>...</td>\n",
       "      <td>...</td>\n",
       "    </tr>\n",
       "    <tr>\n",
       "      <th>1467</th>\n",
       "      <td>1176658</td>\n",
       "      <td>62</td>\n",
       "    </tr>\n",
       "    <tr>\n",
       "      <th>1468</th>\n",
       "      <td>778</td>\n",
       "      <td>17</td>\n",
       "    </tr>\n",
       "    <tr>\n",
       "      <th>1469</th>\n",
       "      <td>479164</td>\n",
       "      <td>44</td>\n",
       "    </tr>\n",
       "    <tr>\n",
       "      <th>1470</th>\n",
       "      <td>295725</td>\n",
       "      <td>41</td>\n",
       "    </tr>\n",
       "    <tr>\n",
       "      <th>1471</th>\n",
       "      <td>1420392</td>\n",
       "      <td>65</td>\n",
       "    </tr>\n",
       "  </tbody>\n",
       "</table>\n",
       "<p>1472 rows × 2 columns</p>\n",
       "</div>"
      ],
      "text/plain": [
       "      followers  popularity\n",
       "0             0           0\n",
       "1         50154          43\n",
       "2             2           0\n",
       "3           128           4\n",
       "4         19887          13\n",
       "...         ...         ...\n",
       "1467    1176658          62\n",
       "1468        778          17\n",
       "1469     479164          44\n",
       "1470     295725          41\n",
       "1471    1420392          65\n",
       "\n",
       "[1472 rows x 2 columns]"
      ]
     },
     "execution_count": 37,
     "metadata": {},
     "output_type": "execute_result"
    }
   ],
   "source": [
    "features = artists.loc[:, ['followers', 'popularity']]\n",
    "features"
   ]
  },
  {
   "cell_type": "code",
   "execution_count": 38,
   "metadata": {},
   "outputs": [
    {
     "data": {
      "text/plain": [
       "array([[-0.1252283 , -1.3797145 ],\n",
       "       [-0.08103981,  0.98299339],\n",
       "       [-0.12522654, -1.3797145 ],\n",
       "       ...,\n",
       "       [ 0.29694212,  1.03794008],\n",
       "       [ 0.13532205,  0.8731    ],\n",
       "       [ 1.12621691,  2.19182068]], shape=(1472, 2))"
      ]
     },
     "execution_count": 38,
     "metadata": {},
     "output_type": "execute_result"
    }
   ],
   "source": [
    "features_scaled = StandardScaler().fit_transform(features)\n",
    "features_scaled"
   ]
  },
  {
   "cell_type": "code",
   "execution_count": 39,
   "metadata": {},
   "outputs": [
    {
     "data": {
      "image/png": "[encoded data removed]",
      "text/plain": [
       "<Figure size 1500x600 with 2 Axes>"
      ]
     },
     "metadata": {},
     "output_type": "display_data"
    }
   ],
   "source": [
    "inertias = []\n",
    "silhouette_scores = []\n",
    "k_values = range(2, 13)\n",
    "\n",
    "for k in k_values:\n",
    "    kmeans = KMeans(n_clusters=k, random_state=2, max_iter=1000)\n",
    "    cluster_labels = kmeans.fit_predict(features_scaled)\n",
    "    silhouette_scores.append(silhouette_score(features_scaled, cluster_labels))\n",
    "    inertias.append(kmeans.inertia_)\n",
    "\n",
    "fig, axes = plt.subplots(nrows=1, ncols=2, figsize=(15, 6))\n",
    "axes[0].plot(k_values, inertias, marker='o')\n",
    "axes[0].set_title(label='Inertia cho các giá trị k khác nhau')\n",
    "axes[0].set_xlabel(xlabel='Số cụm (k)')\n",
    "axes[0].set_ylabel(ylabel='Inertia')\n",
    "axes[0].set_xticks(ticks=k_values)\n",
    "\n",
    "axes[1].plot(k_values, silhouette_scores, marker='o', color='orange')\n",
    "axes[1].set_title('Điểm silhouette cho các giá trị k khác nhau')\n",
    "axes[1].set_xlabel(xlabel='Số cụm (k)')\n",
    "axes[1].set_ylabel(ylabel='Điểm silhouette')\n",
    "axes[1].set_xticks(ticks=k_values)\n",
    "\n",
    "plt.savefig(\"inertia.svg\", format=\"svg\", dpi=300)\n",
    "plt.show()"
   ]
  },
  {
   "cell_type": "code",
   "execution_count": 40,
   "metadata": {},
   "outputs": [
    {
     "data": {
      "text/plain": [
       "array([0, 2, 0, ..., 2, 2, 2], shape=(1472,), dtype=int32)"
      ]
     },
     "execution_count": 40,
     "metadata": {},
     "output_type": "execute_result"
    }
   ],
   "source": [
    "kmeans = KMeans(n_clusters=3, random_state=2, max_iter=1000)\n",
    "cluster_labels = kmeans.fit_predict(features_scaled)\n",
    "cluster_labels"
   ]
  },
  {
   "cell_type": "code",
   "execution_count": 41,
   "metadata": {},
   "outputs": [
    {
     "data": {
      "text/html": [
       "<div>\n",
       "<style scoped>\n",
       "    .dataframe tbody tr th:only-of-type {\n",
       "        vertical-align: middle;\n",
       "    }\n",
       "\n",
       "    .dataframe tbody tr th {\n",
       "        vertical-align: top;\n",
       "    }\n",
       "\n",
       "    .dataframe thead th {\n",
       "        text-align: right;\n",
       "    }\n",
       "</style>\n",
       "<table border=\"1\" class=\"dataframe\">\n",
       "  <thead>\n",
       "    <tr style=\"text-align: right;\">\n",
       "      <th></th>\n",
       "      <th>name</th>\n",
       "      <th>followers</th>\n",
       "      <th>popularity</th>\n",
       "      <th>spotify_url</th>\n",
       "      <th>cluster</th>\n",
       "    </tr>\n",
       "  </thead>\n",
       "  <tbody>\n",
       "    <tr>\n",
       "      <th>0</th>\n",
       "      <td>Phi Thoàn</td>\n",
       "      <td>0</td>\n",
       "      <td>0</td>\n",
       "      <td>https://open.spotify.com/artist/2aTU3x15AENbho...</td>\n",
       "      <td>0</td>\n",
       "    </tr>\n",
       "    <tr>\n",
       "      <th>1</th>\n",
       "      <td>D Blue</td>\n",
       "      <td>50154</td>\n",
       "      <td>43</td>\n",
       "      <td>https://open.spotify.com/artist/7JRDlOAUMJuLKm...</td>\n",
       "      <td>2</td>\n",
       "    </tr>\n",
       "    <tr>\n",
       "      <th>2</th>\n",
       "      <td>Tridang</td>\n",
       "      <td>2</td>\n",
       "      <td>0</td>\n",
       "      <td>https://open.spotify.com/artist/7ooiucbWXydMWY...</td>\n",
       "      <td>0</td>\n",
       "    </tr>\n",
       "    <tr>\n",
       "      <th>3</th>\n",
       "      <td>Redshine</td>\n",
       "      <td>128</td>\n",
       "      <td>4</td>\n",
       "      <td>https://open.spotify.com/artist/6V2hxt1eky76f5...</td>\n",
       "      <td>0</td>\n",
       "    </tr>\n",
       "    <tr>\n",
       "      <th>4</th>\n",
       "      <td>Uyên Trang</td>\n",
       "      <td>19887</td>\n",
       "      <td>13</td>\n",
       "      <td>https://open.spotify.com/artist/5ZTYPfGq5HTtBj...</td>\n",
       "      <td>0</td>\n",
       "    </tr>\n",
       "  </tbody>\n",
       "</table>\n",
       "</div>"
      ],
      "text/plain": [
       "         name  followers  popularity  \\\n",
       "0   Phi Thoàn          0           0   \n",
       "1      D Blue      50154          43   \n",
       "2     Tridang          2           0   \n",
       "3    Redshine        128           4   \n",
       "4  Uyên Trang      19887          13   \n",
       "\n",
       "                                         spotify_url  cluster  \n",
       "0  https://open.spotify.com/artist/2aTU3x15AENbho...        0  \n",
       "1  https://open.spotify.com/artist/7JRDlOAUMJuLKm...        2  \n",
       "2  https://open.spotify.com/artist/7ooiucbWXydMWY...        0  \n",
       "3  https://open.spotify.com/artist/6V2hxt1eky76f5...        0  \n",
       "4  https://open.spotify.com/artist/5ZTYPfGq5HTtBj...        0  "
      ]
     },
     "execution_count": 41,
     "metadata": {},
     "output_type": "execute_result"
    }
   ],
   "source": [
    "artists['cluster'] = cluster_labels\n",
    "artists.head()"
   ]
  },
  {
   "cell_type": "code",
   "execution_count": 42,
   "metadata": {},
   "outputs": [
    {
     "data": {
      "text/html": [
       "<div>\n",
       "<style scoped>\n",
       "    .dataframe tbody tr th:only-of-type {\n",
       "        vertical-align: middle;\n",
       "    }\n",
       "\n",
       "    .dataframe tbody tr th {\n",
       "        vertical-align: top;\n",
       "    }\n",
       "\n",
       "    .dataframe thead th {\n",
       "        text-align: right;\n",
       "    }\n",
       "</style>\n",
       "<table border=\"1\" class=\"dataframe\">\n",
       "  <thead>\n",
       "    <tr style=\"text-align: right;\">\n",
       "      <th></th>\n",
       "      <th>name</th>\n",
       "      <th>followers</th>\n",
       "      <th>popularity</th>\n",
       "      <th>spotify_url</th>\n",
       "      <th>cluster</th>\n",
       "    </tr>\n",
       "  </thead>\n",
       "  <tbody>\n",
       "    <tr>\n",
       "      <th>0</th>\n",
       "      <td>Phi Thoàn</td>\n",
       "      <td>0</td>\n",
       "      <td>0</td>\n",
       "      <td>https://open.spotify.com/artist/2aTU3x15AENbho...</td>\n",
       "      <td>0</td>\n",
       "    </tr>\n",
       "    <tr>\n",
       "      <th>6</th>\n",
       "      <td>ウッ・バッ・ラン</td>\n",
       "      <td>0</td>\n",
       "      <td>0</td>\n",
       "      <td>https://open.spotify.com/artist/1TiyIGdIu0d5EH...</td>\n",
       "      <td>0</td>\n",
       "    </tr>\n",
       "    <tr>\n",
       "      <th>13</th>\n",
       "      <td>NSUT Ngọc Giàu</td>\n",
       "      <td>0</td>\n",
       "      <td>0</td>\n",
       "      <td>https://open.spotify.com/artist/75xURm9qVgcoaI...</td>\n",
       "      <td>0</td>\n",
       "    </tr>\n",
       "    <tr>\n",
       "      <th>16</th>\n",
       "      <td>Bạch Huệ</td>\n",
       "      <td>0</td>\n",
       "      <td>0</td>\n",
       "      <td>https://open.spotify.com/artist/2LQJPWPX8f81QG...</td>\n",
       "      <td>0</td>\n",
       "    </tr>\n",
       "    <tr>\n",
       "      <th>71</th>\n",
       "      <td>Hiếu Liêm</td>\n",
       "      <td>0</td>\n",
       "      <td>0</td>\n",
       "      <td>https://open.spotify.com/artist/2hpthGP9XZPyrM...</td>\n",
       "      <td>0</td>\n",
       "    </tr>\n",
       "    <tr>\n",
       "      <th>...</th>\n",
       "      <td>...</td>\n",
       "      <td>...</td>\n",
       "      <td>...</td>\n",
       "      <td>...</td>\n",
       "      <td>...</td>\n",
       "    </tr>\n",
       "    <tr>\n",
       "      <th>1403</th>\n",
       "      <td>Kim Hoa</td>\n",
       "      <td>0</td>\n",
       "      <td>0</td>\n",
       "      <td>https://open.spotify.com/artist/2LKSB3HjmmaEda...</td>\n",
       "      <td>0</td>\n",
       "    </tr>\n",
       "    <tr>\n",
       "      <th>1431</th>\n",
       "      <td>Minh Hiển</td>\n",
       "      <td>0</td>\n",
       "      <td>0</td>\n",
       "      <td>https://open.spotify.com/artist/7jMpt6oVBrpLLo...</td>\n",
       "      <td>0</td>\n",
       "    </tr>\n",
       "    <tr>\n",
       "      <th>1435</th>\n",
       "      <td>Vũ Đức</td>\n",
       "      <td>0</td>\n",
       "      <td>0</td>\n",
       "      <td>https://open.spotify.com/artist/0AsKK2Pm2aueuP...</td>\n",
       "      <td>0</td>\n",
       "    </tr>\n",
       "    <tr>\n",
       "      <th>1443</th>\n",
       "      <td>フォン・クアン</td>\n",
       "      <td>0</td>\n",
       "      <td>0</td>\n",
       "      <td>https://open.spotify.com/artist/54bXuwZ3WjlhrL...</td>\n",
       "      <td>0</td>\n",
       "    </tr>\n",
       "    <tr>\n",
       "      <th>1457</th>\n",
       "      <td>Lena</td>\n",
       "      <td>0</td>\n",
       "      <td>9</td>\n",
       "      <td>https://open.spotify.com/artist/0vurIYzUUZfSbo...</td>\n",
       "      <td>0</td>\n",
       "    </tr>\n",
       "  </tbody>\n",
       "</table>\n",
       "<p>62 rows × 5 columns</p>\n",
       "</div>"
      ],
      "text/plain": [
       "                name  followers  popularity  \\\n",
       "0          Phi Thoàn          0           0   \n",
       "6           ウッ・バッ・ラン          0           0   \n",
       "13    NSUT Ngọc Giàu          0           0   \n",
       "16          Bạch Huệ          0           0   \n",
       "71         Hiếu Liêm          0           0   \n",
       "...              ...        ...         ...   \n",
       "1403         Kim Hoa          0           0   \n",
       "1431       Minh Hiển          0           0   \n",
       "1435          Vũ Đức          0           0   \n",
       "1443         フォン・クアン          0           0   \n",
       "1457            Lena          0           9   \n",
       "\n",
       "                                            spotify_url  cluster  \n",
       "0     https://open.spotify.com/artist/2aTU3x15AENbho...        0  \n",
       "6     https://open.spotify.com/artist/1TiyIGdIu0d5EH...        0  \n",
       "13    https://open.spotify.com/artist/75xURm9qVgcoaI...        0  \n",
       "16    https://open.spotify.com/artist/2LQJPWPX8f81QG...        0  \n",
       "71    https://open.spotify.com/artist/2hpthGP9XZPyrM...        0  \n",
       "...                                                 ...      ...  \n",
       "1403  https://open.spotify.com/artist/2LKSB3HjmmaEda...        0  \n",
       "1431  https://open.spotify.com/artist/7jMpt6oVBrpLLo...        0  \n",
       "1435  https://open.spotify.com/artist/0AsKK2Pm2aueuP...        0  \n",
       "1443  https://open.spotify.com/artist/54bXuwZ3WjlhrL...        0  \n",
       "1457  https://open.spotify.com/artist/0vurIYzUUZfSbo...        0  \n",
       "\n",
       "[62 rows x 5 columns]"
      ]
     },
     "execution_count": 42,
     "metadata": {},
     "output_type": "execute_result"
    }
   ],
   "source": [
    "artists[artists['followers'] == 0]"
   ]
  },
  {
   "cell_type": "code",
   "execution_count": 43,
   "metadata": {},
   "outputs": [
    {
     "data": {
      "image/png": "[encoded data removed]",
      "text/plain": [
       "<Figure size 1500x600 with 1 Axes>"
      ]
     },
     "metadata": {},
     "output_type": "display_data"
    }
   ],
   "source": [
    "cluster_colors = {0: '#1f77b4',  # Blue\n",
    "                  1: '#ff7f0e',  # Orange\n",
    "                  2: '#2ca02c'}  # Green\n",
    "\n",
    "plt.figure(figsize=(15, 6))\n",
    "\n",
    "sns.scatterplot(data=artists, x='followers', y='popularity', c=artists['cluster'].map(cluster_colors), marker='o')\n",
    "\n",
    "plt.xlabel(xlabel='Số lượng người theo dõi (triệu người)', fontsize=12)\n",
    "plt.ylabel(ylabel='Độ phổ biến', fontsize=12)\n",
    "plt.title(label='Dữ liệu nghệ sĩ trên Spotify sau gom nhóm', fontsize=14)\n",
    "\n",
    "plt.xticks(ticks=range(0, 25000001, 5000000), labels=[f'{i}' for i in range(0, 26, 5)])\n",
    "plt.yticks(ticks=range(0, 101, 20))\n",
    "plt.ylim(bottom=-5, top=105)\n",
    "\n",
    "plt.tight_layout()\n",
    "plt.show()"
   ]
  },
  {
   "cell_type": "code",
   "execution_count": 44,
   "metadata": {},
   "outputs": [
    {
     "data": {
      "image/png": "[encoded data removed]",
      "text/plain": [
       "<Figure size 1200x800 with 2 Axes>"
      ]
     },
     "metadata": {},
     "output_type": "display_data"
    }
   ],
   "source": [
    "fig, axes = plt.subplots(nrows=2, ncols=1, figsize=(12, 8))\n",
    "\n",
    "sns.violinplot(x=artists['cluster'], y=artists['followers'], palette=cluster_colors, hue=artists['cluster'], ax=axes[0])\n",
    "sns.violinplot(y=artists['followers'], color='gray', linewidth=1, ax=axes[0])\n",
    "axes[0].set_xlabel(xlabel='Nhóm')\n",
    "axes[0].set_ylabel(ylabel='Số lượng người theo dõi (triệu người)')\n",
    "axes[0].set_title(label='Số lượng người theo dõi theo từng nhóm')\n",
    "\n",
    "sns.violinplot(x=artists['cluster'], y=artists['popularity'], palette=cluster_colors, hue=artists['cluster'], ax=axes[1])\n",
    "sns.violinplot(y=artists['popularity'], color='gray', linewidth=1, ax=axes[1])\n",
    "axes[1].set_xlabel(xlabel='Nhóm')\n",
    "axes[1].set_ylabel(ylabel='Độ phổ biến')\n",
    "axes[1].set_title(label='Độ phổ biến theo từng nhóm')\n",
    "\n",
    "plt.tight_layout()\n",
    "plt.savefig(\"k-means-followers-popularity.svg\", format=\"svg\", dpi=300)\n",
    "plt.show()"
   ]
  },
  {
   "cell_type": "markdown",
   "metadata": {},
   "source": [
    "**Nhận xét về biểu đồ số lượng người theo dõi (followers)**\n",
    "\n",
    "- **Nhóm 0 (màu đỏ)** có **số lượng người theo dõi rất thấp**, phân bố tập trung gần 0. Điều này cho thấy đây là **nhóm nghệ sĩ mới**, chưa có lượng fan đáng kể\n",
    "- **Nhóm 1 (màu xanh lá)** sở hữu **số lượng người theo dõi rất cao**, phân bố rộng nhưng tập trung nhiều trong **khoảng từ 10 triệu đến hơn 30 triệu** người theo dõi\n",
    "- **Nhóm 2 (màu xanh dương)** có **phân bố người  theo dõi rất thấp**, một số điểm có giá trị cao đột biến nhưng đa số nằm gần 0. Điều này cho thấy nhóm này **có sự chênh lệch lớn giữa các nghệ sĩ**, có thể có **một số ít người nổi bật** nhưng **phần lớn chưa có lượng fan đáng kể**\n",
    "\n",
    "**Nhận xét về biểu đồ độ phổ biến (popularity)**\n",
    "- **Nhóm 0 (màu đỏ)** có **độ phổ biến rất thấp**, phần lớn **nằm dưới 20**, cho thấy các nghệ sĩ trong nhóm này **chưa có nhiều sự chú ý từ công chúng**\n",
    "- **Nhóm 1 (màu xanh lá)** sở hữu **độ phổ biến rất cao**, tập trung **ở mức 80+**, chứng tỏ đây là nhóm nghệ sĩ **có sức ảnh hưởng mạnh mẽ và đang dẫn đầu thị trường**\n",
    "- **Nhóm 2 (màu xanh dương)** có **sự phân bố rộng**, có mức độ phổ biến **từ 20 đến hơn 60**. Điều này cho thấy đây là **nhóm nghệ sĩ tiềm năng, một số có sức hút cao nhưng chưa đạt đến mức độ nổi tiếng như nhóm 1**\n",
    "\n",
    "**Kết luận**\n",
    "\n",
    "Những nghệ sĩ thuộc **nhóm 1** là **những nghệ sĩ nổi tiếng**, có lượng fan đông đảo, độ phổ biến cao. Vì vậy có thể **duy trì vị thế, mở rộng thị trường, khai thác các xu hướng toàn cầu**\n",
    "\n",
    "Những nghệ sĩ thuộc **nhóm 2** là những **nghệ sĩ có tiềm năng**. Dù họ có số lượng người theo dõi không quá nổi bật nhưng bù lại họ có mức độ phổ biến đa dạng. Vì thế họ **có thể hợp tác với nghệ sĩ lớn, đầu tư vào quảng bá để gia tăng tầm ảnh hưởng**\n",
    "\n",
    "Cuối cùng, những nghệ sĩ thuộc **nhóm 0** là những **nghệ sĩ mới** do vậy họ có lượng fan ít và độ phổ biến còn thấp. Do đó, họ **có thể tận dụng các nền tảng mạng xã hội để quảng cáo để thu hút sự chú ý**"
   ]
  },
  {
   "cell_type": "markdown",
   "metadata": {},
   "source": [
    "Sau khi gom nhóm, ta chia được các nghệ sĩ vào 3 nhóm:\n",
    "\n",
    "- Nhóm 0:\n",
    "\n",
    "- Nhóm 1:\n",
    "\n",
    "- Nhóm 2:"
   ]
  }
 ],
 "metadata": {
  "kernelspec": {
   "display_name": "venv",
   "language": "python",
   "name": "python3"
  },
  "language_info": {
   "codemirror_mode": {
    "name": "ipython",
    "version": 3
   },
   "file_extension": ".py",
   "mimetype": "text/x-python",
   "name": "python",
   "nbconvert_exporter": "python",
   "pygments_lexer": "ipython3",
   "version": "3.12.3"
  }
 },
 "nbformat": 4,
 "nbformat_minor": 2
}
