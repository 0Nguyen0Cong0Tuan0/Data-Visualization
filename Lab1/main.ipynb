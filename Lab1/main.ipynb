{
 "cells": [
  {
   "cell_type": "markdown",
   "metadata": {},
   "source": [
    "# **Lab 01**\n",
    "\n",
    "**Tên các thành viên**\n",
    "\n",
    "<center>\n",
    "\n",
    "| Họ tên | MSSV |\n",
    "| ---- | ---- |\n",
    "| Trần Nguyễn Nhật Cường | 22127048  |\n",
    "| Nguyễn Công Tuấn | 22127436 |\n",
    "| Trần Đăng Tuấn | 22127438 |\n",
    "\n",
    "</center>"
   ]
  },
  {
   "cell_type": "markdown",
   "metadata": {},
   "source": [
    "## **Cài đặt và sử dụng các thư viện cần thiết**"
   ]
  },
  {
   "cell_type": "code",
   "execution_count": null,
   "metadata": {},
   "outputs": [],
   "source": [
    "import csv\n",
    "import time\n",
    "\n",
    "import matplotlib.pyplot as plt\n",
    "import numpy as np\n",
    "import pandas as pd\n",
    "import seaborn as sns\n",
    "import spotipy\n",
    "from spotipy.oauth2 import SpotifyClientCredentials"
   ]
  },
  {
   "cell_type": "markdown",
   "metadata": {},
   "source": [
    "## **Thu thập dữ liệu**\n",
    "\n",
    "**Nền tảng thu thập** - Spotify\n",
    "\n",
    "**Phương pháp thư thập** - Gọi APIs được Spotify hỗ trợ\n",
    "\n",
    "**Cách lưu trữ dữ liệu sau khi thu thập** - Lưu thành file vietnamese_songs.csv (comma-separated value) "
   ]
  },
  {
   "cell_type": "code",
   "execution_count": null,
   "metadata": {},
   "outputs": [],
   "source": [
    "sp = spotipy.Spotify(\n",
    "    auth_manager=SpotifyClientCredentials(\n",
    "        client_id='f1225ca7d4d94873b8f8774b127aee92',\n",
    "        client_secret='87130417da134688844d563a2e9e8ac7'\n",
    "    )\n",
    ")"
   ]
  },
  {
   "cell_type": "code",
   "execution_count": null,
   "metadata": {},
   "outputs": [],
   "source": [
    "vietnamese_playlists_id = [\n",
    "    '6XFOsAdp88ptBCdqUMAfmP',  # Nhạc Việt Hay Nhất Trên Spotify - VPOP 2021 On Spotify - Vpop Top Hits - Top 100 Việt Nam \n",
    "    '0aiBKNSqiPnhtcw1QlXK5s',  # Nhạc Việt Top Hits - VPOP 2025\n",
    "    '3e7JoMenHvTB4sVE8fnn9O',  # nhạc chill Việt\n",
    "    '7tPGaU74ZtxIO9hsXVc9zj',  # Chill Vietnamese playlist\n",
    "    '2KfRwgF2GzDXHAPW1cCT7X',  # VPOP 2021-2022-2023\n",
    "    '02zSPmcae3ct4moT8om7kK',  # VPOP 2016-2017-2018\n",
    "    '4pkof2WT0Spca1pX3j2dh4',  # Vietnamese (V-Pop) 2025\n",
    "    '4ybaEp8KXd6YpHFy1npofA',  # VPop 2010-2016\n",
    "    '2U30HdoDyEZKr06144F4Jw',  # Vpop 2016-2019\n",
    "    '0ZOm8M5G8L7GHkTiU7DcMC',  # Vpop 2015s\n",
    "    '5f8z9oeanvcYu9ByRtoi9H',  # Vpop - Old but Gold\n",
    "    '6luqC1Np20Z0Ps576JFNj8',  # Nhạc Việt 2000s-2010s\n",
    "    '26OywSeeLgG0oJZlpq01nz',  # Vpop Làn sóng xanh for 8x 9x\n",
    "    '6DciQq1Mx1RKhlxNuKTn8q',  # Top Vpop VietNam\n",
    "    '56p6Zs4yC2ZVsHB6Dd9msj',  # Vpop 2020\n",
    "    '7p4UoGDCIhfTKavwQKTE2H',  # Vpop 2000-2011\n",
    "    '0mrqaVOe6KYEEcaSYhVK4a',  # VPOP TOP HITS Nhạc Việt Hay & Mới Nhất 2023 - Top 100+ Bài Hát Yêu Thích Được Nghe Nhiều Nhất\n",
    "    '2QL9xisvT5VOda2nGoH6QY',  # VPOP 2016 2017 2018\n",
    "    '44oq55UFBOGqzbwAUzrGvM',  # VPOP Tiktok\n",
    "    '5qZ3WQIZBbaogqsLh6i5lF',  # VPOP playlist\n",
    "    '4LzZcuYBacrMSX81LLvs9A',  # Top 50 VPOP nhiều lượt nghe nhất trên Spotify\n",
    "    '2yWOVvbnR2yPnVHwUnJjKW',  # VPOP 2013\n",
    "    '14Qvvt5OQng5ScEov3FpGW',  # VPOP 2014\n",
    "    '0d2Vu9QxnkmbNsBiecjGA1',  # VPOP 2015\n",
    "    '3ECBachqjVyTjkygCvBMN7',  # VPOP 2016\n",
    "    '2QOxomAadLMZ1Pr498bCP1',  # VPOP 2017\n",
    "    '2bFktF75SaQMWfJOjotEMP',  # VPOP 2018\n",
    "    '7LmFDhL7FmkHt1pSgcWqNy',  # VPOP 2019\n",
    "    '0ywpVJwBWNsmrG4nfGXOhs',  # VPOP 2020\n",
    "    '1cvnE797cGbHDeoz4uCaPd',  # VPOP 2021\n",
    "    '74nhehkDb5m0iaWYMUzrDQ',  # VPOP 2022\n",
    "    '5r0mdLamHzeoCRh5g93WL5',  # Playlist suy dễ ngủ\n",
    "    '5xfZuakPjpZpy2qw5bJb3w',  # Một lít cho người lụy tình\n",
    "    '5ttuZoKUA8dgz9MyFeNjxZ',  # Playlist Nhạc Indie Việt Nam\n",
    "    '7Ib0lAD83EY4UasjiBqQf5',  # Playlist nhạc việt để chill\n",
    "    '42L92ofycEfBmvA1SZO2C3',  # Nhạc Việt (8x-9x)\n",
    "    '5h45fHO4GoxW96Z1uG663h',  # Nhạc Việt xưa\n",
    "    '0ydtbJkoAgFL6MHZwovl28',  # Nhạc hoa lời việt 7x-8x-9x bât hủ\n",
    "    '4etsQHVmmSFTvR7LxYV9ch',  # Vọng cổ - Cải lương   \n",
    "    '1Tiblgs4lWkxYqTrDEZcII',  # Cải lưong Việt Nam    \n",
    "    '3i38ZH5FIzalHEkYcxtuwt',  # Cải lương xưa \n",
    "    '4NePg2F6ZolnLQL3tNHQ1N',  # Top 100 nhạc Cách mạng\n",
    "    '4xGIvoVNyLfQEBNUqVLbEr',  # 100 ca khúc nhạc vàng trữ tình hay nhất\n",
    "    '1v1Ev6Fm2RK7jvUPpChAwj',  # Nhạc xưa bất hủ - nhạc bolera hay nhất\n",
    "    '0Gi20HOQSsgzbmTL9zthTI',  # Nhạc trữ tình Bolero\n",
    "    '1I4ecxMj4322qEIXuLnFp7',  # Mỹ Tâm Bolero\n",
    "]\n",
    "\n",
    "\n",
    "def get_vietnamese_songs_and_artists():\n",
    "    '''\n",
    "    Extract all Vietnamese songs and artist details from popular Spotify playlists.\n",
    "    '''\n",
    "    vietnam_songs = []\n",
    "    artist_ids = set()\n",
    "    \n",
    "    for playlist_id in vietnamese_playlists_id:\n",
    "        offset = 0\n",
    "        limit = 100  \n",
    "        while True:\n",
    "            results = sp.playlist_items(playlist_id, market='VN', limit=limit, offset=offset)\n",
    "            \n",
    "            if not results or 'items' not in results or not results['items']:\n",
    "                break \n",
    "\n",
    "            for item in results['items']:\n",
    "                track = item.get('track')\n",
    "                if not track:\n",
    "                    continue\n",
    "                \n",
    "                album = track.get('album', {})\n",
    "                artists = track.get('artists', [])\n",
    "                artist_names = ', '.join([artist['name'] for artist in artists]) if artists else 'null'\n",
    "                \n",
    "                for artist in artists:\n",
    "                    artist_ids.add(artist['id'])\n",
    "\n",
    "                vietnam_songs.append({\n",
    "                    'name': track.get('name', 'null'),\n",
    "                    'release_date': album.get('release_date', 'null'),\n",
    "                    'album_type': album.get('album_type', 'null'),\n",
    "                    'album_name': album.get('name', 'null'),\n",
    "                    'artists': artist_names,\n",
    "                    'duration_ms': track.get('duration_ms', 'null'),\n",
    "                    'popularity': track.get('popularity', 'null'),\n",
    "                    'spotify_url': track.get('external_urls', {}).get('spotify', 'null'),\n",
    "                })\n",
    "            \n",
    "            offset += limit\n",
    "\n",
    "    return vietnam_songs, list(artist_ids)\n",
    "\n",
    "def get_artist_details(artist_ids):\n",
    "    '''\n",
    "    Retrieve artist details using Spotify API.\n",
    "    '''\n",
    "    artist_info = []\n",
    "    \n",
    "    for artist_id in artist_ids:\n",
    "        artist = sp.artist(artist_id)\n",
    "        artist_info.append({\n",
    "            'name': artist.get('name', 'null'),\n",
    "            'followers': artist.get('followers', {}).get('total', 'null'),\n",
    "            'popularity': artist.get('popularity', 'null'),\n",
    "            'type': artist.get('type', 'null'),\n",
    "            'spotify_url': artist.get('external_urls', {}).get('spotify', 'null'),\n",
    "        })\n",
    "    \n",
    "    return artist_info\n",
    "\n",
    "def save_to_csv(data, filename, fieldnames):\n",
    "    '''\n",
    "    Save extracted data into a CSV file.\n",
    "    '''\n",
    "    with open(filename, mode='w', newline='', encoding='utf-8') as file:\n",
    "        writer = csv.DictWriter(file, fieldnames=fieldnames)\n",
    "        writer.writeheader()\n",
    "        for row in data:\n",
    "            writer.writerow(row)\n",
    "\n",
    "vietnam_songs, artist_ids = get_vietnamese_songs_and_artists()\n",
    "save_to_csv(vietnam_songs, 'vietnamese_songs.csv', [\n",
    "    'name', 'release_date', 'album_type', 'album_name', 'artists', 'duration_ms', 'popularity', 'spotify_url'\n",
    "])\n",
    "\n",
    "artist_info = get_artist_details(artist_ids)\n",
    "save_to_csv(artist_info, 'artists_info.csv', ['name', 'followers', 'popularity', 'type', 'spotify_url'])"
   ]
  },
  {
   "cell_type": "markdown",
   "metadata": {},
   "source": [
    "## **Đọc bộ dữ liệu**"
   ]
  },
  {
   "cell_type": "code",
   "execution_count": null,
   "metadata": {},
   "outputs": [],
   "source": [
    "tracks = pd.read_csv(filepath_or_buffer='./vietnamese_songs.csv')\n",
    "tracks.head()"
   ]
  },
  {
   "cell_type": "code",
   "execution_count": null,
   "metadata": {},
   "outputs": [],
   "source": [
    "artists = pd.read_csv(filepath_or_buffer='./artists_info.csv')\n",
    "artists.head()"
   ]
  },
  {
   "cell_type": "markdown",
   "metadata": {},
   "source": [
    "## **Khám phá dữ liệu**"
   ]
  },
  {
   "cell_type": "markdown",
   "metadata": {},
   "source": [
    "Bảng bên dưới mô tả chi tiết ý nghĩa của các thuộc tính trong bộ dữ liệu `vietnamese_songs.csv`\n",
    "\n",
    "<center>\n",
    "\n",
    "| **Tên thuộc tính** | **Ý nghĩa** |\n",
    "| -----              | -----       |\n",
    "| **name** | Tên bài hát |\n",
    "| **release_date** | Ngày bài hát được ra mắt/phát hành |\n",
    "| **album_type** | Loại album mà bài hát thuộc về (ví dụ: album, single, compilation) |\n",
    "| **album_name** | Tên của album mà bài hát thuộc về |\n",
    "| **artists** | Tên của các nghệ sĩ trình diễn bài hát. Nếu có nhiều nghệ sĩ, tên các nghệ sĩ sẽ được phân tách bằng dấu phẩy (\",\") |\n",
    "| **duration_ms** | Độ dài của bài hát tính theo đơn vị milli giây |\n",
    "| **popularity** | Độ phổ biến của bài hát trên nền tảng Spotify, được tính từ 0 đến 100 (100 là phổ biến nhất) |\n",
    "| **sportify_url** | Liên kết URL dẫn đến bài hát trên nền tảng Spotify |\n",
    "\n",
    "\n",
    "</center>"
   ]
  },
  {
   "cell_type": "markdown",
   "metadata": {},
   "source": [
    "## **Tiền xử lý dữ liệu**"
   ]
  },
  {
   "cell_type": "markdown",
   "metadata": {},
   "source": [
    "### **Tổng quan về dữ liệu**"
   ]
  },
  {
   "cell_type": "code",
   "execution_count": null,
   "metadata": {},
   "outputs": [],
   "source": [
    "tracks.info()"
   ]
  },
  {
   "cell_type": "markdown",
   "metadata": {},
   "source": [
    "**Nhận xét**\n",
    "- Dữ liệu có 4120 dòng và 8 thuộc tính (cột)\n",
    "- Có một số cột bị thiếu giá trị bao gồm **`name`**, **`release_date`**, **`album_type`**, **`album_name`**, **`artists`** và **`popularity`**\n",
    "- **release_data** cần chuyển sang kiểu dữ liệu **`datatime`**"
   ]
  },
  {
   "cell_type": "code",
   "execution_count": null,
   "metadata": {},
   "outputs": [],
   "source": [
    "tracks.describe()"
   ]
  },
  {
   "cell_type": "markdown",
   "metadata": {},
   "source": [
    "### **Thay đổi kiểu dữ liệu**"
   ]
  },
  {
   "cell_type": "code",
   "execution_count": null,
   "metadata": {},
   "outputs": [],
   "source": [
    "tracks[(tracks['release_date'].str.len() < 10) & (tracks['release_date'].str.startswith('0'))].head()"
   ]
  },
  {
   "cell_type": "code",
   "execution_count": null,
   "metadata": {},
   "outputs": [],
   "source": [
    "tracks[(tracks['release_date'].str.len() < 10) & (tracks['release_date'].str.startswith('1'))].head()"
   ]
  },
  {
   "cell_type": "code",
   "execution_count": null,
   "metadata": {},
   "outputs": [],
   "source": [
    "tracks[(tracks['release_date'].str.len() < 10) & (tracks['release_date'].str.startswith('2'))].head()"
   ]
  },
  {
   "cell_type": "code",
   "execution_count": null,
   "metadata": {},
   "outputs": [],
   "source": [
    "tracks[tracks['release_date'].isna()].head()"
   ]
  },
  {
   "cell_type": "code",
   "execution_count": null,
   "metadata": {},
   "outputs": [],
   "source": [
    "def fix_release_date(date: str) -> str:\n",
    "    if not date or date.startswith('0'):\n",
    "        return None\n",
    "    if len(date) == 4:\n",
    "        return date + '-01-01'\n",
    "    return date\n",
    "\n",
    "tracks['release_date'] = tracks['release_date'].astype(dtype=str).apply(func=fix_release_date)\n",
    "tracks['release_date'] = pd.to_datetime(arg=tracks['release_date'], format='%Y-%m-%d')\n",
    "tracks['release_date'].head()"
   ]
  },
  {
   "cell_type": "code",
   "execution_count": null,
   "metadata": {},
   "outputs": [],
   "source": [
    "tracks.dtypes"
   ]
  },
  {
   "cell_type": "markdown",
   "metadata": {},
   "source": [
    "### **Xử lý các bài hát bị trùng lặp**"
   ]
  },
  {
   "cell_type": "code",
   "execution_count": null,
   "metadata": {},
   "outputs": [],
   "source": [
    "print(f'Số lượng bài hát bị trùng lặp (dựa vào tên bài hát và tên nghệ sĩ): {tracks.duplicated(subset=['name', 'artists']).sum()}')"
   ]
  },
  {
   "cell_type": "code",
   "execution_count": null,
   "metadata": {},
   "outputs": [],
   "source": [
    "tracks[tracks['name'] == 'Nàng Thơ']"
   ]
  },
  {
   "cell_type": "markdown",
   "metadata": {},
   "source": [
    "**Nhận xét**\n",
    "\n",
    "Ví dụ xét bài hát **Nàng thơ** của nghệ sĩ **Hoàng Dũng**, chúng ta thấy bài hát được phát hành ở 2 thể loại khác nhau là **đĩa đơn (Nàng thơ)** và **album (25)**. Vì thế, chúng ta cần loại bỏ trùng lặp dựa vào `name`, `artists`, `album_type` và `album_name`\n",
    "\n",
    "\n"
   ]
  },
  {
   "cell_type": "code",
   "execution_count": null,
   "metadata": {},
   "outputs": [],
   "source": [
    "tracks.sort_values(by='release_date', inplace=True)\n",
    "tracks.drop_duplicates(subset=['name', 'artists', 'album_type'], keep='last', inplace=True, ignore_index=True)"
   ]
  },
  {
   "cell_type": "code",
   "execution_count": null,
   "metadata": {},
   "outputs": [],
   "source": [
    "tracks[tracks['name'] == 'Nàng Thơ']"
   ]
  },
  {
   "cell_type": "markdown",
   "metadata": {},
   "source": [
    "### **Xử lý các dữ liệu dòng bị thiếu dữ liệu**"
   ]
  },
  {
   "cell_type": "code",
   "execution_count": null,
   "metadata": {},
   "outputs": [],
   "source": [
    "tracks.isna().sum()"
   ]
  },
  {
   "cell_type": "code",
   "execution_count": null,
   "metadata": {},
   "outputs": [],
   "source": [
    "tracks.shape[0] - tracks.dropna().shape[0]"
   ]
  },
  {
   "cell_type": "code",
   "execution_count": null,
   "metadata": {},
   "outputs": [],
   "source": [
    "tracks.dropna(inplace=True, ignore_index=True)"
   ]
  },
  {
   "cell_type": "code",
   "execution_count": null,
   "metadata": {},
   "outputs": [],
   "source": [
    "tracks.isna().sum()"
   ]
  },
  {
   "cell_type": "markdown",
   "metadata": {},
   "source": [
    "### **Xử lý các dữ liệu bất hợp lý**"
   ]
  },
  {
   "cell_type": "code",
   "execution_count": null,
   "metadata": {},
   "outputs": [],
   "source": [
    "tracks[tracks['release_date'].dt.year < 2000].head()"
   ]
  },
  {
   "cell_type": "markdown",
   "metadata": {},
   "source": [
    "- Bài hát Rằm Tháng 7 ra đời năm 1900 là bất hợp lý vì chương trình Rap Việt lần đầu được công chiếu vào ngày 01/08/2020."
   ]
  },
  {
   "cell_type": "code",
   "execution_count": null,
   "metadata": {},
   "outputs": [],
   "source": [
    "tracks = tracks.drop(index=tracks[tracks['release_date'].dt.year == 1900].index).reset_index(drop=True)"
   ]
  },
  {
   "cell_type": "code",
   "execution_count": null,
   "metadata": {},
   "outputs": [],
   "source": [
    "tracks.shape"
   ]
  },
  {
   "cell_type": "markdown",
   "metadata": {},
   "source": [
    "## **Các câu hỏi**"
   ]
  },
  {
   "cell_type": "markdown",
   "metadata": {},
   "source": [
    "**Câu 1**: Tần suất phát hành nhạc tại thị trường âm nhạc Việt Nam trong 25 năm trở lại đây (từ 2000 đến 2024)?"
   ]
  },
  {
   "cell_type": "code",
   "execution_count": null,
   "metadata": {},
   "outputs": [],
   "source": [
    "tracks_2000_2024 = tracks[tracks['release_date'].dt.year.between(2000, 2024)]['release_date'].dt.year.value_counts().sort_index()\n",
    "tracks_2000_2024.head()"
   ]
  },
  {
   "cell_type": "code",
   "execution_count": null,
   "metadata": {},
   "outputs": [],
   "source": [
    "plt.figure(figsize=(18, 6))\n",
    "\n",
    "sns.lineplot(x=tracks_2000_2024.index, y=tracks_2000_2024.values, marker='o', color='b', linewidth=2)\n",
    "\n",
    "plt.xlabel(xlabel='Năm phát hành', fontsize=12)\n",
    "plt.ylabel(ylabel='Số lượng bài hát', fontsize=12)\n",
    "plt.title(label='Tần suất phát hành nhạc tại thị trường Việt Nam trong giai đoạn 2000 - 2024', fontsize=14)\n",
    "\n",
    "plt.xticks(ticks=range(2000, 2025, 1))\n",
    "plt.yticks(ticks=range(0, 501, 50))\n",
    "\n",
    "plt.grid(axis='y')\n",
    "plt.show()"
   ]
  },
  {
   "cell_type": "markdown",
   "metadata": {},
   "source": [
    "**Nhận xét về xu hướng phát hành bài hát trên Spotify tại Việt Nam (2000 - 2025)**\n",
    "\n",
    "**Trong giai đoạn 2000 - 2014**,\n",
    "\n",
    "- Số lượng bài hát phát hành trên Spotify **còn rất ít**. \n",
    "- Bên cạnh đó, trong năm **2013** là năm có số lượng bài hát được phát hành nhiều nhất trong giai đoạn này với gần 50 bài hát.\n",
    "\n",
    "$\\Rightarrow$ Điều này có thể do Spotify chưa phổ biến tại Việt Nam hoặc chưa có dữ liệu đầy đủ về các bài hát phát hành trước đó.\n",
    "\n",
    "\n",
    "**Trong giai đoạn 2015 - 2018**, \n",
    "\n",
    "- Có sự gia tăng đáng kể về số lượng bài hát được phát hành. \n",
    "- Năm 2018 là đỉnh cao nhất trong toàn bộ giai đoạn, với số lượng bài hát phát hành tăng vọt.\n",
    "\n",
    "$\\Rightarrow$ Điều này có thể phản ánh sự phát triển mạnh mẽ của thị trường nhạc số và sự gia nhập của nhiều nghệ sĩ Việt vào nền tảng Spotify.\n",
    "\n",
    "\n",
    "**Trong giai đoạn 2019 - 2024**,\n",
    "\n",
    "- Sau năm 2018, số lượng bài hát phát hành giảm mạnh vào năm 2019 nhưng nhanh chóng phục hồi và tiếp tục tăng trưởng.\n",
    "- Giai đoạn 2020 - 2023 có xu hướng ổn định, duy trì mức phát hành cao.\n",
    "\n",
    "$\\Rightarrow$ Đây có thể là thời kỳ mà Spotify đã trở thành một kênh phân phối quan trọng đối với nghệ sĩ Việt Nam.\n",
    "\n",
    "Ngoài ra, dữ liệu năm 2025 hiện tại rất thấp do dữ liệu chưa đầy đủ hoặc mới chỉ là một phần nhỏ của năm nên ta chưa thể có cái nhìn chính xác về xu hướng phát hành bài hát trên Spotify trong năm 2025."
   ]
  },
  {
   "cell_type": "markdown",
   "metadata": {},
   "source": [
    "#### **Câu 2**: Nghệ sĩ hoạt động tích cực và sôi nổi nhất trên Spotify tại thị trường Việt Nam trong năm 2024?"
   ]
  },
  {
   "cell_type": "code",
   "execution_count": null,
   "metadata": {},
   "outputs": [],
   "source": [
    "tracks_2024 = tracks[tracks['release_date'].dt.year == 2024]\n",
    "tracks_by_artist_2024 = tracks_2024['artists'].str.split(pat=', ').explode().str.strip().value_counts().reset_index()\n",
    "tracks_by_artist_2024"
   ]
  },
  {
   "cell_type": "code",
   "execution_count": null,
   "metadata": {},
   "outputs": [],
   "source": [
    "plt.figure(figsize=(15, 3.5))\n",
    "\n",
    "sns.barplot(data=tracks_by_artist_2024.head(n=10), x='count', y='artists', hue='artists', orient='h',\n",
    "            palette=['#e36f09' if count > 60 else '#191d9c' for count in tracks_by_artist_2024['count'].head(n=10)])\n",
    "\n",
    "plt.xlabel(xlabel='Số lượng bài hát', fontsize=12)\n",
    "plt.ylabel(ylabel='Nghệ sĩ', fontsize=12)\n",
    "plt.title(label='Top 10 nghệ sĩ có số lượng bài hát nhiều nhất trong năm 2024', fontsize=14)\n",
    "\n",
    "plt.show()"
   ]
  },
  {
   "cell_type": "markdown",
   "metadata": {},
   "source": [
    "**Nhận xét về top 10 nghệ sĩ có số lượng bài hát nhiều nhất trên Spotify Việt Nam (2019-2024)**\n",
    "\n",
    "Trong năm **2019** ghi nhận có nhiều nghệ sĩ thuộc dòng nhạc **Pop/Ballad** như **Cẩm Ly**, **Đan Trường**, **Noo Phước Thịnh** và họ cũng dẫn đầu với ***số lượng bài hát cao***. Xu hướng nhạc trẻ đến từ các nghệ sĩ trẻ như **JustaTee**, **Ngọt**, **Thịnh Suy**, **AMEE** đã xuất hiện nhưng ***chưa quá nổi bật*** \n",
    "\n",
    "$\\Rightarrow$ **Thời kỳ của nhạc Pop/Ballad vẫn còn thống trị, phổ biến tại thị trường âm nhạc Việt Nam**\n",
    "\n",
    "\n",
    "Trong năm **2020** ghi nhận việc **AMEE** vươn lên top 1, thể hiện sức hút của nhạc **Pop** tươi trẻ. **Hoàng Dũng**, **Hà Anh Tuấn** vẫn giữ phong độ với **Ballad**. **B Ray**, **Đen** xuất hiện, báo hiệu sự nổi lên của **Rap**\n",
    "\n",
    "$\\Rightarrow$ **Rap/Indie bắt đầu xuất hiện nổi bật trên thị trường âm nhạc Việt Nam bên cạnh thể loại Pop/Ballad đã quá quen thuộc ở những năm trước**\n",
    "\n",
    "\n",
    "Trong năm **2021** ghi nhận có nhiều nghệ sĩ như MONSTAR, Chillies, Maswe đại diện cho dòng nhạc Indie/Pop-Rock. Rap có sự xuất hiện của RPT MCK, Low G, tlinh, phản ánh sự lan tỏa mạnh mẽ của dòng nhạc này.\n",
    "\n",
    "$\\Rightarrow$ **Thị trường âm nhạc Việt Nam dần dần tiếp nhận và bước chuyển sang thể loại Rap/Hip-Hop**\n",
    "\n",
    "Trong năm **2022** ghi nhận việc **Low G** dẫn đầu, tiếp tục khẳng định sự thống trị của **Hip-Hop**. **Hoàng Thùy Linh**, **Orange**, **Đức Phúc** vẫn duy trì được lượng bài hát đáng kể.\n",
    "\n",
    "$\\Rightarrow$ **Các thể loại nhạc như Pop/Ballad, Rap/Hip-Hop và Indie,... vẫn tiếp tục phát triển trên thị trường âm nhạc Việt Nam**\n",
    "\n",
    "Trong năm **2023** ghi nhận sự bùng nổ của những chương trình âm nhạc như việc **RAP VIỆT** đứng đầu do hiệu ứng từ chương trình cùng tên **Rap Việt** cùng với đó là sự xuất hiện của hàng loạt rapper xuất hiện như **RPT MCK**, **Wren Evans**, **Obito**, **Thắng**. Bên cạnh đó cũng kể đến chương trình **The Masked Singer** xuất hiện.\n",
    "\n",
    "$\\Rightarrow$ **Rap/Hip-Hop chiếm sóng và cũng là sự bùng nổ của những chương trình âm nhạc như Rap Việt và The Masked Singer**\n",
    "\n",
    "Trong năm **2024** ghi nhận việc chương trình âm nhạc có quy mô lớn **ANH TRAI \"SAY HI\"** bất ngờ vươn lên vị trí đầu. Bên cạnh đó là sự xuất hiện của những tân binh như **Dương Domic**, **Pháp Kiều**, **Negav**, ...\n",
    "\n",
    "$\\Rightarrow$ **Thấy được sự xuất hiện mạnh mẽ từ thế hệ nghệ sĩ trẻ**\n",
    "\n",
    "**Kết luận**\n",
    "- Các dòng nhạc thay đổi theo thời gian khi mà từ **Pop/Ballad (2019-2020)** đến **Indie/Rap (2021-2022)** và cuối cùng là **Rap/Hip-Hop thống trị (2023-2024)**.\n",
    "- Một số nghệ sĩ xuất hiện mạnh mẽ trong một năm nhưng sau đó giảm dần. Tuy nhiên vẫn có những nghệ sĩ hoạt động bền bỉ như **Low G**, **HIEUTHUHAI**, **tlinh** khi họ đã liên tục xuất hiện trong biểu đồ trên ở nhiều năm liền.\n",
    "- Các chương trình âm nhạc tiêu biểu gồm **Rap Việt**, **The Masked Singer**, **ANH TRAI \"SAY HI\"** có tác động mạnh đến số lượng bài hát ra mắt.\n"
   ]
  },
  {
   "cell_type": "markdown",
   "metadata": {},
   "source": [
    "#### **Câu 3:** Phân bố mức độ phổ biến của các bài hát tại thị trường Việt Nam hiện nay."
   ]
  },
  {
   "cell_type": "code",
   "execution_count": null,
   "metadata": {},
   "outputs": [],
   "source": [
    "plt.figure(figsize=(15, 6))\n",
    "\n",
    "sns.histplot(data=tracks['popularity'])\n",
    "\n",
    "plt.xlabel(xlabel='Độ phổ biến', fontsize=12)\n",
    "plt.ylabel(ylabel='Tần suất', fontsize=12)\n",
    "plt.title(label='Phân phối độ phổ biến của các bài hát trên Spotify tại thị trường Việt Nam hiện nay', fontsize=14)\n",
    "\n",
    "plt.xlim(left=-1, right=101)\n",
    "plt.xticks(ticks=range(0, 101, 10))\n",
    "plt.show()"
   ]
  },
  {
   "cell_type": "markdown",
   "metadata": {},
   "source": [
    "#### **Câu 4:** Phân bố thời lượng các bài hát trên Spotify tại thị trường Việt Nam."
   ]
  },
  {
   "cell_type": "code",
   "execution_count": null,
   "metadata": {},
   "outputs": [],
   "source": [
    "tracks['duration_ms'] /= 60000"
   ]
  },
  {
   "cell_type": "code",
   "execution_count": null,
   "metadata": {},
   "outputs": [],
   "source": [
    "tracks['duration_ms'].max()"
   ]
  },
  {
   "cell_type": "code",
   "execution_count": null,
   "metadata": {},
   "outputs": [],
   "source": [
    "plt.figure(figsize=(15, 6))\n",
    "\n",
    "sns.histplot(data=tracks['duration_ms'], bins=50)\n",
    "\n",
    "plt.xlabel(xlabel='Thời lượng (phút)', fontsize=12)\n",
    "plt.ylabel(ylabel='Tần suất', fontsize=12)\n",
    "plt.title(label='Phân phối thời lượng của các bài hát trên Spotify tại thị trường Việt Nam hiện nay', fontsize=14)\n",
    "\n",
    "plt.xticks(ticks=range(0, 51, 5))\n",
    "plt.show()"
   ]
  },
  {
   "cell_type": "markdown",
   "metadata": {},
   "source": [
    "#### **Câu 5:** Tỉ lệ các loại album trên Spotify tại thị trường Việt Nam"
   ]
  },
  {
   "cell_type": "code",
   "execution_count": null,
   "metadata": {},
   "outputs": [],
   "source": [
    "tracks['album_type'].value_counts().plot.pie(\n",
    "    autopct='%1.1f%%',\n",
    "    startangle=90,\n",
    "    figsize=(7, 7),\n",
    "    explode=(0.1, 0, 0),\n",
    "    colors=['#FF5733', '#33FF57', '#3357FF'],\n",
    "    textprops={'fontsize': 12, 'fontweight': 'bold'},\n",
    ")\n",
    "\n",
    "plt.title(label='Tỉ lệ các loại album trên Spotify tại thị trường Việt Nam', fontsize=14)\n",
    "plt.ylabel(ylabel='')\n",
    "\n",
    "plt.tight_layout()\n",
    "plt.show()"
   ]
  },
  {
   "cell_type": "markdown",
   "metadata": {},
   "source": [
    "#### **Câu 6:** Artist follower"
   ]
  },
  {
   "cell_type": "code",
   "execution_count": null,
   "metadata": {},
   "outputs": [],
   "source": []
  },
  {
   "cell_type": "markdown",
   "metadata": {},
   "source": [
    "#### **Câu 7:** Artist popularity vs follower"
   ]
  },
  {
   "cell_type": "code",
   "execution_count": null,
   "metadata": {},
   "outputs": [],
   "source": [
    "artists['followers'].min()"
   ]
  },
  {
   "cell_type": "code",
   "execution_count": null,
   "metadata": {},
   "outputs": [],
   "source": [
    "artists[artists['followers'] == 0]"
   ]
  },
  {
   "cell_type": "code",
   "execution_count": null,
   "metadata": {},
   "outputs": [],
   "source": [
    "plt.figure(figsize=(15, 6))\n",
    "sns.scatterplot(data=artists, x='followers', y='popularity')\n",
    "plt.show()"
   ]
  }
 ],
 "metadata": {
  "kernelspec": {
   "display_name": "venv",
   "language": "python",
   "name": "python3"
  },
  "language_info": {
   "codemirror_mode": {
    "name": "ipython",
    "version": 3
   },
   "file_extension": ".py",
   "mimetype": "text/x-python",
   "name": "python",
   "nbconvert_exporter": "python",
   "pygments_lexer": "ipython3",
   "version": "3.12.3"
  }
 },
 "nbformat": 4,
 "nbformat_minor": 2
}
