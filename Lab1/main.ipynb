{
 "cells": [
  {
   "cell_type": "markdown",
   "metadata": {},
   "source": [
    "# **Lab 01**"
   ]
  },
  {
   "cell_type": "markdown",
   "metadata": {},
   "source": [
    "## **Các thành viên**\n",
    "\n",
    "<center>\n",
    "\n",
    "|         Họ tên         |   MSSV   |\n",
    "| :--------------------- | :------: |\n",
    "| Trần Nguyễn Nhật Cường | 22127048 |\n",
    "|    Nguyễn Công Tuấn    | 22127436 |\n",
    "|     Trần Đăng Tuấn     | 22127438 |\n",
    "\n",
    "</center>"
   ]
  },
  {
   "cell_type": "markdown",
   "metadata": {},
   "source": [
    "## **Cài đặt và sử dụng các thư viện cần thiết**"
   ]
  },
  {
   "cell_type": "code",
   "execution_count": null,
   "metadata": {},
   "outputs": [],
   "source": [
    "import csv\n",
    "\n",
    "import matplotlib.pyplot as plt\n",
    "import pandas as pd\n",
    "import seaborn as sns\n",
    "import spotipy\n",
    "from spotipy.oauth2 import SpotifyClientCredentials"
   ]
  },
  {
   "cell_type": "markdown",
   "metadata": {},
   "source": [
    "## **Thu thập dữ liệu**\n",
    "\n",
    "**Nền tảng thu thập** - Spotify\n",
    "\n",
    "**Phương pháp thư thập** - Gọi APIs được Spotify hỗ trợ\n",
    "\n",
    "**Cách lưu trữ dữ liệu sau khi thu thập** - Lưu thành file vietnamese_songs.csv (comma-separated value) "
   ]
  },
  {
   "cell_type": "code",
   "execution_count": 61,
   "metadata": {},
   "outputs": [],
   "source": [
    "sp = spotipy.Spotify(\n",
    "    auth_manager=SpotifyClientCredentials(\n",
    "        client_id='f1225ca7d4d94873b8f8774b127aee92',\n",
    "        client_secret='87130417da134688844d563a2e9e8ac7'\n",
    "    )\n",
    ")"
   ]
  },
  {
   "cell_type": "code",
   "execution_count": null,
   "metadata": {},
   "outputs": [],
   "source": [
    "# vietnamese_playlists_id = [\n",
    "#     '6XFOsAdp88ptBCdqUMAfmP',  # Nhạc Việt Hay Nhất Trên Spotify - VPOP 2021 On Spotify - Vpop Top Hits - Top 100 Việt Nam \n",
    "#     '0aiBKNSqiPnhtcw1QlXK5s',  # Nhạc Việt Top Hits - VPOP 2025\n",
    "#     '3e7JoMenHvTB4sVE8fnn9O',  # nhạc chill Việt\n",
    "#     '7tPGaU74ZtxIO9hsXVc9zj',  # Chill Vietnamese playlist\n",
    "#     '2KfRwgF2GzDXHAPW1cCT7X',  # VPOP 2021-2022-2023\n",
    "#     '02zSPmcae3ct4moT8om7kK',  # VPOP 2016-2017-2018\n",
    "#     '4pkof2WT0Spca1pX3j2dh4',  # Vietnamese (V-Pop) 2025\n",
    "#     '4ybaEp8KXd6YpHFy1npofA',  # VPop 2010-2016\n",
    "#     '2U30HdoDyEZKr06144F4Jw',  # Vpop 2016-2019\n",
    "#     '0ZOm8M5G8L7GHkTiU7DcMC',  # Vpop 2015s\n",
    "#     '5f8z9oeanvcYu9ByRtoi9H',  # Vpop - Old but Gold\n",
    "#     '6luqC1Np20Z0Ps576JFNj8',  # Nhạc Việt 2000s-2010s\n",
    "#     '26OywSeeLgG0oJZlpq01nz',  # Vpop Làn sóng xanh for 8x 9x\n",
    "#     '6DciQq1Mx1RKhlxNuKTn8q',  # Top Vpop VietNam\n",
    "#     '56p6Zs4yC2ZVsHB6Dd9msj',  # Vpop 2020\n",
    "#     '7p4UoGDCIhfTKavwQKTE2H',  # Vpop 2000-2011\n",
    "#     '0mrqaVOe6KYEEcaSYhVK4a',  # VPOP TOP HITS Nhạc Việt Hay & Mới Nhất 2023 - Top 100+ Bài Hát Yêu Thích Được Nghe Nhiều Nhất\n",
    "#     '2QL9xisvT5VOda2nGoH6QY',  # VPOP 2016 2017 2018\n",
    "#     '44oq55UFBOGqzbwAUzrGvM',  # VPOP Tiktok\n",
    "#     '5qZ3WQIZBbaogqsLh6i5lF',  # VPOP playlist\n",
    "#     '4LzZcuYBacrMSX81LLvs9A',  # Top 50 VPOP nhiều lượt nghe nhất trên Spotify\n",
    "#     '2yWOVvbnR2yPnVHwUnJjKW',  # VPOP 2013\n",
    "#     '14Qvvt5OQng5ScEov3FpGW',  # VPOP 2014\n",
    "#     '0d2Vu9QxnkmbNsBiecjGA1',  # VPOP 2015\n",
    "#     '3ECBachqjVyTjkygCvBMN7',  # VPOP 2016\n",
    "#     '2QOxomAadLMZ1Pr498bCP1',  # VPOP 2017\n",
    "#     '2bFktF75SaQMWfJOjotEMP',  # VPOP 2018\n",
    "#     '7LmFDhL7FmkHt1pSgcWqNy',  # VPOP 2019\n",
    "#     '0ywpVJwBWNsmrG4nfGXOhs',  # VPOP 2020\n",
    "#     '1cvnE797cGbHDeoz4uCaPd',  # VPOP 2021\n",
    "#     '74nhehkDb5m0iaWYMUzrDQ',  # VPOP 2022\n",
    "#     '5r0mdLamHzeoCRh5g93WL5',  # Playlist suy dễ ngủ\n",
    "#     '5xfZuakPjpZpy2qw5bJb3w',  # Một lít cho người lụy tình\n",
    "#     '5ttuZoKUA8dgz9MyFeNjxZ',  # Playlist Nhạc Indie Việt Nam\n",
    "#     '7Ib0lAD83EY4UasjiBqQf5',  # Playlist nhạc việt để chill\n",
    "#     '42L92ofycEfBmvA1SZO2C3',  # Nhạc Việt (8x-9x)\n",
    "#     '5h45fHO4GoxW96Z1uG663h',  # Nhạc Việt xưa\n",
    "#     '0ydtbJkoAgFL6MHZwovl28',  # Nhạc hoa lời việt 7x-8x-9x bât hủ\n",
    "#     '4etsQHVmmSFTvR7LxYV9ch',  # Vọng cổ - Cải lương   \n",
    "#     '1Tiblgs4lWkxYqTrDEZcII',  # Cải lưong Việt Nam    \n",
    "#     '3i38ZH5FIzalHEkYcxtuwt',  # Cải lương xưa \n",
    "#     '4NePg2F6ZolnLQL3tNHQ1N',  # Top 100 nhạc Cách mạng\n",
    "#     '4xGIvoVNyLfQEBNUqVLbEr',  # 100 ca khúc nhạc vàng trữ tình hay nhất\n",
    "#     '1v1Ev6Fm2RK7jvUPpChAwj',  # Nhạc xưa bất hủ - nhạc bolera hay nhất\n",
    "#     '0Gi20HOQSsgzbmTL9zthTI',  # Nhạc trữ tình Bolero\n",
    "#     '1I4ecxMj4322qEIXuLnFp7',  # Mỹ Tâm Bolero\n",
    "# ]\n",
    "\n",
    "\n",
    "# def get_vietnamese_songs_and_artists():\n",
    "#     '''\n",
    "#     Extract all Vietnamese songs and artist details from popular Spotify playlists.\n",
    "#     '''\n",
    "#     vietnam_songs = []\n",
    "#     artist_ids = set()\n",
    "    \n",
    "#     for playlist_id in vietnamese_playlists_id:\n",
    "#         offset = 0\n",
    "#         limit = 100  \n",
    "#         while True:\n",
    "#             results = sp.playlist_items(playlist_id, market='VN', limit=limit, offset=offset)\n",
    "            \n",
    "#             if not results or 'items' not in results or not results['items']:\n",
    "#                 break \n",
    "\n",
    "#             for item in results['items']:\n",
    "#                 track = item.get('track')\n",
    "#                 if not track:\n",
    "#                     continue\n",
    "                \n",
    "#                 album = track.get('album', {})\n",
    "#                 artists = track.get('artists', [])\n",
    "#                 artist_names = ', '.join([artist['name'] for artist in artists]) if artists else 'null'\n",
    "                \n",
    "#                 for artist in artists:\n",
    "#                     artist_ids.add(artist['id'])\n",
    "\n",
    "#                 vietnam_songs.append({\n",
    "#                     'name': track.get('name', 'null'),\n",
    "#                     'release_date': album.get('release_date', 'null'),\n",
    "#                     'album_type': album.get('album_type', 'null'),\n",
    "#                     'album_name': album.get('name', 'null'),\n",
    "#                     'artists': artist_names,\n",
    "#                     'duration_ms': track.get('duration_ms', 'null'),\n",
    "#                     'popularity': track.get('popularity', 'null'),\n",
    "#                     'spotify_url': track.get('external_urls', {}).get('spotify', 'null'),\n",
    "#                 })\n",
    "            \n",
    "#             offset += limit\n",
    "\n",
    "#     return vietnam_songs, list(artist_ids)\n",
    "\n",
    "# def get_artist_details(artist_ids):\n",
    "#     '''\n",
    "#     Retrieve artist details using Spotify API.\n",
    "#     '''\n",
    "#     artist_info = []\n",
    "    \n",
    "#     for artist_id in artist_ids:\n",
    "#         artist = sp.artist(artist_id)\n",
    "#         artist_info.append({\n",
    "#             'name': artist.get('name', 'null'),\n",
    "#             'followers': artist.get('followers', {}).get('total', 'null'),\n",
    "#             'popularity': artist.get('popularity', 'null'),\n",
    "#             'spotify_url': artist.get('external_urls', {}).get('spotify', 'null'),\n",
    "#         })\n",
    "    \n",
    "#     return artist_info\n",
    "\n",
    "# def save_to_csv(data, filename, fieldnames):\n",
    "#     '''\n",
    "#     Save extracted data into a CSV file.\n",
    "#     '''\n",
    "#     with open(filename, mode='w', newline='', encoding='utf-8') as file:\n",
    "#         writer = csv.DictWriter(file, fieldnames=fieldnames)\n",
    "#         writer.writeheader()\n",
    "#         for row in data:\n",
    "#             writer.writerow(row)\n",
    "\n",
    "# vietnam_songs, artist_ids = get_vietnamese_songs_and_artists()\n",
    "# save_to_csv(vietnam_songs, 'vietnamese_songs.csv', [\n",
    "#     'name', 'release_date', 'album_type', 'album_name', 'artists', 'duration_ms', 'popularity', 'spotify_url'\n",
    "# ])\n",
    "\n",
    "# artist_info = get_artist_details(artist_ids)\n",
    "# save_to_csv(artist_info, 'artists_info.csv', ['name', 'followers', 'popularity', 'spotify_url'])"
   ]
  },
  {
   "cell_type": "markdown",
   "metadata": {},
   "source": [
    "## **Đọc bộ dữ liệu**"
   ]
  },
  {
   "cell_type": "code",
   "execution_count": 63,
   "metadata": {},
   "outputs": [
    {
     "data": {
      "text/html": [
       "<div>\n",
       "<style scoped>\n",
       "    .dataframe tbody tr th:only-of-type {\n",
       "        vertical-align: middle;\n",
       "    }\n",
       "\n",
       "    .dataframe tbody tr th {\n",
       "        vertical-align: top;\n",
       "    }\n",
       "\n",
       "    .dataframe thead th {\n",
       "        text-align: right;\n",
       "    }\n",
       "</style>\n",
       "<table border=\"1\" class=\"dataframe\">\n",
       "  <thead>\n",
       "    <tr style=\"text-align: right;\">\n",
       "      <th></th>\n",
       "      <th>name</th>\n",
       "      <th>release_date</th>\n",
       "      <th>album_type</th>\n",
       "      <th>album_name</th>\n",
       "      <th>artists</th>\n",
       "      <th>duration_ms</th>\n",
       "      <th>popularity</th>\n",
       "      <th>spotify_url</th>\n",
       "    </tr>\n",
       "  </thead>\n",
       "  <tbody>\n",
       "    <tr>\n",
       "      <th>0</th>\n",
       "      <td>Chúng Ta Của Hiện Tại</td>\n",
       "      <td>2020-12-20</td>\n",
       "      <td>single</td>\n",
       "      <td>Chúng Ta Của Hiện Tại</td>\n",
       "      <td>Sơn Tùng M-TP</td>\n",
       "      <td>301538</td>\n",
       "      <td>0.0</td>\n",
       "      <td>https://open.spotify.com/track/17iGUekw5nFt5mI...</td>\n",
       "    </tr>\n",
       "    <tr>\n",
       "      <th>1</th>\n",
       "      <td>Đi Về Nhà</td>\n",
       "      <td>2020-12-20</td>\n",
       "      <td>single</td>\n",
       "      <td>Đi Về Nhà</td>\n",
       "      <td>Đen, JustaTee</td>\n",
       "      <td>200000</td>\n",
       "      <td>57.0</td>\n",
       "      <td>https://open.spotify.com/track/7LVrrX8pkzI9fMF...</td>\n",
       "    </tr>\n",
       "    <tr>\n",
       "      <th>2</th>\n",
       "      <td>Sinh Ra Đã Là Thứ Đối Lập Nhau</td>\n",
       "      <td>2018-03-01</td>\n",
       "      <td>single</td>\n",
       "      <td>Sinh Ra Đã Là Thứ Đối Lập Nhau</td>\n",
       "      <td>Emcee L (Da LAB)</td>\n",
       "      <td>234168</td>\n",
       "      <td>0.0</td>\n",
       "      <td>https://open.spotify.com/track/6IAqflHsPVm4EpY...</td>\n",
       "    </tr>\n",
       "    <tr>\n",
       "      <th>3</th>\n",
       "      <td>Bước Qua Mùa Cô Đơn</td>\n",
       "      <td>2020-12-10</td>\n",
       "      <td>single</td>\n",
       "      <td>Bước Qua Mùa Cô Đơn</td>\n",
       "      <td>Vũ.</td>\n",
       "      <td>278823</td>\n",
       "      <td>42.0</td>\n",
       "      <td>https://open.spotify.com/track/7wkX67ruxr3x2GF...</td>\n",
       "    </tr>\n",
       "    <tr>\n",
       "      <th>4</th>\n",
       "      <td>Nàng Thơ</td>\n",
       "      <td>2018-03-01</td>\n",
       "      <td>single</td>\n",
       "      <td>Nàng Thơ</td>\n",
       "      <td>Hoàng Dũng</td>\n",
       "      <td>254476</td>\n",
       "      <td>0.0</td>\n",
       "      <td>https://open.spotify.com/track/2LykruN1mQlg9nu...</td>\n",
       "    </tr>\n",
       "  </tbody>\n",
       "</table>\n",
       "</div>"
      ],
      "text/plain": [
       "                             name release_date album_type  \\\n",
       "0           Chúng Ta Của Hiện Tại   2020-12-20     single   \n",
       "1                       Đi Về Nhà   2020-12-20     single   \n",
       "2  Sinh Ra Đã Là Thứ Đối Lập Nhau   2018-03-01     single   \n",
       "3             Bước Qua Mùa Cô Đơn   2020-12-10     single   \n",
       "4                        Nàng Thơ   2018-03-01     single   \n",
       "\n",
       "                       album_name           artists  duration_ms  popularity  \\\n",
       "0           Chúng Ta Của Hiện Tại     Sơn Tùng M-TP       301538         0.0   \n",
       "1                       Đi Về Nhà     Đen, JustaTee       200000        57.0   \n",
       "2  Sinh Ra Đã Là Thứ Đối Lập Nhau  Emcee L (Da LAB)       234168         0.0   \n",
       "3             Bước Qua Mùa Cô Đơn               Vũ.       278823        42.0   \n",
       "4                        Nàng Thơ        Hoàng Dũng       254476         0.0   \n",
       "\n",
       "                                         spotify_url  \n",
       "0  https://open.spotify.com/track/17iGUekw5nFt5mI...  \n",
       "1  https://open.spotify.com/track/7LVrrX8pkzI9fMF...  \n",
       "2  https://open.spotify.com/track/6IAqflHsPVm4EpY...  \n",
       "3  https://open.spotify.com/track/7wkX67ruxr3x2GF...  \n",
       "4  https://open.spotify.com/track/2LykruN1mQlg9nu...  "
      ]
     },
     "execution_count": 63,
     "metadata": {},
     "output_type": "execute_result"
    }
   ],
   "source": [
    "tracks = pd.read_csv(filepath_or_buffer='./vietnamese_songs.csv')\n",
    "tracks.head()"
   ]
  },
  {
   "cell_type": "code",
   "execution_count": 64,
   "metadata": {},
   "outputs": [
    {
     "data": {
      "text/html": [
       "<div>\n",
       "<style scoped>\n",
       "    .dataframe tbody tr th:only-of-type {\n",
       "        vertical-align: middle;\n",
       "    }\n",
       "\n",
       "    .dataframe tbody tr th {\n",
       "        vertical-align: top;\n",
       "    }\n",
       "\n",
       "    .dataframe thead th {\n",
       "        text-align: right;\n",
       "    }\n",
       "</style>\n",
       "<table border=\"1\" class=\"dataframe\">\n",
       "  <thead>\n",
       "    <tr style=\"text-align: right;\">\n",
       "      <th></th>\n",
       "      <th>name</th>\n",
       "      <th>followers</th>\n",
       "      <th>popularity</th>\n",
       "      <th>type</th>\n",
       "      <th>spotify_url</th>\n",
       "    </tr>\n",
       "  </thead>\n",
       "  <tbody>\n",
       "    <tr>\n",
       "      <th>0</th>\n",
       "      <td>B-Wine</td>\n",
       "      <td>25056</td>\n",
       "      <td>39</td>\n",
       "      <td>artist</td>\n",
       "      <td>https://open.spotify.com/artist/68Vj5ArAHBx2K0...</td>\n",
       "    </tr>\n",
       "    <tr>\n",
       "      <th>1</th>\n",
       "      <td>Hoài Linh</td>\n",
       "      <td>1204</td>\n",
       "      <td>6</td>\n",
       "      <td>artist</td>\n",
       "      <td>https://open.spotify.com/artist/1NjP7vajmbOlCR...</td>\n",
       "    </tr>\n",
       "    <tr>\n",
       "      <th>2</th>\n",
       "      <td>Anh Phan</td>\n",
       "      <td>100407</td>\n",
       "      <td>39</td>\n",
       "      <td>artist</td>\n",
       "      <td>https://open.spotify.com/artist/6Zx90B1VRgR4TB...</td>\n",
       "    </tr>\n",
       "    <tr>\n",
       "      <th>3</th>\n",
       "      <td>Ngân Ngân</td>\n",
       "      <td>10059</td>\n",
       "      <td>38</td>\n",
       "      <td>artist</td>\n",
       "      <td>https://open.spotify.com/artist/2ukex9mJuIbR6m...</td>\n",
       "    </tr>\n",
       "    <tr>\n",
       "      <th>4</th>\n",
       "      <td>Hồ Việt Trung</td>\n",
       "      <td>44441</td>\n",
       "      <td>30</td>\n",
       "      <td>artist</td>\n",
       "      <td>https://open.spotify.com/artist/0XOHQOteNO7pqY...</td>\n",
       "    </tr>\n",
       "  </tbody>\n",
       "</table>\n",
       "</div>"
      ],
      "text/plain": [
       "            name  followers  popularity    type  \\\n",
       "0         B-Wine      25056          39  artist   \n",
       "1      Hoài Linh       1204           6  artist   \n",
       "2       Anh Phan     100407          39  artist   \n",
       "3      Ngân Ngân      10059          38  artist   \n",
       "4  Hồ Việt Trung      44441          30  artist   \n",
       "\n",
       "                                         spotify_url  \n",
       "0  https://open.spotify.com/artist/68Vj5ArAHBx2K0...  \n",
       "1  https://open.spotify.com/artist/1NjP7vajmbOlCR...  \n",
       "2  https://open.spotify.com/artist/6Zx90B1VRgR4TB...  \n",
       "3  https://open.spotify.com/artist/2ukex9mJuIbR6m...  \n",
       "4  https://open.spotify.com/artist/0XOHQOteNO7pqY...  "
      ]
     },
     "execution_count": 64,
     "metadata": {},
     "output_type": "execute_result"
    }
   ],
   "source": [
    "artists = pd.read_csv(filepath_or_buffer='./artists_info.csv')\n",
    "artists.head()"
   ]
  },
  {
   "cell_type": "markdown",
   "metadata": {},
   "source": [
    "## **Khám phá dữ liệu**"
   ]
  },
  {
   "cell_type": "markdown",
   "metadata": {},
   "source": [
    "Bảng bên dưới mô tả chi tiết ý nghĩa của các thuộc tính trong bộ dữ liệu `vietnamese_songs.csv`\n",
    "\n",
    "<center>\n",
    "\n",
    "| **Tên thuộc tính** | **Ý nghĩa** |\n",
    "| -----              | -----       |\n",
    "| **name** | Tên bài hát |\n",
    "| **release_date** | Ngày bài hát được ra mắt/phát hành |\n",
    "| **album_type** | Loại album mà bài hát thuộc về (ví dụ: album, single, compilation) |\n",
    "| **album_name** | Tên của album mà bài hát thuộc về |\n",
    "| **artists** | Tên của các nghệ sĩ trình diễn bài hát. Nếu có nhiều nghệ sĩ, tên các nghệ sĩ sẽ được phân tách bằng dấu phẩy (\",\") |\n",
    "| **duration_ms** | Độ dài của bài hát tính theo đơn vị milli giây |\n",
    "| **popularity** | Độ phổ biến của bài hát trên nền tảng Spotify, được tính từ 0 đến 100 (100 là phổ biến nhất) |\n",
    "| **sportify_url** | Liên kết URL dẫn đến bài hát trên nền tảng Spotify |\n",
    "\n",
    "\n",
    "</center>"
   ]
  },
  {
   "cell_type": "markdown",
   "metadata": {},
   "source": [
    "## **Tiền xử lý dữ liệu**"
   ]
  },
  {
   "cell_type": "markdown",
   "metadata": {},
   "source": [
    "### **Tổng quan về dữ liệu**"
   ]
  },
  {
   "cell_type": "code",
   "execution_count": 65,
   "metadata": {},
   "outputs": [
    {
     "name": "stdout",
     "output_type": "stream",
     "text": [
      "<class 'pandas.core.frame.DataFrame'>\n",
      "RangeIndex: 5994 entries, 0 to 5993\n",
      "Data columns (total 8 columns):\n",
      " #   Column        Non-Null Count  Dtype  \n",
      "---  ------        --------------  -----  \n",
      " 0   name          5991 non-null   object \n",
      " 1   release_date  5992 non-null   object \n",
      " 2   album_type    5992 non-null   object \n",
      " 3   album_name    5989 non-null   object \n",
      " 4   artists       5989 non-null   object \n",
      " 5   duration_ms   5994 non-null   int64  \n",
      " 6   popularity    5993 non-null   float64\n",
      " 7   spotify_url   5993 non-null   object \n",
      "dtypes: float64(1), int64(1), object(6)\n",
      "memory usage: 374.8+ KB\n"
     ]
    }
   ],
   "source": [
    "tracks.info()"
   ]
  },
  {
   "cell_type": "markdown",
   "metadata": {},
   "source": [
    "**Nhận xét**\n",
    "- Dữ liệu có 4120 dòng và 8 thuộc tính (cột)\n",
    "- Có một số cột bị thiếu giá trị bao gồm **`name`**, **`release_date`**, **`album_type`**, **`album_name`**, **`artists`** và **`popularity`**\n",
    "- **release_data** cần chuyển sang kiểu dữ liệu **`datatime`**"
   ]
  },
  {
   "cell_type": "code",
   "execution_count": 66,
   "metadata": {},
   "outputs": [
    {
     "data": {
      "text/html": [
       "<div>\n",
       "<style scoped>\n",
       "    .dataframe tbody tr th:only-of-type {\n",
       "        vertical-align: middle;\n",
       "    }\n",
       "\n",
       "    .dataframe tbody tr th {\n",
       "        vertical-align: top;\n",
       "    }\n",
       "\n",
       "    .dataframe thead th {\n",
       "        text-align: right;\n",
       "    }\n",
       "</style>\n",
       "<table border=\"1\" class=\"dataframe\">\n",
       "  <thead>\n",
       "    <tr style=\"text-align: right;\">\n",
       "      <th></th>\n",
       "      <th>duration_ms</th>\n",
       "      <th>popularity</th>\n",
       "    </tr>\n",
       "  </thead>\n",
       "  <tbody>\n",
       "    <tr>\n",
       "      <th>count</th>\n",
       "      <td>5.994000e+03</td>\n",
       "      <td>5993.000000</td>\n",
       "    </tr>\n",
       "    <tr>\n",
       "      <th>mean</th>\n",
       "      <td>2.874430e+05</td>\n",
       "      <td>19.460871</td>\n",
       "    </tr>\n",
       "    <tr>\n",
       "      <th>std</th>\n",
       "      <td>1.799015e+05</td>\n",
       "      <td>20.673373</td>\n",
       "    </tr>\n",
       "    <tr>\n",
       "      <th>min</th>\n",
       "      <td>0.000000e+00</td>\n",
       "      <td>0.000000</td>\n",
       "    </tr>\n",
       "    <tr>\n",
       "      <th>25%</th>\n",
       "      <td>2.151720e+05</td>\n",
       "      <td>0.000000</td>\n",
       "    </tr>\n",
       "    <tr>\n",
       "      <th>50%</th>\n",
       "      <td>2.553245e+05</td>\n",
       "      <td>12.000000</td>\n",
       "    </tr>\n",
       "    <tr>\n",
       "      <th>75%</th>\n",
       "      <td>2.963022e+05</td>\n",
       "      <td>39.000000</td>\n",
       "    </tr>\n",
       "    <tr>\n",
       "      <th>max</th>\n",
       "      <td>2.922361e+06</td>\n",
       "      <td>73.000000</td>\n",
       "    </tr>\n",
       "  </tbody>\n",
       "</table>\n",
       "</div>"
      ],
      "text/plain": [
       "        duration_ms   popularity\n",
       "count  5.994000e+03  5993.000000\n",
       "mean   2.874430e+05    19.460871\n",
       "std    1.799015e+05    20.673373\n",
       "min    0.000000e+00     0.000000\n",
       "25%    2.151720e+05     0.000000\n",
       "50%    2.553245e+05    12.000000\n",
       "75%    2.963022e+05    39.000000\n",
       "max    2.922361e+06    73.000000"
      ]
     },
     "execution_count": 66,
     "metadata": {},
     "output_type": "execute_result"
    }
   ],
   "source": [
    "tracks.describe()"
   ]
  },
  {
   "cell_type": "markdown",
   "metadata": {},
   "source": [
    "### **Thay đổi kiểu dữ liệu**"
   ]
  },
  {
   "cell_type": "code",
   "execution_count": 67,
   "metadata": {},
   "outputs": [
    {
     "data": {
      "text/html": [
       "<div>\n",
       "<style scoped>\n",
       "    .dataframe tbody tr th:only-of-type {\n",
       "        vertical-align: middle;\n",
       "    }\n",
       "\n",
       "    .dataframe tbody tr th {\n",
       "        vertical-align: top;\n",
       "    }\n",
       "\n",
       "    .dataframe thead th {\n",
       "        text-align: right;\n",
       "    }\n",
       "</style>\n",
       "<table border=\"1\" class=\"dataframe\">\n",
       "  <thead>\n",
       "    <tr style=\"text-align: right;\">\n",
       "      <th></th>\n",
       "      <th>name</th>\n",
       "      <th>release_date</th>\n",
       "      <th>album_type</th>\n",
       "      <th>album_name</th>\n",
       "      <th>artists</th>\n",
       "      <th>duration_ms</th>\n",
       "      <th>popularity</th>\n",
       "      <th>spotify_url</th>\n",
       "    </tr>\n",
       "  </thead>\n",
       "  <tbody>\n",
       "    <tr>\n",
       "      <th>1051</th>\n",
       "      <td>Năm Ấy</td>\n",
       "      <td>0000</td>\n",
       "      <td>single</td>\n",
       "      <td>Năm Ấy</td>\n",
       "      <td>Đức Phúc</td>\n",
       "      <td>260351</td>\n",
       "      <td>37.0</td>\n",
       "      <td>https://open.spotify.com/track/7BSyMiUKDSXdnZ9...</td>\n",
       "    </tr>\n",
       "    <tr>\n",
       "      <th>1782</th>\n",
       "      <td>Năm Ấy</td>\n",
       "      <td>0000</td>\n",
       "      <td>single</td>\n",
       "      <td>Năm Ấy</td>\n",
       "      <td>Đức Phúc</td>\n",
       "      <td>260351</td>\n",
       "      <td>37.0</td>\n",
       "      <td>https://open.spotify.com/track/7BSyMiUKDSXdnZ9...</td>\n",
       "    </tr>\n",
       "    <tr>\n",
       "      <th>2239</th>\n",
       "      <td>Vì Sao Cuối Trời</td>\n",
       "      <td>0000</td>\n",
       "      <td>album</td>\n",
       "      <td>Những Bài Hát Hay Nhất Của Minh Vương M4U (ori...</td>\n",
       "      <td>Minh Vương M4U</td>\n",
       "      <td>251951</td>\n",
       "      <td>0.0</td>\n",
       "      <td>https://open.spotify.com/track/5CeVzm3UPr3rgVs...</td>\n",
       "    </tr>\n",
       "    <tr>\n",
       "      <th>2408</th>\n",
       "      <td>Anh Phải Làm Sao</td>\n",
       "      <td>0000</td>\n",
       "      <td>album</td>\n",
       "      <td>Anh Phải Làm Sao</td>\n",
       "      <td>Đan Trường</td>\n",
       "      <td>276532</td>\n",
       "      <td>0.0</td>\n",
       "      <td>https://open.spotify.com/track/1eGjdNUedFs5pbC...</td>\n",
       "    </tr>\n",
       "    <tr>\n",
       "      <th>2409</th>\n",
       "      <td>Kiếp Ve Sầu</td>\n",
       "      <td>0000</td>\n",
       "      <td>album</td>\n",
       "      <td>Album Nhạc Tuyển Vol1</td>\n",
       "      <td>Đan Trường</td>\n",
       "      <td>243853</td>\n",
       "      <td>0.0</td>\n",
       "      <td>https://open.spotify.com/track/5CNHksxHh3SQWDp...</td>\n",
       "    </tr>\n",
       "  </tbody>\n",
       "</table>\n",
       "</div>"
      ],
      "text/plain": [
       "                  name release_date album_type  \\\n",
       "1051            Năm Ấy         0000     single   \n",
       "1782            Năm Ấy         0000     single   \n",
       "2239  Vì Sao Cuối Trời         0000      album   \n",
       "2408  Anh Phải Làm Sao         0000      album   \n",
       "2409       Kiếp Ve Sầu         0000      album   \n",
       "\n",
       "                                             album_name         artists  \\\n",
       "1051                                             Năm Ấy        Đức Phúc   \n",
       "1782                                             Năm Ấy        Đức Phúc   \n",
       "2239  Những Bài Hát Hay Nhất Của Minh Vương M4U (ori...  Minh Vương M4U   \n",
       "2408                                   Anh Phải Làm Sao      Đan Trường   \n",
       "2409                              Album Nhạc Tuyển Vol1      Đan Trường   \n",
       "\n",
       "      duration_ms  popularity  \\\n",
       "1051       260351        37.0   \n",
       "1782       260351        37.0   \n",
       "2239       251951         0.0   \n",
       "2408       276532         0.0   \n",
       "2409       243853         0.0   \n",
       "\n",
       "                                            spotify_url  \n",
       "1051  https://open.spotify.com/track/7BSyMiUKDSXdnZ9...  \n",
       "1782  https://open.spotify.com/track/7BSyMiUKDSXdnZ9...  \n",
       "2239  https://open.spotify.com/track/5CeVzm3UPr3rgVs...  \n",
       "2408  https://open.spotify.com/track/1eGjdNUedFs5pbC...  \n",
       "2409  https://open.spotify.com/track/5CNHksxHh3SQWDp...  "
      ]
     },
     "execution_count": 67,
     "metadata": {},
     "output_type": "execute_result"
    }
   ],
   "source": [
    "tracks[(tracks['release_date'].str.len() < 10) & (tracks['release_date'].str.startswith('0'))].head()"
   ]
  },
  {
   "cell_type": "code",
   "execution_count": 68,
   "metadata": {},
   "outputs": [
    {
     "data": {
      "text/html": [
       "<div>\n",
       "<style scoped>\n",
       "    .dataframe tbody tr th:only-of-type {\n",
       "        vertical-align: middle;\n",
       "    }\n",
       "\n",
       "    .dataframe tbody tr th {\n",
       "        vertical-align: top;\n",
       "    }\n",
       "\n",
       "    .dataframe thead th {\n",
       "        text-align: right;\n",
       "    }\n",
       "</style>\n",
       "<table border=\"1\" class=\"dataframe\">\n",
       "  <thead>\n",
       "    <tr style=\"text-align: right;\">\n",
       "      <th></th>\n",
       "      <th>name</th>\n",
       "      <th>release_date</th>\n",
       "      <th>album_type</th>\n",
       "      <th>album_name</th>\n",
       "      <th>artists</th>\n",
       "      <th>duration_ms</th>\n",
       "      <th>popularity</th>\n",
       "      <th>spotify_url</th>\n",
       "    </tr>\n",
       "  </thead>\n",
       "  <tbody>\n",
       "    <tr>\n",
       "      <th>2379</th>\n",
       "      <td>Hương Ngọc Lan</td>\n",
       "      <td>1998</td>\n",
       "      <td>album</td>\n",
       "      <td>Tóc Ngắn</td>\n",
       "      <td>Mỹ Linh</td>\n",
       "      <td>358333</td>\n",
       "      <td>20.0</td>\n",
       "      <td>https://open.spotify.com/track/7843ngQIIA5NLCx...</td>\n",
       "    </tr>\n",
       "    <tr>\n",
       "      <th>2380</th>\n",
       "      <td>Tóc Ngắn</td>\n",
       "      <td>1998</td>\n",
       "      <td>album</td>\n",
       "      <td>Tóc Ngắn</td>\n",
       "      <td>Mỹ Linh</td>\n",
       "      <td>276573</td>\n",
       "      <td>13.0</td>\n",
       "      <td>https://open.spotify.com/track/2NcpzPfzey5QFYx...</td>\n",
       "    </tr>\n",
       "    <tr>\n",
       "      <th>2381</th>\n",
       "      <td>Hoa Cỏ Mùa Xuân</td>\n",
       "      <td>1998</td>\n",
       "      <td>album</td>\n",
       "      <td>Tóc Ngắn</td>\n",
       "      <td>Mỹ Linh</td>\n",
       "      <td>223346</td>\n",
       "      <td>13.0</td>\n",
       "      <td>https://open.spotify.com/track/2AjVCrZoxoijNi4...</td>\n",
       "    </tr>\n",
       "    <tr>\n",
       "      <th>2856</th>\n",
       "      <td>Dĩ Vãng Nhạt Nhòa</td>\n",
       "      <td>1994</td>\n",
       "      <td>album</td>\n",
       "      <td>Mong Mo</td>\n",
       "      <td>Lưu Bích, Tô Chấn Phong</td>\n",
       "      <td>237626</td>\n",
       "      <td>0.0</td>\n",
       "      <td>https://open.spotify.com/track/0tQX75vF3SMNgys...</td>\n",
       "    </tr>\n",
       "    <tr>\n",
       "      <th>4696</th>\n",
       "      <td>Long Me</td>\n",
       "      <td>1998</td>\n",
       "      <td>album</td>\n",
       "      <td>Cai Luong Tan Co Lan &amp; Diep</td>\n",
       "      <td>Hương Lan</td>\n",
       "      <td>568928</td>\n",
       "      <td>5.0</td>\n",
       "      <td>https://open.spotify.com/track/0jbj0deUG9gOHdz...</td>\n",
       "    </tr>\n",
       "  </tbody>\n",
       "</table>\n",
       "</div>"
      ],
      "text/plain": [
       "                   name release_date album_type                   album_name  \\\n",
       "2379     Hương Ngọc Lan         1998      album                     Tóc Ngắn   \n",
       "2380           Tóc Ngắn         1998      album                     Tóc Ngắn   \n",
       "2381    Hoa Cỏ Mùa Xuân         1998      album                     Tóc Ngắn   \n",
       "2856  Dĩ Vãng Nhạt Nhòa         1994      album                      Mong Mo   \n",
       "4696            Long Me         1998      album  Cai Luong Tan Co Lan & Diep   \n",
       "\n",
       "                      artists  duration_ms  popularity  \\\n",
       "2379                  Mỹ Linh       358333        20.0   \n",
       "2380                  Mỹ Linh       276573        13.0   \n",
       "2381                  Mỹ Linh       223346        13.0   \n",
       "2856  Lưu Bích, Tô Chấn Phong       237626         0.0   \n",
       "4696                Hương Lan       568928         5.0   \n",
       "\n",
       "                                            spotify_url  \n",
       "2379  https://open.spotify.com/track/7843ngQIIA5NLCx...  \n",
       "2380  https://open.spotify.com/track/2NcpzPfzey5QFYx...  \n",
       "2381  https://open.spotify.com/track/2AjVCrZoxoijNi4...  \n",
       "2856  https://open.spotify.com/track/0tQX75vF3SMNgys...  \n",
       "4696  https://open.spotify.com/track/0jbj0deUG9gOHdz...  "
      ]
     },
     "execution_count": 68,
     "metadata": {},
     "output_type": "execute_result"
    }
   ],
   "source": [
    "tracks[(tracks['release_date'].str.len() < 10) & (tracks['release_date'].str.startswith('1'))].head()"
   ]
  },
  {
   "cell_type": "code",
   "execution_count": 69,
   "metadata": {},
   "outputs": [
    {
     "data": {
      "text/html": [
       "<div>\n",
       "<style scoped>\n",
       "    .dataframe tbody tr th:only-of-type {\n",
       "        vertical-align: middle;\n",
       "    }\n",
       "\n",
       "    .dataframe tbody tr th {\n",
       "        vertical-align: top;\n",
       "    }\n",
       "\n",
       "    .dataframe thead th {\n",
       "        text-align: right;\n",
       "    }\n",
       "</style>\n",
       "<table border=\"1\" class=\"dataframe\">\n",
       "  <thead>\n",
       "    <tr style=\"text-align: right;\">\n",
       "      <th></th>\n",
       "      <th>name</th>\n",
       "      <th>release_date</th>\n",
       "      <th>album_type</th>\n",
       "      <th>album_name</th>\n",
       "      <th>artists</th>\n",
       "      <th>duration_ms</th>\n",
       "      <th>popularity</th>\n",
       "      <th>spotify_url</th>\n",
       "    </tr>\n",
       "  </thead>\n",
       "  <tbody>\n",
       "    <tr>\n",
       "      <th>135</th>\n",
       "      <td>Thái Bình Mồ Hôi Rơi</td>\n",
       "      <td>2013</td>\n",
       "      <td>album</td>\n",
       "      <td>m-tp M-TP</td>\n",
       "      <td>Sơn Tùng M-TP</td>\n",
       "      <td>318093</td>\n",
       "      <td>0.0</td>\n",
       "      <td>https://open.spotify.com/track/77WB1SRD0tGgkKQ...</td>\n",
       "    </tr>\n",
       "    <tr>\n",
       "      <th>136</th>\n",
       "      <td>Ấn Nút Nhớ... Thả Giấc Mơ</td>\n",
       "      <td>2013</td>\n",
       "      <td>album</td>\n",
       "      <td>m-tp M-TP</td>\n",
       "      <td>Sơn Tùng M-TP</td>\n",
       "      <td>244539</td>\n",
       "      <td>0.0</td>\n",
       "      <td>https://open.spotify.com/track/0zNyJEcrEbYvwA0...</td>\n",
       "    </tr>\n",
       "    <tr>\n",
       "      <th>137</th>\n",
       "      <td>Tiến Lên Việt Nam Ơi</td>\n",
       "      <td>2013</td>\n",
       "      <td>album</td>\n",
       "      <td>m-tp M-TP</td>\n",
       "      <td>Sơn Tùng M-TP</td>\n",
       "      <td>218627</td>\n",
       "      <td>0.0</td>\n",
       "      <td>https://open.spotify.com/track/7i5YAG2YaXwKSuj...</td>\n",
       "    </tr>\n",
       "    <tr>\n",
       "      <th>138</th>\n",
       "      <td>Remember Me - SlimV remix</td>\n",
       "      <td>2013</td>\n",
       "      <td>album</td>\n",
       "      <td>m-tp M-TP</td>\n",
       "      <td>Sơn Tùng M-TP, Slim-V</td>\n",
       "      <td>203493</td>\n",
       "      <td>0.0</td>\n",
       "      <td>https://open.spotify.com/track/3Gunzjkn4oou0dZ...</td>\n",
       "    </tr>\n",
       "    <tr>\n",
       "      <th>139</th>\n",
       "      <td>Như Ngày Hôm Qua</td>\n",
       "      <td>2013</td>\n",
       "      <td>album</td>\n",
       "      <td>m-tp M-TP</td>\n",
       "      <td>Sơn Tùng M-TP</td>\n",
       "      <td>222981</td>\n",
       "      <td>0.0</td>\n",
       "      <td>https://open.spotify.com/track/6BToHhGtbW8eMQF...</td>\n",
       "    </tr>\n",
       "  </tbody>\n",
       "</table>\n",
       "</div>"
      ],
      "text/plain": [
       "                          name release_date album_type album_name  \\\n",
       "135       Thái Bình Mồ Hôi Rơi         2013      album  m-tp M-TP   \n",
       "136  Ấn Nút Nhớ... Thả Giấc Mơ         2013      album  m-tp M-TP   \n",
       "137       Tiến Lên Việt Nam Ơi         2013      album  m-tp M-TP   \n",
       "138  Remember Me - SlimV remix         2013      album  m-tp M-TP   \n",
       "139           Như Ngày Hôm Qua         2013      album  m-tp M-TP   \n",
       "\n",
       "                   artists  duration_ms  popularity  \\\n",
       "135          Sơn Tùng M-TP       318093         0.0   \n",
       "136          Sơn Tùng M-TP       244539         0.0   \n",
       "137          Sơn Tùng M-TP       218627         0.0   \n",
       "138  Sơn Tùng M-TP, Slim-V       203493         0.0   \n",
       "139          Sơn Tùng M-TP       222981         0.0   \n",
       "\n",
       "                                           spotify_url  \n",
       "135  https://open.spotify.com/track/77WB1SRD0tGgkKQ...  \n",
       "136  https://open.spotify.com/track/0zNyJEcrEbYvwA0...  \n",
       "137  https://open.spotify.com/track/7i5YAG2YaXwKSuj...  \n",
       "138  https://open.spotify.com/track/3Gunzjkn4oou0dZ...  \n",
       "139  https://open.spotify.com/track/6BToHhGtbW8eMQF...  "
      ]
     },
     "execution_count": 69,
     "metadata": {},
     "output_type": "execute_result"
    }
   ],
   "source": [
    "tracks[(tracks['release_date'].str.len() < 10) & (tracks['release_date'].str.startswith('2'))].head()"
   ]
  },
  {
   "cell_type": "code",
   "execution_count": 70,
   "metadata": {},
   "outputs": [
    {
     "data": {
      "text/html": [
       "<div>\n",
       "<style scoped>\n",
       "    .dataframe tbody tr th:only-of-type {\n",
       "        vertical-align: middle;\n",
       "    }\n",
       "\n",
       "    .dataframe tbody tr th {\n",
       "        vertical-align: top;\n",
       "    }\n",
       "\n",
       "    .dataframe thead th {\n",
       "        text-align: right;\n",
       "    }\n",
       "</style>\n",
       "<table border=\"1\" class=\"dataframe\">\n",
       "  <thead>\n",
       "    <tr style=\"text-align: right;\">\n",
       "      <th></th>\n",
       "      <th>name</th>\n",
       "      <th>release_date</th>\n",
       "      <th>album_type</th>\n",
       "      <th>album_name</th>\n",
       "      <th>artists</th>\n",
       "      <th>duration_ms</th>\n",
       "      <th>popularity</th>\n",
       "      <th>spotify_url</th>\n",
       "    </tr>\n",
       "  </thead>\n",
       "  <tbody>\n",
       "    <tr>\n",
       "      <th>618</th>\n",
       "      <td>Và Rồi Em Block….</td>\n",
       "      <td>NaN</td>\n",
       "      <td>NaN</td>\n",
       "      <td>NaN</td>\n",
       "      <td>NaN</td>\n",
       "      <td>186528</td>\n",
       "      <td>NaN</td>\n",
       "      <td>https://open.spotify.com/episode/7pHlGWTt9ZQoK...</td>\n",
       "    </tr>\n",
       "    <tr>\n",
       "      <th>4527</th>\n",
       "      <td>Please Tell Me Why  Bảo Thy X Vương Khang  LYR...</td>\n",
       "      <td>NaN</td>\n",
       "      <td>NaN</td>\n",
       "      <td>NaN</td>\n",
       "      <td>NaN</td>\n",
       "      <td>266000</td>\n",
       "      <td>0.0</td>\n",
       "      <td>NaN</td>\n",
       "    </tr>\n",
       "  </tbody>\n",
       "</table>\n",
       "</div>"
      ],
      "text/plain": [
       "                                                   name release_date  \\\n",
       "618                                   Và Rồi Em Block….          NaN   \n",
       "4527  Please Tell Me Why  Bảo Thy X Vương Khang  LYR...          NaN   \n",
       "\n",
       "     album_type album_name artists  duration_ms  popularity  \\\n",
       "618         NaN        NaN     NaN       186528         NaN   \n",
       "4527        NaN        NaN     NaN       266000         0.0   \n",
       "\n",
       "                                            spotify_url  \n",
       "618   https://open.spotify.com/episode/7pHlGWTt9ZQoK...  \n",
       "4527                                                NaN  "
      ]
     },
     "execution_count": 70,
     "metadata": {},
     "output_type": "execute_result"
    }
   ],
   "source": [
    "tracks[tracks['release_date'].isna()].head()"
   ]
  },
  {
   "cell_type": "code",
   "execution_count": 71,
   "metadata": {},
   "outputs": [
    {
     "data": {
      "text/plain": [
       "0   2020-12-20\n",
       "1   2020-12-20\n",
       "2   2018-03-01\n",
       "3   2020-12-10\n",
       "4   2018-03-01\n",
       "Name: release_date, dtype: datetime64[ns]"
      ]
     },
     "execution_count": 71,
     "metadata": {},
     "output_type": "execute_result"
    }
   ],
   "source": [
    "def fix_release_date(date: str) -> str:\n",
    "    if not date or date.startswith('0'):\n",
    "        return None\n",
    "    if len(date) == 4:\n",
    "        return date + '-01-01'\n",
    "    return date\n",
    "\n",
    "tracks['release_date'] = tracks['release_date'].astype(dtype=str).apply(func=fix_release_date)\n",
    "tracks['release_date'] = pd.to_datetime(arg=tracks['release_date'], format='%Y-%m-%d')\n",
    "tracks['release_date'].head()"
   ]
  },
  {
   "cell_type": "code",
   "execution_count": 72,
   "metadata": {},
   "outputs": [
    {
     "data": {
      "text/plain": [
       "name                    object\n",
       "release_date    datetime64[ns]\n",
       "album_type              object\n",
       "album_name              object\n",
       "artists                 object\n",
       "duration_ms              int64\n",
       "popularity             float64\n",
       "spotify_url             object\n",
       "dtype: object"
      ]
     },
     "execution_count": 72,
     "metadata": {},
     "output_type": "execute_result"
    }
   ],
   "source": [
    "tracks.dtypes"
   ]
  },
  {
   "cell_type": "markdown",
   "metadata": {},
   "source": [
    "### **Xử lý các bài hát bị trùng lặp**"
   ]
  },
  {
   "cell_type": "code",
   "execution_count": 73,
   "metadata": {},
   "outputs": [
    {
     "name": "stdout",
     "output_type": "stream",
     "text": [
      "Số lượng bài hát bị trùng lặp (dựa vào tên bài hát và tên nghệ sĩ): 2325\n"
     ]
    }
   ],
   "source": [
    "print(f'Số lượng bài hát bị trùng lặp (dựa vào tên bài hát và tên nghệ sĩ): {tracks.duplicated(subset=['name', 'artists']).sum()}')"
   ]
  },
  {
   "cell_type": "code",
   "execution_count": 74,
   "metadata": {},
   "outputs": [
    {
     "data": {
      "text/html": [
       "<div>\n",
       "<style scoped>\n",
       "    .dataframe tbody tr th:only-of-type {\n",
       "        vertical-align: middle;\n",
       "    }\n",
       "\n",
       "    .dataframe tbody tr th {\n",
       "        vertical-align: top;\n",
       "    }\n",
       "\n",
       "    .dataframe thead th {\n",
       "        text-align: right;\n",
       "    }\n",
       "</style>\n",
       "<table border=\"1\" class=\"dataframe\">\n",
       "  <thead>\n",
       "    <tr style=\"text-align: right;\">\n",
       "      <th></th>\n",
       "      <th>name</th>\n",
       "      <th>release_date</th>\n",
       "      <th>album_type</th>\n",
       "      <th>album_name</th>\n",
       "      <th>artists</th>\n",
       "      <th>duration_ms</th>\n",
       "      <th>popularity</th>\n",
       "      <th>spotify_url</th>\n",
       "    </tr>\n",
       "  </thead>\n",
       "  <tbody>\n",
       "    <tr>\n",
       "      <th>4</th>\n",
       "      <td>Nàng Thơ</td>\n",
       "      <td>2018-03-01</td>\n",
       "      <td>single</td>\n",
       "      <td>Nàng Thơ</td>\n",
       "      <td>Hoàng Dũng</td>\n",
       "      <td>254476</td>\n",
       "      <td>0.0</td>\n",
       "      <td>https://open.spotify.com/track/2LykruN1mQlg9nu...</td>\n",
       "    </tr>\n",
       "    <tr>\n",
       "      <th>255</th>\n",
       "      <td>Nàng Thơ</td>\n",
       "      <td>2018-03-01</td>\n",
       "      <td>album</td>\n",
       "      <td>25</td>\n",
       "      <td>Hoàng Dũng</td>\n",
       "      <td>254476</td>\n",
       "      <td>0.0</td>\n",
       "      <td>https://open.spotify.com/track/6rVaOdWvFaNyVVX...</td>\n",
       "    </tr>\n",
       "    <tr>\n",
       "      <th>1581</th>\n",
       "      <td>Nàng Thơ</td>\n",
       "      <td>2018-03-01</td>\n",
       "      <td>single</td>\n",
       "      <td>Nàng Thơ</td>\n",
       "      <td>Hoàng Dũng</td>\n",
       "      <td>254476</td>\n",
       "      <td>0.0</td>\n",
       "      <td>https://open.spotify.com/track/2LykruN1mQlg9nu...</td>\n",
       "    </tr>\n",
       "    <tr>\n",
       "      <th>1861</th>\n",
       "      <td>Nàng Thơ</td>\n",
       "      <td>2020-03-08</td>\n",
       "      <td>single</td>\n",
       "      <td>Nàng Thơ</td>\n",
       "      <td>Hoàng Dũng</td>\n",
       "      <td>254476</td>\n",
       "      <td>39.0</td>\n",
       "      <td>https://open.spotify.com/track/1s7d2cdaZuktw5Y...</td>\n",
       "    </tr>\n",
       "    <tr>\n",
       "      <th>3503</th>\n",
       "      <td>Nàng Thơ</td>\n",
       "      <td>2018-03-01</td>\n",
       "      <td>single</td>\n",
       "      <td>Nàng Thơ</td>\n",
       "      <td>Hoàng Dũng</td>\n",
       "      <td>254476</td>\n",
       "      <td>0.0</td>\n",
       "      <td>https://open.spotify.com/track/2LykruN1mQlg9nu...</td>\n",
       "    </tr>\n",
       "    <tr>\n",
       "      <th>3687</th>\n",
       "      <td>Nàng Thơ</td>\n",
       "      <td>2020-12-16</td>\n",
       "      <td>album</td>\n",
       "      <td>25</td>\n",
       "      <td>Hoàng Dũng</td>\n",
       "      <td>254476</td>\n",
       "      <td>49.0</td>\n",
       "      <td>https://open.spotify.com/track/1w3eUC89GPspKpi...</td>\n",
       "    </tr>\n",
       "    <tr>\n",
       "      <th>3906</th>\n",
       "      <td>Nàng Thơ</td>\n",
       "      <td>2020-03-08</td>\n",
       "      <td>single</td>\n",
       "      <td>Nàng Thơ</td>\n",
       "      <td>Hoàng Dũng</td>\n",
       "      <td>254476</td>\n",
       "      <td>39.0</td>\n",
       "      <td>https://open.spotify.com/track/1s7d2cdaZuktw5Y...</td>\n",
       "    </tr>\n",
       "    <tr>\n",
       "      <th>4079</th>\n",
       "      <td>Nàng Thơ</td>\n",
       "      <td>2020-12-16</td>\n",
       "      <td>album</td>\n",
       "      <td>25</td>\n",
       "      <td>Hoàng Dũng</td>\n",
       "      <td>254476</td>\n",
       "      <td>49.0</td>\n",
       "      <td>https://open.spotify.com/track/1w3eUC89GPspKpi...</td>\n",
       "    </tr>\n",
       "    <tr>\n",
       "      <th>4185</th>\n",
       "      <td>Nàng Thơ</td>\n",
       "      <td>2020-12-16</td>\n",
       "      <td>album</td>\n",
       "      <td>25</td>\n",
       "      <td>Hoàng Dũng</td>\n",
       "      <td>254476</td>\n",
       "      <td>49.0</td>\n",
       "      <td>https://open.spotify.com/track/1w3eUC89GPspKpi...</td>\n",
       "    </tr>\n",
       "    <tr>\n",
       "      <th>4245</th>\n",
       "      <td>Nàng Thơ</td>\n",
       "      <td>2020-12-16</td>\n",
       "      <td>album</td>\n",
       "      <td>25</td>\n",
       "      <td>Hoàng Dũng</td>\n",
       "      <td>254476</td>\n",
       "      <td>49.0</td>\n",
       "      <td>https://open.spotify.com/track/1w3eUC89GPspKpi...</td>\n",
       "    </tr>\n",
       "    <tr>\n",
       "      <th>4347</th>\n",
       "      <td>Nàng Thơ</td>\n",
       "      <td>2020-12-16</td>\n",
       "      <td>album</td>\n",
       "      <td>25</td>\n",
       "      <td>Hoàng Dũng</td>\n",
       "      <td>254476</td>\n",
       "      <td>49.0</td>\n",
       "      <td>https://open.spotify.com/track/1w3eUC89GPspKpi...</td>\n",
       "    </tr>\n",
       "    <tr>\n",
       "      <th>4400</th>\n",
       "      <td>Nàng Thơ</td>\n",
       "      <td>2020-12-16</td>\n",
       "      <td>album</td>\n",
       "      <td>25</td>\n",
       "      <td>Hoàng Dũng</td>\n",
       "      <td>254476</td>\n",
       "      <td>49.0</td>\n",
       "      <td>https://open.spotify.com/track/1w3eUC89GPspKpi...</td>\n",
       "    </tr>\n",
       "  </tbody>\n",
       "</table>\n",
       "</div>"
      ],
      "text/plain": [
       "          name release_date album_type album_name     artists  duration_ms  \\\n",
       "4     Nàng Thơ   2018-03-01     single   Nàng Thơ  Hoàng Dũng       254476   \n",
       "255   Nàng Thơ   2018-03-01      album         25  Hoàng Dũng       254476   \n",
       "1581  Nàng Thơ   2018-03-01     single   Nàng Thơ  Hoàng Dũng       254476   \n",
       "1861  Nàng Thơ   2020-03-08     single   Nàng Thơ  Hoàng Dũng       254476   \n",
       "3503  Nàng Thơ   2018-03-01     single   Nàng Thơ  Hoàng Dũng       254476   \n",
       "3687  Nàng Thơ   2020-12-16      album         25  Hoàng Dũng       254476   \n",
       "3906  Nàng Thơ   2020-03-08     single   Nàng Thơ  Hoàng Dũng       254476   \n",
       "4079  Nàng Thơ   2020-12-16      album         25  Hoàng Dũng       254476   \n",
       "4185  Nàng Thơ   2020-12-16      album         25  Hoàng Dũng       254476   \n",
       "4245  Nàng Thơ   2020-12-16      album         25  Hoàng Dũng       254476   \n",
       "4347  Nàng Thơ   2020-12-16      album         25  Hoàng Dũng       254476   \n",
       "4400  Nàng Thơ   2020-12-16      album         25  Hoàng Dũng       254476   \n",
       "\n",
       "      popularity                                        spotify_url  \n",
       "4            0.0  https://open.spotify.com/track/2LykruN1mQlg9nu...  \n",
       "255          0.0  https://open.spotify.com/track/6rVaOdWvFaNyVVX...  \n",
       "1581         0.0  https://open.spotify.com/track/2LykruN1mQlg9nu...  \n",
       "1861        39.0  https://open.spotify.com/track/1s7d2cdaZuktw5Y...  \n",
       "3503         0.0  https://open.spotify.com/track/2LykruN1mQlg9nu...  \n",
       "3687        49.0  https://open.spotify.com/track/1w3eUC89GPspKpi...  \n",
       "3906        39.0  https://open.spotify.com/track/1s7d2cdaZuktw5Y...  \n",
       "4079        49.0  https://open.spotify.com/track/1w3eUC89GPspKpi...  \n",
       "4185        49.0  https://open.spotify.com/track/1w3eUC89GPspKpi...  \n",
       "4245        49.0  https://open.spotify.com/track/1w3eUC89GPspKpi...  \n",
       "4347        49.0  https://open.spotify.com/track/1w3eUC89GPspKpi...  \n",
       "4400        49.0  https://open.spotify.com/track/1w3eUC89GPspKpi...  "
      ]
     },
     "execution_count": 74,
     "metadata": {},
     "output_type": "execute_result"
    }
   ],
   "source": [
    "tracks[tracks['name'] == 'Nàng Thơ']"
   ]
  },
  {
   "cell_type": "markdown",
   "metadata": {},
   "source": [
    "**Nhận xét**\n",
    "\n",
    "Ví dụ xét bài hát **Nàng thơ** của nghệ sĩ **Hoàng Dũng**, chúng ta thấy bài hát được phát hành ở 2 thể loại khác nhau là **đĩa đơn (Nàng thơ)** và **album (25)**. Vì thế, chúng ta cần loại bỏ trùng lặp dựa vào `name`, `artists`, `album_type` và `album_name`\n",
    "\n",
    "\n"
   ]
  },
  {
   "cell_type": "code",
   "execution_count": 75,
   "metadata": {},
   "outputs": [],
   "source": [
    "tracks.sort_values(by='release_date', inplace=True)\n",
    "tracks.drop_duplicates(subset=['name', 'artists', 'album_type'], keep='last', inplace=True, ignore_index=True)"
   ]
  },
  {
   "cell_type": "code",
   "execution_count": 76,
   "metadata": {},
   "outputs": [
    {
     "data": {
      "text/html": [
       "<div>\n",
       "<style scoped>\n",
       "    .dataframe tbody tr th:only-of-type {\n",
       "        vertical-align: middle;\n",
       "    }\n",
       "\n",
       "    .dataframe tbody tr th {\n",
       "        vertical-align: top;\n",
       "    }\n",
       "\n",
       "    .dataframe thead th {\n",
       "        text-align: right;\n",
       "    }\n",
       "</style>\n",
       "<table border=\"1\" class=\"dataframe\">\n",
       "  <thead>\n",
       "    <tr style=\"text-align: right;\">\n",
       "      <th></th>\n",
       "      <th>name</th>\n",
       "      <th>release_date</th>\n",
       "      <th>album_type</th>\n",
       "      <th>album_name</th>\n",
       "      <th>artists</th>\n",
       "      <th>duration_ms</th>\n",
       "      <th>popularity</th>\n",
       "      <th>spotify_url</th>\n",
       "    </tr>\n",
       "  </thead>\n",
       "  <tbody>\n",
       "    <tr>\n",
       "      <th>2206</th>\n",
       "      <td>Nàng Thơ</td>\n",
       "      <td>2020-03-08</td>\n",
       "      <td>single</td>\n",
       "      <td>Nàng Thơ</td>\n",
       "      <td>Hoàng Dũng</td>\n",
       "      <td>254476</td>\n",
       "      <td>39.0</td>\n",
       "      <td>https://open.spotify.com/track/1s7d2cdaZuktw5Y...</td>\n",
       "    </tr>\n",
       "    <tr>\n",
       "      <th>2407</th>\n",
       "      <td>Nàng Thơ</td>\n",
       "      <td>2020-12-16</td>\n",
       "      <td>album</td>\n",
       "      <td>25</td>\n",
       "      <td>Hoàng Dũng</td>\n",
       "      <td>254476</td>\n",
       "      <td>49.0</td>\n",
       "      <td>https://open.spotify.com/track/1w3eUC89GPspKpi...</td>\n",
       "    </tr>\n",
       "  </tbody>\n",
       "</table>\n",
       "</div>"
      ],
      "text/plain": [
       "          name release_date album_type album_name     artists  duration_ms  \\\n",
       "2206  Nàng Thơ   2020-03-08     single   Nàng Thơ  Hoàng Dũng       254476   \n",
       "2407  Nàng Thơ   2020-12-16      album         25  Hoàng Dũng       254476   \n",
       "\n",
       "      popularity                                        spotify_url  \n",
       "2206        39.0  https://open.spotify.com/track/1s7d2cdaZuktw5Y...  \n",
       "2407        49.0  https://open.spotify.com/track/1w3eUC89GPspKpi...  "
      ]
     },
     "execution_count": 76,
     "metadata": {},
     "output_type": "execute_result"
    }
   ],
   "source": [
    "tracks[tracks['name'] == 'Nàng Thơ']"
   ]
  },
  {
   "cell_type": "markdown",
   "metadata": {},
   "source": [
    "### **Xử lý các dữ liệu dòng bị thiếu dữ liệu**"
   ]
  },
  {
   "cell_type": "code",
   "execution_count": 77,
   "metadata": {},
   "outputs": [
    {
     "data": {
      "text/plain": [
       "name             2\n",
       "release_date    30\n",
       "album_type       2\n",
       "album_name       4\n",
       "artists          4\n",
       "duration_ms      0\n",
       "popularity       1\n",
       "spotify_url      1\n",
       "dtype: int64"
      ]
     },
     "execution_count": 77,
     "metadata": {},
     "output_type": "execute_result"
    }
   ],
   "source": [
    "tracks.isna().sum()"
   ]
  },
  {
   "cell_type": "code",
   "execution_count": 78,
   "metadata": {},
   "outputs": [
    {
     "data": {
      "text/plain": [
       "30"
      ]
     },
     "execution_count": 78,
     "metadata": {},
     "output_type": "execute_result"
    }
   ],
   "source": [
    "tracks.shape[0] - tracks.dropna().shape[0]"
   ]
  },
  {
   "cell_type": "code",
   "execution_count": 79,
   "metadata": {},
   "outputs": [],
   "source": [
    "tracks.dropna(inplace=True, ignore_index=True)"
   ]
  },
  {
   "cell_type": "code",
   "execution_count": 80,
   "metadata": {},
   "outputs": [
    {
     "data": {
      "text/plain": [
       "name            0\n",
       "release_date    0\n",
       "album_type      0\n",
       "album_name      0\n",
       "artists         0\n",
       "duration_ms     0\n",
       "popularity      0\n",
       "spotify_url     0\n",
       "dtype: int64"
      ]
     },
     "execution_count": 80,
     "metadata": {},
     "output_type": "execute_result"
    }
   ],
   "source": [
    "tracks.isna().sum()"
   ]
  },
  {
   "cell_type": "markdown",
   "metadata": {},
   "source": [
    "### **Xử lý các dữ liệu bài hát bất hợp lý**"
   ]
  },
  {
   "cell_type": "code",
   "execution_count": 81,
   "metadata": {},
   "outputs": [
    {
     "data": {
      "text/html": [
       "<div>\n",
       "<style scoped>\n",
       "    .dataframe tbody tr th:only-of-type {\n",
       "        vertical-align: middle;\n",
       "    }\n",
       "\n",
       "    .dataframe tbody tr th {\n",
       "        vertical-align: top;\n",
       "    }\n",
       "\n",
       "    .dataframe thead th {\n",
       "        text-align: right;\n",
       "    }\n",
       "</style>\n",
       "<table border=\"1\" class=\"dataframe\">\n",
       "  <thead>\n",
       "    <tr style=\"text-align: right;\">\n",
       "      <th></th>\n",
       "      <th>name</th>\n",
       "      <th>release_date</th>\n",
       "      <th>album_type</th>\n",
       "      <th>album_name</th>\n",
       "      <th>artists</th>\n",
       "      <th>duration_ms</th>\n",
       "      <th>popularity</th>\n",
       "      <th>spotify_url</th>\n",
       "    </tr>\n",
       "  </thead>\n",
       "  <tbody>\n",
       "    <tr>\n",
       "      <th>0</th>\n",
       "      <td>Rằm Tháng 7 (feat. R.Tee)</td>\n",
       "      <td>1900-01-01</td>\n",
       "      <td>album</td>\n",
       "      <td>Rap Việt, Vòng 1</td>\n",
       "      <td>RAP VIỆT, Rtee</td>\n",
       "      <td>204521</td>\n",
       "      <td>14.0</td>\n",
       "      <td>https://open.spotify.com/track/5AMPKrIvt28vObl...</td>\n",
       "    </tr>\n",
       "    <tr>\n",
       "      <th>1</th>\n",
       "      <td>Võ Đại Lang Bán Phở</td>\n",
       "      <td>1965-01-01</td>\n",
       "      <td>compilation</td>\n",
       "      <td>Cổ Nhạc Continental 2 - Võ Đại Lang Bán Phở</td>\n",
       "      <td>Hoàng Giang, Kim Quang, Hề Minh, Hoàng Mai, Vă...</td>\n",
       "      <td>821545</td>\n",
       "      <td>0.0</td>\n",
       "      <td>https://open.spotify.com/track/2GwoVKOXGfr4W6Z...</td>\n",
       "    </tr>\n",
       "    <tr>\n",
       "      <th>2</th>\n",
       "      <td>Đắc Kỷ Ho Gà</td>\n",
       "      <td>1965-01-01</td>\n",
       "      <td>compilation</td>\n",
       "      <td>Cổ Nhạc Continental Số 4 - Đắc Kỷ Ho Gà</td>\n",
       "      <td>Ba Vân, Ngọc Nuôi, Tùng Lâm, Tuý Phượng, Văn S...</td>\n",
       "      <td>806080</td>\n",
       "      <td>0.0</td>\n",
       "      <td>https://open.spotify.com/track/7DpFR2UJskYjySh...</td>\n",
       "    </tr>\n",
       "    <tr>\n",
       "      <th>3</th>\n",
       "      <td>Ngày Ấy Quen Nhau</td>\n",
       "      <td>1966-01-01</td>\n",
       "      <td>single</td>\n",
       "      <td>Cổ Nhạc Continental Số 37 - Ánh Sáng Đô Thành</td>\n",
       "      <td>Thanh Nga, Thành Được</td>\n",
       "      <td>478973</td>\n",
       "      <td>0.0</td>\n",
       "      <td>https://open.spotify.com/track/2Y7YWIWBMU09ecV...</td>\n",
       "    </tr>\n",
       "    <tr>\n",
       "      <th>4</th>\n",
       "      <td>Độc Tấu Lục Huyền Cầm</td>\n",
       "      <td>1966-01-01</td>\n",
       "      <td>single</td>\n",
       "      <td>Cổ Nhạc Continental Số 30 - Độc Tấu Thanh Kim</td>\n",
       "      <td>Văn Vĩ</td>\n",
       "      <td>454766</td>\n",
       "      <td>0.0</td>\n",
       "      <td>https://open.spotify.com/track/4MkNq7OlJDYT0rf...</td>\n",
       "    </tr>\n",
       "  </tbody>\n",
       "</table>\n",
       "</div>"
      ],
      "text/plain": [
       "                        name release_date   album_type  \\\n",
       "0  Rằm Tháng 7 (feat. R.Tee)   1900-01-01        album   \n",
       "1        Võ Đại Lang Bán Phở   1965-01-01  compilation   \n",
       "2               Đắc Kỷ Ho Gà   1965-01-01  compilation   \n",
       "3          Ngày Ấy Quen Nhau   1966-01-01       single   \n",
       "4      Độc Tấu Lục Huyền Cầm   1966-01-01       single   \n",
       "\n",
       "                                      album_name  \\\n",
       "0                               Rap Việt, Vòng 1   \n",
       "1    Cổ Nhạc Continental 2 - Võ Đại Lang Bán Phở   \n",
       "2        Cổ Nhạc Continental Số 4 - Đắc Kỷ Ho Gà   \n",
       "3  Cổ Nhạc Continental Số 37 - Ánh Sáng Đô Thành   \n",
       "4  Cổ Nhạc Continental Số 30 - Độc Tấu Thanh Kim   \n",
       "\n",
       "                                             artists  duration_ms  popularity  \\\n",
       "0                                     RAP VIỆT, Rtee       204521        14.0   \n",
       "1  Hoàng Giang, Kim Quang, Hề Minh, Hoàng Mai, Vă...       821545         0.0   \n",
       "2  Ba Vân, Ngọc Nuôi, Tùng Lâm, Tuý Phượng, Văn S...       806080         0.0   \n",
       "3                              Thanh Nga, Thành Được       478973         0.0   \n",
       "4                                             Văn Vĩ       454766         0.0   \n",
       "\n",
       "                                         spotify_url  \n",
       "0  https://open.spotify.com/track/5AMPKrIvt28vObl...  \n",
       "1  https://open.spotify.com/track/2GwoVKOXGfr4W6Z...  \n",
       "2  https://open.spotify.com/track/7DpFR2UJskYjySh...  \n",
       "3  https://open.spotify.com/track/2Y7YWIWBMU09ecV...  \n",
       "4  https://open.spotify.com/track/4MkNq7OlJDYT0rf...  "
      ]
     },
     "execution_count": 81,
     "metadata": {},
     "output_type": "execute_result"
    }
   ],
   "source": [
    "tracks[tracks['release_date'].dt.year < 2000].head()"
   ]
  },
  {
   "cell_type": "markdown",
   "metadata": {},
   "source": [
    "- Bài hát Rằm Tháng 7 ra đời năm 1900 là bất hợp lý vì chương trình Rap Việt lần đầu được công chiếu vào ngày 01/08/2020."
   ]
  },
  {
   "cell_type": "code",
   "execution_count": 82,
   "metadata": {},
   "outputs": [],
   "source": [
    "tracks = tracks.drop(index=tracks[tracks['release_date'].dt.year == 1900].index).reset_index(drop=True)"
   ]
  },
  {
   "cell_type": "code",
   "execution_count": 83,
   "metadata": {},
   "outputs": [
    {
     "data": {
      "text/plain": [
       "(3721, 8)"
      ]
     },
     "execution_count": 83,
     "metadata": {},
     "output_type": "execute_result"
    }
   ],
   "source": [
    "tracks.shape"
   ]
  },
  {
   "cell_type": "markdown",
   "metadata": {},
   "source": [
    "### **Xử lý các nghệ sĩ có tên bất hợp lý**"
   ]
  },
  {
   "cell_type": "code",
   "execution_count": 84,
   "metadata": {},
   "outputs": [
    {
     "data": {
      "text/html": [
       "<div>\n",
       "<style scoped>\n",
       "    .dataframe tbody tr th:only-of-type {\n",
       "        vertical-align: middle;\n",
       "    }\n",
       "\n",
       "    .dataframe tbody tr th {\n",
       "        vertical-align: top;\n",
       "    }\n",
       "\n",
       "    .dataframe thead th {\n",
       "        text-align: right;\n",
       "    }\n",
       "</style>\n",
       "<table border=\"1\" class=\"dataframe\">\n",
       "  <thead>\n",
       "    <tr style=\"text-align: right;\">\n",
       "      <th></th>\n",
       "      <th>name</th>\n",
       "      <th>followers</th>\n",
       "      <th>popularity</th>\n",
       "      <th>type</th>\n",
       "      <th>spotify_url</th>\n",
       "    </tr>\n",
       "  </thead>\n",
       "  <tbody>\n",
       "  </tbody>\n",
       "</table>\n",
       "</div>"
      ],
      "text/plain": [
       "Empty DataFrame\n",
       "Columns: [name, followers, popularity, type, spotify_url]\n",
       "Index: []"
      ]
     },
     "execution_count": 84,
     "metadata": {},
     "output_type": "execute_result"
    }
   ],
   "source": [
    "multi_artists = artists[artists['name'].str.contains(',', regex=False)]\n",
    "\n",
    "multi_artists"
   ]
  },
  {
   "cell_type": "code",
   "execution_count": 85,
   "metadata": {},
   "outputs": [],
   "source": [
    "def is_artist_in_csv(artist_name, df):\n",
    "    return artist_name in df['name'].values\n",
    "\n",
    "# Function to fetch artist data from Spotify API\n",
    "def fetch_artist_data(artist_name):\n",
    "    results = sp.search(q=f\"artist:{artist_name}\", type=\"artist\", limit=1)\n",
    "    if results and results['artists']['items']:\n",
    "        artist = results['artists']['items'][0]\n",
    "        return {\n",
    "            \"name\": artist['name'],\n",
    "            \"followers\": artist['followers']['total'],\n",
    "            \"popularity\": artist['popularity'],\n",
    "            \"type\": artist['type'],\n",
    "            \"spotify_url\": artist['external_urls']['spotify']\n",
    "        }\n",
    "    return None\n",
    "\n",
    "new_artists = []\n",
    "rows_to_remove = []\n",
    "\n",
    "for index, row in multi_artists.iterrows():\n",
    "    artist_names = row['name'].split(\", \")  \n",
    "    \n",
    "    for artist in artist_names:\n",
    "        if not is_artist_in_csv(artist, artists):\n",
    "            artist_data = fetch_artist_data(artist)\n",
    "            if artist_data:\n",
    "                new_artists.append(artist_data)\n",
    "\n",
    "    rows_to_remove.append(index)\n",
    "\n",
    "artists.drop(rows_to_remove, inplace=True)\n",
    "\n",
    "if new_artists:\n",
    "    new_artists_df = pd.DataFrame(new_artists)\n",
    "    artists = pd.concat([artists, new_artists_df], ignore_index=True)\n",
    "\n",
    "artists.to_csv('artists_info.csv', index=False)"
   ]
  },
  {
   "cell_type": "markdown",
   "metadata": {},
   "source": [
    "## **Các câu hỏi**"
   ]
  },
  {
   "cell_type": "markdown",
   "metadata": {},
   "source": [
    "**Câu 1**: Tần suất phát hành nhạc tại thị trường âm nhạc Việt Nam trong 25 năm trở lại đây (từ 2000 đến 2024)?"
   ]
  },
  {
   "cell_type": "code",
   "execution_count": 86,
   "metadata": {},
   "outputs": [
    {
     "data": {
      "text/plain": [
       "release_date\n",
       "2000    31\n",
       "2001    76\n",
       "2002    39\n",
       "2003    74\n",
       "2004    23\n",
       "Name: count, dtype: int64"
      ]
     },
     "execution_count": 86,
     "metadata": {},
     "output_type": "execute_result"
    }
   ],
   "source": [
    "tracks_2000_2024 = tracks[tracks['release_date'].dt.year.between(2000, 2024)]['release_date'].dt.year.value_counts().sort_index()\n",
    "tracks_2000_2024.head()"
   ]
  },
  {
   "cell_type": "code",
   "execution_count": 87,
   "metadata": {},
   "outputs": [
    {
     "data": {
      "image/png": "[encoded data removed]",
      "text/plain": [
       "<Figure size 1800x600 with 1 Axes>"
      ]
     },
     "metadata": {},
     "output_type": "display_data"
    }
   ],
   "source": [
    "plt.figure(figsize=(18, 6))\n",
    "\n",
    "sns.lineplot(x=tracks_2000_2024.index, y=tracks_2000_2024.values, marker='o', color='b', linewidth=2)\n",
    "\n",
    "plt.xlabel(xlabel='Năm phát hành', fontsize=12)\n",
    "plt.ylabel(ylabel='Số lượng bài hát', fontsize=12)\n",
    "plt.title(label='Tần suất phát hành nhạc tại thị trường Việt Nam trong giai đoạn 2000 - 2024', fontsize=14)\n",
    "\n",
    "plt.xticks(ticks=range(2000, 2025, 1))\n",
    "plt.yticks(ticks=range(0, 501, 50))\n",
    "\n",
    "plt.grid(axis='y')\n",
    "plt.show()"
   ]
  },
  {
   "cell_type": "markdown",
   "metadata": {},
   "source": [
    "**Nhận xét về xu hướng phát hành bài hát trên Spotify tại Việt Nam (2000 - 2025)**\n",
    "\n",
    "**Trong giai đoạn 2000 - 2014**,\n",
    "\n",
    "- Số lượng bài hát phát hành trên Spotify **còn rất ít**. \n",
    "- Bên cạnh đó, trong năm **2013** là năm có số lượng bài hát được phát hành nhiều nhất trong giai đoạn này với gần 50 bài hát.\n",
    "\n",
    "$\\Rightarrow$ Điều này có thể do Spotify chưa phổ biến tại Việt Nam hoặc chưa có dữ liệu đầy đủ về các bài hát phát hành trước đó.\n",
    "\n",
    "\n",
    "**Trong giai đoạn 2015 - 2018**, \n",
    "\n",
    "- Có sự gia tăng đáng kể về số lượng bài hát được phát hành. \n",
    "- Năm 2018 là đỉnh cao nhất trong toàn bộ giai đoạn, với số lượng bài hát phát hành tăng vọt.\n",
    "\n",
    "$\\Rightarrow$ Điều này có thể phản ánh sự phát triển mạnh mẽ của thị trường nhạc số và sự gia nhập của nhiều nghệ sĩ Việt vào nền tảng Spotify.\n",
    "\n",
    "\n",
    "**Trong giai đoạn 2019 - 2024**,\n",
    "\n",
    "- Sau năm 2018, số lượng bài hát phát hành giảm mạnh vào năm 2019 nhưng nhanh chóng phục hồi và tiếp tục tăng trưởng.\n",
    "- Giai đoạn 2020 - 2023 có xu hướng ổn định, duy trì mức phát hành cao.\n",
    "\n",
    "$\\Rightarrow$ Đây có thể là thời kỳ mà Spotify đã trở thành một kênh phân phối quan trọng đối với nghệ sĩ Việt Nam.\n",
    "\n",
    "Ngoài ra, dữ liệu năm 2025 hiện tại rất thấp do dữ liệu chưa đầy đủ hoặc mới chỉ là một phần nhỏ của năm nên ta chưa thể có cái nhìn chính xác về xu hướng phát hành bài hát trên Spotify trong năm 2025."
   ]
  },
  {
   "cell_type": "markdown",
   "metadata": {},
   "source": [
    "#### **Câu 2**: Nghệ sĩ hoạt động tích cực và sôi nổi nhất trên Spotify tại thị trường Việt Nam trong năm 2024?"
   ]
  },
  {
   "cell_type": "code",
   "execution_count": 88,
   "metadata": {},
   "outputs": [
    {
     "data": {
      "text/html": [
       "<div>\n",
       "<style scoped>\n",
       "    .dataframe tbody tr th:only-of-type {\n",
       "        vertical-align: middle;\n",
       "    }\n",
       "\n",
       "    .dataframe tbody tr th {\n",
       "        vertical-align: top;\n",
       "    }\n",
       "\n",
       "    .dataframe thead th {\n",
       "        text-align: right;\n",
       "    }\n",
       "</style>\n",
       "<table border=\"1\" class=\"dataframe\">\n",
       "  <thead>\n",
       "    <tr style=\"text-align: right;\">\n",
       "      <th></th>\n",
       "      <th>artists</th>\n",
       "      <th>count</th>\n",
       "    </tr>\n",
       "  </thead>\n",
       "  <tbody>\n",
       "    <tr>\n",
       "      <th>0</th>\n",
       "      <td>Hoa Tau</td>\n",
       "      <td>74</td>\n",
       "    </tr>\n",
       "    <tr>\n",
       "      <th>1</th>\n",
       "      <td>Bảo Quốc</td>\n",
       "      <td>22</td>\n",
       "    </tr>\n",
       "    <tr>\n",
       "      <th>2</th>\n",
       "      <td>Trọng Hữu</td>\n",
       "      <td>22</td>\n",
       "    </tr>\n",
       "    <tr>\n",
       "      <th>3</th>\n",
       "      <td>Phượng Liên</td>\n",
       "      <td>19</td>\n",
       "    </tr>\n",
       "    <tr>\n",
       "      <th>4</th>\n",
       "      <td>Thanh Nga</td>\n",
       "      <td>19</td>\n",
       "    </tr>\n",
       "    <tr>\n",
       "      <th>...</th>\n",
       "      <td>...</td>\n",
       "      <td>...</td>\n",
       "    </tr>\n",
       "    <tr>\n",
       "      <th>291</th>\n",
       "      <td>IC Music</td>\n",
       "      <td>1</td>\n",
       "    </tr>\n",
       "    <tr>\n",
       "      <th>292</th>\n",
       "      <td>Phương Ly</td>\n",
       "      <td>1</td>\n",
       "    </tr>\n",
       "    <tr>\n",
       "      <th>293</th>\n",
       "      <td>Xuan Tuyen</td>\n",
       "      <td>1</td>\n",
       "    </tr>\n",
       "    <tr>\n",
       "      <th>294</th>\n",
       "      <td>Hồng Duyên</td>\n",
       "      <td>1</td>\n",
       "    </tr>\n",
       "    <tr>\n",
       "      <th>295</th>\n",
       "      <td>TGSN</td>\n",
       "      <td>1</td>\n",
       "    </tr>\n",
       "  </tbody>\n",
       "</table>\n",
       "<p>296 rows × 2 columns</p>\n",
       "</div>"
      ],
      "text/plain": [
       "         artists  count\n",
       "0        Hoa Tau     74\n",
       "1       Bảo Quốc     22\n",
       "2      Trọng Hữu     22\n",
       "3    Phượng Liên     19\n",
       "4      Thanh Nga     19\n",
       "..           ...    ...\n",
       "291     IC Music      1\n",
       "292    Phương Ly      1\n",
       "293   Xuan Tuyen      1\n",
       "294   Hồng Duyên      1\n",
       "295         TGSN      1\n",
       "\n",
       "[296 rows x 2 columns]"
      ]
     },
     "execution_count": 88,
     "metadata": {},
     "output_type": "execute_result"
    }
   ],
   "source": [
    "tracks_2024 = tracks[tracks['release_date'].dt.year == 2024]\n",
    "tracks_by_artist_2024 = tracks_2024['artists'].str.split(pat=', ').explode().str.strip().value_counts().reset_index()\n",
    "tracks_by_artist_2024"
   ]
  },
  {
   "cell_type": "code",
   "execution_count": 89,
   "metadata": {},
   "outputs": [
    {
     "data": {
      "image/png": "[encoded data removed]",
      "text/plain": [
       "<Figure size 1500x350 with 1 Axes>"
      ]
     },
     "metadata": {},
     "output_type": "display_data"
    }
   ],
   "source": [
    "plt.figure(figsize=(15, 3.5))\n",
    "\n",
    "sns.barplot(data=tracks_by_artist_2024.head(n=10), x='count', y='artists', hue='artists', orient='h',\n",
    "            palette=['#e36f09' if count > 60 else '#191d9c' for count in tracks_by_artist_2024['count'].head(n=10)])\n",
    "\n",
    "plt.xlabel(xlabel='Số lượng bài hát', fontsize=12)\n",
    "plt.ylabel(ylabel='Nghệ sĩ', fontsize=12)\n",
    "plt.title(label='Top 10 nghệ sĩ có số lượng bài hát nhiều nhất trong năm 2024', fontsize=14)\n",
    "\n",
    "plt.show()"
   ]
  },
  {
   "cell_type": "markdown",
   "metadata": {},
   "source": [
    "**Nhận xét về top 10 nghệ sĩ có số lượng bài hát nhiều nhất trên Spotify Việt Nam (2019-2024)**\n",
    "\n",
    "Trong năm **2019** ghi nhận có nhiều nghệ sĩ thuộc dòng nhạc **Pop/Ballad** như **Cẩm Ly**, **Đan Trường**, **Noo Phước Thịnh** và họ cũng dẫn đầu với ***số lượng bài hát cao***. Xu hướng nhạc trẻ đến từ các nghệ sĩ trẻ như **JustaTee**, **Ngọt**, **Thịnh Suy**, **AMEE** đã xuất hiện nhưng ***chưa quá nổi bật*** \n",
    "\n",
    "$\\Rightarrow$ **Thời kỳ của nhạc Pop/Ballad vẫn còn thống trị, phổ biến tại thị trường âm nhạc Việt Nam**\n",
    "\n",
    "\n",
    "Trong năm **2020** ghi nhận việc **AMEE** vươn lên top 1, thể hiện sức hút của nhạc **Pop** tươi trẻ. **Hoàng Dũng**, **Hà Anh Tuấn** vẫn giữ phong độ với **Ballad**. **B Ray**, **Đen** xuất hiện, báo hiệu sự nổi lên của **Rap**\n",
    "\n",
    "$\\Rightarrow$ **Rap/Indie bắt đầu xuất hiện nổi bật trên thị trường âm nhạc Việt Nam bên cạnh thể loại Pop/Ballad đã quá quen thuộc ở những năm trước**\n",
    "\n",
    "\n",
    "Trong năm **2021** ghi nhận có nhiều nghệ sĩ như MONSTAR, Chillies, Maswe đại diện cho dòng nhạc Indie/Pop-Rock. Rap có sự xuất hiện của RPT MCK, Low G, tlinh, phản ánh sự lan tỏa mạnh mẽ của dòng nhạc này.\n",
    "\n",
    "$\\Rightarrow$ **Thị trường âm nhạc Việt Nam dần dần tiếp nhận và bước chuyển sang thể loại Rap/Hip-Hop**\n",
    "\n",
    "Trong năm **2022** ghi nhận việc **Low G** dẫn đầu, tiếp tục khẳng định sự thống trị của **Hip-Hop**. **Hoàng Thùy Linh**, **Orange**, **Đức Phúc** vẫn duy trì được lượng bài hát đáng kể.\n",
    "\n",
    "$\\Rightarrow$ **Các thể loại nhạc như Pop/Ballad, Rap/Hip-Hop và Indie,... vẫn tiếp tục phát triển trên thị trường âm nhạc Việt Nam**\n",
    "\n",
    "Trong năm **2023** ghi nhận sự bùng nổ của những chương trình âm nhạc như việc **RAP VIỆT** đứng đầu do hiệu ứng từ chương trình cùng tên **Rap Việt** cùng với đó là sự xuất hiện của hàng loạt rapper xuất hiện như **RPT MCK**, **Wren Evans**, **Obito**, **Thắng**. Bên cạnh đó cũng kể đến chương trình **The Masked Singer** xuất hiện.\n",
    "\n",
    "$\\Rightarrow$ **Rap/Hip-Hop chiếm sóng và cũng là sự bùng nổ của những chương trình âm nhạc như Rap Việt và The Masked Singer**\n",
    "\n",
    "Trong năm **2024** ghi nhận việc chương trình âm nhạc có quy mô lớn **ANH TRAI \"SAY HI\"** bất ngờ vươn lên vị trí đầu. Bên cạnh đó là sự xuất hiện của những tân binh như **Dương Domic**, **Pháp Kiều**, **Negav**, ...\n",
    "\n",
    "$\\Rightarrow$ **Thấy được sự xuất hiện mạnh mẽ từ thế hệ nghệ sĩ trẻ**\n",
    "\n",
    "**Kết luận**\n",
    "- Các dòng nhạc thay đổi theo thời gian khi mà từ **Pop/Ballad (2019-2020)** đến **Indie/Rap (2021-2022)** và cuối cùng là **Rap/Hip-Hop thống trị (2023-2024)**.\n",
    "- Một số nghệ sĩ xuất hiện mạnh mẽ trong một năm nhưng sau đó giảm dần. Tuy nhiên vẫn có những nghệ sĩ hoạt động bền bỉ như **Low G**, **HIEUTHUHAI**, **tlinh** khi họ đã liên tục xuất hiện trong biểu đồ trên ở nhiều năm liền.\n",
    "- Các chương trình âm nhạc tiêu biểu gồm **Rap Việt**, **The Masked Singer**, **ANH TRAI \"SAY HI\"** có tác động mạnh đến số lượng bài hát ra mắt.\n"
   ]
  },
  {
   "cell_type": "markdown",
   "metadata": {},
   "source": [
    "#### **Câu 3:** Phân bố mức độ phổ biến của các bài hát tại thị trường Việt Nam hiện nay."
   ]
  },
  {
   "cell_type": "code",
   "execution_count": 90,
   "metadata": {},
   "outputs": [
    {
     "data": {
      "image/png": "[encoded data removed]",
      "text/plain": [
       "<Figure size 1500x600 with 1 Axes>"
      ]
     },
     "metadata": {},
     "output_type": "display_data"
    }
   ],
   "source": [
    "plt.figure(figsize=(15, 6))\n",
    "\n",
    "sns.histplot(data=tracks['popularity'])\n",
    "\n",
    "plt.xlabel(xlabel='Độ phổ biến', fontsize=12)\n",
    "plt.ylabel(ylabel='Tần suất', fontsize=12)\n",
    "plt.title(label='Phân phối độ phổ biến của các bài hát trên Spotify tại thị trường Việt Nam hiện nay', fontsize=14)\n",
    "\n",
    "plt.xlim(left=-1, right=101)\n",
    "plt.xticks(ticks=range(0, 101, 10))\n",
    "plt.show()"
   ]
  },
  {
   "cell_type": "markdown",
   "metadata": {},
   "source": [
    "#### **Câu 4:** Phân bố thời lượng các bài hát trên Spotify tại thị trường Việt Nam."
   ]
  },
  {
   "cell_type": "code",
   "execution_count": 91,
   "metadata": {},
   "outputs": [],
   "source": [
    "tracks['duration_ms'] /= 60000"
   ]
  },
  {
   "cell_type": "code",
   "execution_count": 92,
   "metadata": {},
   "outputs": [
    {
     "data": {
      "text/plain": [
       "48.70601666666666"
      ]
     },
     "execution_count": 92,
     "metadata": {},
     "output_type": "execute_result"
    }
   ],
   "source": [
    "tracks['duration_ms'].max()"
   ]
  },
  {
   "cell_type": "code",
   "execution_count": 93,
   "metadata": {},
   "outputs": [
    {
     "data": {
      "image/png": "[encoded data removed]",
      "text/plain": [
       "<Figure size 1500x600 with 1 Axes>"
      ]
     },
     "metadata": {},
     "output_type": "display_data"
    }
   ],
   "source": [
    "plt.figure(figsize=(15, 6))\n",
    "\n",
    "sns.histplot(data=tracks['duration_ms'], bins=50)\n",
    "\n",
    "plt.xlabel(xlabel='Thời lượng (phút)', fontsize=12)\n",
    "plt.ylabel(ylabel='Tần suất', fontsize=12)\n",
    "plt.title(label='Phân phối thời lượng của các bài hát trên Spotify tại thị trường Việt Nam hiện nay', fontsize=14)\n",
    "\n",
    "plt.xticks(ticks=range(0, 51, 5))\n",
    "plt.show()"
   ]
  },
  {
   "cell_type": "markdown",
   "metadata": {},
   "source": [
    "#### **Câu 5:** Tỉ lệ các loại album trên Spotify tại thị trường Việt Nam"
   ]
  },
  {
   "cell_type": "code",
   "execution_count": 94,
   "metadata": {},
   "outputs": [
    {
     "data": {
      "image/png": "[encoded data removed]",
      "text/plain": [
       "<Figure size 700x700 with 1 Axes>"
      ]
     },
     "metadata": {},
     "output_type": "display_data"
    }
   ],
   "source": [
    "tracks['album_type'].value_counts().plot.pie(\n",
    "    autopct='%1.1f%%',\n",
    "    startangle=90,\n",
    "    figsize=(7, 7),\n",
    "    explode=(0.1, 0, 0),\n",
    "    colors=['#FF5733', '#33FF57', '#3357FF'],\n",
    "    textprops={'fontsize': 12, 'fontweight': 'bold'},\n",
    ")\n",
    "\n",
    "plt.title(label='Tỉ lệ các loại album trên Spotify tại thị trường Việt Nam', fontsize=14)\n",
    "plt.ylabel(ylabel='')\n",
    "\n",
    "plt.tight_layout()\n",
    "plt.show()"
   ]
  },
  {
   "cell_type": "markdown",
   "metadata": {},
   "source": [
    "#### **Câu 6:** Artist follower"
   ]
  },
  {
   "cell_type": "code",
   "execution_count": null,
   "metadata": {},
   "outputs": [],
   "source": []
  },
  {
   "cell_type": "markdown",
   "metadata": {},
   "source": [
    "#### **Câu 7:** Artist popularity vs follower"
   ]
  },
  {
   "cell_type": "code",
   "execution_count": 95,
   "metadata": {},
   "outputs": [
    {
     "data": {
      "text/plain": [
       "0"
      ]
     },
     "execution_count": 95,
     "metadata": {},
     "output_type": "execute_result"
    }
   ],
   "source": [
    "artists['followers'].min()"
   ]
  },
  {
   "cell_type": "code",
   "execution_count": 96,
   "metadata": {},
   "outputs": [
    {
     "data": {
      "text/html": [
       "<div>\n",
       "<style scoped>\n",
       "    .dataframe tbody tr th:only-of-type {\n",
       "        vertical-align: middle;\n",
       "    }\n",
       "\n",
       "    .dataframe tbody tr th {\n",
       "        vertical-align: top;\n",
       "    }\n",
       "\n",
       "    .dataframe thead th {\n",
       "        text-align: right;\n",
       "    }\n",
       "</style>\n",
       "<table border=\"1\" class=\"dataframe\">\n",
       "  <thead>\n",
       "    <tr style=\"text-align: right;\">\n",
       "      <th></th>\n",
       "      <th>name</th>\n",
       "      <th>followers</th>\n",
       "      <th>popularity</th>\n",
       "      <th>type</th>\n",
       "      <th>spotify_url</th>\n",
       "    </tr>\n",
       "  </thead>\n",
       "  <tbody>\n",
       "    <tr>\n",
       "      <th>7</th>\n",
       "      <td>NSND Diệp Lang</td>\n",
       "      <td>0</td>\n",
       "      <td>0</td>\n",
       "      <td>artist</td>\n",
       "      <td>https://open.spotify.com/artist/3nsYfQ4jMYarbZ...</td>\n",
       "    </tr>\n",
       "    <tr>\n",
       "      <th>34</th>\n",
       "      <td>Văn Vĩ</td>\n",
       "      <td>0</td>\n",
       "      <td>0</td>\n",
       "      <td>artist</td>\n",
       "      <td>https://open.spotify.com/artist/4BoNNg3s858Bn0...</td>\n",
       "    </tr>\n",
       "    <tr>\n",
       "      <th>88</th>\n",
       "      <td>Hạnh Nga</td>\n",
       "      <td>0</td>\n",
       "      <td>0</td>\n",
       "      <td>artist</td>\n",
       "      <td>https://open.spotify.com/artist/6f9MzR2tmhAfaz...</td>\n",
       "    </tr>\n",
       "    <tr>\n",
       "      <th>92</th>\n",
       "      <td>Thanh Thanh Hoa</td>\n",
       "      <td>0</td>\n",
       "      <td>0</td>\n",
       "      <td>artist</td>\n",
       "      <td>https://open.spotify.com/artist/1CQfaDnhCc6Cys...</td>\n",
       "    </tr>\n",
       "    <tr>\n",
       "      <th>94</th>\n",
       "      <td>バック・フエとその仲間たち</td>\n",
       "      <td>0</td>\n",
       "      <td>0</td>\n",
       "      <td>artist</td>\n",
       "      <td>https://open.spotify.com/artist/2YzX4lTvLhGs8M...</td>\n",
       "    </tr>\n",
       "    <tr>\n",
       "      <th>...</th>\n",
       "      <td>...</td>\n",
       "      <td>...</td>\n",
       "      <td>...</td>\n",
       "      <td>...</td>\n",
       "      <td>...</td>\n",
       "    </tr>\n",
       "    <tr>\n",
       "      <th>1370</th>\n",
       "      <td>Tài Bửu Bửu</td>\n",
       "      <td>0</td>\n",
       "      <td>0</td>\n",
       "      <td>artist</td>\n",
       "      <td>https://open.spotify.com/artist/2AFDygA1w1zP3W...</td>\n",
       "    </tr>\n",
       "    <tr>\n",
       "      <th>1389</th>\n",
       "      <td>Soobin Ho&amp;#224;ng S&amp;#417;n</td>\n",
       "      <td>0</td>\n",
       "      <td>0</td>\n",
       "      <td>artist</td>\n",
       "      <td>https://open.spotify.com/artist/0eBA5cqZlzB2f2...</td>\n",
       "    </tr>\n",
       "    <tr>\n",
       "      <th>1407</th>\n",
       "      <td>THuý Hương</td>\n",
       "      <td>0</td>\n",
       "      <td>0</td>\n",
       "      <td>artist</td>\n",
       "      <td>https://open.spotify.com/artist/0lGPaHuFjw9HH6...</td>\n",
       "    </tr>\n",
       "    <tr>\n",
       "      <th>1434</th>\n",
       "      <td>Tuý Phượng</td>\n",
       "      <td>0</td>\n",
       "      <td>0</td>\n",
       "      <td>artist</td>\n",
       "      <td>https://open.spotify.com/artist/5XOGmFw50zMGyV...</td>\n",
       "    </tr>\n",
       "    <tr>\n",
       "      <th>1436</th>\n",
       "      <td>Kim Tanh</td>\n",
       "      <td>0</td>\n",
       "      <td>0</td>\n",
       "      <td>artist</td>\n",
       "      <td>https://open.spotify.com/artist/4VxnSWbi4uAXGw...</td>\n",
       "    </tr>\n",
       "  </tbody>\n",
       "</table>\n",
       "<p>62 rows × 5 columns</p>\n",
       "</div>"
      ],
      "text/plain": [
       "                            name  followers  popularity    type  \\\n",
       "7                 NSND Diệp Lang          0           0  artist   \n",
       "34                        Văn Vĩ          0           0  artist   \n",
       "88                      Hạnh Nga          0           0  artist   \n",
       "92               Thanh Thanh Hoa          0           0  artist   \n",
       "94                 バック・フエとその仲間たち          0           0  artist   \n",
       "...                          ...        ...         ...     ...   \n",
       "1370                 Tài Bửu Bửu          0           0  artist   \n",
       "1389  Soobin Ho&#224;ng S&#417;n          0           0  artist   \n",
       "1407                  THuý Hương          0           0  artist   \n",
       "1434                  Tuý Phượng          0           0  artist   \n",
       "1436                    Kim Tanh          0           0  artist   \n",
       "\n",
       "                                            spotify_url  \n",
       "7     https://open.spotify.com/artist/3nsYfQ4jMYarbZ...  \n",
       "34    https://open.spotify.com/artist/4BoNNg3s858Bn0...  \n",
       "88    https://open.spotify.com/artist/6f9MzR2tmhAfaz...  \n",
       "92    https://open.spotify.com/artist/1CQfaDnhCc6Cys...  \n",
       "94    https://open.spotify.com/artist/2YzX4lTvLhGs8M...  \n",
       "...                                                 ...  \n",
       "1370  https://open.spotify.com/artist/2AFDygA1w1zP3W...  \n",
       "1389  https://open.spotify.com/artist/0eBA5cqZlzB2f2...  \n",
       "1407  https://open.spotify.com/artist/0lGPaHuFjw9HH6...  \n",
       "1434  https://open.spotify.com/artist/5XOGmFw50zMGyV...  \n",
       "1436  https://open.spotify.com/artist/4VxnSWbi4uAXGw...  \n",
       "\n",
       "[62 rows x 5 columns]"
      ]
     },
     "execution_count": 96,
     "metadata": {},
     "output_type": "execute_result"
    }
   ],
   "source": [
    "artists[artists['followers'] == 0]"
   ]
  },
  {
   "cell_type": "code",
   "execution_count": 97,
   "metadata": {},
   "outputs": [
    {
     "data": {
      "image/png": "[encoded data removed]",
      "text/plain": [
       "<Figure size 1500x600 with 1 Axes>"
      ]
     },
     "metadata": {},
     "output_type": "display_data"
    }
   ],
   "source": [
    "plt.figure(figsize=(15, 6))\n",
    "sns.scatterplot(data=artists, x='followers', y='popularity')\n",
    "plt.show()"
   ]
  }
 ],
 "metadata": {
  "kernelspec": {
   "display_name": "venv",
   "language": "python",
   "name": "python3"
  },
  "language_info": {
   "codemirror_mode": {
    "name": "ipython",
    "version": 3
   },
   "file_extension": ".py",
   "mimetype": "text/x-python",
   "name": "python",
   "nbconvert_exporter": "python",
   "pygments_lexer": "ipython3",
   "version": "3.12.3"
  }
 },
 "nbformat": 4,
 "nbformat_minor": 2
}
