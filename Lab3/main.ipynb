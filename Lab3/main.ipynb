{
 "cells": [
  {
   "cell_type": "markdown",
   "metadata": {},
   "source": [
    "# **Lab 02: Khai thác và trực quan hóa dữ liệu**"
   ]
  },
  {
   "cell_type": "markdown",
   "metadata": {},
   "source": [
    "### **Danh sách các thành viên**\n",
    "\n",
    "<center>\n",
    "\n",
    "|         Họ tên         |   MSSV   |\n",
    "| :--------------------- | :------: |\n",
    "| Trần Nguyễn Nhật Cường | 22127048 |\n",
    "|    Nguyễn Công Tuấn    | 22127436 |\n",
    "|     Trần Đăng Tuấn     | 22127438 |\n",
    "\n",
    "</center>"
   ]
  },
  {
   "cell_type": "markdown",
   "metadata": {},
   "source": [
    "## **Cài đặt và sử dụng các thư viện cần thiết**"
   ]
  },
  {
   "cell_type": "code",
   "execution_count": null,
   "metadata": {},
   "outputs": [
    {
     "name": "stdout",
     "output_type": "stream",
     "text": [
      "Requirement already satisfied: matplotlib in c:\\users\\nguye\\appdata\\local\\programs\\python\\python312\\lib\\site-packages (3.8.4)\n",
      "Requirement already satisfied: pandas in c:\\users\\nguye\\appdata\\local\\programs\\python\\python312\\lib\\site-packages (2.2.2)\n",
      "Requirement already satisfied: seaborn in c:\\users\\nguye\\appdata\\local\\programs\\python\\python312\\lib\\site-packages (0.13.2)\n",
      "Requirement already satisfied: kagglehub in c:\\users\\nguye\\appdata\\local\\programs\\python\\python312\\lib\\site-packages (0.3.10)\n",
      "Requirement already satisfied: scikit-learn in c:\\users\\nguye\\appdata\\local\\programs\\python\\python312\\lib\\site-packages (1.4.2)\n",
      "Requirement already satisfied: contourpy>=1.0.1 in c:\\users\\nguye\\appdata\\local\\programs\\python\\python312\\lib\\site-packages (from matplotlib) (1.2.0)\n",
      "Requirement already satisfied: cycler>=0.10 in c:\\users\\nguye\\appdata\\local\\programs\\python\\python312\\lib\\site-packages (from matplotlib) (0.12.1)\n",
      "Requirement already satisfied: fonttools>=4.22.0 in c:\\users\\nguye\\appdata\\local\\programs\\python\\python312\\lib\\site-packages (from matplotlib) (4.49.0)\n",
      "Requirement already satisfied: kiwisolver>=1.3.1 in c:\\users\\nguye\\appdata\\local\\programs\\python\\python312\\lib\\site-packages (from matplotlib) (1.4.5)\n",
      "Requirement already satisfied: numpy>=1.21 in c:\\users\\nguye\\appdata\\local\\programs\\python\\python312\\lib\\site-packages (from matplotlib) (1.26.4)\n",
      "Requirement already satisfied: packaging>=20.0 in c:\\users\\nguye\\appdata\\local\\programs\\python\\python312\\lib\\site-packages (from matplotlib) (23.2)\n",
      "Requirement already satisfied: pillow>=8 in c:\\users\\nguye\\appdata\\local\\programs\\python\\python312\\lib\\site-packages (from matplotlib) (10.2.0)\n",
      "Requirement already satisfied: pyparsing>=2.3.1 in c:\\users\\nguye\\appdata\\local\\programs\\python\\python312\\lib\\site-packages (from matplotlib) (3.1.1)\n",
      "Requirement already satisfied: python-dateutil>=2.7 in c:\\users\\nguye\\appdata\\local\\programs\\python\\python312\\lib\\site-packages (from matplotlib) (2.8.2)\n",
      "Requirement already satisfied: pytz>=2020.1 in c:\\users\\nguye\\appdata\\local\\programs\\python\\python312\\lib\\site-packages (from pandas) (2024.1)\n",
      "Requirement already satisfied: tzdata>=2022.7 in c:\\users\\nguye\\appdata\\local\\programs\\python\\python312\\lib\\site-packages (from pandas) (2024.1)\n",
      "Requirement already satisfied: pyyaml in c:\\users\\nguye\\appdata\\local\\programs\\python\\python312\\lib\\site-packages (from kagglehub) (6.0.1)\n",
      "Requirement already satisfied: requests in c:\\users\\nguye\\appdata\\local\\programs\\python\\python312\\lib\\site-packages (from kagglehub) (2.32.3)\n",
      "Requirement already satisfied: tqdm in c:\\users\\nguye\\appdata\\local\\programs\\python\\python312\\lib\\site-packages (from kagglehub) (4.67.1)\n",
      "Requirement already satisfied: scipy>=1.6.0 in c:\\users\\nguye\\appdata\\local\\programs\\python\\python312\\lib\\site-packages (from scikit-learn) (1.12.0)\n",
      "Requirement already satisfied: joblib>=1.2.0 in c:\\users\\nguye\\appdata\\local\\programs\\python\\python312\\lib\\site-packages (from scikit-learn) (1.3.2)\n",
      "Requirement already satisfied: threadpoolctl>=2.0.0 in c:\\users\\nguye\\appdata\\local\\programs\\python\\python312\\lib\\site-packages (from scikit-learn) (3.3.0)\n",
      "Requirement already satisfied: six>=1.5 in c:\\users\\nguye\\appdata\\local\\programs\\python\\python312\\lib\\site-packages (from python-dateutil>=2.7->matplotlib) (1.16.0)\n",
      "Requirement already satisfied: charset-normalizer<4,>=2 in c:\\users\\nguye\\appdata\\local\\programs\\python\\python312\\lib\\site-packages (from requests->kagglehub) (3.3.2)\n",
      "Requirement already satisfied: idna<4,>=2.5 in c:\\users\\nguye\\appdata\\local\\programs\\python\\python312\\lib\\site-packages (from requests->kagglehub) (3.6)\n",
      "Requirement already satisfied: urllib3<3,>=1.21.1 in c:\\users\\nguye\\appdata\\local\\programs\\python\\python312\\lib\\site-packages (from requests->kagglehub) (2.2.1)\n",
      "Requirement already satisfied: certifi>=2017.4.17 in c:\\users\\nguye\\appdata\\local\\programs\\python\\python312\\lib\\site-packages (from requests->kagglehub) (2024.2.2)\n",
      "Requirement already satisfied: colorama in c:\\users\\nguye\\appdata\\local\\programs\\python\\python312\\lib\\site-packages (from tqdm->kagglehub) (0.4.6)\n",
      "Note: you may need to restart the kernel to use updated packages.\n"
     ]
    }
   ],
   "source": [
    "%pip install matplotlib pandas seaborn kaggle scikit-learn"
   ]
  },
  {
   "cell_type": "code",
   "execution_count": 24,
   "metadata": {},
   "outputs": [],
   "source": [
    "import matplotlib.pyplot as plt\n",
    "import numpy as np\n",
    "import pandas as pd\n",
    "import seaborn as sns\n",
    "import zipfile\n",
    "import os\n",
    "from sklearn.cluster import KMeans\n",
    "from sklearn.metrics import silhouette_score\n",
    "from sklearn.preprocessing import StandardScaler\n",
    "\n",
    "pd.options.display.float_format = \"{:.2f}\".format"
   ]
  },
  {
   "cell_type": "markdown",
   "metadata": {},
   "source": [
    "**`matplotlib`** được dùng để vẽ biểu đồ trong Python. Có thể dùng để vẽ các loại biểu đồ như\n",
    "histogram, biểu đồ tán xạ (scatter plot), biểu đồ đường (line chart) và biểu đồ cột (bar chart),...\n",
    "\n",
    "**`pandas`** được dùng để xử lý và phân tích dữ liệu dạng bảng và cung cấp cấu trúc dữ liệu như\n",
    "DataFrame và Series để dễ thao tác\n",
    "\n",
    "**`seaborn`** dùng để vẽ biểu đồ dựa trên thư viện matplotlib nhưng biểu đồ sẽ trông đẹp hơn và cũng hỗ trợ các loại biểu đồ thống kê như violin plot, box plot, heatmap\n",
    "\n",
    "**`sklearn (scikit-learn)`** là thư viện học máy phổ biến trong Python, được sử dụng để thực hiện các tác vụ học máy và xử lý dữ liệu. Trong đồ án này, các thành phần sau của sklearn được sử dụng:\n",
    "- **`sklearn.cluster.KMeans`**: Cung cấp thuật toán KMeans để gom nhóm dữ liệu thành các cụm dựa trên sự tương đồng, được sử dụng để phân loại các nền kinh tế thành các nhóm.\n",
    "- **`sklearn.metrics.silhouette_score`**: Dùng để tính điểm Silhouette, một chỉ số đánh giá chất lượng của việc gom nhóm, giúp xác định số lượng cụm tối ưu bằng cách đo lường mức độ tách biệt giữa các cụm.\n",
    "- **`sklearn.preprocessing.StandardScaler`**: Dùng để chuẩn hóa dữ liệu, đưa các giá trị về cùng thang đo (trung bình bằng 0 và độ lệch chuẩn bằng 1), đảm bảo các chỉ số kinh tế có trọng số công bằng khi áp dụng thuật toán gom nhóm."
   ]
  },
  {
   "cell_type": "markdown",
   "metadata": {},
   "source": [
    "## **Thu thập dữ liệu**\n",
    "\n",
    "*Nền tảng thu thập* - *Kaggle*\n",
    "\n",
    "*Tên bộ dữ liệu thu thập* - Student Depression Dataset: Analyzing Mental Health Trends and Predictors Among Students\n",
    "\n",
    "*Thông tin về bộ dữ liệu* - Bộ dữ liệu này được tổng hợp từ nhiều nguồn khác nhau nhằm mục đích phân tích và dự đoán mức độ trầm cảm ở sinh viên. Nó được thiết kế phục vụ nghiên cứu trong các lĩnh vực tâm lý học, khoa học dữ liệu và giáo dục. Bộ dữ liệu cung cấp những hiểu biết quan trọng về các yếu tố góp phần vào các vấn đề sức khỏe tâm thần của sinh viên, từ đó hỗ trợ xây dựng các chiến lược can thiệp sớm và cải thiện sức khỏe tinh thần cho đối tượng này."
   ]
  },
  {
   "cell_type": "code",
   "execution_count": null,
   "metadata": {},
   "outputs": [],
   "source": [
    "!kaggle datasets download -d adilshamim8/education-and-career-success -p ./"
   ]
  },
  {
   "cell_type": "code",
   "execution_count": 25,
   "metadata": {},
   "outputs": [
    {
     "name": "stdout",
     "output_type": "stream",
     "text": [
      "Warning: Looks like you're using an outdated API Version, please consider updating (server 1.7.4.2 / client 1.6.17)\n",
      "Dataset URL: https://www.kaggle.com/datasets/adilshamim8/education-and-career-success\n",
      "License(s): other\n",
      "education-and-career-success.zip: Skipping, found more recently modified local copy (use --force to force download)\n"
     ]
    },
    {
     "ename": "PermissionError",
     "evalue": "[WinError 32] The process cannot access the file because it is being used by another process: './education-and-career-success.zip'",
     "output_type": "error",
     "traceback": [
      "\u001b[1;31m---------------------------------------------------------------------------\u001b[0m",
      "\u001b[1;31mPermissionError\u001b[0m                           Traceback (most recent call last)",
      "Cell \u001b[1;32mIn[25], line 8\u001b[0m\n\u001b[0;32m      6\u001b[0m \u001b[38;5;28;01mwith\u001b[39;00m zipfile\u001b[38;5;241m.\u001b[39mZipFile(zip_file_path, \u001b[38;5;124m'\u001b[39m\u001b[38;5;124mr\u001b[39m\u001b[38;5;124m'\u001b[39m) \u001b[38;5;28;01mas\u001b[39;00m zip_ref:\n\u001b[0;32m      7\u001b[0m     zip_ref\u001b[38;5;241m.\u001b[39mextractall(extracted_folder)\n\u001b[1;32m----> 8\u001b[0m     \u001b[43mos\u001b[49m\u001b[38;5;241;43m.\u001b[39;49m\u001b[43mremove\u001b[49m\u001b[43m(\u001b[49m\u001b[43mzip_file_path\u001b[49m\u001b[43m)\u001b[49m\n\u001b[0;32m     11\u001b[0m csv_file_path \u001b[38;5;241m=\u001b[39m os\u001b[38;5;241m.\u001b[39mpath\u001b[38;5;241m.\u001b[39mjoin(extracted_folder, \u001b[38;5;124m'\u001b[39m\u001b[38;5;124meducation_and_career_success.csv\u001b[39m\u001b[38;5;124m'\u001b[39m) \n",
      "\u001b[1;31mPermissionError\u001b[0m: [WinError 32] The process cannot access the file because it is being used by another process: './education-and-career-success.zip'"
     ]
    }
   ],
   "source": [
    "\n",
    "zip_file_path = './education-and-career-success.zip'  \n",
    "extracted_folder = './education-and-career-success' \n",
    "\n",
    "with zipfile.ZipFile(zip_file_path, 'r') as zip_ref:\n",
    "    zip_ref.extractall(extracted_folder)\n",
    "    os.remove(zip_file_path)\n",
    "\n",
    "\n",
    "csv_file_path = os.path.join(extracted_folder, 'education_and_career_success.csv') "
   ]
  },
  {
   "cell_type": "markdown",
   "metadata": {},
   "source": [
    "## **Đọc bộ dữ liệu**"
   ]
  },
  {
   "cell_type": "code",
   "execution_count": 4,
   "metadata": {},
   "outputs": [
    {
     "ename": "NameError",
     "evalue": "name 'students' is not defined",
     "output_type": "error",
     "traceback": [
      "\u001b[1;31m---------------------------------------------------------------------------\u001b[0m",
      "\u001b[1;31mNameError\u001b[0m                                 Traceback (most recent call last)",
      "Cell \u001b[1;32mIn[4], line 1\u001b[0m\n\u001b[1;32m----> 1\u001b[0m X \u001b[38;5;241m=\u001b[39m \u001b[43mstudents\u001b[49m\u001b[38;5;241m.\u001b[39miloc[:, :\u001b[38;5;241m-\u001b[39m\u001b[38;5;241m1\u001b[39m]  \u001b[38;5;66;03m# Tất cả các cột ngoại trừ cột cuối\u001b[39;00m\n\u001b[0;32m      2\u001b[0m y \u001b[38;5;241m=\u001b[39m students\u001b[38;5;241m.\u001b[39miloc[:, \u001b[38;5;241m-\u001b[39m\u001b[38;5;241m1\u001b[39m]   \u001b[38;5;66;03m# Cột cuối là nhãn\u001b[39;00m\n",
      "\u001b[1;31mNameError\u001b[0m: name 'students' is not defined"
     ]
    }
   ],
   "source": [
    "X = students.iloc[:, :-1]  # Tất cả các cột ngoại trừ cột cuối\n",
    "y = students.iloc[:, -1]   # Cột cuối là nhãn"
   ]
  },
  {
   "cell_type": "code",
   "execution_count": null,
   "metadata": {},
   "outputs": [
    {
     "data": {
      "text/html": [
       "<div>\n",
       "<style scoped>\n",
       "    .dataframe tbody tr th:only-of-type {\n",
       "        vertical-align: middle;\n",
       "    }\n",
       "\n",
       "    .dataframe tbody tr th {\n",
       "        vertical-align: top;\n",
       "    }\n",
       "\n",
       "    .dataframe thead th {\n",
       "        text-align: right;\n",
       "    }\n",
       "</style>\n",
       "<table border=\"1\" class=\"dataframe\">\n",
       "  <thead>\n",
       "    <tr style=\"text-align: right;\">\n",
       "      <th></th>\n",
       "      <th>Gender</th>\n",
       "      <th>Age</th>\n",
       "      <th>Height</th>\n",
       "      <th>Weight</th>\n",
       "      <th>family_history_with_overweight</th>\n",
       "      <th>FAVC</th>\n",
       "      <th>FCVC</th>\n",
       "      <th>NCP</th>\n",
       "      <th>CAEC</th>\n",
       "      <th>SMOKE</th>\n",
       "      <th>CH2O</th>\n",
       "      <th>SCC</th>\n",
       "      <th>FAF</th>\n",
       "      <th>TUE</th>\n",
       "      <th>CALC</th>\n",
       "      <th>MTRANS</th>\n",
       "    </tr>\n",
       "  </thead>\n",
       "  <tbody>\n",
       "    <tr>\n",
       "      <th>0</th>\n",
       "      <td>Female</td>\n",
       "      <td>21.00</td>\n",
       "      <td>1.62</td>\n",
       "      <td>64.00</td>\n",
       "      <td>yes</td>\n",
       "      <td>no</td>\n",
       "      <td>2.00</td>\n",
       "      <td>3.00</td>\n",
       "      <td>Sometimes</td>\n",
       "      <td>no</td>\n",
       "      <td>2.00</td>\n",
       "      <td>no</td>\n",
       "      <td>0.00</td>\n",
       "      <td>1.00</td>\n",
       "      <td>no</td>\n",
       "      <td>Public_Transportation</td>\n",
       "    </tr>\n",
       "    <tr>\n",
       "      <th>1</th>\n",
       "      <td>Female</td>\n",
       "      <td>21.00</td>\n",
       "      <td>1.52</td>\n",
       "      <td>56.00</td>\n",
       "      <td>yes</td>\n",
       "      <td>no</td>\n",
       "      <td>3.00</td>\n",
       "      <td>3.00</td>\n",
       "      <td>Sometimes</td>\n",
       "      <td>yes</td>\n",
       "      <td>3.00</td>\n",
       "      <td>yes</td>\n",
       "      <td>3.00</td>\n",
       "      <td>0.00</td>\n",
       "      <td>Sometimes</td>\n",
       "      <td>Public_Transportation</td>\n",
       "    </tr>\n",
       "    <tr>\n",
       "      <th>2</th>\n",
       "      <td>Male</td>\n",
       "      <td>23.00</td>\n",
       "      <td>1.80</td>\n",
       "      <td>77.00</td>\n",
       "      <td>yes</td>\n",
       "      <td>no</td>\n",
       "      <td>2.00</td>\n",
       "      <td>3.00</td>\n",
       "      <td>Sometimes</td>\n",
       "      <td>no</td>\n",
       "      <td>2.00</td>\n",
       "      <td>no</td>\n",
       "      <td>2.00</td>\n",
       "      <td>1.00</td>\n",
       "      <td>Frequently</td>\n",
       "      <td>Public_Transportation</td>\n",
       "    </tr>\n",
       "    <tr>\n",
       "      <th>3</th>\n",
       "      <td>Male</td>\n",
       "      <td>27.00</td>\n",
       "      <td>1.80</td>\n",
       "      <td>87.00</td>\n",
       "      <td>no</td>\n",
       "      <td>no</td>\n",
       "      <td>3.00</td>\n",
       "      <td>3.00</td>\n",
       "      <td>Sometimes</td>\n",
       "      <td>no</td>\n",
       "      <td>2.00</td>\n",
       "      <td>no</td>\n",
       "      <td>2.00</td>\n",
       "      <td>0.00</td>\n",
       "      <td>Frequently</td>\n",
       "      <td>Walking</td>\n",
       "    </tr>\n",
       "    <tr>\n",
       "      <th>4</th>\n",
       "      <td>Male</td>\n",
       "      <td>22.00</td>\n",
       "      <td>1.78</td>\n",
       "      <td>89.80</td>\n",
       "      <td>no</td>\n",
       "      <td>no</td>\n",
       "      <td>2.00</td>\n",
       "      <td>1.00</td>\n",
       "      <td>Sometimes</td>\n",
       "      <td>no</td>\n",
       "      <td>2.00</td>\n",
       "      <td>no</td>\n",
       "      <td>0.00</td>\n",
       "      <td>0.00</td>\n",
       "      <td>Sometimes</td>\n",
       "      <td>Public_Transportation</td>\n",
       "    </tr>\n",
       "  </tbody>\n",
       "</table>\n",
       "</div>"
      ],
      "text/plain": [
       "   Gender   Age  Height  Weight family_history_with_overweight FAVC  FCVC  \\\n",
       "0  Female 21.00    1.62   64.00                            yes   no  2.00   \n",
       "1  Female 21.00    1.52   56.00                            yes   no  3.00   \n",
       "2    Male 23.00    1.80   77.00                            yes   no  2.00   \n",
       "3    Male 27.00    1.80   87.00                             no   no  3.00   \n",
       "4    Male 22.00    1.78   89.80                             no   no  2.00   \n",
       "\n",
       "   NCP       CAEC SMOKE  CH2O  SCC  FAF  TUE        CALC  \\\n",
       "0 3.00  Sometimes    no  2.00   no 0.00 1.00          no   \n",
       "1 3.00  Sometimes   yes  3.00  yes 3.00 0.00   Sometimes   \n",
       "2 3.00  Sometimes    no  2.00   no 2.00 1.00  Frequently   \n",
       "3 3.00  Sometimes    no  2.00   no 2.00 0.00  Frequently   \n",
       "4 1.00  Sometimes    no  2.00   no 0.00 0.00   Sometimes   \n",
       "\n",
       "                  MTRANS  \n",
       "0  Public_Transportation  \n",
       "1  Public_Transportation  \n",
       "2  Public_Transportation  \n",
       "3                Walking  \n",
       "4  Public_Transportation  "
      ]
     },
     "execution_count": 5,
     "metadata": {},
     "output_type": "execute_result"
    }
   ],
   "source": [
    "X.head()"
   ]
  },
  {
   "cell_type": "code",
   "execution_count": null,
   "metadata": {},
   "outputs": [
    {
     "data": {
      "text/html": [
       "<div>\n",
       "<style scoped>\n",
       "    .dataframe tbody tr th:only-of-type {\n",
       "        vertical-align: middle;\n",
       "    }\n",
       "\n",
       "    .dataframe tbody tr th {\n",
       "        vertical-align: top;\n",
       "    }\n",
       "\n",
       "    .dataframe thead th {\n",
       "        text-align: right;\n",
       "    }\n",
       "</style>\n",
       "<table border=\"1\" class=\"dataframe\">\n",
       "  <thead>\n",
       "    <tr style=\"text-align: right;\">\n",
       "      <th></th>\n",
       "      <th>NObeyesdad</th>\n",
       "    </tr>\n",
       "  </thead>\n",
       "  <tbody>\n",
       "    <tr>\n",
       "      <th>0</th>\n",
       "      <td>Normal_Weight</td>\n",
       "    </tr>\n",
       "    <tr>\n",
       "      <th>1</th>\n",
       "      <td>Normal_Weight</td>\n",
       "    </tr>\n",
       "    <tr>\n",
       "      <th>2</th>\n",
       "      <td>Normal_Weight</td>\n",
       "    </tr>\n",
       "    <tr>\n",
       "      <th>3</th>\n",
       "      <td>Overweight_Level_I</td>\n",
       "    </tr>\n",
       "    <tr>\n",
       "      <th>4</th>\n",
       "      <td>Overweight_Level_II</td>\n",
       "    </tr>\n",
       "  </tbody>\n",
       "</table>\n",
       "</div>"
      ],
      "text/plain": [
       "            NObeyesdad\n",
       "0        Normal_Weight\n",
       "1        Normal_Weight\n",
       "2        Normal_Weight\n",
       "3   Overweight_Level_I\n",
       "4  Overweight_Level_II"
      ]
     },
     "execution_count": 6,
     "metadata": {},
     "output_type": "execute_result"
    }
   ],
   "source": [
    "y.head()"
   ]
  },
  {
   "cell_type": "markdown",
   "metadata": {},
   "source": [
    "## **Tiền xử lý dữ liệu**"
   ]
  },
  {
   "cell_type": "markdown",
   "metadata": {},
   "source": [
    "### **Ánh xạ (mapping) lại các giá trị của bộ dữ liệu**"
   ]
  },
  {
   "cell_type": "markdown",
   "metadata": {},
   "source": [
    "**Mục đích**: Bộ dữ liệu về nấm sử dụng các ký hiệu chữ cái thay vì các giá trị có ý nghĩa. Vì vậy việc ánh xạ (mapping) lại giúp chuyển đổi các ký hiệu này thành dạng mô tả dễ hiểu hơn, giúp việc phân tích dữ liệu trở nên trực quan hơn.\n",
    "\n",
    "**Các thực hiện**:\n",
    "\n",
    "1. Xác định các cột cần được ánh xạ.\n",
    "2. Tạo một dictionary `mapping_dict` để lưu trữ ánh xạ giữa ký hiệu chữ cái và giá trị thực tế.\n",
    "3. Duyệt qua từng cột trong tập dữ liệu và sử dụng `.map()` để thay thế giá trị ký hiệu bằng giá trị có ý nghĩa.\n",
    "4. Lưu lại kết quả vào chính cột tương ứng trong DataFrame."
   ]
  },
  {
   "cell_type": "code",
   "execution_count": null,
   "metadata": {},
   "outputs": [
    {
     "name": "stdout",
     "output_type": "stream",
     "text": [
      "cap-shape: ['x' 'b' 's' 'f' 'k' 'c']\n",
      "------\n",
      "cap-surface: ['s' 'y' 'f' 'g']\n",
      "------\n",
      "cap-color: ['n' 'y' 'w' 'g' 'e' 'p' 'b' 'u' 'c' 'r']\n",
      "------\n",
      "bruises: ['t' 'f']\n",
      "------\n",
      "odor: ['p' 'a' 'l' 'n' 'f' 'c' 'y' 's' 'm']\n",
      "------\n",
      "gill-attachment: ['f' 'a']\n",
      "------\n",
      "gill-spacing: ['c' 'w']\n",
      "------\n",
      "gill-size: ['n' 'b']\n",
      "------\n",
      "gill-color: ['k' 'n' 'g' 'p' 'w' 'h' 'u' 'e' 'b' 'r' 'y' 'o']\n",
      "------\n",
      "stalk-shape: ['e' 't']\n",
      "------\n",
      "stalk-root: ['e' 'c' 'b' 'r' nan]\n",
      "------\n",
      "stalk-surface-above-ring: ['s' 'f' 'k' 'y']\n",
      "------\n",
      "stalk-surface-below-ring: ['s' 'f' 'y' 'k']\n",
      "------\n",
      "stalk-color-above-ring: ['w' 'g' 'p' 'n' 'b' 'e' 'o' 'c' 'y']\n",
      "------\n",
      "stalk-color-below-ring: ['w' 'p' 'g' 'b' 'n' 'e' 'y' 'o' 'c']\n",
      "------\n",
      "veil-type: ['p']\n",
      "------\n",
      "veil-color: ['w' 'n' 'o' 'y']\n",
      "------\n",
      "ring-number: ['o' 't' 'n']\n",
      "------\n",
      "ring-type: ['p' 'e' 'l' 'f' 'n']\n",
      "------\n",
      "spore-print-color: ['k' 'n' 'u' 'h' 'w' 'r' 'o' 'y' 'b']\n",
      "------\n",
      "population: ['s' 'n' 'a' 'v' 'y' 'c']\n",
      "------\n",
      "habitat: ['u' 'g' 'm' 'd' 'p' 'w' 'l']\n",
      "------\n",
      "poisonous: ['p' 'e']\n",
      "------\n"
     ]
    }
   ],
   "source": [
    "for col in X.columns:\n",
    "    print(f\"{col}: {X[col].unique()}\")\n",
    "    print(\"------\")\n",
    "    \n",
    "print(f\"{y.columns[0]}: {y[y.columns[0]].unique()}\")\n",
    "print(\"------\")\n",
    "\n",
    "# Define mapping dictionaries\n",
    "feature_mappings = {\n",
    "    \"cap-shape\": {\"x\": \"convex\", \"b\": \"bell\", \"s\": \"sunken\", \"f\": \"flat\", \"k\": \"knobbed\", \"c\": \"conical\"},\n",
    "    \"cap-surface\": {\"s\": \"smooth\", \"y\": \"scaly\", \"f\": \"fibrous\", \"g\": \"grooves\"},\n",
    "    \"cap-color\": {\"n\": \"brown\", \"y\": \"yellow\", \"w\": \"white\", \"g\": \"gray\", \"e\": \"red\", \"p\": \"pink\", \"b\": \"buff\", \"u\": \"purple\", \"c\": \"cinnamon\", \"r\": \"green\"},\n",
    "    \"bruises\": {\"t\": \"bruises\", \"f\": \"no\"},\n",
    "    \"odor\": {\"p\": \"pungent\", \"a\": \"almond\", \"l\": \"anise\", \"n\": \"none\", \"f\": \"foul\", \"c\": \"creosote\", \"y\": \"fishy\", \"s\": \"spicy\", \"m\": \"musty\"},\n",
    "    \"gill-attachment\": {\"f\": \"free\", \"a\": \"attached\"},\n",
    "    \"gill-spacing\": {\"c\": \"close\", \"w\": \"crowded\"},\n",
    "    \"gill-size\": {\"n\": \"narrow\", \"b\": \"broad\"},\n",
    "    \"gill-color\": {\"k\": \"black\", \"n\": \"brown\", \"g\": \"gray\", \"p\": \"pink\", \"w\": \"white\", \"h\": \"chocolate\", \"u\": \"purple\", \"e\": \"red\", \"b\": \"buff\", \"r\": \"green\", \"y\": \"yellow\", \"o\": \"orange\"},\n",
    "    \"stalk-shape\": {\"e\": \"enlarging\", \"t\": \"tapering\"},\n",
    "    \"stalk-root\": {\"e\": \"equal\", \"c\": \"club\", \"b\": \"bulbous\", \"r\": \"rhizomorphs\", None: \"missing\"},\n",
    "    \"stalk-surface-above-ring\": {\"s\": \"smooth\", \"f\": \"fibrous\", \"k\": \"silky\", \"y\": \"scaly\"},\n",
    "    \"stalk-surface-below-ring\": {\"s\": \"smooth\", \"f\": \"fibrous\", \"y\": \"scaly\", \"k\": \"silky\"},\n",
    "    \"stalk-color-above-ring\": {\"w\": \"white\", \"g\": \"gray\", \"p\": \"pink\", \"n\": \"brown\", \"b\": \"buff\", \"e\": \"red\", \"o\": \"orange\", \"c\": \"cinnamon\", \"y\": \"yellow\"},\n",
    "    \"stalk-color-below-ring\": {\"w\": \"white\", \"p\": \"pink\", \"g\": \"gray\", \"b\": \"buff\", \"n\": \"brown\", \"e\": \"red\", \"y\": \"yellow\", \"o\": \"orange\", \"c\": \"cinnamon\"},\n",
    "    \"veil-type\": {\"p\": \"partial\"},\n",
    "    \"veil-color\": {\"w\": \"white\", \"n\": \"brown\", \"o\": \"orange\", \"y\": \"yellow\"},\n",
    "    \"ring-number\": {\"o\": \"one\", \"t\": \"two\", \"n\": \"none\"},\n",
    "    \"ring-type\": {\"p\": \"pendant\", \"e\": \"evanescent\", \"l\": \"large\", \"f\": \"flaring\", \"n\": \"none\"},\n",
    "    \"spore-print-color\": {\"k\": \"black\", \"n\": \"brown\", \"u\": \"purple\", \"h\": \"chocolate\", \"w\": \"white\", \"r\": \"green\", \"o\": \"orange\", \"y\": \"yellow\", \"b\": \"buff\"},\n",
    "    \"population\": {\"s\": \"scattered\", \"n\": \"numerous\", \"a\": \"abundant\", \"v\": \"several\", \"y\": \"solitary\", \"c\": \"clustered\"},\n",
    "    \"habitat\": {\"u\": \"urban\", \"g\": \"grasses\", \"m\": \"meadows\", \"d\": \"woods\", \"p\": \"paths\", \"w\": \"waste\", \"l\": \"leaves\"}\n",
    "}\n",
    "\n",
    "target_mapping = {\n",
    "    \"poisonous\": {\"p\": \"poisonous\", \"e\": \"edible\"}\n",
    "}\n",
    "\n",
    "# Apply mappings\n",
    "X = X.replace(feature_mappings)\n",
    "y = y.replace(target_mapping)"
   ]
  },
  {
   "cell_type": "code",
   "execution_count": null,
   "metadata": {},
   "outputs": [
    {
     "name": "stdout",
     "output_type": "stream",
     "text": [
      "cap-shape: ['convex' 'bell' 'sunken' 'flat' 'knobbed' 'conical']\n",
      "------\n",
      "cap-surface: ['smooth' 'scaly' 'fibrous' 'grooves']\n",
      "------\n",
      "cap-color: ['brown' 'yellow' 'white' 'gray' 'red' 'pink' 'buff' 'purple' 'cinnamon'\n",
      " 'green']\n",
      "------\n",
      "bruises: ['bruises' 'no']\n",
      "------\n",
      "odor: ['pungent' 'almond' 'anise' 'none' 'foul' 'creosote' 'fishy' 'spicy'\n",
      " 'musty']\n",
      "------\n",
      "gill-attachment: ['free' 'attached']\n",
      "------\n",
      "gill-spacing: ['close' 'crowded']\n",
      "------\n",
      "gill-size: ['narrow' 'broad']\n",
      "------\n",
      "gill-color: ['black' 'brown' 'gray' 'pink' 'white' 'chocolate' 'purple' 'red' 'buff'\n",
      " 'green' 'yellow' 'orange']\n",
      "------\n",
      "stalk-shape: ['enlarging' 'tapering']\n",
      "------\n",
      "stalk-root: ['equal' 'club' 'bulbous' 'rhizomorphs' 'missing']\n",
      "------\n",
      "stalk-surface-above-ring: ['smooth' 'fibrous' 'silky' 'scaly']\n",
      "------\n",
      "stalk-surface-below-ring: ['smooth' 'fibrous' 'scaly' 'silky']\n",
      "------\n",
      "stalk-color-above-ring: ['white' 'gray' 'pink' 'brown' 'buff' 'red' 'orange' 'cinnamon' 'yellow']\n",
      "------\n",
      "stalk-color-below-ring: ['white' 'pink' 'gray' 'buff' 'brown' 'red' 'yellow' 'orange' 'cinnamon']\n",
      "------\n",
      "veil-type: ['partial']\n",
      "------\n",
      "veil-color: ['white' 'brown' 'orange' 'yellow']\n",
      "------\n",
      "ring-number: ['one' 'two' 'none']\n",
      "------\n",
      "ring-type: ['pendant' 'evanescent' 'large' 'flaring' 'none']\n",
      "------\n",
      "spore-print-color: ['black' 'brown' 'purple' 'chocolate' 'white' 'green' 'orange' 'yellow'\n",
      " 'buff']\n",
      "------\n",
      "population: ['scattered' 'numerous' 'abundant' 'several' 'solitary' 'clustered']\n",
      "------\n",
      "habitat: ['urban' 'grasses' 'meadows' 'woods' 'paths' 'waste' 'leaves']\n",
      "------\n",
      "poisonous: ['poisonous' 'edible']\n",
      "------\n"
     ]
    }
   ],
   "source": [
    "for col in X.columns:\n",
    "    print(f\"{col}: {X[col].unique()}\")\n",
    "    print(\"------\")\n",
    "    \n",
    "print(f\"{y.columns[0]}: {y[y.columns[0]].unique()}\")\n",
    "print(\"------\")"
   ]
  },
  {
   "cell_type": "markdown",
   "metadata": {},
   "source": [
    "### **Xử lý dữ liệu bị thiếu**"
   ]
  },
  {
   "cell_type": "markdown",
   "metadata": {},
   "source": [
    "**Mục đích**: Giảm thiểu ảnh hưởng của dữ liệu bị thiếu đối với quá trình phân tích và mô hình hóa và đảm bảo dữ liệu nhất quán, không bị mất mát quá nhiều thông tin.\n",
    "\n",
    "**Các thực hiện**:\n",
    "\n",
    "1. Xác định các cột có giá trị bị thiếu.\n",
    "2. Phân tích phân bố dữ liệu của cột bị thiếu.\n",
    "3. Đưa ra chiến lược xử lý dữ liệu bị thiếu (đọc **Nhận xét**).\n",
    "4. Thực hiện thay thế giá trị bị thiếu."
   ]
  },
  {
   "cell_type": "code",
   "execution_count": null,
   "metadata": {},
   "outputs": [
    {
     "name": "stdout",
     "output_type": "stream",
     "text": [
      "Các cột chứa dữ liệu bị mất và số lượng dòng bị thiếu:\n",
      "Series([], dtype: int64)\n"
     ]
    }
   ],
   "source": [
    "missing_values = X.isnull().sum()\n",
    "missing_columns = missing_values[missing_values > 0]\n",
    "\n",
    "print(\"Các cột chứa dữ liệu bị mất và số lượng dòng bị thiếu:\")\n",
    "print(missing_columns)"
   ]
  },
  {
   "cell_type": "code",
   "execution_count": null,
   "metadata": {},
   "outputs": [
    {
     "data": {
      "image/png": "[encoded data removed]",
      "text/plain": [
       "<Figure size 800x800 with 1 Axes>"
      ]
     },
     "metadata": {},
     "output_type": "display_data"
    }
   ],
   "source": [
    "stalk_root_counts = X[\"stalk-root\"].value_counts(dropna=False)\n",
    "\n",
    "plt.figure(figsize=(8, 8))\n",
    "plt.pie(stalk_root_counts, labels=stalk_root_counts.index, autopct=\"%1.1f%%\", startangle=140)\n",
    "plt.title(\"Phân bố của cột stalk-root\")\n",
    "plt.show()"
   ]
  },
  {
   "cell_type": "markdown",
   "metadata": {},
   "source": [
    "**Nhận xét**\n",
    "\n",
    "Tỷ lệ dữ liệu bị thiếu (nan) của thuộc tính `stalk-root` là 30.5%, khá lớn so với các giá trị còn lại nên nếu chọn việc thay thế các giá trị (nan) bằng mode thì có thể làm sai lệch phân bố dữ liệu hay việc loại bỏ các mẫu chứa dữ liệu bị thiếu thì cũng sẽ làm giảm đi kích thước ban đầu của bộ dữ liệu và dẫn đến việc mất đi các thông tin mà bộ dữ liệu cung cấp.\n",
    "\n",
    "Bởi thế nên nhóm quyết định sẽ gán giá trị `other` vào các dữ liệu bị thiếu. Nó giúp giải quyết việc giữ lại dữ liệu mà không làm sai lệch phân bố."
   ]
  },
  {
   "cell_type": "code",
   "execution_count": null,
   "metadata": {},
   "outputs": [
    {
     "name": "stdout",
     "output_type": "stream",
     "text": [
      "Số lượng dữ liệu thiếu của thuộc tính 'stalk-root' là 0\n"
     ]
    }
   ],
   "source": [
    "X.loc[:, \"stalk-root\"] = X[\"stalk-root\"].fillna(\"other\")\n",
    "print(\"Số lượng dữ liệu thiếu của thuộc tính 'stalk-root' là\" ,X[\"stalk-root\"].isnull().sum()) "
   ]
  },
  {
   "cell_type": "markdown",
   "metadata": {},
   "source": [
    "**Lưu bộ dữ liệu vào file .csv**"
   ]
  },
  {
   "cell_type": "code",
   "execution_count": null,
   "metadata": {},
   "outputs": [],
   "source": [
    "data = pd.concat([X, y], axis=1)\n",
    "data.to_csv(\"mushroom_data.csv\", index=False)"
   ]
  },
  {
   "cell_type": "markdown",
   "metadata": {},
   "source": [
    "## **Khám phá dữ liệu**"
   ]
  },
  {
   "cell_type": "markdown",
   "metadata": {},
   "source": [
    "Bảng bên dưới mô tả chi tiết ý nghĩa của các thuộc tính trong bộ dữ liệu **`Mushroom`**\n",
    "\n",
    "\n",
    "<center>\n",
    "\n",
    "| **Tên thuộc tính** | **Mô tả** |\n",
    "|-------------------|-------------------------------------------------|\n",
    "| **poisonous**        | Xác định nấm có độc hay không. Giá trị: 'poisonous' (độc) hoặc 'edible' (ăn được). |\n",
    "| **cap-shape**       | Hình dạng của mũ nấm, có thể là chuông, nón, lồi, phẳng, núm, hoặc lõm. |\n",
    "| **cap-surface**     | Bề mặt của mũ nấm, có thể là sợi, có rãnh, có vảy hoặc nhẵn. |\n",
    "| **cap-color**        | Màu sắc của mũ nấm, bao gồm các màu như nâu, vàng, trắng, đỏ, hồng, tím, xanh lá,... |\n",
    "| **bruises**          | Cho biết nấm có bị bầm dập khi chạm vào hay không. Giá trị: 'bruises' (có) hoặc 'no' (không). |\n",
    "| **odor**             | Mùi của nấm, có thể là hạnh nhân, hồi, khét, tanh, hôi, mốc, không mùi, hăng hoặc cay. |\n",
    "| **gill-attachment**  | Cách các phiến nấm gắn vào cuống, có thể là gắn chặt, tự do, rủ xuống hoặc có răng cưa. |\n",
    "| **gill-spacing**     | Khoảng cách giữa các phiến nấm, có thể là sít, dày hoặc thưa. |\n",
    "| **gill-size**        | Kích thước của phiến nấm, có thể là rộng hoặc hẹp. |\n",
    "| **gill-color**       | Màu sắc của phiến nấm, có thể là đen, nâu, buff, chocolate, xám, xanh lá, cam, hồng, tím, đỏ, trắng, vàng. |\n",
    "| **stalk-shape**      | Hình dạng của cuống nấm, có thể là phình to ở đáy hoặc thuôn nhọn. |\n",
    "| **stalk-root**       | Kiểu rễ của cuống nấm, có thể là củ, chùm, đế phẳng, sợi rễ hoặc không có thông tin. |\n",
    "| **stalk-surface-above-ring** | Bề mặt cuống nấm phía trên vòng nấm, có thể là sợi, có vảy, bóng mượt hoặc nhẵn. |\n",
    "| **stalk-surface-below-ring** | Bề mặt cuống nấm phía dưới vòng nấm, có thể là sợi, có vảy, bóng mượt hoặc nhẵn. |\n",
    "| **stalk-color-above-ring**   | Màu sắc của cuống nấm phía trên vòng nấm. |\n",
    "| **stalk-color-below-ring**   | Màu sắc của cuống nấm phía dưới vòng nấm. |\n",
    "| **veil-type**       | Loại màng che, thường chỉ có giá trị 'partial' (một phần). |\n",
    "| **veil-color**      | Màu sắc của màng che, có thể là nâu, cam, trắng hoặc vàng. |\n",
    "| **ring-number**    | Số lượng vòng trên cuống nấm, có thể là không có, một hoặc hai. |\n",
    "| **ring-type**       | Loại vòng trên cuống nấm, có thể là dạng màng mỏng, lớn, rủ xuống hoặc không có. |\n",
    "| **spore-print-color** | Màu sắc của bào tử nấm khi in lên giấy, có thể là đen, nâu, buff, chocolate, xanh lá, cam, tím, trắng, vàng. |\n",
    "| **population**      | Mật độ phát triển của nấm, có thể là rải rác, nhiều, rất nhiều, thành cụm, đơn lẻ hoặc vài cây. |\n",
    "| **habitat**        | Môi trường sống của nấm, có thể là cỏ, lá rụng, đồng cỏ, ven đường, đô thị, rác thải hoặc rừng. |\n",
    "\n",
    "</center>\n",
    "\n"
   ]
  },
  {
   "cell_type": "markdown",
   "metadata": {},
   "source": [
    "### **Tổng quan về dữ liệu**"
   ]
  },
  {
   "cell_type": "code",
   "execution_count": null,
   "metadata": {},
   "outputs": [
    {
     "name": "stdout",
     "output_type": "stream",
     "text": [
      "<class 'pandas.core.frame.DataFrame'>\n",
      "RangeIndex: 8124 entries, 0 to 8123\n",
      "Data columns (total 22 columns):\n",
      " #   Column                    Non-Null Count  Dtype \n",
      "---  ------                    --------------  ----- \n",
      " 0   cap-shape                 8124 non-null   object\n",
      " 1   cap-surface               8124 non-null   object\n",
      " 2   cap-color                 8124 non-null   object\n",
      " 3   bruises                   8124 non-null   object\n",
      " 4   odor                      8124 non-null   object\n",
      " 5   gill-attachment           8124 non-null   object\n",
      " 6   gill-spacing              8124 non-null   object\n",
      " 7   gill-size                 8124 non-null   object\n",
      " 8   gill-color                8124 non-null   object\n",
      " 9   stalk-shape               8124 non-null   object\n",
      " 10  stalk-root                8124 non-null   object\n",
      " 11  stalk-surface-above-ring  8124 non-null   object\n",
      " 12  stalk-surface-below-ring  8124 non-null   object\n",
      " 13  stalk-color-above-ring    8124 non-null   object\n",
      " 14  stalk-color-below-ring    8124 non-null   object\n",
      " 15  veil-type                 8124 non-null   object\n",
      " 16  veil-color                8124 non-null   object\n",
      " 17  ring-number               8124 non-null   object\n",
      " 18  ring-type                 8124 non-null   object\n",
      " 19  spore-print-color         8124 non-null   object\n",
      " 20  population                8124 non-null   object\n",
      " 21  habitat                   8124 non-null   object\n",
      "dtypes: object(22)\n",
      "memory usage: 1.4+ MB\n"
     ]
    }
   ],
   "source": [
    "X.info()"
   ]
  },
  {
   "cell_type": "markdown",
   "metadata": {},
   "source": [
    "**Nhận xét về bộ dữ liệu Nấm (tập feature X) sau khi xử lý**\n",
    "- Dữ liệu còn *8124* dòng và *22* thuộc tính (cột).\n",
    "- Tất cả các thuộc tính đều có kiểu dữ liệu là object (chuỗi).\n",
    "- Không có giá trị khuyết thiếu trong bất kỳ thuộc tính nào vì tất cả các cột đều có 8124 giá trị không null."
   ]
  },
  {
   "cell_type": "code",
   "execution_count": null,
   "metadata": {},
   "outputs": [
    {
     "name": "stdout",
     "output_type": "stream",
     "text": [
      "<class 'pandas.core.frame.DataFrame'>\n",
      "RangeIndex: 8124 entries, 0 to 8123\n",
      "Data columns (total 1 columns):\n",
      " #   Column     Non-Null Count  Dtype \n",
      "---  ------     --------------  ----- \n",
      " 0   poisonous  8124 non-null   object\n",
      "dtypes: object(1)\n",
      "memory usage: 63.6+ KB\n"
     ]
    }
   ],
   "source": [
    "y.info()"
   ]
  },
  {
   "cell_type": "markdown",
   "metadata": {},
   "source": [
    "**Nhận xét về bộ dữ liệu của Hoa Kỳ *[wdi_2000_2020_USA]* sau khi xử lý**\n",
    "- Dữ liệu còn *8124* dòng và *22* thuộc tính (cột).\n",
    "- Tất cả các thuộc tính đều có kiểu dữ liệu là object.\n",
    "- Không có giá trị khuyết thiếu trong bất kỳ thuộc tính nào vì tất cả các cột đều có 8124 giá trị không null."
   ]
  },
  {
   "cell_type": "markdown",
   "metadata": {},
   "source": [
    "## **Các câu hỏi**"
   ]
  },
  {
   "cell_type": "markdown",
   "metadata": {},
   "source": [
    "#### **Câu 1**: ...\n",
    "\n",
    "\n",
    "**Thuộc tính được sử dụng**\n",
    "1. ..\n",
    "2. ..\n",
    "\n",
    "**Các bước thực hiện**\n",
    "1. \n",
    "2. \n",
    "3.\n",
    "4. \n",
    "5."
   ]
  },
  {
   "cell_type": "code",
   "execution_count": null,
   "metadata": {},
   "outputs": [],
   "source": []
  },
  {
   "cell_type": "markdown",
   "metadata": {},
   "source": [
    "**Nhận xét**\n",
    "\n"
   ]
  }
 ],
 "metadata": {
  "kernelspec": {
   "display_name": "Python 3",
   "language": "python",
   "name": "python3"
  },
  "language_info": {
   "codemirror_mode": {
    "name": "ipython",
    "version": 3
   },
   "file_extension": ".py",
   "mimetype": "text/x-python",
   "name": "python",
   "nbconvert_exporter": "python",
   "pygments_lexer": "ipython3",
   "version": "3.12.8"
  }
 },
 "nbformat": 4,
 "nbformat_minor": 2
}
