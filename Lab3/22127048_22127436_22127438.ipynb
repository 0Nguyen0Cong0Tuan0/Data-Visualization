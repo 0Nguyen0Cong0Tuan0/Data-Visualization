{
 "cells": [
  {
   "cell_type": "markdown",
   "metadata": {},
   "source": [
    "# **Lab 03: Khai thác và trực quan hóa dữ liệu**"
   ]
  },
  {
   "cell_type": "markdown",
   "metadata": {},
   "source": [
    "### **Danh sách các thành viên**\n",
    "\n",
    "<center>\n",
    "\n",
    "|         Họ tên         |   MSSV   |\n",
    "| :--------------------- | :------: |\n",
    "| Trần Nguyễn Nhật Cường | 22127048 |\n",
    "|    Nguyễn Công Tuấn    | 22127436 |\n",
    "|     Trần Đăng Tuấn     | 22127438 |\n",
    "\n",
    "</center>"
   ]
  },
  {
   "cell_type": "markdown",
   "metadata": {},
   "source": [
    "## **Cài đặt và sử dụng các thư viện cần thiết**"
   ]
  },
  {
   "cell_type": "code",
   "execution_count": null,
   "metadata": {},
   "outputs": [],
   "source": [
    "! pip install matplotlib pandas seaborn wbgapi scikit-learn"
   ]
  },
  {
   "cell_type": "code",
   "execution_count": null,
   "metadata": {},
   "outputs": [],
   "source": [
    "import matplotlib.pyplot as plt\n",
    "import numpy as np\n",
    "import pandas as pd\n",
    "import seaborn as sns\n",
    "from sklearn.preprocessing import MinMaxScaler\n",
    "import wbgapi as wb\n",
    "\n",
    "pd.options.display.float_format = '{:.2f}'.format"
   ]
  },
  {
   "cell_type": "markdown",
   "metadata": {},
   "source": [
    "**`matplotlib`** được dùng để vẽ biểu đồ trong Python. Có thể dùng để vẽ các loại biểu đồ như\n",
    "histogram, biểu đồ tán xạ (scatter plot), biểu đồ đường (line chart) và biểu đồ cột (bar chart),...\n",
    "\n",
    "**`pandas`** được dùng để xử lý và phân tích dữ liệu dạng bảng và cung cấp cấu trúc dữ liệu như\n",
    "DataFrame và Series để dễ thao tác\n",
    "\n",
    "**`seaborn`** dùng để vẽ biểu đồ dựa trên thư viện matplotlib nhưng biểu đồ sẽ trông đẹp hơn và cũng hỗ trợ các loại biểu đồ thống kê như violin plot, box plot, heatmap\n",
    "\n",
    "**`wbgapi`** dùng để lấy/truy cập dữ liệu từ ngân hàng thế giới (World Bank).\n",
    "\n",
    "**`sklearn (scikit-learn)`** là thư viện học máy phổ biến trong Python, được sử dụng để thực hiện các tác vụ học máy và xử lý dữ liệu. Trong đồ án này, các thành phần sau của sklearn được sử dụng:\n",
    "- **`sklearn.cluster.KMeans`**: Cung cấp thuật toán KMeans để gom nhóm dữ liệu thành các cụm dựa trên sự tương đồng, được sử dụng để phân loại các nền kinh tế thành các nhóm.\n",
    "- **`sklearn.metrics.silhouette_score`**: Dùng để tính điểm Silhouette, một chỉ số đánh giá chất lượng của việc gom nhóm, giúp xác định số lượng cụm tối ưu bằng cách đo lường mức độ tách biệt giữa các cụm.\n",
    "- **`sklearn.preprocessing.StandardScaler`**: Dùng để chuẩn hóa dữ liệu, đưa các giá trị về cùng thang đo (trung bình bằng 0 và độ lệch chuẩn bằng 1), đảm bảo các chỉ số kinh tế có trọng số công bằng khi áp dụng thuật toán gom nhóm."
   ]
  },
  {
   "cell_type": "markdown",
   "metadata": {},
   "source": [
    "## **Thu thập dữ liệu**\n",
    "\n",
    "**Nền tảng thu thập** - *World Development Indicators* từ *World Bank*\n",
    "\n",
    "**Phương pháp thư thập** - Gọi *APIs* từ **WBGAPI** - một package để truy cập vào dữ liệu *World Bank* - *Ngân hàng thế giới*\n",
    "\n",
    "**Cách lưu trữ dữ liệu sau khi thu thập** - Lưu thành file **`wdi_2000_2020_VNM`**, **`wdi_2000_2020_USA`**  và **`wdi_2000_2020_JPN`** tương ứng với 3 quôc gia Việt Nam, Hoa Kỳ và Nhật Bản"
   ]
  },
  {
   "cell_type": "code",
   "execution_count": null,
   "metadata": {},
   "outputs": [],
   "source": [
    "INDICATORS = {\n",
    "    # Education\n",
    "    'SE.PRM.UNER.FE':       'Children out of school, primary, female',\n",
    "    'SE.PRM.UNER.MA':       'Children out of school, primary, male',\n",
    "    'SE.XPD.TOTL.GD.ZS':    'Government expenditure on education, total (% of GDP)',\n",
    "    'SE.XPD.PRIM.PC.ZS':    'Government expenditure per student, primary (% of GDP per capita)',\n",
    "    'SE.XPD.SECO.PC.ZS':    'Government expenditure per student, secondary (% of GDP per capita)',\n",
    "    'SE.XPD.TERT.PC.ZS':    'Government expenditure per student, tertiary (% of GDP per capita)',\n",
    "    'SE.PRM.GINT.FE.ZS':    'Gross intake ratio in first grade of primary education, female (% of relevant age group)',\n",
    "    'SE.PRM.GINT.MA.ZS':    'Gross intake ratio in first grade of primary education, male (% of relevant age group)',\n",
    "    'SL.TLF.TOTL.FE.ZS':    'Labor force, female (% of total labor force)',\n",
    "    'SL.TLF.TOTL.IN':       'Labor force, total',\n",
    "    'SE.ADT.LITR.FE.ZS':    'Literacy rate, adult female (% of females ages 15 and above)',\n",
    "    'SE.ADT.LITR.MA.ZS':    'Literacy rate, adult male (% of males ages 15 and above)',\n",
    "    'SE.ADT.1524.LT.FE.ZS': 'Literacy rate, youth female (% of females ages 15-24)',\n",
    "    'SE.ADT.1524.LT.MA.ZS': 'Literacy rate, youth male (% of males ages 15-24)',\n",
    "    'SE.PRM.ENRL.TC.ZS':    'Pupil-teacher ratio, primary',\n",
    "    'SE.PRM.REPT.FE.ZS':    'Repeaters, primary, female (% of female enrollment)',\n",
    "    'SE.PRM.REPT.MA.ZS':    'Repeaters, primary, male (% of male enrollment)',\n",
    "    'SE.PRE.ENRR':          'School enrollment, preprimary (% gross)',\n",
    "    'SE.PRM.ENRR':          'School enrollment, primary (% gross)',\n",
    "    'SE.SEC.ENRR':          'School enrollment, secondary (% gross)',\n",
    "    'SE.PRM.TCAQ.ZS':       'Trained teachers in primary education (% of total teachers)',\n",
    "    'SL.UEM.TOTL.FE.ZS':    'Unemployment, female (% of female labor force) (modeled ILO estimate)',\n",
    "    'SL.UEM.TOTL.ZS':       'Unemployment, total (% of total labor force) (modeled ILO estimate)',\n",
    "\n",
    "    # Climate Change\n",
    "    'EG.ELC.ACCS.ZS':       'Access to electricity (% of population)',\n",
    "    'AG.LND.IRIG.AG.ZS':    'Agricultural irrigated land (% of total agricultural land)',\n",
    "    'AG.LND.AGRI.ZS':       'Agricultural land (% of land area)',\n",
    "    'NV.AGR.TOTL.ZS':       'Agriculture, forestry, and fishing, value added (% of GDP)',\n",
    "    'ER.H2O.FWTL.K3':       'Annual freshwater withdrawals, total (billion cubic meters)',\n",
    "    'AG.LND.ARBL.ZS':       'Arable land (% of land area)',\n",
    "    'AG.YLD.CREL.KG':       'Cereal yield (kg per hectare)',\n",
    "    'EG.USE.ELEC.KH.PC':    'Electric power consumption (kWh per capita)',\n",
    "    'EG.USE.PCAP.KG.OE':    'Energy use (kg of oil equivalent per capita)',\n",
    "    'AG.LND.FRST.ZS':       'Forest area (% of land area)',\n",
    "    'AG.LND.FRST.K2':       'Forest area (sq. km)',\n",
    "    'AG.LND.EL5M.ZS':       'Land area where elevation is below 5 meters (% of total land area)',\n",
    "    'SP.POP.GROW':          'Population growth (annual %)',\n",
    "    'EN.POP.EL5M.ZS':       'Population living in areas where elevation is below 5 meters (% of total population)',\n",
    "    'SP.POP.TOTL':          'Population, total',\n",
    "    'EG.ELC.RNEW.ZS':       'Renewable electricity output (% of total electricity output)',\n",
    "    'EG.FEC.RNEW.ZS':       'Renewable energy consumption (% of total final energy consumption)',\n",
    "    'ER.PTD.TOTL.ZS':       'Terrestrial and marine protected areas (% of total territorial area)',\n",
    "    'SP.URB.TOTL':          'Urban population',\n",
    "    'SP.URB.TOTL.IN.ZS':    'Urban population (% of total population)',\n",
    "\n",
    "    # Economic and Growth\n",
    "    'NY.ADJ.SVNG.GN.ZS':    'Adjusted net savings, including particulate emission damage (% of GNI)',\n",
    "    'GC.DOD.TOTL.GD.ZS':    'Central government debt, total (% of GDP)',\n",
    "    'BM.GSR.ROYL.CD':       'Charges for the use of intellectual property, payments (BoP, current US$)',\n",
    "    'BX.GSR.ROYL.CD':       'Charges for the use of intellectual property, receipts (BoP, current US$)',\n",
    "    'BN.CAB.XOKA.CD':       'Current account balance (BoP, current US$)',\n",
    "    'GC.XPN.TOTL.GD.ZS':    'Expense (% of GDP)',\n",
    "    'NE.EXP.GNFS.ZS':       'Exports of goods and services (% of GDP)',\n",
    "    'DT.DOD.DECT.GN.ZS':    'External debt stocks (% of GNI)',\n",
    "    'DT.DOD.DECT.CD':       'External debt stocks, total (DOD, current US$)',\n",
    "    'BX.KLT.DINV.CD.WD':    'Foreign direct investment, net inflows (BoP, current US$)',\n",
    "    'NY.GDP.MKTP.CD':       'GDP (current US$)',\n",
    "    'NY.GDP.MKTP.KD.ZG':    'GDP growth (annual %)',\n",
    "    'NY.GDP.PCAP.CD':       'GDP per capita (current US$)',\n",
    "    'NY.GDP.PCAP.KD.ZG':    'GDP per capita growth (annual %)',\n",
    "    'NY.GDP.PCAP.PP.CD':    'GDP per capita, PPP (current international $)',\n",
    "    'NY.GNP.PCAP.CD':       'GNI per capita, Atlas method (current US$)',\n",
    "    'NY.GNP.PCAP.PP.CD':    'GNI per capita, PPP (current international $)',\n",
    "    'NY.GNP.ATLS.CD':       'GNI, Atlas method (current US$)',\n",
    "    'NY.GNP.MKTP.PP.CD':    'GNI, PPP (current international $)',\n",
    "    'BX.GRT.EXTA.CD.WD':    'Grants, excluding technical cooperation (BoP, current US$)',\n",
    "    'NE.GDI.TOTL.ZS':       'Gross capital formation (% of GDP)',\n",
    "    'NY.GNS.ICTR.ZS':       'Gross savings (% of GDP)',\n",
    "    'NE.IMP.GNFS.ZS':       'Imports of goods and services (% of GDP)',\n",
    "    'NV.IND.TOTL.ZS':       'Industry (including construction), value added (% of GDP)',\n",
    "    'NY.GDP.DEFL.KD.ZG':    'Inflation, GDP deflator (annual %)',\n",
    "    'FP.CPI.TOTL.ZG':       'Inflation, consumer prices (annual %)',\n",
    "    'NV.MNF.TECH.ZS.UN':    'Medium and high-tech manufacturing value added (% manufacturing value added)',\n",
    "    'DT.ODA.ODAT.GN.ZS':    'Net ODA received (% of GNI)',\n",
    "    'DT.ODA.ODAT.PC.ZS':    'Net ODA received per capita (current US$)',\n",
    "    'DT.ODA.ODAT.CD':       'Net official development assistance received (current US$)',\n",
    "    'PA.NUS.PPP':           'PPP conversion factor, GDP (LCU per international $)',\n",
    "    'BX.TRF.PWKR.CD.DT':    'Personal remittances, received (current US$)',\n",
    "    'PA.NUS.PRVT.PP':       'Price level ratio of PPP conversion factor (GDP) to market exchange rate',\n",
    "    'GC.REV.XGRT.GD.ZS':    'Revenue, excluding grants (% of GDP)',\n",
    "    'DT.DOD.DSTC.ZS':       'Short-term debt (% of total reserves)',\n",
    "    'BX.GRT.TECH.CD.WD':    'Technical cooperation grants (BoP, current US$)',\n",
    "    'DT.TDS.DECT.EX.ZS':    'Total debt service (% of exports of goods, services and primary income)',\n",
    "    'FI.RES.TOTL.CD':       'Total reserves (includes gold, current US$)'\n",
    "}\n",
    "COUNTRIES = ['USA', 'JPN', 'VNM']\n",
    "START_YEAR = 2008\n",
    "END_YEAR = 2020\n",
    "DATASETS = {}\n",
    "\n",
    "for country in COUNTRIES:\n",
    "    data = wb.data.DataFrame(\n",
    "        series=list(INDICATORS.keys()),\n",
    "        economy=country,\n",
    "        time=range(START_YEAR, END_YEAR + 1),\n",
    "    )\n",
    "    data.to_csv(f'wdi_{START_YEAR}_{END_YEAR}_{country}.csv')\n",
    "    DATASETS[country] = data.reset_index()\n",
    "\n",
    "DATASETS['USA']"
   ]
  },
  {
   "cell_type": "markdown",
   "metadata": {},
   "source": [
    "## **Tiền xử lý dữ liệu**"
   ]
  },
  {
   "cell_type": "markdown",
   "metadata": {},
   "source": [
    "### **Định dạng lại bộ dữ liệu**"
   ]
  },
  {
   "cell_type": "markdown",
   "metadata": {},
   "source": [
    "**Mục đích**: Chuyển dữ liệu từ dạng rộng (wide format) sang dạng bảng chuẩn, giúp dễ dàng phân tích theo năm và quốc gia.\n",
    "\n",
    "**Các thực hiện**:\n",
    "\n",
    "1. Đọc dữ liệu với mỗi chỉ số (*series*) là một hàng, các năm (*YR2000–YR2020*) là cột vào cột Year và giá trị vào cột Value.\n",
    "\n",
    "2. Chuyển sang long format bằng cách dùng melt() để đưa năm vào cột Year và giá trị vào cột Value.\n",
    "\n",
    "3. Chuẩn hóa dữ liệu bằng cách chuyển Year về dạng số, thay dấu chấm (.) trong tên chỉ số bằng gạch dưới (_). \n",
    "    \n",
    "    Ví dụ: **AG.LND.ARBL.ZS** $\\rightarrow$ **AG_LND_ARBL_ZS**.\n",
    "\n",
    "4. Pivot lại dữ liệu bằng cách chuyển mỗi chỉ số thành một cột riêng, với Year làm cột chính.\n",
    "\n",
    "5. Lưu kết quả sau khi đã áp dụng cho từng quốc gia và ghi đè vào file tương ứng."
   ]
  },
  {
   "cell_type": "code",
   "execution_count": null,
   "metadata": {},
   "outputs": [],
   "source": [
    "def transform_data(df: pd.DataFrame, country: str) -> None:\n",
    "    df_melted = df.melt(id_vars=['series'], var_name='year', value_name='value')\n",
    "    df_melted['year'] = df_melted['year'].str[-4:]\n",
    "    \n",
    "    df_pivoted = df_melted.pivot(index='year', columns='series', values='value')\n",
    "    df_pivoted.columns.name = None\n",
    "    df_pivoted.columns = df_pivoted.columns.str.replace('.', '_')\n",
    "    df_pivoted.to_csv(path_or_buf=f'wdi_{START_YEAR}_{END_YEAR}_{country}.csv')\n",
    "    \n",
    "    print(f'Đã biến đổi và lưu dữ liệu của {country} thành công!')\n",
    "    \n",
    "for country in COUNTRIES:\n",
    "    transform_data(df=DATASETS[country], country=country)"
   ]
  },
  {
   "cell_type": "markdown",
   "metadata": {},
   "source": [
    "## **Đọc bộ dữ liệu**"
   ]
  },
  {
   "cell_type": "code",
   "execution_count": null,
   "metadata": {},
   "outputs": [],
   "source": [
    "vn = pd.read_csv(filepath_or_buffer=f'./wdi_{START_YEAR}_{END_YEAR}_VNM.csv')\n",
    "us = pd.read_csv(filepath_or_buffer=f'./wdi_{START_YEAR}_{END_YEAR}_USA.csv')\n",
    "jp = pd.read_csv(filepath_or_buffer=f'./wdi_{START_YEAR}_{END_YEAR}_JPN.csv')"
   ]
  },
  {
   "cell_type": "code",
   "execution_count": null,
   "metadata": {},
   "outputs": [],
   "source": [
    "vn.head()"
   ]
  },
  {
   "cell_type": "code",
   "execution_count": null,
   "metadata": {},
   "outputs": [],
   "source": [
    "us.head()"
   ]
  },
  {
   "cell_type": "code",
   "execution_count": null,
   "metadata": {},
   "outputs": [],
   "source": [
    "jp.head()"
   ]
  },
  {
   "cell_type": "code",
   "execution_count": null,
   "metadata": {},
   "outputs": [],
   "source": [
    "features = [\n",
    "    \"SE_PRM_UNER_FE\",        # Trẻ em nữ không đi học ở cấp tiểu học\n",
    "    \"SE_PRM_UNER_MA\",        # Trẻ em nam không đi học, cấp tiểu học\n",
    "    \"SE_XPD_TOTL_GD_ZS\",     # Chi tiêu công cho giáo dục (% GDP)\n",
    "    \"SE_XPD_PRIM_PC_ZS\",     # Chi tiêu công trên mỗi học sinh tiểu học (% GDP bình quân đầu người)\n",
    "    \"SE_XPD_SECO_PC_ZS\",     # Chi tiêu công trên mỗi học sinh trung học (% GDP bình quân đầu người)\n",
    "    \"SE_XPD_TERT_PC_ZS\",     # Chi tiêu công trên mỗi sinh viên đại học (% GDP bình quân đầu người)\n",
    "    \"SE_PRM_GINT_FE_ZS\",     # Tỷ lệ tuyển sinh lớp 1, nữ\n",
    "    \"SE_PRM_GINT_MA_ZS\",     # Tỷ lệ tuyển sinh lớp 1, nam\n",
    "    \"SL_TLF_TOTL_FE_ZS\",     # Lực lượng lao động nữ (% tổng lực lượng lao động)\n",
    "    \"SL_TLF_TOTL_IN\",        # Tổng lực lượng lao động\n",
    "]\n",
    "\n",
    "features_2 =[\n",
    "    \"SE_ADT_LITR_FE_ZS\",     # Tỷ lệ biết chữ ở người lớn, nữ\n",
    "    \"SE_ADT_LITR_MA_ZS\",     # Tỷ lệ biết chữ ở người lớn, nam\n",
    "    \"SE_ADT_1524_LT_FE_ZS\",  # Tỷ lệ biết chữ ở thanh niên, nữ\n",
    "    \"SE_ADT_1524_LT_MA_ZS\",  # Tỷ lệ biết chữ ở thanh niên, nam\n",
    "    \"SE_PRM_ENRL_TC_ZS\",     # Tỷ lệ học sinh trên giáo viên cấp tiểu học\n",
    "    \"SE_PRM_REPT_FE_ZS\",     # Tỷ lệ học sinh nữ lưu ban cấp tiểu học\n",
    "    \"SE_PRM_REPT_MA_ZS\",     # Tỷ lệ học sinh nam lưu ban cấp tiểu học\n",
    "    \"SE_PRE_ENRR\",           # Tỷ lệ nhập học mầm non (% tổng số)\n",
    "    \"SE_PRM_ENRR\",           # Tỷ lệ nhập học tiểu học (% tổng số)\n",
    "    \"SE_SEC_ENRR\",           # Tỷ lệ nhập học trung học (% số lượng thực tế)\n",
    "    \"SE_PRM_TCAQ_ZS\",        # Tỷ lệ giáo viên tiểu học được đào tạo\n",
    "    \"SL_UEM_TOTL_FE_ZS\",     # Tỷ lệ thất nghiệp ở nữ\n",
    "    \"SL_UEM_TOTL_ZS\",        # Tổng tỷ lệ thất nghiệp\n",
    "]"
   ]
  },
  {
   "cell_type": "code",
   "execution_count": null,
   "metadata": {},
   "outputs": [],
   "source": [
    "jp['NV_IND_TOTL_ZS']"
   ]
  },
  {
   "cell_type": "markdown",
   "metadata": {},
   "source": [
    "## **Khám phá dữ liệu**"
   ]
  },
  {
   "cell_type": "markdown",
   "metadata": {},
   "source": [
    "Bảng bên dưới mô tả chi tiết ý nghĩa của các thuộc tính của World Developemtn Indicators trong bộ dữ liệu **`wdi_2000_2020_VNM.csv`**, **`wdi_2000_2020_USA.csv`** và **`wdi_2000_2020_JPN.csv`**\n",
    "\n",
    "##### **Các chỉ số thuộc về lĩnh vực Giáo dục (Education)**\n",
    "\n",
    "<center>\n",
    "\n",
    "| **Mã chỉ số** | **Tên chỉ số** | **Mô tả** |\n",
    "| ---- | ---- | ---- |\n",
    "| **SE.PRM.UNER.FE** | Trẻ em nữ không đi học ở cấp tiểu học *[Children out of school, primary, female]* | Số lượng trẻ em gái trong độ tuổi đi học tiểu học nhưng không đi học |\n",
    "| **SE.PRM.UNER.MA** | Trẻ em nam không đi học, cấp tiểu học *[Children out of school, primary, male]* | Số lượng trẻ em trai trong độ tuổi đi học tiểu học nhưng không đi học |\n",
    "| **SE.XPD.TOTL.GD.ZS** |Chi tiêu công cho giáo dục (% GDP) *[Government expenditure on education, total (% of GDP)]*\t| Tổng chi tiêu của chính phủ cho giáo dục tính theo phần trăm GDP |\n",
    "| **SE.XPD.PRIM.PC.ZS**\t| Chi tiêu công trên mỗi học sinh tiểu học (% GDP bình quân đầu người) *[Government expenditure per student, primary (% of GDP per capita)]* | Tỷ lệ chi tiêu công cho mỗi học sinh cấp tiểu học so với GDP bình quân đầu người |\n",
    "| **SE.XPD.SECO.PC.ZS**\t| Chi tiêu công trên mỗi học sinh trung học (% GDP bình quân đầu người) *[Government expenditure per student, secondary (% of GDP per capita)]* | Tỷ lệ chi tiêu công cho mỗi học sinh cấp trung học so với GDP bình quân đầu người |\n",
    "| **SE.XPD.TERT.PC.ZS** | Chi tiêu công trên mỗi sinh viên đại học (% GDP bình quân đầu người) *[Government expenditure per student, tertiary (% of GDP per capita)]* |\tTỷ lệ chi tiêu công cho mỗi sinh viên đại học so với GDP bình quân đầu người |\n",
    "| **SE.PRM.GINT.FE.ZS**\t| Tỷ lệ tuyển sinh lớp 1, nữ *[Gross intake ratio in first grade of primary education, female (% of relevant age group)]* | Số lượng học sinh nữ nhập học lớp 1 trên tổng số trẻ em nữ trong độ tuổi tương ứng (tính theo phần trăm) |\n",
    "| **SE.PRM.GINT.MA.ZS** | Tỷ lệ tuyển sinh lớp 1, nam *[Gross intake ratio in first grade of primary education, male (% of relevant age group)]* | Số lượng học sinh nam nhập học lớp 1 trên tổng số trẻ em nam trong độ tuổi tương ứng (tính theo phần trăm) |\n",
    "| **SL.TLF.TOTL.FE.ZS** | Lực lượng lao động nữ (% tổng lực lượng lao động) *[Labor force, female (% of total labor force)]* | Tỷ lệ lao động nữ trong tổng lực lượng lao động của quốc gia |\n",
    "| **SL.TLF.TOTL.IN** | Tổng lực lượng lao động *[Labor force, total]* | Tổng số người tham gia vào lực lượng lao động của quốc gia, bao gồm cả người có việc làm và người thất nghiệp đang tìm việc |\n",
    "| **SE.ADT.LITR.FE.ZS** | Tỷ lệ biết chữ ở người lớn, nữ *[Literacy rate, adult female (% of females ages 15 and above)]* |\tTỷ lệ phần trăm phụ nữ từ 15 tuổi trở lên có thể đọc và viết |\n",
    "| **SE.ADT.LITR.MA.ZS**\t| Tỷ lệ biết chữ ở người lớn, nam *[Literacy rate, adult male (% of males ages 15 and above)]* | Tỷ lệ phần trăm nam giới từ 15 tuổi trở lên có thể đọc và viết |\n",
    "| **SE.ADT.1524.LT.FE.ZS** |\tTỷ lệ biết chữ ở thanh niên, nữ *[Literacy rate, youth female (% of females ages 15-24)]* | Tỷ lệ phần trăm nữ từ 15-24 tuổi có thể đọc và viết |\n",
    "| **SE.ADT.1524.LT.MA.ZS** |\tTỷ lệ biết chữ ở thanh niên, nam *[Literacy rate, youth male (% of males ages 15-24)]* | Tỷ lệ phần trăm nam từ 15-24 tuổi có thể đọc và viết |\n",
    "| **SE.PRM.ENRL.TC.ZS**\t| Tỷ lệ học sinh trên giáo viên cấp tiểu học *[Pupil-teacher ratio, primary]* |\tSố lượng học sinh trung bình trên một giáo viên cấp tiểu học |\n",
    "| **SE.PRM.REPT.FE.ZS** | Tỷ lệ học sinh nữ lưu ban cấp tiểu học *[Repeaters, primary, female (% of female enrollment)]* | Phần trăm học sinh nữ bị lưu ban tại cấp tiểu học |\n",
    "| **SE.PRM.REPT.MA.ZS**\t| Tỷ lệ học sinh nam lưu ban cấp tiểu học *[Repeaters, primary, male (% of male enrollment)]* |\tPhần trăm học sinh nam bị lưu ban tại cấp tiểu học |\n",
    "| **SE.PRE.ENRR** | Tỷ lệ nhập học mầm non (% tổng số) *[School enrollment, preprimary (% gross)]* | Tỷ lệ tổng số trẻ em nhập học mầm non so với tổng số trẻ em trong độ tuổi mầm non |\n",
    "| **SE.PRM.ENRR** | Tỷ lệ nhập học tiểu học (% tổng số) *[School enrollment, primary (% gross)]* | Tỷ lệ tổng số học sinh nhập học cấp tiểu học so với tổng số trẻ em trong độ tuổi tiểu học |\n",
    "| **SE.SEC.ENRR** |\tTỷ lệ nhập học trung học (% số lượng thực tế) *[School enrollment, secondary (% gross)]* | Tỷ lệ tổng số học sinh nhập học trung học so với số trẻ em trong độ tuổi tương ứng |\n",
    "| **SE.PRM.TCAQ.ZS** |\tTỷ lệ giáo viên tiểu học được đào tạo *[Trained teachers in primary education (% of total teachers)]* | Phần trăm giáo viên tiểu học có bằng cấp đào tạo chính thức |\n",
    "| **SL.UEM.TOTL.FE.ZS** | Tỷ lệ thất nghiệp ở nữ *[Unemployment, female (% of female labor force) (modeled ILO estimate)]* | Phần trăm nữ giới trong lực lượng lao động không có việc làm nhưng đang tìm kiếm việc làm |\n",
    "| **SL.UEM.TOTL.ZS** | Tổng tỷ lệ thất nghiệp *[Unemployment, total (% of total labor force) (modeled ILO estimate)]* |\tPhần trăm tổng trong lực lượng lao động không có việc làm nhưng đang tìm kiếm việc làm |\n",
    "\n",
    "</center>\n",
    "\n",
    "##### **Các chỉ số thuộc về lĩnh vực Climate Change (Biến đổi khí hậu)**\n",
    "\n",
    "| **Mã chỉ số** | **Tên chỉ số** | **Mô tả** |\n",
    "| ---- | ---- | ---- |\n",
    "| **EG.ELC.ACCS.ZS** | Dùng điện năng (% dân số) *[Access to electricity (% of population)]* | \tTỷ lệ phần trăm dân số có quyền truy cập vào điện |\n",
    "| **AG.LND.IRIG.AG.ZS** | Đất nông nghiệp có tưới tiêu (% tổng diện tích đất nông nghiệp)\t *[Agricultural irrigated land (% of total agricultural land)]* | Diện tích đất nông nghiệp được tưới tiêu trên tổng diện tích đất nông nghiệp |\n",
    "| **AG.LND.AGRI.ZS** | Đất nông nghiệp (% tổng diện tích đất) *[Agricultural land (% of land area)]* | Phần trăm diện tích đất được sử dụng cho mục đích nông nghiệp so với tổng diện tích đất |\n",
    "| **NV.AGR.TOTL.ZS** | Giá trị gia tăng của nông, lâm, ngư nghiệp (% GDP) *[Agriculture, forestry, and fishing, value added (% of GDP)]* | Tỷ lệ đóng góp của nông nghiệp, lâm nghiệp và thủy sản vào tổng sản phẩm quốc nội (GDP) |\n",
    "| **ER.H2O.FWTL.K3** | Tổng lượng nước ngọt dùng hàng năm (tỷ m³) *[ Annual freshwater withdrawals, total (billion cubic meters)]* | Lượng nước ngọt được sử dụng hàng năm cho mục đích sinh hoạt, công nghiệp và nông nghiệp |\n",
    "| **AG.LND.ARBL.ZS** | Đất canh tác (% tổng diện tích đất) *[Arable land (% of land area)]* | Tỷ lệ phần trăm đất có thể trồng trọt trên tổng diện tích đất |\n",
    "| **AG.YLD.CREL.KG** | Sản lượng ngũ cốc (kg/ha)\t*[Cereal yield (kg per hectare)]* | Sản lượng ngũ cốc trung bình trên mỗi hecta đất trồng trọt |\n",
    "| **EG.USE.ELEC.KH.PC** | Tiêu thụ điện bình quân đầu người (kWh/người) *[Electric power consumption (kWh per capita)]* | Lượng điện năng tiêu thụ trung bình mỗi người trong một năm |\n",
    "| **EG.USE.PCAP.KG.OE** | Tiêu thụ năng lượng bình quân đầu người (kg dầu tương đương/người) *[Energy use (kg of oil equivalent per capita)]* | Lượng năng lượng trung bình mỗi người tiêu thụ hàng năm, tính theo đơn vị kg dầu tương đương |\n",
    "| **AG.LND.FRST.ZS** | Diện tích rừng (% tổng diện tích đất) *[Forest area (% of land area)]* | Tỷ lệ diện tích rừng so với tổng diện tích đất của quốc gia |\n",
    "| **AG.LND.FRST.K2** | Tổng diện tích rừng (km²)  *[Forest area (sq. km)]* | Tổng diện tích đất được bao phủ bởi rừng, tính theo đơn vị km² |\n",
    "| **AG.LND.EL5M.ZS** | Đất thấp dưới 5 mét so với mực nước biển (% tổng diện tích đất) | *[Land area where elevation is below 5 meters (% of total land area)]* | Phần trăm tổng diện tích đất nằm ở độ cao dưới 5 mét so với mực nước biển |\n",
    "| **SP.POP.GROW** |  Tốc độ tăng dân số (% hàng năm) *[Population growth (annual %)]* | Tốc độ thay đổi dân số theo tỷ lệ phần trăm hàng năm |\n",
    "| **EN.POP.EL5M.ZS** | Dân số sống ở vùng thấp dưới 5 mét so với mực nước biển (% tổng dân số) *[Population living in areas where elevation is below 5 meters (% of total population)]* | Tỷ lệ phần trăm dân số sinh sống ở khu vực có độ cao dưới 5 mét so với mực nước biển |\n",
    "| **SP.POP.TOTL** | Tổng dân số *[Population, total]* | Tổng số người sinh sống trong một quốc gia hoặc vùng lãnh thổ tại một thời điểm nhất định |\n",
    "| **EG.ELC.RNEW.ZS** | Sản lượng điện tái tạo (% tổng sản lượng điện) *[Renewable electricity output (% of total electricity output)]* | Tỷ lệ điện sản xuất từ các nguồn năng lượng tái tạo (như gió, mặt trời, thủy điện) so với tổng lượng điện sản xuất |\n",
    "| **EG.FEC.RNEW.ZS** | Tiêu thụ năng lượng tái tạo (% tổng tiêu thụ năng lượng cuối cùng) *[Renewable energy consumption (% of total final energy consumption)]* | Tỷ lệ năng lượng tái tạo trong tổng mức tiêu thụ năng lượng cuối cùng | \n",
    "| **ER.PTD.TOTL.ZS** | Khu vực bảo tồn trên cạn và trên biển (% tổng diện tích lãnh thổ) *[Terrestrial and marine protected areas (% of total territorial area)]* | Phần trăm diện tích lãnh thổ được bảo vệ trên cạn và biển, bao gồm các khu bảo tồn thiên nhiên, vườn quốc gia |\n",
    "| **SP.URB.TOTL** | Dân số đô thị *[Urban population]* | Tổng số người sinh sống tại khu vực đô thị |\n",
    "| **SP.URB.TOTL.IN.ZS** | Dân số đô thị (% tổng dân số) *[Urban population (% of total population)]* | Phần trăm dân số sống tại khu vực đô thị so với tổng dân số của quốc gia |\n",
    "\n",
    "\n",
    "##### **Các chỉ số thuộc về lĩnh vực Economic and Growth (Phát triển kinh tế)**\n",
    "\n",
    "| Mã chỉ số | Tên chỉ số | Mô tả |\n",
    "| ----  | ----- | ---- |\n",
    "| **NY.ADJ.SVNG.GN.ZS** | Tiết kiệm ròng điều chỉnh, bao gồm thiệt hại do phát thải hạt (% GNI) *[Adjusted net savings, including particulate emission damage (% of GNI)]* | Chỉ số đo lường mức tiết kiệm ròng sau khi điều chỉnh cho suy giảm tài nguyên thiên nhiên và thiệt hại do ô nhiễm không khí |\n",
    "| **NV.AGR.TOTL.ZS** | Giá trị gia tăng của nông, lâm, ngư nghiệp (% GDP) *[Agriculture, forestry, and fishing, value added (% of GDP)]* | Đóng góp của ngành nông nghiệp, lâm nghiệp và thủy sản vào GDP |\n",
    "| **GC.DOD.TOTL.GD.ZS** | Nợ chính phủ trung ương (% GDP) *[Central government debt, total (% of GDP)]* | Tổng nợ của chính phủ trung ương so với GDP của quốc gia |\n",
    "| **BM.GSR.ROYL.CD** | Thanh toán sử dụng quyền sở hữu trí tuệ (BoP, Tính theo tỷ giá đồng Dollar hiện tại) *[Charges for the use of intellectual property, payments (BoP, current US$)]* | Tổng số tiền một quốc gia thanh toán cho việc sử dụng bằng sáng chế, bản quyền, thương hiệu và các tài sản trí tuệ khác |\n",
    "| **BX.GSR.ROYL.CD** | Thu nhập từ quyền sở hữu trí tuệ (BoP, Tính theo tỷ giá đồng Dollar hiện tại) *[Charges for the use of intellectual property, receipts (BoP, current US$)]* | Tổng số tiền một quốc gia nhận được từ việc cấp phép sử dụng tài sản trí tuệ |\n",
    "| **BN.CAB.XOKA.CD** | Cán cân tài khoản vãng lai (BoP, Tính theo tỷ giá đồng Dollar hiện tại) *[Current account balance (BoP, current US$)]* | Sự chênh lệch giữa xuất nhập khẩu hàng hóa, dịch vụ, thu nhập ròng và chuyển nhượng ròng |\n",
    "| **GC.XPN.TOTL.GD.ZS** |  Chi tiêu của chính phủ (% GDP) *[Expense (% of GDP)]* | Tổng chi tiêu của chính phủ so với GDP |\n",
    "| **NE.EXP.GNFS.ZS** | Xuất khẩu hàng hóa và dịch vụ (% GDP) *[Exports of goods and services (% of GDP)]* | Tổng giá trị xuất khẩu hàng hóa và dịch vụ so với GDP |\n",
    "| **DT.DOD.DECT.GN.ZS** | Tổng nợ nước ngoài (% GNI) *[External debt stocks (% of GNI)]* |Tổng giá trị nợ nước ngoài của một quốc gia so với tổng thu nhập quốc dân |\n",
    "| **DT.DOD.DECT.CD** | Tổng nợ nước ngoài (Tính theo tỷ giá đồng Dollar hiện tại) **[External debt stocks, total (DOD, current US$)]** | Tổng giá trị nợ nước ngoài của quốc gia, tính bằng đô la Mỹ |\n",
    "| **BX.KLT.DINV.CD.WD** | Đầu tư trực tiếp nước ngoài, dòng vốn vào ròng (BoP, Tính theo tỷ giá đồng Dollar hiện tại) *[Foreign direct investment, net inflows (BoP, current US$)]* | Tổng số vốn đầu tư trực tiếp từ nước ngoài vào quốc gia |\n",
    "| **NY.GDP.MKTP.CD** | GDP (Tính theo tỷ giá đồng Dollar hiện tại) *[GDP (current US$)]* | Tổng sản phẩm quốc nội (GDP) của một quốc gia theo giá trị thị trường hiện tại |\n",
    "| **NY.GDP.MKTP.KD.ZG** | Tăng trưởng GDP (% hàng năm) *[GDP growth (annual %)]* | Tỷ lệ tăng trưởng hàng năm của GDP, điều chỉnh theo lạm phát |\n",
    "| **NY.GDP.PCAP.CD** | GDP bình quân đầu người (Tính theo tỷ giá đồng Dollar hiện tại) *[GDP per capita (current US$)]* | Tổng GDP chia cho dân số của quốc gia |\n",
    "| **NY.GDP.PCAP.KD.ZG** | Tăng trưởng GDP bình quân đầu người (% hàng năm) *[GDP per capita growth (annual %)]* | Tốc độ tăng trưởng của GDP bình quân đầu người theo giá thực tế |\n",
    "| **NY.GDP.PCAP.PP.CD** | GDP bình quân đầu người theo sức mua tương đương (PPP, USD quốc tế) *[GDP per capita, PPP (current international $)]* | GDP bình quân đầu người được điều chỉnh theo ngang giá sức mua (PPP) |\n",
    "| **NY.GNP.PCAP.CD** | GNI bình quân đầu người, phương pháp Atlas (Tính theo tỷ giá đồng Dollar hiện tại) *[GNI per capita, Atlas method (current US$)]* | Tổng thu nhập quốc dân bình quân đầu người theo phương pháp Atlas |\n",
    "| **NY.GNP.PCAP.PP.CD** | GNI bình quân đầu người theo PPP (USD quốc tế) *[GNI per capita, PPP (current international $)]* | Tổng thu nhập quốc dân bình quân đầu người điều chỉnh theo ngang giá sức mua |\n",
    "| **NY.GNP.ATLS.CD** | GNI, phương pháp Atlas (Tính theo tỷ giá đồng Dollar hiện tại) *[GNI, Atlas method (current US$)]* | Tổng thu nhập quốc dân của quốc gia theo phương pháp Atlas |\n",
    "| **NY.GNP.MKTP.PP.CD** | GNI theo PPP (USD quốc tế) *[GNI, PPP (current international $)]* |\tTổng thu nhập quốc dân được điều chỉnh theo ngang giá sức mua |\n",
    "| **BX.GRT.EXTA.CD.WD** | Viện trợ không hoàn lại, trừ hợp tác kỹ thuật (BoP, Tính theo tỷ giá đồng Dollar hiện tại) *[Grants, excluding technical cooperation (BoP, current US$)]*\t| Tổng giá trị viện trợ không hoàn lại mà một quốc gia nhận được, không bao gồm hợp tác kỹ thuật |\n",
    "| **NE.GDI.TOTL.ZS** | Tổng đầu tư vốn (% GDP) *[Gross capital formation (% of GDP)]* | Tổng chi tiêu cho đầu tư vốn so với GDP |\n",
    "| **NY.GNS.ICTR.ZS** | Tiết kiệm gộp (% GDP) *[Gross savings (% of GDP)]* | Phần trăm GDP được tiết kiệm sau khi trừ đi tiêu dùng của chính phủ và hộ gia đình |\n",
    "| **NE.IMP.GNFS.ZS** | Nhập khẩu hàng hóa và dịch vụ (% GDP) *[Imports of goods and services (% of GDP)]* | Tổng giá trị nhập khẩu hàng hóa và dịch vụ so với GDP |\n",
    "| **NV.IND.TOTL.ZS** | Giá trị gia tăng của ngành công nghiệp (% GDP) *[Industry (including construction), value added (% of GDP)]* | Đóng góp của ngành công nghiệp, bao gồm xây dựng, vào GDP |\n",
    "| **NY.GDP.DEFL.KD.ZG** | Lạm phát, chỉ số giảm phát GDP (% hàng năm) *[Inflation, GDP deflator (annual %)]* | Phần trăm thay đổi lạm phát hàng năm |\n",
    "| **FP.CPI.TOTL.ZG** | Lạm phát, chỉ số giá tiêu dùng (% hàng năm) *[Inflation, consumer prices (annual %)]* | Tỷ lệ lạm phát hàng năm dựa trên chỉ số giá tiêu dùng (CPI) |\n",
    "| **NV.MNF.TECH.ZS.UN** | Giá trị gia tăng của ngành sản xuất công nghệ vừa và cao (% tổng giá trị gia tăng của ngành sản xuất) *[Medium and high-tech manufacturing value added (% manufacturing value added)]* | Phần trăm giá trị gia tăng của ngành công nghiệp chế tạo có công nghệ vừa và cao |\n",
    "| **DT.ODA.ODAT.GN.ZS** | Hỗ trợ phát triển nhận được (% GNI) *[Net ODA received (% of GNI)]* | Tổng viện trợ phát triển chính thức mà quốc gia nhận được so với GNI |\n",
    "| **DT.ODA.ODAT.PC.ZS** | Hỗ trợ phát triển nhận được trên đầu người (Tính theo tỷ giá đồng Dollar hiện tại) *[Net ODA received per capita (current US$)]* |  Tổng viện trợ phát triển chính thức mà quốc gia nhận được chia cho dân số  |\n",
    "| **DT.ODA.ODAT.CD** | Hỗ trợ phát triển nhận được (Tính theo tỷ giá đồng Dollar hiện tại) *[Net official development assistance received (current US$)]* | Tổng giá trị viện trợ phát triển chính thức mà quốc gia nhận được | \n",
    "| **PA.NUS.PPP** | Hệ số chuyển đổi PPP, GDP (LCU trên 1 USD quốc tế) *[PPP conversion factor, GDP (LCU per international $)]* | Hệ số chuyển đổi từ đơn vị tiền tệ nội địa (LCU) sang đô la quốc tế theo phương pháp ngang giá sức mua (PPP) |\n",
    "| **BX.TRF.PWKR.CD.DT** | Kiều hối cá nhân nhận được (Tính theo tỷ giá đồng Dollar hiện tại) *[Personal remittances, received (current US$)]* | Tổng giá trị kiều hối cá nhân mà một quốc gia nhận được từ công dân làm việc ở nước ngoài |\n",
    "| **PA.NUS.PRVT.PP** | Tỷ lệ mức giá của hệ số chuyển đổi PPP (GDP) so với tỷ giá hối đoái thị trường *[Price level ratio of PPP conversion factor (GDP) to market exchange rate]* | Tỷ lệ giữa hệ số chuyển đổi PPP và tỷ giá hối đoái thị trường, đo lường mức giá nội địa so với giá quốc tế |\n",
    "| **GC.REV.XGRT.GD.ZS** | Doanh thu, không bao gồm viện trợ (% GDP) *[Revenue, excluding grants (% of GDP)]* | Tổng doanh thu của chính phủ không bao gồm viện trợ quốc tế, tính theo % GDP | \n",
    "| **DT.DOD.DSTC.ZS** | Nợ ngắn hạn (% tổng dự trữ) *[Short-term debt (% of total reserves)]* | Tổng nợ ngắn hạn của một quốc gia so với tổng dự trữ ngoại hối và vàng |\n",
    "| **BX.GRT.TECH.CD.WD** | Viện trợ hợp tác kỹ thuật (BoP, Tính theo tỷ giá đồng Dollar hiện tại) *[Technical cooperation grants (BoP, current US$)]* | Tổng giá trị viện trợ quốc tế dành cho hợp tác kỹ thuật mà một quốc gia nhận được | \n",
    "| **DT.TDS.DECT.EX.ZS** | Nghĩa vụ trả nợ (% xuất khẩu hàng hóa, dịch vụ và thu nhập sơ cấp) *[Total debt service (% of exports of goods, services and primary income)]* | Tổng nghĩa vụ trả nợ (cả gốc và lãi) của một quốc gia so với tổng giá trị xuất khẩu hàng hóa, dịch vụ và thu nhập từ nước ngoài |\n",
    "| **FI.RES.TOTL.CD** | Dự trữ ngoại hối và vàng (Tính theo tỷ giá đồng Dollar hiện tại) *[Total reserves (includes gold, current US$)]* | Tổng giá trị dự trữ ngoại tệ và vàng của quốc gia |\n"
   ]
  },
  {
   "cell_type": "markdown",
   "metadata": {},
   "source": [
    "### **Tổng quan về dữ liệu**"
   ]
  },
  {
   "cell_type": "markdown",
   "metadata": {},
   "source": [
    "**Bộ dữ liệu của Việt Nam *[wdi_2000_2020_VNM]***"
   ]
  },
  {
   "cell_type": "code",
   "execution_count": null,
   "metadata": {},
   "outputs": [],
   "source": [
    "vn.info()"
   ]
  },
  {
   "cell_type": "code",
   "execution_count": null,
   "metadata": {},
   "outputs": [],
   "source": [
    "vn_null_columns = vn.columns[vn.isnull().all()].tolist()\n",
    "\n",
    "print('Các thuộc tính trong bộ dữ liệu Việt Nam [wdi_2000_2020_VNM] có toàn bộ giá trị là null:')\n",
    "print(vn_null_columns)"
   ]
  },
  {
   "cell_type": "markdown",
   "metadata": {},
   "source": [
    "**Nhận xét về bộ dữ liệu của Việt Nam *[wdi_2000_2020_VNM]* sau khi xử lý**\n",
    "- Dữ liệu còn *21* dòng và *82* thuộc tính (cột).\n",
    "- Tất cả các thuộc tính đều có kiểu dữ liệu là *float64* trừ thuộc tính **Year** có kiểu dữ liệu là *int32*.\n",
    "- Các thuộc tính không có dữ liệu nào bao gồm\n",
    "    - **AG_LND_IRIG_AG_ZS**\n",
    "    - **BM_GSR_ROYL_CD**\n",
    "    - **BX_GSR_ROYL_CD**\n",
    "    - **GC_DOD_TOTL_GD_ZS**\n",
    "    - **GC_REV_XGRT_GD_ZS**\n",
    "    - **GC_XPN_TOTL_GD_ZS**\n",
    "    - **SE_PRM_UNER_FE**\n",
    "    - **SE_PRM_UNER_MA**\n",
    "    - **SE_XPD_SECO_PC_ZS**"
   ]
  },
  {
   "cell_type": "markdown",
   "metadata": {},
   "source": [
    "**Bộ dữ liệu của Hoa Kỳ *[wdi_2000_2020_USA]***"
   ]
  },
  {
   "cell_type": "code",
   "execution_count": null,
   "metadata": {},
   "outputs": [],
   "source": [
    "us.info()"
   ]
  },
  {
   "cell_type": "code",
   "execution_count": null,
   "metadata": {},
   "outputs": [],
   "source": [
    "us_null_columns = us.columns[us.isnull().all()].tolist()\n",
    "\n",
    "print('Các thuộc tính trong bộ dữ liệu Hoa Kỳ [wdi_2000_2020_USA] có toàn bộ giá trị là null:')\n",
    "print(us_null_columns)"
   ]
  },
  {
   "cell_type": "markdown",
   "metadata": {},
   "source": [
    "**Nhận xét về bộ dữ liệu của Hoa Kỳ *[wdi_2000_2020_USA]* sau khi xử lý**\n",
    "- Dữ liệu còn *21* dòng và *82* thuộc tính (cột).\n",
    "- Tất cả các thuộc tính đều có kiểu dữ liệu là *float64* trừ thuộc tính **Year** có kiểu dữ liệu là *int32*.\n",
    "- Các thuộc tính không có dữ liệu nào bao gồm \n",
    "    - **BX_GRT_EXTA_CD_WD**\n",
    "    - **BX_GRT_TECH_CD_WD**\n",
    "    - **DT_DOD_DECT_CD**\n",
    "    - **DT_DOD_DECT_GN_ZS**\n",
    "    - **DT_DOD_DSTC_ZS**\n",
    "    - **DT_ODA_ODAT_CD**\n",
    "    - **DT_ODA_ODAT_GN_ZS**\n",
    "    - **DT_ODA_ODAT_PC_ZS**\n",
    "    - **DT_TDS_DECT_EX_ZS**\n",
    "    - **SE_ADT_1524_LT_FE_ZS**\n",
    "    - **SE_ADT_1524_LT_MA_ZS**\n",
    "    - **SE_ADT_LITR_FE_ZS**\n",
    "    - **SE_ADT_LITR_MA_ZS**"
   ]
  },
  {
   "cell_type": "markdown",
   "metadata": {},
   "source": [
    "**Bộ dữ liệu của Nhật Bản *[wdi_2000_2020_JPN]***"
   ]
  },
  {
   "cell_type": "code",
   "execution_count": null,
   "metadata": {},
   "outputs": [],
   "source": [
    "jp.info()"
   ]
  },
  {
   "cell_type": "code",
   "execution_count": null,
   "metadata": {},
   "outputs": [],
   "source": [
    "jp_null_columns = jp.columns[jp.isnull().all()].tolist()\n",
    "\n",
    "print('Các thuộc tính trong bộ dữ liệu Nhật Bản [wdi_2000_2020_JPN] có toàn bộ giá trị là null:')\n",
    "print(jp_null_columns)"
   ]
  },
  {
   "cell_type": "markdown",
   "metadata": {},
   "source": [
    "**Nhận xét về bộ dữ liệu của Nhật Bản *[wdi_2000_2020_JPN]* sau khi xử lý**\n",
    "- Dữ liệu còn *21* dòng và *75* thuộc tính (cột).\n",
    "- Tất cả các thuộc tính đều có kiểu dữ liệu là *float64* trừ thuộc tính **Year** có kiểu dữ liệu là *int32*.\n",
    "- Các thuộc tính không có dữ liệu nào bao gồm \n",
    "    - **BX_GRT_EXTA_CD_WD**\n",
    "    - **BX_GRT_TECH_CD_WD**\n",
    "    - **DT_DOD_DECT_CD**\n",
    "    - **DT_DOD_DECT_GN_ZS**\n",
    "    - **DT_DOD_DSTC_ZS**\n",
    "    - **DT_ODA_ODAT_CD**\n",
    "    - **DT_ODA_ODAT_GN_ZS**\n",
    "    - **DT_ODA_ODAT_PC_ZS**\n",
    "    - **DT_TDS_DECT_EX_ZS**\n",
    "    - **GC_REV_XGRT_GD_ZS**\n",
    "    - **SE_ADT_1524_LT_FE_ZS**\n",
    "    - **SE_ADT_1524_LT_MA_ZS**\n",
    "    - **SE_ADT_LITR_FE_ZS**\n",
    "    - **SE_ADT_LITR_MA_ZS**\n",
    "    - **SE_PRM_GINT_FE_ZS**\n",
    "    - **SE_PRM_GINT_MA_ZS**\n",
    "    - **SE_PRM_TCAQ_ZS**\n",
    "    - **SE_PRM_UNER_FE**\n",
    "    - **SE_PRM_UNER_MA**"
   ]
  },
  {
   "cell_type": "markdown",
   "metadata": {},
   "source": [
    "## **Các câu hỏi**"
   ]
  },
  {
   "cell_type": "markdown",
   "metadata": {},
   "source": [
    "### **Chủ đề Giáo dục**"
   ]
  },
  {
   "cell_type": "markdown",
   "metadata": {},
   "source": [
    "#### **Câu 1**: Chi tiêu của chính phủ cho giáo dục (tổng cộng, tính bằng % GDP) tại Nhật Bản, Việt Nam và Hoa Kỳ đã thay đổi như thế nào từ năm 2000 đến năm 2020?\n",
    "\n",
    "\n",
    "**Thuộc tính được sử dụng**\n",
    "1. *SE_XPD_TOTL_GD_ZS* - Chi tiêu của chính phủ cho giáo dục, tổng cộng (% GDP).\n",
    "2. *Year* - Năm từ 2000 đến 2020.\n",
    "\n",
    "**Các bước thực hiện**\n",
    "1. Lọc dữ liệu (lấy thuộc tính *Year* và *SE_XPD_TOTL_GD_ZS*) từ bộ dữ liệu của Nhật Bản, Việt Nam và Hoa Kỳ.\n",
    "2. Vẽ biểu đồ đường để thể hiện sự thay đổi của chi tiêu giáo dục theo thời gian cho từng quốc gia nhằm so sánh mức chi tiêu giáo dục (% GDP) qua các năm cho từng quốc gia và xác định xu hướng (tăng, giảm hoặc dao động) từ 2000 đến 2020.\n",
    "3. Tùy chỉnh trục, nhãn và tiêu đề cho biểu đồ.\n",
    "4. Lưu biểu đồ dưới định dạng SVG và hiển thị kết quả.\n",
    "5. Viết nhận xét."
   ]
  },
  {
   "cell_type": "code",
   "execution_count": null,
   "metadata": {},
   "outputs": [],
   "source": [
    "years = np.arange(2008, 2021)\n",
    "\n",
    "plt.figure(figsize=(12, 6))\n",
    "plt.plot(years, jp['SE_XPD_TOTL_GD_ZS'], 'b-', label='Nhật Bản')\n",
    "plt.plot(years, vn['SE_XPD_TOTL_GD_ZS'], 'r-', label='Việt Nam')\n",
    "plt.plot(years, us['SE_XPD_TOTL_GD_ZS'], 'k-', label='Hoa Kỳ')\n",
    "\n",
    "plt.xticks(years)\n",
    "plt.title('Chi tiêu của chính phủ cho giáo dục (tổng cộng, tính bằng % GDP) tại Nhật Bản, Việt Nam và Hoa Kỳ (2000-2020)')\n",
    "plt.xlabel('Năm')\n",
    "plt.ylabel('Chi tiêu của chính phủ cho giáo dục (% of GDP)')\n",
    "plt.legend()\n",
    "plt.grid()\n",
    "plt.tight_layout()\n",
    "plt.show()"
   ]
  },
  {
   "cell_type": "markdown",
   "metadata": {},
   "source": [
    "**Nhận xét về chi tiêu của chính phủ cho giáo dục (tổng cộng, tính bằng % GDP) tại Nhật Bản, Việt Nam và Hoa Kỳ (2000-2020)**\n",
    "\n",
    "- Ở **Nhật Bản (đường màu xanh)**, chi tiêu cho giáo dục của chính phủ dao động trong khoảng **3.1% - 3.6% GDP**, có xu hướng tổng thể **ổn định nhưng hơi giảm nhẹ**. Mức chi tiêu cao nhất là **khoảng 3.6% vào năm 2010**, trong khi mức thấp nhất là **khoảng 3.1% vào năm 2018**\n",
    "\n",
    "- Ở **Việt Nam (đường màu đỏ)**, chi tiêu cho giáo dục dao động khá mạnh trong khoảng **3.0% - 4.9% GDP**, với xu hướng tổng thể **giảm dần theo thời gian**. Mức chi tiêu cao nhất đạt **gần 4.9% vào năm 2008**, nhưng sau đó giảm dần và đạt mức thấp nhất **khoảng 3.0% vào năm 2019**\n",
    "\n",
    "- Ở **Hoa Kỳ (đường màu đen)**, chi tiêu cho giáo dục biến động trong khoảng **4.8% - 6.7% GDP**, có xu hướng tổng thể **giảm dần**. Mức cao nhất là khoảng **6.7% vào năm 2009**, sau đó giảm đáng kể xuống **4.8% vào năm 2015**, rồi phục hồi nhẹ vào năm 2020\n",
    "\n",
    "**Kết luận**\n",
    "- Nhật Bản có mức chi tiêu **ổn định** nhưng **thấp hơn** so với hai nước còn lại.\n",
    "\n",
    "- Việt Nam có sự **sụt giảm** rõ rệt sau năm 2010. Điều này phản ánh sự thay đổi chính sách tài chính cho giáo dục.\n",
    "\n",
    "- Hoa Kỳ có mức chi tiêu **cao nhất** trong ba nước nhưng có xu hướng **giảm mạnh** từ sau năm 2010."
   ]
  },
  {
   "cell_type": "markdown",
   "metadata": {},
   "source": [
    "#### **Câu 2:** Mối quan hệ giữa lực lượng lao động và tăng trưởng GDP hằng năm ở Việt Nam trong giai đoạn 2000-2020 là như thế nào? Liệu rằng khi lực lượng lao động tăng lên, GDP có xu hướng tăng trưởng theo không?\n",
    "\n",
    "\n",
    "**Thuộc tính được sử dụng**\n",
    "1. *NY_GDP_MKTP_KD_ZG* - Tăng trưởng GDP hàng năm (%).\n",
    "\n",
    "2. *SL_TLF_TOTL_IN* - Lực lượng lao động.\n",
    "\n",
    "\n",
    "**Các bước thực hiện**\n",
    "1. Lấy dữ liệu từ bộ dữ liệu của Việt Nam cho hai chỉ số trên trong khoảng thời gian từ năm 2000 đến 2020.\n",
    "2. Sử dụng biểu đồ đường để thể hiện sự biến động của tỷ lệ tăng trưởng GDP hằng năm qua các năm.\n",
    "3. Vẽ biểu đồ kết hợp để quan sát xu hướng giữa tăng trưởng GDP và lực lượng lao động, sử dụng trục y kép để dễ dàng so sánh.\n",
    "4. Tùy chỉnh trục, nhãn và tiêu đề cho biểu đồ.\n",
    "5. Lưu biểu đồ dưới định dạng SVG và hiển thị kết quả.\n",
    "6. Viết nhận xét."
   ]
  },
  {
   "cell_type": "code",
   "execution_count": null,
   "metadata": {},
   "outputs": [],
   "source": [
    "fig, ax1 = plt.subplots(figsize=(12, 6))\n",
    "\n",
    "ax2 = ax1.twinx()\n",
    "\n",
    "ax1.plot(vn['year'], vn['NY_GDP_MKTP_KD_ZG'], label=\"Tăng trưởng GDP\", color='red')\n",
    "ax2.bar(vn['year'], vn['SL_TLF_TOTL_IN'], label=\"Lực lượng lao động\", alpha=0.4, color='blue')\n",
    "\n",
    "ax1.set_ylabel('Tăng trưởng GDP (%)')\n",
    "ax2.set_ylabel('Lực lượng lao động')\n",
    "ax1.set_xlabel('Năm')\n",
    "ax1.set_xticks(vn['year']) \n",
    "ax1.tick_params(axis='x', rotation=45)  \n",
    "\n",
    "ax1.set_title(f\"Tăng trưởng GDP và Lực lượng lao động tại Việt Nam ({START_YEAR}-{END_YEAR})\")\n",
    "\n",
    "ax1.grid(False)\n",
    "ax2.grid(False)\n",
    "\n",
    "ax1.legend(loc='upper left')\n",
    "ax2.legend(loc='upper right')\n",
    "\n",
    "plt.tight_layout()\n",
    "plt.show()"
   ]
  },
  {
   "cell_type": "markdown",
   "metadata": {},
   "source": [
    "**Nhận xét về mối quan hệ giữa lực lượng lao động và tăng trưởng GDP hằng năm ở Việt Nam trong giai đoạn 2000-2020**\n",
    "\n",
    "- Nhìn chung, lực lượng lao động tăng đều qua các năm nhưng tăng trưởng GDP thì lại biến động mạnh và không ổn định. Điều này cho thấy rằng tăng trưởng GPD không hoàn toàn tỷ lệ thuận với lực lượng lao động.\n",
    "\n",
    "- Giai đoạn 2005–2009 và 2018-2020 là hai giai đoạn điển hình cho thấy GDP giảm dù lực lượng lao động vẫn tăng hoặc duy trì, cho thấy các yếu tố khác như khủng hoảng kinh tế hay dịch bệnh ảnh hưởng lớn đến tăng trưởng kinh tế.\n",
    "\n",
    "**Kết luận**\n",
    "-  lực lượng lao động không phải yếu tố duy nhất quyết định tăng trưởng GDP."
   ]
  },
  {
   "cell_type": "markdown",
   "metadata": {},
   "source": [
    "#### **Câu 3:** Tỷ trọng đóng góp của nông nghiệp, công nghiệp và dịch vụ vào GDP thay đổi ra sao trong khoảng 2000 đến 2020 của Việt Nam, Hoa Kỳ và Nhật Bản?\n",
    "\n",
    "**Thuộc tính được sử dụng**\n",
    "\n",
    "1. *NV_AGR_TOTL_ZS* - Giá trị gia tăng ngành nông nghiệp (% GDP)\n",
    "2. *NV_IND_TOTL_ZS* - Giá trị gia tăng ngành công nghiệp (% GDP)\n",
    "3. Dịch vụ được tính toán: 100 - Nông nghiệp - Công nghiệp\n",
    "\n",
    "**Các bước thực hiện**\n",
    "\n",
    "1. Lấy dữ liệu từ bộ dữ liệu của Việt Nam, Hoa Kỳ và Nhật Bản cho hai chỉ số trên trong khoảng thời gian 2000-2020.\n",
    "2. Tính toán tỷ trọng ngành dịch vụ bằng công thức bù trừ.\n",
    "3. Vẽ biểu đồ diện tích chồng (stacked area) để trực quan hóa tỷ trọng đóng góp của nông nghiệp, công nghiệp và dịch vụ vào GDP thay đổi trong giai đoạn 2000 đến 2020\n",
    "4. Tùy chỉnh trục, nhãn và tiêu đề cho biểu đồ.\n",
    "5. Lưu biểu đồ dưới định dạng SVG và hiển thị kết quả.\n",
    "6. Viết nhận xét."
   ]
  },
  {
   "cell_type": "code",
   "execution_count": null,
   "metadata": {},
   "outputs": [],
   "source": [
    "categories = ['Nông nghiệp', 'Công nghiệp', 'Dịch vụ']\n",
    "years = np.arange(2008, 2021)\n",
    "\n",
    "fig, axes = plt.subplots(1, 3, figsize=(18, 6), sharey=True)\n",
    "\n",
    "for ax, (df, country) in zip(axes, [(vn, 'Việt Nam'), (us, 'Mỹ'), (jp, 'Nhật Bản')]):\n",
    "    agri = df['NV_AGR_TOTL_ZS'].values\n",
    "    indus = df['NV_IND_TOTL_ZS'].values\n",
    "    service = 100 - agri - indus\n",
    "\n",
    "    ax.stackplot(years, agri, indus, service, labels=categories, alpha=0.8)\n",
    "    ax.set_title(country)\n",
    "    ax.set_xlim(2008, 2020)\n",
    "    ax.set_ylim(0, 100)\n",
    "    ax.set_xlabel('Năm')\n",
    "    ax.grid(axis='y', linestyle='--', alpha=0.5)\n",
    "    ax.set_xticks(np.arange(2008, 2021, 5))\n",
    "\n",
    "axes[0].set_ylabel('Tỷ trọng ngành trong GDP (%)')\n",
    "axes[0].legend(loc='upper left')\n",
    "fig.suptitle('Cơ cấu ngành kinh tế (% GDP) giai đoạn 2000–2020', fontsize=16)\n",
    "\n",
    "plt.tight_layout()\n",
    "plt.show()"
   ]
  },
  {
   "cell_type": "markdown",
   "metadata": {},
   "source": [
    "**Nhận xét về tỷ trọng đóng góp của nông nghiệp, công nghiệp và dịch vụ vào GDP thay đổi ra sao trong khoảng 2000 đến 2020 của Việt Nam, Hoa Kỳ và Nhật Bản?**\n",
    "\n",
    "**Ở Việt Nam**\n",
    "- Tỷ trọng nông nghiệp giảm mạnh từ ~25% xuống còn ~13%. Ngược lại, dịch vụ tăng rõ rệt, vượt công nghiệp từ năm 2011 và giữ vị trí cao nhất đến năm 2020.\n",
    "- Công nghiệp có xu hướng tăng nhẹ, dao động quanh mức 35–38%.\n",
    "\n",
    "**Ở Hoa Kỳ**\n",
    "- Dịch vụ luôn chiếm ưu thế vượt trội (~80%) và ổn định trong suốt giai đoạn.\n",
    "- Công nghiệp giảm nhẹ xuống dưới 20%, trong khi nông nghiệp duy trì mức rất thấp (~1%) và gần như không thay đổi.\n",
    "\n",
    "**Ở Nhật Bản**\n",
    "- Tương tự với Hoa Kỳ, nông nghiệp duy trì tỷ trọng rất thấp (dưới 2%) trong suốt giai đoạn.\n",
    "- Dịch vụ giữ mức cao (~70%) và ổn định, trong khi công nghiệp giảm nhẹ nhưng vẫn chiếm khoảng 25–30%.\n",
    "\n",
    "**Kết luận**\n",
    "- Các nền kinh tế phát triển như Hoa Kỳ và Nhật Bản có cơ cấu kinh tế tập trung mạnh vào dịch vụ. Trong khi đó, Việt Nam đang trong quá trình chuyển dịch cơ cấu, với xu hướng giảm phụ thuộc vào nông nghiệp và tăng tỷ trọng dịch vụ."
   ]
  },
  {
   "cell_type": "markdown",
   "metadata": {},
   "source": [
    "### **Chủ đề Biến đổi khí hậu**"
   ]
  },
  {
   "cell_type": "markdown",
   "metadata": {},
   "source": [
    "#### **Câu 4:** Biến động tiêu thụ năng lượng điện và năng lượng sơ cấp đầu người ở Hoa Kỳ từ 2000–2020 như thế nào? Có năm nào vượt trội hoặc bất thường không?\n",
    "\n",
    "**Thuộc tính được sử dụng**\n",
    "\n",
    "1. *EG_USE_ELEC_KH_PC* – Tiêu thụ điện bình quân đầu người (kWh/người).\n",
    "2. *EG_USE_PCAP_KG_OE* – Tiêu thụ năng lượng bình quân đầu người (kg dầu tương đương/người).\n",
    "\n",
    "**Các bước thực hiện**\n",
    "\n",
    "1. Trích xuất dữ liệu cho 2 chỉ số trên từ năm 2000–2020 từ bộ dữ liệu.\n",
    "2. Vẽ biểu đồ hộp (box plot) để trực quan hóa sự phân bố của từng chỉ số trong giai đoạn 2000–2020.\n",
    "3. Phân tích xem có năm nào là ngoại lệ (outlier) hoặc sự biến động có lớn không giữa các năm.\n",
    "4. Tùy chỉnh trục, nhãn và tiêu đề cho biểu đồ.\n",
    "5. Lưu biểu đồ dưới định dạng SVG và hiển thị kết quả.\n",
    "6. Đưa ra nhận xét về mức độ ổn định trong tiêu thụ năng lượng và xu hướng thay đổi trong hai thập kỷ qua."
   ]
  },
  {
   "cell_type": "code",
   "execution_count": null,
   "metadata": {},
   "outputs": [],
   "source": [
    "fix, axes = plt.subplots(1, 2, figsize=(10, 6))\n",
    "\n",
    "sns.boxplot(data=us['EG_USE_ELEC_KH_PC'], ax=axes[0], color='skyblue')\n",
    "axes[0].set_title('Phân phối tiêu thụ điện')\n",
    "axes[0].set_ylabel('Tiêu thụ điện (kWh/người)')\n",
    "\n",
    "sns.boxplot(data=us['EG_USE_PCAP_KG_OE'], ax=axes[1], color='lightcoral')\n",
    "axes[1].set_title('Phân phối tiêu thụ năng lượng')\n",
    "axes[1].set_ylabel('Tiêu thụ năng lượng (kg dầu/người)')\n",
    "\n",
    "plt.tight_layout()\n",
    "plt.show()"
   ]
  },
  {
   "cell_type": "markdown",
   "metadata": {},
   "source": [
    "**Nhận xét về phân phối tiêu thụ điện và năng lượng sơ cấp bình quân đầu người tại Hoa Kỳ (2000–2020)**\n",
    "\n",
    "- **Tiêu thụ điện (kWh/người)** có phân phối khá hẹp, dao động chủ yếu trong khoảng **12900–13700 kWh/người**, với **trung vị khoảng 13300 kWh/người**. Không có giá trị ngoại lai rõ ràng, cho thấy mức tiêu thụ điện tương đối ổn định trong giai đoạn này. Khoảng tứ phân vị (IQR) không quá rộng, chứng tỏ sự dao động giữa các năm là nhỏ.\n",
    "\n",
    "- **Tiêu thụ năng lượng sơ cấp (kg dầu/người)** có phân phối rộng hơn một chút, với giá trị dao động trong khoảng **6800–8100 kg dầu/người**. Trung vị rơi vào khoảng **7600 kg dầu/người**. Có vẻ như **phân phối hơi lệch về phía thấp** khi phần dưới của hộp (Q1–Median) dài hơn phần trên. Điều này phản ánh mức tiêu thụ năng lượng có sự sụt giảm nhẹ trong một vài năm (có thể do khủng hoảng hoặc chuyển dịch sang năng lượng tái tạo).\n",
    "\n",
    "**Kết luận**\n",
    "\n",
    "- Mức **tiêu thụ điện bình quân đầu người ở Hoa Kỳ khá ổn định** trong hai thập kỷ qua, phản ánh sự ổn định trong lối sống, hạ tầng và nhu cầu dân cư.\n",
    "\n",
    "- Trong khi đó, **tiêu thụ năng lượng sơ cấp có xu hướng dao động mạnh hơn**, điều này có thể liên quan đến sự thay đổi trong chính sách năng lượng, công nghệ tiết kiệm nhiên liệu, và xu hướng sử dụng năng lượng tái tạo.\n",
    "\n",
    "- **Không có giá trị ngoại lai rõ rệt** trong cả hai biểu đồ, cho thấy dữ liệu tương đối 'sạch' và không có biến động đột ngột bất thường.\n"
   ]
  },
  {
   "cell_type": "markdown",
   "metadata": {},
   "source": [
    "#### **Câu 5**: Tỷ lệ dân số sống ở khu vực đô thị của Hoa Kỳ, Nhật Bản và Việt Nam đã thay đổi như thế nào từ năm 2000 đến năm 2020?\n",
    "**Thuộc tính được sử dụng**\n",
    "\n",
    "1. *SP_URB_TOTL_IN_ZS* – Tiêu thụ điện bình quân đầu người (kWh/người)\n",
    "\n",
    "**Các bước thực hiện**\n",
    "\n",
    "1. Trích xuất dữ liệu cho chỉ số *SP_URB_TOTL_IN_ZS* của ba quốc gia Hoa Kỳ (US), Nhật Bản (JP), và Việt Nam (VN) từ năm 2000 đến 2020.\n",
    "2. Tạo DataFrame gồm các cột: *Year*, *US*, *JP*, *VN* tương ứng với từng quốc gia.\n",
    "3. Sử dụng biểu đồ miền (area plot) kết hợp đường line để trực quan hóa xu hướng thay đổi theo thời gian.\n",
    "4. Tùy chỉnh trục, nhãn và tiêu đề cho biểu đồ.\n",
    "5. Lưu biểu đồ dưới định dạng SVG và hiển thị kết quả.\n",
    "6. Nhận xét."
   ]
  },
  {
   "cell_type": "code",
   "execution_count": null,
   "metadata": {},
   "outputs": [],
   "source": [
    "df = pd.DataFrame(data={\n",
    "    'Year': np.arange(2008, 2021),\n",
    "    'US': us['SP_URB_TOTL_IN_ZS'],\n",
    "    'JP': jp['SP_URB_TOTL_IN_ZS'],\n",
    "    'VN': vn['SP_URB_TOTL_IN_ZS']\n",
    "})\n",
    "\n",
    "plt.figure(figsize=(12, 6))\n",
    "plt.fill_between(df['Year'], df['US'], color=\"blue\", alpha=0.5)\n",
    "plt.plot(df['Year'], df['US'], color=\"blue\", label='Hoa Kỳ', marker='o')\n",
    "plt.fill_between(df['Year'], df['JP'], color=\"green\", alpha=0.5)\n",
    "plt.plot(df['Year'], df['JP'], color=\"green\", label='Nhật Bản', marker='o')\n",
    "plt.fill_between(df['Year'], df['VN'], color=\"red\", alpha=0.5)\n",
    "plt.plot(df['Year'], df['VN'], color=\"red\", label='Việt Nam', marker='o')\n",
    "\n",
    "plt.xticks(df['Year'])\n",
    "plt.grid(axis='x', linestyle='--', alpha=0.3)\n",
    "plt.title('Tỉ lệ dân số thành thị (%) tại Hoa Kỳ, Nhật Bản và Việt Nam (2008-2020)')\n",
    "plt.xlabel('Năm')\n",
    "plt.ylabel('Tỉ lệ dân số thành thị (%)')\n",
    "plt.legend(loc='upper left')\n",
    "plt.tight_layout()\n",
    "plt.show()"
   ]
  },
  {
   "cell_type": "markdown",
   "metadata": {},
   "source": [
    "**Nhận xét về tỉ lệ dân số thành thị tại Hoa Kỳ, Nhật Bản và Việt Nam (2000–2020)**\n",
    "\n",
    "- **Hoa Kỳ** có tỷ lệ dân số thành thị khá **ổn định**, dao động trong khoảng **79% đến 83%**. Đường biểu diễn cho thấy mức tăng nhẹ qua thời gian, phản ánh sự phát triển đều và ổn định về đô thị hóa.\n",
    "\n",
    "- **Nhật Bản** là quốc gia có **tỷ lệ đô thị hóa cao nhất** trong ba nước, vượt mốc **90%** từ sau năm 2010 và duy trì ở mức **91–92%** đến năm 2020. Quá trình đô thị hóa của Nhật Bản diễn ra nhanh giai đoạn đầu và dần bão hòa.\n",
    "\n",
    "- **Việt Nam** có tỷ lệ đô thị hóa thấp nhất nhưng lại tăng nhanh nhất, từ mức **~25% năm 2000** lên gần **38% vào năm 2020**. Biểu đồ cho thấy xu hướng tăng rõ rệt, đặc biệt sau năm 2010, phản ánh sự chuyển dịch mạnh mẽ từ nông thôn sang đô thị.\n",
    "\n",
    "**Kết luận**\n",
    "\n",
    "- **Nhật Bản** đã đạt mức đô thị hóa rất cao và gần như ổn định trong thập kỷ qua.\n",
    "- **Hoa Kỳ** giữ mức độ đô thị hóa cao, với đà tăng chậm và đều.\n",
    "- **Việt Nam** đang trong giai đoạn tăng tốc mạnh về đô thị hóa, thể hiện xu hướng phát triển kinh tế – xã hội nhanh chóng."
   ]
  },
  {
   "cell_type": "markdown",
   "metadata": {},
   "source": [
    "#### **Câu 6:** Mối quan hệ giữa quy mô dân số và tổng lượng điện năng tiêu thụ của Việt Nam từ năm 2000 đến 2020 thay đổi như thế nào? Những năm nào cho thấy sự tăng trưởng đột phá về nhu cầu điện tính trên đầu người?\n",
    "\n",
    "**Thuộc tính được sử dụng**\n",
    "\n",
    "1. *EG_USE_ELEC_KH_PC* – Tiêu thụ điện bình quân đầu người (kWh/người)\n",
    "2. *SP_POP_TOTL* – Tổng dân số\n",
    "\n",
    "**Các bước thực hiện**\n",
    "\n",
    "1. Trích xuất dữ liệu của Việt Nam từ năm 2000 đến 2020 cho hai chỉ số: dân số (`SP_POP_TOTL`) và tiêu thụ điện bình quân đầu người (`EG_USE_ELEC_KH_PC`).\n",
    "2. Tính tổng lượng điện năng tiêu thụ bằng cách nhân hai chỉ số.\n",
    "3. Tạo biểu đồ Bubble Plot:\n",
    "   - Trục X: Dân số\n",
    "   - Trục Y: Tiêu thụ điện bình quân đầu người\n",
    "   - Kích thước bong bóng: Tổng lượng điện tiêu thụ\n",
    "   - Nhãn từng năm giúp nhận diện các mốc thời gian cụ thể\n",
    "4. Tùy chỉnh trục, nhãn và tiêu đề cho biểu đồ.\n",
    "5. Lưu biểu đồ dưới định dạng SVG và hiển thị kết quả.\n",
    "6. Nhận xét biểu đồ.\n"
   ]
  },
  {
   "cell_type": "code",
   "execution_count": null,
   "metadata": {},
   "outputs": [],
   "source": [
    "df = pd.DataFrame(data={\n",
    "    'Year': np.arange(2008, 2021),\n",
    "    'SP_POP_TOTL': vn['SP_POP_TOTL'],\n",
    "    'EG_USE_ELEC_KH_PC': vn['EG_USE_ELEC_KH_PC']\n",
    "})\n",
    "\n",
    "df['TOTL_ELEC'] = df['SP_POP_TOTL'] * df['EG_USE_ELEC_KH_PC']\n",
    "\n",
    "plt.figure(figsize=(12, 6))\n",
    "plt.scatter(df['SP_POP_TOTL'], df['EG_USE_ELEC_KH_PC'], \n",
    "            s=df['TOTL_ELEC'] / 100000000.5, \n",
    "            alpha=0.5, c='red', edgecolors=\"w\", linewidth=1)\n",
    "\n",
    "for i in range(len(df)):\n",
    "    x = df['SP_POP_TOTL'][i]\n",
    "    y = df['EG_USE_ELEC_KH_PC'][i]\n",
    "    year = df['Year'][i]\n",
    "\n",
    "    if np.isfinite(x) and np.isfinite(y):\n",
    "        plt.text(x, y, str(year), fontsize=9, ha='center', va='center', color='black')\n",
    "\n",
    "\n",
    "plt.title('Dân số và tiêu thụ điện tại Việt Nam (2008-2020)')\n",
    "plt.xlabel('Dân số')\n",
    "plt.ylabel('Tiêu thụ điện/người')\n",
    "plt.grid()\n",
    "plt.tight_layout()\n",
    "plt.show()"
   ]
  },
  {
   "cell_type": "markdown",
   "metadata": {},
   "source": [
    "**Nhận xét về dân số và tiêu thụ điện tại Việt Nam (2000–2020)**\n",
    "\n",
    "- **Giai đoạn 2000–2014**: Dữ liệu cho thấy **cả dân số và tiêu thụ điện/người đều tăng mạnh mẽ**.  \n",
    "  - Dân số tăng từ khoảng **77 triệu (năm 2000)** lên gần **92 triệu (năm 2014)**.  \n",
    "  - Tiêu thụ điện/người tăng từ khoảng **300 kWh/người lên hơn 1400 kWh/người**.  \n",
    "  - Điều này cho thấy mức sống và nhu cầu sử dụng điện tăng rõ rệt, phản ánh quá trình **công nghiệp hóa và hiện đại hóa** đất nước.\n",
    "\n",
    "- **Tốc độ tăng tiêu thụ điện/người vượt xa tốc độ tăng dân số**, cho thấy nhu cầu điện không chỉ đến từ dân cư mà còn từ hoạt động sản xuất, kinh doanh.\n",
    "\n",
    "- **Kích thước bong bóng** (biểu thị tổng sản lượng điện tiêu thụ) cũng tăng theo thời gian, khẳng định mức tiêu thụ điện toàn quốc tăng mạnh.\n",
    "\n",
    "- **Xu hướng tăng đều** và ổn định qua từng năm từ 2000 đến 2014, không có năm nào bị gián đoạn hoặc sụt giảm.\n",
    "\n",
    "**Lưu ý**:  \n",
    "Do **thiếu dữ liệu về tiêu thụ điện đầu người từ năm 2015 trở đi**, nên biểu đồ **không hiển thị** từ năm 2015 đến 2020.\n",
    "\n",
    "**Kết luận**\n",
    "\n",
    "- Việt Nam đang trong quá trình **tăng trưởng mạnh về nhu cầu sử dụng điện**, phù hợp với đà phát triển kinh tế và đô thị hóa.  \n",
    "- Sự tăng nhanh về tiêu thụ điện/người là chỉ dấu tích cực về **mức sống, công nghệ và công nghiệp hóa** tại Việt Nam trong giai đoạn 2000–2014."
   ]
  },
  {
   "cell_type": "markdown",
   "metadata": {},
   "source": [
    "### **Chủ đề Kinh tế & Phát triển**"
   ]
  },
  {
   "cell_type": "markdown",
   "metadata": {},
   "source": [
    "#### **Câu 7**: Tình hình tăng trưởng GDP của Hoa Kỳ qua các năm (2008-2020)\n",
    "\n",
    "**Thuộc tính được sử dụng**\n",
    "\n",
    "1. *year* - Năm từ 2008 đến 2020.\n",
    "2. *NY_GDP_MKTP_KD_ZG* - Tăng trưởng GDP hàng năm của Hoa Kỳ (% thay đổi so với năm trước).\n",
    "\n",
    "**Các bước thực hiện**\n",
    "\n",
    "1. Lấy dữ liệu tăng trưởng GDP hàng năm (`NY_GDP_MKTP_KD_ZG`) của Hoa Kỳ từ bộ dữ liệu cho giai đoạn 2008-2020.\n",
    "2. Tạo biểu đồ cột ngang bằng cách sử dụng year làm trục y và `NY_GDP_MKTP_KD_ZG` làm trục x.\n",
    "3. Tùy chỉnh biểu đồ: đặt tiêu đề, nhãn trục, giới hạn trục x dựa trên giá trị lớn nhất của tăng trưởng GDP, thêm lưới trục x, và sử dụng màu sắc có điều kiện để phân biệt tăng trưởng dương/âm.\n",
    "4. Điều chỉnh bố cục biểu đồ để đảm bảo các nhãn hiển thị đầy đủ và không bị cắt.\n",
    "5. Hiển thị biểu đồ và đưa ra nhận xét dựa trên xu hướng quan sát được."
   ]
  },
  {
   "cell_type": "code",
   "execution_count": null,
   "metadata": {},
   "outputs": [],
   "source": [
    "fig, axes = plt.subplots(nrows=3, ncols=1, figsize=(13, 15), sharex=True)\n",
    "\n",
    "axes[0].barh(us['year'], us['NY_GDP_MKTP_KD_ZG'], color=np.where(us['NY_GDP_MKTP_KD_ZG'] < 0, '#f28705', '#025bc7'))\n",
    "axes[0].set_title(label='Tăng trưởng GDP của Hoa Kỳ (2008-2020)')\n",
    "axes[0].set_xlabel(xlabel='Tăng trưởng GDP (%)')\n",
    "axes[0].set_ylabel(ylabel='Năm')\n",
    "\n",
    "axes[0].set_xlim(-max(us['NY_GDP_MKTP_KD_ZG']) * 1.1, max(us['NY_GDP_MKTP_KD_ZG']) * 1.1)\n",
    "axes[0].set_yticks(ticks=range(2008, 2021), labels=range(2008, 2021))\n",
    "axes[0].grid(axis='x', linestyle='--', linewidth=0.5)\n",
    "\n",
    "axes[1].barh(jp['year'], jp['NY_GDP_MKTP_KD_ZG'], color=np.where(jp['NY_GDP_MKTP_KD_ZG'] < 0, '#f28705', '#025bc7'))\n",
    "axes[1].set_title(label='Tăng trưởng GDP của Nhật Bản (2008-2020)')\n",
    "axes[1].set_xlabel(xlabel='Tăng trưởng GDP (%)')\n",
    "axes[1].set_ylabel(ylabel='Năm')\n",
    "\n",
    "axes[1].set_xlim(-max(jp['NY_GDP_MKTP_KD_ZG']) * 1.1, max(jp['NY_GDP_MKTP_KD_ZG']) * 1.1)\n",
    "axes[1].set_yticks(ticks=range(2008, 2021), labels=range(2008, 2021))\n",
    "axes[1].grid(axis='x', linestyle='--', linewidth=0.5)\n",
    "\n",
    "axes[2].barh(vn['year'], vn['NY_GDP_MKTP_KD_ZG'], color=np.where(vn['NY_GDP_MKTP_KD_ZG'] < 0, '#f28705', '#025bc7'))\n",
    "axes[2].set_title(label='Tăng trưởng GDP của Việt Nam (2008-2020)')\n",
    "axes[2].set_xlabel(xlabel='Tăng trưởng GDP (%)')\n",
    "axes[2].set_ylabel(ylabel='Năm')\n",
    "\n",
    "axes[2].set_xlim(-max(vn['NY_GDP_MKTP_KD_ZG']) * 1.1, max(vn['NY_GDP_MKTP_KD_ZG']) * 1.1)\n",
    "axes[2].set_yticks(ticks=range(2008, 2021), labels=range(2008, 2021))\n",
    "axes[2].grid(axis='x', linestyle='--', linewidth=0.5)\n",
    "\n",
    "plt.tight_layout()\n",
    "plt.show()"
   ]
  },
  {
   "cell_type": "markdown",
   "metadata": {},
   "source": [
    "**Nhận xét**\n",
    "\n",
    "- Về tổng quan, nền kinh tế Hoa Kỳ phát triển mạnh mẽ khi hầu hết mức tăng trưởng GDP qua các năm đều dương cùng sự phục hồi mạnh mẽ khi mức GPD tăng vọt chỉ sau 1 năm suy thoái.\n",
    "- Trong tất cả các năm từ 2000 đến 2020, chỉ có 2 năm mức tăng trưởng GDP của Mỹ đạt mức âm, đó là năm 2009 và năm 2020.\n",
    "    - Năm 2009: Năm này hứng chịu mọi hậu quả của cuộc khủng hoảng tài chính toàn cầu, xuất phát từ việc **Lehman Brothers phá sản** - công tỳ dịch vụ tài chính toàn cầu.\n",
    "    - Năm 2020: Đại dịch COVID-19 bùng phát dẫn đến phong tỏa diện rộng, tỷ lệ thất nghiệp tăng mạnh (14.7% - mức cao nhất kể từ Đại suy thoái năm 2009) và sụ sụt giảm tiêu dùng."
   ]
  },
  {
   "cell_type": "markdown",
   "metadata": {},
   "source": [
    "#### Câu 8: Tỷ lệ xuất nhập khẩu của Hoa Kỳ ảnh hưởng đến sự tăng trưởng GDP như thế nào (2000 - 2020)?\n",
    "\n",
    "**Thuộc tính được sử dụng**\n",
    "\n",
    "1. *NE_EXP_GNFS_ZS*-  Tỷ lệ xuất khẩu hàng hóa và dịch vụ (% GDP).\n",
    "2. *NE_IMP_GNFS_ZS* - Tỷ lệ nhập khẩu hàng hóa và dịch vụ (% GDP).\n",
    "3. *NY_GDP_MKTP_KD_ZG* - Tăng trưởng GDP hàng năm (% thay đổi so với năm trước)\n",
    "\n",
    "**Các bước thực hiện**\n",
    "\n",
    "1. Lấy dữ liệu từ bộ dữ liệu của Hoa Kỳ cho ba chỉ số *NE_EXP_GNFS_ZS*, *NE_IMP_GNFS_ZS* và *NY_GDP_MKTP_KD_ZG* trong giai đoạn 2000-2020.\n",
    "2. Vẽ biểu đồ phân tán với *NE_EXP_GNFS_ZS* trên trục x, *NE_IMP_GNFS_ZS* trên trục y và sử dụng *NY_GDP_MKTP_KD_ZG* để xác định kích thước và màu sắc của các điểm.\n",
    "3. Tùy chỉnh biểu đồ: thêm tiêu đề, nhãn trục, chú thích (legend) cho tăng trưởng GDP, và lưới nền để dễ quan sát.\n",
    "4. Điều chỉnh bố cục biểu đồ để đảm bảo các thành phần hiển thị rõ ràng và không bị cắt.\n",
    "5. Hiển thị biểu đồ và đưa ra nhận xét về mối quan hệ giữa tỷ lệ xuất nhập khẩu và tăng trưởng GDP dựa trên xu hướng quan sát được."
   ]
  },
  {
   "cell_type": "code",
   "execution_count": null,
   "metadata": {},
   "outputs": [],
   "source": [
    "fig, axes = plt.subplots(nrows=3, ncols=1, figsize=(12, 18))\n",
    "\n",
    "sns.scatterplot(x='NE_EXP_GNFS_ZS', y='NE_IMP_GNFS_ZS', size='NY_GDP_MKTP_KD_ZG',\n",
    "                sizes=(50, 500), data=us, hue='NY_GDP_MKTP_KD_ZG', palette='coolwarm', ax=axes[0])\n",
    "axes[0].set_title(label='Tỷ lệ xuất khẩu và nhập khẩu hàng hóa và dịch vụ so với sự tăng trưởng GDP của Hoa Kỳ (2008 - 2020)')\n",
    "axes[0].set_xlabel(xlabel='Tỷ lệ xuất khẩu hàng hóa và dịch vụ (%)')\n",
    "axes[0].set_ylabel(ylabel='Tỷ lệ nhập khẩu hàng hóa và dịch vụ (%)')\n",
    "axes[0].legend(title='Tăng trưởng GDP (%)', loc='upper left')\n",
    "axes[0].grid(linestyle='--', alpha=0.6)\n",
    "\n",
    "sns.scatterplot(x='NE_EXP_GNFS_ZS', y='NE_IMP_GNFS_ZS', size='NY_GDP_MKTP_KD_ZG',\n",
    "                sizes=(50, 500), data=us, hue='NY_GDP_MKTP_KD_ZG', palette='coolwarm', ax=axes[1])\n",
    "axes[1].set_title(label='Tỷ lệ xuất khẩu và nhập khẩu hàng hóa và dịch vụ so với sự tăng trưởng GDP của Nhật Bản (2008 - 2020)')\n",
    "axes[1].set_xlabel(xlabel='Tỷ lệ xuất khẩu hàng hóa và dịch vụ (%)')\n",
    "axes[1].set_ylabel(ylabel='Tỷ lệ nhập khẩu hàng hóa và dịch vụ (%)')\n",
    "axes[1].legend(title='Tăng trưởng GDP (%)', loc='upper left')\n",
    "axes[1].grid(linestyle='--', alpha=0.6)\n",
    "\n",
    "sns.scatterplot(x='NE_EXP_GNFS_ZS', y='NE_IMP_GNFS_ZS', size='NY_GDP_MKTP_KD_ZG',\n",
    "                sizes=(50, 500), data=us, hue='NY_GDP_MKTP_KD_ZG', palette='coolwarm', ax=axes[2])\n",
    "axes[2].set_title(label='Tỷ lệ xuất khẩu và nhập khẩu hàng hóa và dịch vụ so với sự tăng trưởng GDP của Việt Nam (2008 - 2020)')\n",
    "axes[2].set_xlabel(xlabel='Tỷ lệ xuất khẩu hàng hóa và dịch vụ (%)')\n",
    "axes[2].set_ylabel(ylabel='Tỷ lệ nhập khẩu hàng hóa và dịch vụ (%)')\n",
    "axes[2].legend(title='Tăng trưởng GDP (%)', loc='upper left')\n",
    "axes[2].grid(linestyle='--', alpha=0.6)\n",
    "\n",
    "plt.tight_layout()\n",
    "plt.show()"
   ]
  },
  {
   "cell_type": "code",
   "execution_count": null,
   "metadata": {},
   "outputs": [],
   "source": [
    "us[(us['NE_IMP_GNFS_ZS'] > 17) & (us['NE_EXP_GNFS_ZS'] < 13)]"
   ]
  },
  {
   "cell_type": "markdown",
   "metadata": {},
   "source": [
    "**Nhận xét**\n",
    "- Dựa vào biểu đồ trên, ta nhận thấy tỷ lệ xuất khẩu và tỷ lệ nhập khẩu có tương quan thuận, cùng tương quan thuận **nhẹ** với sự tăng trưởng GDP.\n",
    "- Bên cạnh đó, Hoa Kỳ còn khá phụ thuộc vào nhập khẩu khi tỷ lệ nhập khẩu cao tác động thuận đến mức độ tăng trưởng GDP nhiều hơn tỷ lệ xuất khẩu.\n",
    "- Đặc biệt, vào năm 2008, khi xảy ra khủng hoảng kinh tế, dù tỷ lệ xuất nhập khẩu khá cao, song vẫn chịu mức tăng trưởng GDP gần 0."
   ]
  },
  {
   "cell_type": "markdown",
   "metadata": {},
   "source": [
    "#### Câu 9: Tổng quan nền kinh tế của Hoa Kỳ, Nhật Bản và Việt Nam trong giai đoạn 2008-2020."
   ]
  },
  {
   "cell_type": "markdown",
   "metadata": {},
   "source": [
    "**Thuộc tính được sử dụng**\n",
    "\n",
    "1. *NY_GDP_MKTP_CD* - Tổng GDP (theo USD hiện hành).\n",
    "2. *NY_GDP_MKTP_KD_ZG* - Tăng trưởng GDP hàng năm (% thay đổi so với năm trước).\n",
    "3. *NY_GDP_PCAP_CD* - GDP bình quân đầu người (theo USD hiện hành).\n",
    "4. *NY_GNP_ATLS_CD* - Tổng thu nhập quốc dân (GNI) theo phương pháp Atlas (theo USD hiện hành).\n",
    "\n",
    "**Các bước thực hiện**\n",
    "\n",
    "1. Trích xuất dữ liệu từ World Bank cho 12 quốc gia vào năm 2023, với 4 chỉ số: *NY_GDP_MKTP_CD*, *NY_GDP_MKTP_KD_ZG*, *NY_GDP_PCAP_CD*, và *NY_GNP_ATLS_CD*.\n",
    "2. Chuẩn hóa dữ liệu bằng *StandardScaler* để đảm bảo các chỉ số có cùng thang đo, tránh ảnh hưởng của sự khác biệt về đơn vị.\n",
    "3. Thử nghiệm thuật toán *KMeans* với số lượng cụm (k) từ 2 đến 10, tính toán *Inertia* và *Silhouette Score* cho từng giá trị k, sau đó vẽ biểu đồ đường để xác định số lượng cụm tối ưu.\n",
    "4. Chọn k (dựa trên biểu đồ *Inertia* và *Silhouette Score*) và áp dụng KMeans để gom nhóm các quốc gia thành k cụm.\n",
    "5. Vẽ biểu đồ violin để trực quan hóa phân phối của từng chỉ số kinh tế theo cụm, tùy chỉnh nhãn, tiêu đề và màu sắc.\n",
    "6. Phân tích đặc điểm của từng cụm và đưa ra gợi ý phát triển phù hợp."
   ]
  },
  {
   "cell_type": "code",
   "execution_count": null,
   "metadata": {},
   "outputs": [],
   "source": [
    "overview_economic_features = ['NY_GDP_MKTP_CD', 'NY_GDP_PCAP_CD', 'NY_GDP_PCAP_KD_ZG',\n",
    "                              'NE_EXP_GNFS_ZS', 'BX_KLT_DINV_CD_WD',\n",
    "                              'NY_GDP_DEFL_KD_ZG', 'FP_CPI_TOTL_ZG',\n",
    "                              'NE_GDI_TOTL_ZS', 'NY_GNS_ICTR_ZS']\n",
    "\n",
    "us1 = us.loc[:, overview_economic_features + ['year']]\n",
    "us1['country'] = 'USA'\n",
    "jp1 = jp.loc[:, overview_economic_features + ['year']]\n",
    "jp1['country'] = 'Japan'\n",
    "vn1 = vn.loc[:, overview_economic_features + ['year']]\n",
    "vn1['country'] = 'Vietnam'\n",
    "\n",
    "economic_overview = pd.concat(objs=[us1, jp1, vn1], ignore_index = True)\n",
    "economic_overview.head()"
   ]
  },
  {
   "cell_type": "code",
   "execution_count": null,
   "metadata": {},
   "outputs": [],
   "source": [
    "fig, axes = plt.subplots(nrows=3, ncols=3, figsize=(13, 10))\n",
    "\n",
    "for i, col in enumerate(economic_overview.columns[:-2]):\n",
    "    row_idx, col_idx = divmod(i, 3)\n",
    "    sns.histplot(data=economic_overview[col], kde=True, ax=axes[row_idx, col_idx])\n",
    "    axes[row_idx, col_idx].set_title(label=f'{col}')\n",
    "    axes[row_idx, col_idx].set_xlabel(xlabel='')\n",
    "\n",
    "plt.suptitle(t='Phân phối các chỉ số kinh tế của Việt Nam, Nhật Bản và Hoa Kỳ (2008-2020)')\n",
    "plt.tight_layout()\n",
    "plt.show()"
   ]
  },
  {
   "cell_type": "code",
   "execution_count": null,
   "metadata": {},
   "outputs": [],
   "source": [
    "economic_overview_scaled = economic_overview.copy()\n",
    "economic_overview_scaled.head()"
   ]
  },
  {
   "cell_type": "code",
   "execution_count": null,
   "metadata": {},
   "outputs": [],
   "source": [
    "min_max_scaler = MinMaxScaler(feature_range=(-1, 1))\n",
    "economic_overview_scaled.iloc[:, :-2] = pd.DataFrame(data=min_max_scaler.fit_transform(economic_overview.iloc[:, :-2]))\n",
    "economic_overview_scaled.set_index(keys='country', inplace=True)\n",
    "economic_overview_scaled.head()"
   ]
  },
  {
   "cell_type": "code",
   "execution_count": null,
   "metadata": {},
   "outputs": [],
   "source": [
    "fig, axes = plt.subplots(nrows=3, ncols=5, figsize=(20, 18), sharey=True)\n",
    "\n",
    "for i in range(END_YEAR - START_YEAR + 1):\n",
    "    row, col = divmod(i, 5)\n",
    "    sns.heatmap(data=economic_overview_scaled[economic_overview_scaled['year'] == START_YEAR + i][overview_economic_features].T,\n",
    "                vmin=-1, vmax=1, cmap='crest', annot=False, linewidths=0.1, cbar=False, ax=axes[row, col])\n",
    "    axes[row, col].set_title(label=f'{START_YEAR + i}')\n",
    "    axes[row, col].set_xlabel(xlabel='')\n",
    "\n",
    "axes[2, 3].axis('off')\n",
    "axes[2, 4].axis('off')\n",
    "\n",
    "fig.colorbar(axes[0, 0].collections[0], ax=axes, anchor=(1.7, 1))\n",
    "plt.suptitle(t='Phân phối các chỉ số kinh tế của Hoa Kỳ, Nhật Bản và Việt Nam (2008-2020)', fontsize=18)\n",
    "\n",
    "plt.subplots_adjust(left=0.05, right=0.9, top=0.95, bottom=0)\n",
    "plt.show()"
   ]
  }
 ],
 "metadata": {
  "kernelspec": {
   "display_name": "venv",
   "language": "python",
   "name": "python3"
  },
  "language_info": {
   "codemirror_mode": {
    "name": "ipython",
    "version": 3
   },
   "file_extension": ".py",
   "mimetype": "text/x-python",
   "name": "python",
   "nbconvert_exporter": "python",
   "pygments_lexer": "ipython3",
   "version": "3.12.3"
  }
 },
 "nbformat": 4,
 "nbformat_minor": 2
}
